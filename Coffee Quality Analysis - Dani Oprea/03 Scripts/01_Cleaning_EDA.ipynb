{
 "cells": [
  {
   "cell_type": "markdown",
   "source": [
    "Contents\n",
    "\n",
    "1. Importing Libraries\n",
    "2. Importing Data Sets\n",
    "3. Understanding Our Data & Data Wrangling\n",
    "4. Checking for Missing Values\n",
    "5. Deleting Unnecessary Columns\n",
    "6. Checking For Mixed Data Types\n",
    "7. Further Explore Data\n",
    "8. Export dataframe"
   ],
   "metadata": {
    "collapsed": false
   },
   "id": "ffc3770b1183b70f"
  },
  {
   "cell_type": "markdown",
   "source": [
    "# 1. Importing Libraries"
   ],
   "metadata": {
    "collapsed": false
   },
   "id": "631a0bd75fa70384"
  },
  {
   "cell_type": "code",
   "execution_count": 2,
   "outputs": [],
   "source": [
    "# Import libraries\n",
    "\n",
    "import pandas as pd\n",
    "import os"
   ],
   "metadata": {
    "collapsed": false,
    "ExecuteTime": {
     "end_time": "2023-10-17T13:08:41.786533Z",
     "start_time": "2023-10-17T13:08:41.774078Z"
    }
   },
   "id": "421afb86d22891f4"
  },
  {
   "cell_type": "markdown",
   "source": [
    "# 2. Importing Data Sets"
   ],
   "metadata": {
    "collapsed": false
   },
   "id": "57f2a19761b881b"
  },
  {
   "cell_type": "code",
   "execution_count": 3,
   "outputs": [],
   "source": [
    "# Set path\n",
    "\n",
    "path = r'/Users/danioprea/Desktop/Data Analytics/Coffee Quality Analysis - Dani Oprea'"
   ],
   "metadata": {
    "collapsed": false,
    "ExecuteTime": {
     "end_time": "2023-10-17T13:08:43.602711Z",
     "start_time": "2023-10-17T13:08:43.589359Z"
    }
   },
   "id": "2799dfc4e0c6569d"
  },
  {
   "cell_type": "code",
   "execution_count": 4,
   "outputs": [],
   "source": [
    "# Import df_arabica_clean.csv with pandas\n",
    "\n",
    "df = pd.read_csv(os.path.join(path, '02 Data', 'Original Data', 'df_arabica_clean.csv'), index_col=0)"
   ],
   "metadata": {
    "collapsed": false,
    "ExecuteTime": {
     "end_time": "2023-10-13T02:07:24.799485Z",
     "start_time": "2023-10-13T02:07:24.786067Z"
    }
   },
   "id": "6f1f8aeb92647e3"
  },
  {
   "cell_type": "markdown",
   "source": [
    "# 3. Understanding Our Data & Data Wrangling"
   ],
   "metadata": {
    "collapsed": false
   },
   "id": "670dfeca19d24a3"
  },
  {
   "cell_type": "markdown",
   "source": [
    "#### Getting an overview of our data"
   ],
   "metadata": {
    "collapsed": false
   },
   "id": "4257c7edb180dee2"
  },
  {
   "cell_type": "code",
   "execution_count": 9,
   "outputs": [
    {
     "data": {
      "text/plain": "    ID             Country of Origin  \\\n0    0                      Colombia   \n1    1                        Taiwan   \n2    2                          Laos   \n3    3                    Costa Rica   \n4    4                      Colombia   \n5    5                     Guatemala   \n6    6                        Taiwan   \n7    7                        Taiwan   \n8    8                        Taiwan   \n9    9  Tanzania, United Republic Of   \n10  10                      Ethiopia   \n11  11                     Guatemala   \n12  12                        Taiwan   \n13  13                      Ethiopia   \n14  14                      Colombia   \n15  15                        Taiwan   \n16  16                      Ethiopia   \n17  17                        Taiwan   \n18  18                        Taiwan   \n19  19  Tanzania, United Republic Of   \n20  20                     Guatemala   \n21  21                        Taiwan   \n22  22                      Thailand   \n23  23                      Colombia   \n24  24                        Taiwan   \n25  25                        Brazil   \n26  26                        Taiwan   \n27  27                        Taiwan   \n28  28                        Taiwan   \n29  29        United States (Hawaii)   \n30  30                        Taiwan   \n31  31                        Taiwan   \n32  32                        Taiwan   \n33  33                      Ethiopia   \n34  34                      Ethiopia   \n35  35                      Ethiopia   \n36  36                        Taiwan   \n37  37                        Taiwan   \n38  38                         Kenya   \n39  39                        Taiwan   \n40  40                        Taiwan   \n41  41                        Taiwan   \n42  42                        Taiwan   \n43  43                        Uganda   \n44  44                        Taiwan   \n45  45                        Taiwan   \n46  46                     Guatemala   \n47  47                     Guatemala   \n48  48                     Guatemala   \n49  49                        Taiwan   \n\n                                            Farm Name  \\\n0                                    Finca El Paraiso   \n1                            Royal Bean Geisha Estate   \n2                                  OKLAO coffee farms   \n3                                           La Cumbre   \n4                                     Finca Santuario   \n5                                           La Colina   \n6                     野牡丹咖啡莊園 Melastoma Coffee Estate   \n7            七彩琉璃咖啡莊園 Chi Tsai Liu Li Ecological Farm   \n8                       亮軒咖啡莊園 Liang Xuan Coffee Farm   \n9                                       MASHIMA AMCOS   \n10                                            TADE GG   \n11                         Karen Acajabon Coffee Farm   \n12                         古峰咖啡莊園 Goodfun Coffee Farm   \n13                                      Gelana Geisha   \n14                                        La Gaitania   \n15                                             青葉咖啡莊園   \n16                             Halo Bariti Cooprative   \n17                                             東璧咖啡莊園   \n18                                          櫻桃果古坑咖啡莊園   \n19                                              BURKA   \n20                                Finca Vista Hermosa   \n21                   仲大叔咖啡莊園Uncle Chung.s Coffee Farm   \n22                                            Hom Doi   \n23                                        El Diamante   \n24                                             永舜咖啡莊園   \n25                                    Fazenda Recreio   \n26                                     鄒築園ZouZhouYuan   \n27                                             嵩岳咖啡莊園   \n28                                            他扶芽有機農園   \n29                                     Hokukano Ranch   \n30                      鄉庭有機農場Siang-Ting Organic Farm   \n31                      鄉庭有機農場Siang-Ting Organic Farm   \n32                      金讚咖啡農莊園(Jinzan Coffee Estate)   \n33                                        Eshetu farm   \n34                       Uraga Bisrat washing station   \n35                                    YHAENU PLC FARM   \n36                                            卓武山咖啡農場   \n37                       御香咖啡園 YU SIANG Coffee Estate   \n38                                       Small Holder   \n39                                             皇庭咖啡莊園   \n40  花蓮縣秀林鄉特用作物（咖啡）產銷第一班Agriculture Production and ...   \n41                                               八一高地   \n42                                              香夾蘭莊園   \n43                                        Gideon Kule   \n44                                       愛姬咖啡莊園iGfarm   \n45                                            青山坪咖啡農場   \n46                                      varias fincas   \n47                                        PEÑA BLANCA   \n48                               san francisco cotzal   \n49                                                六曲窩   \n\n                                         Lot Number  \\\n0                                        CQU2022015   \n1           The 2022 Pacific Rim Coffee Summit,T037   \n2           The 2022 Pacific Rim Coffee Summit,LA01   \n3                                        CQU2022017   \n4                                        CQU2023002   \n5           The 2022 Pacific Rim Coffee Summit,GT02   \n6           The 2022 Pacific Rim Coffee Summit,T034   \n7           The 2022 Pacific Rim Coffee Summit,T050   \n8           The 2022 Pacific Rim Coffee Summit,T018   \n9                          CN 4127230034/4189230113   \n10                                     010/0296/600   \n11          The 2022 Pacific Rim Coffee Summit,GT12   \n12          The 2022 Pacific Rim Coffee Summit,T051   \n13            Grade 1, Guji, Natural, Gelana Geisha   \n14          The 2022 Pacific Rim Coffee Summit,CO03   \n15          The 2022 Pacific Rim Coffee Summit,T014   \n16                                       CQU2023006   \n17                                           202203   \n18                                           202112   \n19                             CN 4127230032/P-9140   \n20          The 2022 Pacific Rim Coffee Summit,GT03   \n21                                          2022/03   \n22                                                1   \n23                                       CQU2023005   \n24         The 2022 Pacific Rim Coffee Summit, T003   \n25                                          Arara 1   \n26          The 2022 Pacific Rim Coffee Summit,T024   \n27          The 2022 Pacific Rim Coffee Summit,T048   \n28          The 2022 Pacific Rim Coffee Summit,T045   \n29          The 2022 Pacific Rim Coffee Summit,US01   \n30                                     2022/3/1(老叢)   \n31                                          2022/02   \n32                                  2022臺南市精品咖啡評鑑批次   \n33                                     Washed Limmu   \n34                                             0065   \n35                                                1   \n36         The 2022 Pacific Rim Coffee Summit, T004   \n37                                  2022臺南市精品咖啡評鑑批次   \n38                                             5516   \n39                                           202203   \n40                                          2022/01   \n41                                       屏東縣三地門鄉德文段   \n42  A26-Northern Taiwan Specialty Coffee Evaluation   \n43                                             7938   \n44                                          2021/01   \n45          The 2022 Pacific Rim Coffee Summit,T011   \n46                                        11/15/118   \n47                                       11/951/279   \n48                                        11/441/50   \n49  A03-Northern Taiwan Specialty Coffee Evaluation   \n\n                                                 Mill  \\\n0                                    Finca El Paraiso   \n1                            Royal Bean Geisha Estate   \n2                       oklao coffee processing plant   \n3                             La Montana Tarrazu MIll   \n4                                     Finca Santuario   \n5                                       Dinámica Café   \n6                                               野牡丹咖啡   \n7                                            七彩琉璃咖啡莊園   \n8                                              亮軒咖啡莊園   \n9                                 GOURMET COFFEE MILL   \n10                                      Moledo社　委託精選場   \n11                                         Cafetoland   \n12                                             古峰咖啡莊園   \n13                       Dry Mill or Hulling Facility   \n14                                        La Gaitania   \n15                                             青葉咖啡莊園   \n16                             Halo Bariti Cooprative   \n17                                                yes   \n18                                                yes   \n19                                GOURMET COFFEE MILL   \n20                                          El Vergel   \n21                   仲大叔咖啡莊園Uncle Chung.s Coffee Farm   \n22  Machines to peel outer skin of the cherry coff...   \n23                                        El Diamante   \n24                                             永舜咖啡莊園   \n25                                           Dry mill   \n26                                     鄒築園ZouZhouYuan   \n27                                             嵩岳咖啡莊園   \n28                                            他扶芽有機農園   \n29                                  Kona Coffee & Tea   \n30                      鄉庭有機農場Siang-Ting Organic Farm   \n31                      鄉庭有機農場Siang-Ting Organic Farm   \n32                      金讚咖啡農莊園(Jinzan Coffee Estate)   \n33                                   Lata Agri export   \n34                                           dry mill   \n35                           GUJI COFFEE EXPORT P.L.C   \n36                                            卓武山咖啡農場   \n37                       御香咖啡園 YU SIANG Coffee Estate   \n38                                                NKG   \n39                                                yes   \n40  花蓮縣秀林鄉特用作物（咖啡）產銷第一班Agriculture Production and ...   \n41                                            乾燥機、脫殼機   \n42                                              香夾蘭莊園   \n43                                           Dry Mill   \n44                                       愛姬咖啡莊園iGfarm   \n45                                            青山坪咖啡農場   \n46                                 Beneficio Pastores   \n47                             BENEFICIO LAS AMERICAS   \n48           inmobiliaria e inversiones dos mil, s.a.   \n49                                                六曲窩   \n\n                           ICO Number  \\\n0                                 NaN   \n1                                 NaN   \n2                                 NaN   \n3                                 NaN   \n4                                 NaN   \n5                                 NaN   \n6                                 NaN   \n7                                 NaN   \n8                                 NaN   \n9   033/DE/503/002 and 033/DE/268/002   \n10                       010/0296/600   \n11                                NaN   \n12                                NaN   \n13                      010/0475/0207   \n14                                NaN   \n15                                NaN   \n16                                NaN   \n17                                non   \n18                                non   \n19                     033/DE/163/001   \n20                                NaN   \n21                                NaN   \n22                                NaN   \n23                                NaN   \n24                                NaN   \n25                                NaN   \n26                                NaN   \n27                                NaN   \n28                                NaN   \n29                                NaN   \n30                                NaN   \n31                                NaN   \n32                                NaN   \n33                           010/1081   \n34                ICO: 010/ 0218/0065   \n35                     010/0891/00041   \n36                                NaN   \n37                                NaN   \n38                                NaN   \n39                                non   \n40                                NaN   \n41                                NaN   \n42                                NaN   \n43                              11/35   \n44                                NaN   \n45                                NaN   \n46                          11/15/118   \n47                         11/951/279   \n48                          11/441/50   \n49                                NaN   \n\n                                     Company     Altitude  \\\n0                       Coffee Quality Union    1700-1930   \n1                   Taiwan Coffee Laboratory         1200   \n2                   Taiwan Coffee Laboratory         1300   \n3                       Coffee Quality Union         1900   \n4                       Coffee Quality Union    1850-2100   \n5                   Taiwan Coffee Laboratory         1668   \n6                   Taiwan Coffee Laboratory         1250   \n7                   Taiwan Coffee Laboratory         1200   \n8                   Taiwan Coffee Laboratory         1250   \n9                         DORMAN (T) LIMITED    1400-1700   \n10                           Marubeni corp.,    1800-2200   \n11                  Taiwan Coffee Laboratory         2000   \n12                  Taiwan Coffee Laboratory         1250   \n13                    Kerchanshe Trading PLC    1900-2000   \n14                  Taiwan Coffee Laboratory         1850   \n15                  Taiwan Coffee Laboratory         1100   \n16                      Coffee Quality Union    1900-2100   \n17                             Dongbi coffee         1300   \n18                                  宸嶧國際有限公司         1200   \n19                        DORMAN (T) LIMITED    1570-1600   \n20                  Taiwan Coffee Laboratory         1900   \n21                  Taiwan Coffee Laboratory          850   \n22                                    Lyrose    1500-1700   \n23                      Coffee Quality Union         1350   \n24                  Taiwan Coffee Laboratory         1250   \n25           WIT wealth, investments & trust         1250   \n26                  Taiwan Coffee Laboratory         1300   \n27                  Taiwan Coffee Laboratory         1200   \n28                  Taiwan Coffee Laboratory         1060   \n29                  Taiwan Coffee Laboratory          600   \n30                  Taiwan Coffee Laboratory      150-250   \n31                  Taiwan Coffee Laboratory      150-250   \n32                  Taiwan Coffee Laboratory          668   \n33                                Alo Coffee         1950   \n34             TADESSE DESTA IMPORT & EXPORT  2150 - 2350   \n35                                yhaenu plc         1700   \n36                  Taiwan Coffee Laboratory         1200   \n37                  Taiwan Coffee Laboratory          650   \n38                             IBERO (K) LTD    1600-1900   \n39                                  宸嶧國際有限公司          850   \n40                  Taiwan Coffee Laboratory      300-500   \n41                                茂泰生技股份有限公司         1000   \n42                  Taiwu Coffee Cooperative          800   \n43                 Kyagalanyi Coffee Limited         1905   \n44                  Taiwan Coffee Laboratory          150   \n45                  Taiwan Coffee Laboratory          800   \n46                    Peter Schoenfeld, S.A.         1600   \n47                 OLAM AGRO GUATEMALA, S.A.         4700   \n48  inmobiliaria e inversiones dos mil, s.a.         1600   \n49                  Taiwu Coffee Cooperative      350-400   \n\n                                               Region  \\\n0                                      Piendamo,Cauca   \n1                                              Chiayi   \n2                                Laos Borofen Plateau   \n3                                  Los Santos,Tarrazu   \n4                                       Popayan,Cauca   \n5                                       Chimaltenango   \n6                                              Chiayi   \n7                                              Chiayi   \n8                                              Chiayi   \n9                                         KILIMANJARO   \n10                                               Guji   \n11                                         Acatenango   \n12                                             Yunlin   \n13                                               Guji   \n14                                             tolima   \n15                                             Chiayi   \n16                           Gedeb,Yirgacheffe,Sidamo   \n17  Shibi, Gukeng Township, Yunlin County 郵遞區號 , T...   \n18                     Gukeng Township, Yunlin County   \n19                                             Arusha   \n20                   Guatemala, Fraijanes, Santa Rosa   \n21                                 卓溪鄉Zhuoxi Township   \n22                                         Chiang Mai   \n23                                            Quindio   \n24                                             Yunlin   \n25                                   Região Vulcânica   \n26                                             Chiayi   \n27                                             Yunlin   \n28                                             Chiayi   \n29                                               Kona   \n30                               壽豐鄉Shoufeng Township   \n31                               壽豐鄉Shoufeng Township   \n32                        Dongshan Dist., Tainan City   \n33                                             Oromia   \n34                             Southern Ethiopia Guji   \n35                                             OROMIA   \n36                                             Chiayi   \n37                        Dongshan Dist., Tainan City   \n38                                            Central   \n39           Caoling , Gukeng Township, Yunlin County   \n40                            秀林鄉Show Linxia Township   \n41                                               台灣屏東   \n42                                                苗栗縣   \n43                                           Rwenzori   \n44                               壽豐鄉Shoufeng Township   \n45                                             Yunlin   \n46                                            Antigua   \n47                                         Santa Rosa   \n48                                             quiche   \n49                                                新竹縣   \n\n                        Producer  ...  Total Cup Points Moisture Percentage  \\\n0          Diego Samuel Bermudez  ...             89.33                11.8   \n1                            曾福森  ...             87.58                10.5   \n2                     WU TAO CHI  ...             87.42                10.4   \n3            Santa Maria de Dota  ...             87.17                11.8   \n4               Camilo Merizalde  ...             87.08                11.6   \n5   Emilio Antonio Medina Garcia  ...             87.00                10.7   \n6                            黃保錫  ...             86.92                 9.1   \n7                            莊家榮  ...             86.75                10.0   \n8                            鍾旭亮  ...             86.67                10.8   \n9             DORMAN (T) LIMITED  ...             86.50                11.0   \n10         Tesfaye Bekele Degaga  ...             86.25                11.8   \n11                Karen Acajabon  ...             86.25                11.5   \n12                           賴彥合  ...             86.25                11.9   \n13                    Kerchanshe  ...             86.17                11.6   \n14           Josue Enciso Suarez  ...             86.17                10.6   \n15                           葉世遠  ...             86.08                10.2   \n16        Halo Bariti Cooprative  ...             86.08                11.3   \n17                           陳景立  ...             86.08                10.3   \n18                           王瀅惠  ...             85.92                11.0   \n19            DORMAN (T) LIMITED  ...             85.83                10.0   \n20                 Fredy Orantes  ...             85.75                11.6   \n21                游婷淯 YU TING YU  ...             85.67                10.4   \n22                  Lisu farmers  ...             85.67                 9.8   \n23            Farm Bedoya Arango  ...             85.67                11.3   \n24                           蘇甘永  ...             85.58                10.6   \n25       Diogo T. Dias de Macedo  ...             85.50                11.3   \n26                           方政倫  ...             85.50                 9.1   \n27                           郭志豪  ...             85.50                10.6   \n28                           陳清龍  ...             85.50                10.2   \n29                Kona Hills LLC  ...             85.42                 9.3   \n30               張進義Zhang Jin-Yi  ...             85.42                11.4   \n31               張進義Zhang Jin-Yi  ...             85.33                10.8   \n32             葉明讚 (YE,MING-ZAN)  ...             85.33                11.3   \n33                        Eshetu  ...             85.33                 9.9   \n34                 Bisrat Melaku  ...             85.33                12.3   \n35                    YHAENU PLC  ...             85.25                 9.4   \n36                           許定燁  ...             85.25                 9.5   \n37          陳建源(CHEN, JIAN-YUAN)  ...             85.25                11.3   \n38                  Small Holder  ...             85.25                 9.2   \n39                           陳榮豐  ...             85.17                10.3   \n40                李志祥 Li Zhi-xia  ...             85.08                10.0   \n41                           陳科翰  ...             85.08                10.5   \n42                          黃簡秋蘭  ...             85.08                10.0   \n43     Kyagalanyi coffee limited  ...             85.00                11.0   \n44            劉孟宗 LIU MENG TSUNG  ...             85.00                10.9   \n45                           王清連  ...             85.00                10.1   \n46            Varios productores  ...             85.00                 9.9   \n47                    PABLO CHUY  ...             85.00                11.3   \n48          san francisco cotzal  ...             84.92                11.7   \n49                           黃俊淦  ...             84.92                 9.5   \n\n   Category One Defects Quakers          Color Category Two Defects  \\\n0                     0       0          green                    3   \n1                     0       0     blue-green                    0   \n2                     0       0      yellowish                    2   \n3                     0       0          green                    0   \n4                     0       2   yellow-green                    2   \n5                     0       0          green                    2   \n6                     0       0          green                    0   \n7                     0       0   yellow green                    1   \n8                     0       0       greenish                    0   \n9                     0       0       greenish                    0   \n10                    0       1       greenish                    1   \n11                    0       0       brownish                    1   \n12                    0       0          green                    0   \n13                    0       3  yellow- green                    2   \n14                    0       0          green                    0   \n15                    0       0          green                    0   \n16                    0       2          green                    2   \n17                    0       0   yellow-green                    0   \n18                    0       0       brownish                    1   \n19                    0       0       greenish                    0   \n20                    0       0      yellowish                    0   \n21                    0       0          green                    0   \n22                    0       0  browish-green                    5   \n23                    0       0       brownish                    2   \n24                    0       0   bluish-green                    0   \n25                    2       0          green                    3   \n26                    0       0          green                    2   \n27                    0       0          green                    0   \n28                    0       0     blue-green                    0   \n29                    0       0          green                    0   \n30                    0       0   bluish-green                    0   \n31                    0       0          green                    0   \n32                    0       0          green                    0   \n33                    0       2          green                    3   \n34                    0       3   yellow green                    4   \n35                    0       1       greenish                    1   \n36                    0       0   bluish-green                    0   \n37                    0       0          green                    0   \n38                    0       0       greenish                    1   \n39                    0       0   bluish-green                    0   \n40                    0       0       brownish                    0   \n41                    0       0       greenish                    0   \n42                    0       0    pale yellow                    5   \n43                    0       0          green                    1   \n44                    0       0          green                    0   \n45                    0       0   yellow green                    0   \n46                    0       1          green                    1   \n47                    0       0          green                    4   \n48                    0       3          green                    1   \n49                    0       0          green                    2   \n\n              Expiration                   Certification Body  \\\n0   September 21st, 2023                Japan Coffee Exchange   \n1    November 15th, 2023     Taiwan Coffee Laboratory 台灣咖啡研究室   \n2    November 15th, 2023     Taiwan Coffee Laboratory 台灣咖啡研究室   \n3   September 21st, 2023                Japan Coffee Exchange   \n4        March 5th, 2024                Japan Coffee Exchange   \n5    November 15th, 2023     Taiwan Coffee Laboratory 台灣咖啡研究室   \n6    November 15th, 2023     Taiwan Coffee Laboratory 台灣咖啡研究室   \n7    November 15th, 2023     Taiwan Coffee Laboratory 台灣咖啡研究室   \n8    November 15th, 2023     Taiwan Coffee Laboratory 台灣咖啡研究室   \n9     February 1st, 2024     Kenya Coffee Traders Association   \n10        May 31st, 2023                Japan Coffee Exchange   \n11   November 15th, 2023     Taiwan Coffee Laboratory 台灣咖啡研究室   \n12   November 15th, 2023     Taiwan Coffee Laboratory 台灣咖啡研究室   \n13     August 26th, 2023   METAD Agricultural Development plc   \n14   November 15th, 2023     Taiwan Coffee Laboratory 台灣咖啡研究室   \n15   November 15th, 2023     Taiwan Coffee Laboratory 台灣咖啡研究室   \n16       April 6th, 2024                Japan Coffee Exchange   \n17    October 24th, 2023     Blossom Valley International宸嶧國際   \n18    October 24th, 2023     Blossom Valley International宸嶧國際   \n19    February 1st, 2024     Kenya Coffee Traders Association   \n20   November 15th, 2023     Taiwan Coffee Laboratory 台灣咖啡研究室   \n21   December 12th, 2023     Taiwan Coffee Laboratory 台灣咖啡研究室   \n22     August 16th, 2023               FABB Academy of Coffee   \n23       April 6th, 2024                Japan Coffee Exchange   \n24   November 15th, 2023     Taiwan Coffee Laboratory 台灣咖啡研究室   \n25     January 6th, 2024  Brazil Specialty Coffee Association   \n26   November 15th, 2023     Taiwan Coffee Laboratory 台灣咖啡研究室   \n27   November 15th, 2023     Taiwan Coffee Laboratory 台灣咖啡研究室   \n28   November 15th, 2023     Taiwan Coffee Laboratory 台灣咖啡研究室   \n29   November 15th, 2023     Taiwan Coffee Laboratory 台灣咖啡研究室   \n30   December 12th, 2023     Taiwan Coffee Laboratory 台灣咖啡研究室   \n31   December 12th, 2023     Taiwan Coffee Laboratory 台灣咖啡研究室   \n32        June 8th, 2023     Taiwan Coffee Laboratory 台灣咖啡研究室   \n33        June 6th, 2023   METAD Agricultural Development plc   \n34  September 30th, 2023   METAD Agricultural Development plc   \n35   December 12th, 2023   METAD Agricultural Development plc   \n36   November 15th, 2023     Taiwan Coffee Laboratory 台灣咖啡研究室   \n37        June 8th, 2023     Taiwan Coffee Laboratory 台灣咖啡研究室   \n38   February 28th, 2024     Kenya Coffee Traders Association   \n39    October 24th, 2023     Blossom Valley International宸嶧國際   \n40   December 12th, 2023     Taiwan Coffee Laboratory 台灣咖啡研究室   \n41   December 30th, 2023     Taiwan Coffee Laboratory 台灣咖啡研究室   \n42     January 6th, 2024     Taiwan Coffee Laboratory 台灣咖啡研究室   \n43       June 29th, 2023  Uganda Coffee Development Authority   \n44   December 12th, 2023     Taiwan Coffee Laboratory 台灣咖啡研究室   \n45   November 15th, 2023     Taiwan Coffee Laboratory 台灣咖啡研究室   \n46      April 16th, 2024         Asociacion Nacional Del Café   \n47   February 23rd, 2024         Asociacion Nacional Del Café   \n48       June 22nd, 2023         Asociacion Nacional Del Café   \n49     January 6th, 2024     Taiwan Coffee Laboratory 台灣咖啡研究室   \n\n                                Certification Address  \\\n0   〒413-0002 静岡県熱海市伊豆山１１７３−５８ 1173-58 Izusan, Ata...   \n1   QAHWAH CO., LTD 4F, No. 225, Sec. 3, Beixin Rd...   \n2   QAHWAH CO., LTD 4F, No. 225, Sec. 3, Beixin Rd...   \n3   〒413-0002 静岡県熱海市伊豆山１１７３−５８ 1173-58 Izusan, Ata...   \n4   〒413-0002 静岡県熱海市伊豆山１１７３−５８ 1173-58 Izusan, Ata...   \n5   QAHWAH CO., LTD 4F, No. 225, Sec. 3, Beixin Rd...   \n6   QAHWAH CO., LTD 4F, No. 225, Sec. 3, Beixin Rd...   \n7   QAHWAH CO., LTD 4F, No. 225, Sec. 3, Beixin Rd...   \n8   QAHWAH CO., LTD 4F, No. 225, Sec. 3, Beixin Rd...   \n9   P.O. Box 646 00100Nairobi, Kenya, Denniss Prit...   \n10  〒413-0002 静岡県熱海市伊豆山１１７３−５８ 1173-58 Izusan, Ata...   \n11  QAHWAH CO., LTD 4F, No. 225, Sec. 3, Beixin Rd...   \n12  QAHWAH CO., LTD 4F, No. 225, Sec. 3, Beixin Rd...   \n13  BAWA Center, 3rd Floor (Gerji), Addis Ababa, E...   \n14  QAHWAH CO., LTD 4F, No. 225, Sec. 3, Beixin Rd...   \n15  QAHWAH CO., LTD 4F, No. 225, Sec. 3, Beixin Rd...   \n16  〒413-0002 静岡県熱海市伊豆山１１７３−５８ 1173-58 Izusan, Ata...   \n17                   No.72 Mo-Fan St. Taiwan Zip: 403   \n18                   No.72 Mo-Fan St. Taiwan Zip: 403   \n19  P.O. Box 646 00100Nairobi, Kenya, Denniss Prit...   \n20  QAHWAH CO., LTD 4F, No. 225, Sec. 3, Beixin Rd...   \n21  QAHWAH CO., LTD 4F, No. 225, Sec. 3, Beixin Rd...   \n22  FABB ACADEMY OF COFFEE 259/313 SUKHUMVIT 71 RD...   \n23  〒413-0002 静岡県熱海市伊豆山１１７３−５８ 1173-58 Izusan, Ata...   \n24  QAHWAH CO., LTD 4F, No. 225, Sec. 3, Beixin Rd...   \n25  Rua Gaspar Batista Paiva, 416 – Santa Luiza Va...   \n26  QAHWAH CO., LTD 4F, No. 225, Sec. 3, Beixin Rd...   \n27  QAHWAH CO., LTD 4F, No. 225, Sec. 3, Beixin Rd...   \n28  QAHWAH CO., LTD 4F, No. 225, Sec. 3, Beixin Rd...   \n29  QAHWAH CO., LTD 4F, No. 225, Sec. 3, Beixin Rd...   \n30  QAHWAH CO., LTD 4F, No. 225, Sec. 3, Beixin Rd...   \n31  QAHWAH CO., LTD 4F, No. 225, Sec. 3, Beixin Rd...   \n32  QAHWAH CO., LTD 4F, No. 225, Sec. 3, Beixin Rd...   \n33  BAWA Center, 3rd Floor (Gerji), Addis Ababa, E...   \n34  BAWA Center, 3rd Floor (Gerji), Addis Ababa, E...   \n35  BAWA Center, 3rd Floor (Gerji), Addis Ababa, E...   \n36  QAHWAH CO., LTD 4F, No. 225, Sec. 3, Beixin Rd...   \n37  QAHWAH CO., LTD 4F, No. 225, Sec. 3, Beixin Rd...   \n38  P.O. Box 646 00100Nairobi, Kenya, Denniss Prit...   \n39                   No.72 Mo-Fan St. Taiwan Zip: 403   \n40  QAHWAH CO., LTD 4F, No. 225, Sec. 3, Beixin Rd...   \n41  QAHWAH CO., LTD 4F, No. 225, Sec. 3, Beixin Rd...   \n42  QAHWAH CO., LTD 4F, No. 225, Sec. 3, Beixin Rd...   \n43  Coffee House, Plot 35, Jinja Road, P.O. Box 72...   \n44  QAHWAH CO., LTD 4F, No. 225, Sec. 3, Beixin Rd...   \n45  QAHWAH CO., LTD 4F, No. 225, Sec. 3, Beixin Rd...   \n46  5a Calle 0-50, Zona 14 Guatemala City, Guatema...   \n47  5a Calle 0-50, Zona 14 Guatemala City, Guatema...   \n48  5a Calle 0-50, Zona 14 Guatemala City, Guatema...   \n49  QAHWAH CO., LTD 4F, No. 225, Sec. 3, Beixin Rd...   \n\n                                Certification Contact  \n0             松澤　宏樹　Koju Matsuzawa - +81(0)9085642901  \n1                Lin, Jen-An Neil 林仁安 - 886-289116612  \n2                Lin, Jen-An Neil 林仁安 - 886-289116612  \n3             松澤　宏樹　Koju Matsuzawa - +81(0)9085642901  \n4             松澤　宏樹　Koju Matsuzawa - +81(0)9085642901  \n5                Lin, Jen-An Neil 林仁安 - 886-289116612  \n6                Lin, Jen-An Neil 林仁安 - 886-289116612  \n7                Lin, Jen-An Neil 林仁安 - 886-289116612  \n8                Lin, Jen-An Neil 林仁安 - 886-289116612  \n9             Benson Kibicho Kamau - +254 786 821 621  \n10            松澤　宏樹　Koju Matsuzawa - +81(0)9085642901  \n11               Lin, Jen-An Neil 林仁安 - 886-289116612  \n12               Lin, Jen-An Neil 林仁安 - 886-289116612  \n13  Aman Adinew (Emebet Dinku) - +251-116-292534, ...  \n14               Lin, Jen-An Neil 林仁安 - 886-289116612  \n15               Lin, Jen-An Neil 林仁安 - 886-289116612  \n16            松澤　宏樹　Koju Matsuzawa - +81(0)9085642901  \n17                      Damon Chen陳嘉峻 - +886423022323  \n18                      Damon Chen陳嘉峻 - +886423022323  \n19            Benson Kibicho Kamau - +254 786 821 621  \n20               Lin, Jen-An Neil 林仁安 - 886-289116612  \n21               Lin, Jen-An Neil 林仁安 - 886-289116612  \n22        Janejira Kamonsawedkun - +(66) 095 095 9593  \n23            松澤　宏樹　Koju Matsuzawa - +81(0)9085642901  \n24               Lin, Jen-An Neil 林仁安 - 886-289116612  \n25                      Chris Allen - 55 35 3212-4705  \n26               Lin, Jen-An Neil 林仁安 - 886-289116612  \n27               Lin, Jen-An Neil 林仁安 - 886-289116612  \n28               Lin, Jen-An Neil 林仁安 - 886-289116612  \n29               Lin, Jen-An Neil 林仁安 - 886-289116612  \n30               Lin, Jen-An Neil 林仁安 - 886-289116612  \n31               Lin, Jen-An Neil 林仁安 - 886-289116612  \n32               Lin, Jen-An Neil 林仁安 - 886-289116612  \n33  Aman Adinew (Emebet Dinku) - +251-116-292534, ...  \n34  Aman Adinew (Emebet Dinku) - +251-116-292534, ...  \n35  Aman Adinew (Emebet Dinku) - +251-116-292534, ...  \n36               Lin, Jen-An Neil 林仁安 - 886-289116612  \n37               Lin, Jen-An Neil 林仁安 - 886-289116612  \n38            Benson Kibicho Kamau - +254 786 821 621  \n39                      Damon Chen陳嘉峻 - +886423022323  \n40               Lin, Jen-An Neil 林仁安 - 886-289116612  \n41               Lin, Jen-An Neil 林仁安 - 886-289116612  \n42               Lin, Jen-An Neil 林仁安 - 886-289116612  \n43     Brenda Kamara Kemigisha Mangeni - 256773040119  \n44               Lin, Jen-An Neil 林仁安 - 886-289116612  \n45               Lin, Jen-An Neil 林仁安 - 886-289116612  \n46                                 Brayan Cifuentes -  \n47                                 Brayan Cifuentes -  \n48                                 Brayan Cifuentes -  \n49               Lin, Jen-An Neil 林仁安 - 886-289116612  \n\n[50 rows x 40 columns]",
      "text/html": "<div>\n<style scoped>\n    .dataframe tbody tr th:only-of-type {\n        vertical-align: middle;\n    }\n\n    .dataframe tbody tr th {\n        vertical-align: top;\n    }\n\n    .dataframe thead th {\n        text-align: right;\n    }\n</style>\n<table border=\"1\" class=\"dataframe\">\n  <thead>\n    <tr style=\"text-align: right;\">\n      <th></th>\n      <th>ID</th>\n      <th>Country of Origin</th>\n      <th>Farm Name</th>\n      <th>Lot Number</th>\n      <th>Mill</th>\n      <th>ICO Number</th>\n      <th>Company</th>\n      <th>Altitude</th>\n      <th>Region</th>\n      <th>Producer</th>\n      <th>...</th>\n      <th>Total Cup Points</th>\n      <th>Moisture Percentage</th>\n      <th>Category One Defects</th>\n      <th>Quakers</th>\n      <th>Color</th>\n      <th>Category Two Defects</th>\n      <th>Expiration</th>\n      <th>Certification Body</th>\n      <th>Certification Address</th>\n      <th>Certification Contact</th>\n    </tr>\n  </thead>\n  <tbody>\n    <tr>\n      <th>0</th>\n      <td>0</td>\n      <td>Colombia</td>\n      <td>Finca El Paraiso</td>\n      <td>CQU2022015</td>\n      <td>Finca El Paraiso</td>\n      <td>NaN</td>\n      <td>Coffee Quality Union</td>\n      <td>1700-1930</td>\n      <td>Piendamo,Cauca</td>\n      <td>Diego Samuel Bermudez</td>\n      <td>...</td>\n      <td>89.33</td>\n      <td>11.8</td>\n      <td>0</td>\n      <td>0</td>\n      <td>green</td>\n      <td>3</td>\n      <td>September 21st, 2023</td>\n      <td>Japan Coffee Exchange</td>\n      <td>〒413-0002 静岡県熱海市伊豆山１１７３−５８ 1173-58 Izusan, Ata...</td>\n      <td>松澤　宏樹　Koju Matsuzawa - +81(0)9085642901</td>\n    </tr>\n    <tr>\n      <th>1</th>\n      <td>1</td>\n      <td>Taiwan</td>\n      <td>Royal Bean Geisha Estate</td>\n      <td>The 2022 Pacific Rim Coffee Summit,T037</td>\n      <td>Royal Bean Geisha Estate</td>\n      <td>NaN</td>\n      <td>Taiwan Coffee Laboratory</td>\n      <td>1200</td>\n      <td>Chiayi</td>\n      <td>曾福森</td>\n      <td>...</td>\n      <td>87.58</td>\n      <td>10.5</td>\n      <td>0</td>\n      <td>0</td>\n      <td>blue-green</td>\n      <td>0</td>\n      <td>November 15th, 2023</td>\n      <td>Taiwan Coffee Laboratory 台灣咖啡研究室</td>\n      <td>QAHWAH CO., LTD 4F, No. 225, Sec. 3, Beixin Rd...</td>\n      <td>Lin, Jen-An Neil 林仁安 - 886-289116612</td>\n    </tr>\n    <tr>\n      <th>2</th>\n      <td>2</td>\n      <td>Laos</td>\n      <td>OKLAO coffee farms</td>\n      <td>The 2022 Pacific Rim Coffee Summit,LA01</td>\n      <td>oklao coffee processing plant</td>\n      <td>NaN</td>\n      <td>Taiwan Coffee Laboratory</td>\n      <td>1300</td>\n      <td>Laos Borofen Plateau</td>\n      <td>WU TAO CHI</td>\n      <td>...</td>\n      <td>87.42</td>\n      <td>10.4</td>\n      <td>0</td>\n      <td>0</td>\n      <td>yellowish</td>\n      <td>2</td>\n      <td>November 15th, 2023</td>\n      <td>Taiwan Coffee Laboratory 台灣咖啡研究室</td>\n      <td>QAHWAH CO., LTD 4F, No. 225, Sec. 3, Beixin Rd...</td>\n      <td>Lin, Jen-An Neil 林仁安 - 886-289116612</td>\n    </tr>\n    <tr>\n      <th>3</th>\n      <td>3</td>\n      <td>Costa Rica</td>\n      <td>La Cumbre</td>\n      <td>CQU2022017</td>\n      <td>La Montana Tarrazu MIll</td>\n      <td>NaN</td>\n      <td>Coffee Quality Union</td>\n      <td>1900</td>\n      <td>Los Santos,Tarrazu</td>\n      <td>Santa Maria de Dota</td>\n      <td>...</td>\n      <td>87.17</td>\n      <td>11.8</td>\n      <td>0</td>\n      <td>0</td>\n      <td>green</td>\n      <td>0</td>\n      <td>September 21st, 2023</td>\n      <td>Japan Coffee Exchange</td>\n      <td>〒413-0002 静岡県熱海市伊豆山１１７３−５８ 1173-58 Izusan, Ata...</td>\n      <td>松澤　宏樹　Koju Matsuzawa - +81(0)9085642901</td>\n    </tr>\n    <tr>\n      <th>4</th>\n      <td>4</td>\n      <td>Colombia</td>\n      <td>Finca Santuario</td>\n      <td>CQU2023002</td>\n      <td>Finca Santuario</td>\n      <td>NaN</td>\n      <td>Coffee Quality Union</td>\n      <td>1850-2100</td>\n      <td>Popayan,Cauca</td>\n      <td>Camilo Merizalde</td>\n      <td>...</td>\n      <td>87.08</td>\n      <td>11.6</td>\n      <td>0</td>\n      <td>2</td>\n      <td>yellow-green</td>\n      <td>2</td>\n      <td>March 5th, 2024</td>\n      <td>Japan Coffee Exchange</td>\n      <td>〒413-0002 静岡県熱海市伊豆山１１７３−５８ 1173-58 Izusan, Ata...</td>\n      <td>松澤　宏樹　Koju Matsuzawa - +81(0)9085642901</td>\n    </tr>\n    <tr>\n      <th>5</th>\n      <td>5</td>\n      <td>Guatemala</td>\n      <td>La Colina</td>\n      <td>The 2022 Pacific Rim Coffee Summit,GT02</td>\n      <td>Dinámica Café</td>\n      <td>NaN</td>\n      <td>Taiwan Coffee Laboratory</td>\n      <td>1668</td>\n      <td>Chimaltenango</td>\n      <td>Emilio Antonio Medina Garcia</td>\n      <td>...</td>\n      <td>87.00</td>\n      <td>10.7</td>\n      <td>0</td>\n      <td>0</td>\n      <td>green</td>\n      <td>2</td>\n      <td>November 15th, 2023</td>\n      <td>Taiwan Coffee Laboratory 台灣咖啡研究室</td>\n      <td>QAHWAH CO., LTD 4F, No. 225, Sec. 3, Beixin Rd...</td>\n      <td>Lin, Jen-An Neil 林仁安 - 886-289116612</td>\n    </tr>\n    <tr>\n      <th>6</th>\n      <td>6</td>\n      <td>Taiwan</td>\n      <td>野牡丹咖啡莊園 Melastoma Coffee Estate</td>\n      <td>The 2022 Pacific Rim Coffee Summit,T034</td>\n      <td>野牡丹咖啡</td>\n      <td>NaN</td>\n      <td>Taiwan Coffee Laboratory</td>\n      <td>1250</td>\n      <td>Chiayi</td>\n      <td>黃保錫</td>\n      <td>...</td>\n      <td>86.92</td>\n      <td>9.1</td>\n      <td>0</td>\n      <td>0</td>\n      <td>green</td>\n      <td>0</td>\n      <td>November 15th, 2023</td>\n      <td>Taiwan Coffee Laboratory 台灣咖啡研究室</td>\n      <td>QAHWAH CO., LTD 4F, No. 225, Sec. 3, Beixin Rd...</td>\n      <td>Lin, Jen-An Neil 林仁安 - 886-289116612</td>\n    </tr>\n    <tr>\n      <th>7</th>\n      <td>7</td>\n      <td>Taiwan</td>\n      <td>七彩琉璃咖啡莊園 Chi Tsai Liu Li Ecological Farm</td>\n      <td>The 2022 Pacific Rim Coffee Summit,T050</td>\n      <td>七彩琉璃咖啡莊園</td>\n      <td>NaN</td>\n      <td>Taiwan Coffee Laboratory</td>\n      <td>1200</td>\n      <td>Chiayi</td>\n      <td>莊家榮</td>\n      <td>...</td>\n      <td>86.75</td>\n      <td>10.0</td>\n      <td>0</td>\n      <td>0</td>\n      <td>yellow green</td>\n      <td>1</td>\n      <td>November 15th, 2023</td>\n      <td>Taiwan Coffee Laboratory 台灣咖啡研究室</td>\n      <td>QAHWAH CO., LTD 4F, No. 225, Sec. 3, Beixin Rd...</td>\n      <td>Lin, Jen-An Neil 林仁安 - 886-289116612</td>\n    </tr>\n    <tr>\n      <th>8</th>\n      <td>8</td>\n      <td>Taiwan</td>\n      <td>亮軒咖啡莊園 Liang Xuan Coffee Farm</td>\n      <td>The 2022 Pacific Rim Coffee Summit,T018</td>\n      <td>亮軒咖啡莊園</td>\n      <td>NaN</td>\n      <td>Taiwan Coffee Laboratory</td>\n      <td>1250</td>\n      <td>Chiayi</td>\n      <td>鍾旭亮</td>\n      <td>...</td>\n      <td>86.67</td>\n      <td>10.8</td>\n      <td>0</td>\n      <td>0</td>\n      <td>greenish</td>\n      <td>0</td>\n      <td>November 15th, 2023</td>\n      <td>Taiwan Coffee Laboratory 台灣咖啡研究室</td>\n      <td>QAHWAH CO., LTD 4F, No. 225, Sec. 3, Beixin Rd...</td>\n      <td>Lin, Jen-An Neil 林仁安 - 886-289116612</td>\n    </tr>\n    <tr>\n      <th>9</th>\n      <td>9</td>\n      <td>Tanzania, United Republic Of</td>\n      <td>MASHIMA AMCOS</td>\n      <td>CN 4127230034/4189230113</td>\n      <td>GOURMET COFFEE MILL</td>\n      <td>033/DE/503/002 and 033/DE/268/002</td>\n      <td>DORMAN (T) LIMITED</td>\n      <td>1400-1700</td>\n      <td>KILIMANJARO</td>\n      <td>DORMAN (T) LIMITED</td>\n      <td>...</td>\n      <td>86.50</td>\n      <td>11.0</td>\n      <td>0</td>\n      <td>0</td>\n      <td>greenish</td>\n      <td>0</td>\n      <td>February 1st, 2024</td>\n      <td>Kenya Coffee Traders Association</td>\n      <td>P.O. Box 646 00100Nairobi, Kenya, Denniss Prit...</td>\n      <td>Benson Kibicho Kamau - +254 786 821 621</td>\n    </tr>\n    <tr>\n      <th>10</th>\n      <td>10</td>\n      <td>Ethiopia</td>\n      <td>TADE GG</td>\n      <td>010/0296/600</td>\n      <td>Moledo社　委託精選場</td>\n      <td>010/0296/600</td>\n      <td>Marubeni corp.,</td>\n      <td>1800-2200</td>\n      <td>Guji</td>\n      <td>Tesfaye Bekele Degaga</td>\n      <td>...</td>\n      <td>86.25</td>\n      <td>11.8</td>\n      <td>0</td>\n      <td>1</td>\n      <td>greenish</td>\n      <td>1</td>\n      <td>May 31st, 2023</td>\n      <td>Japan Coffee Exchange</td>\n      <td>〒413-0002 静岡県熱海市伊豆山１１７３−５８ 1173-58 Izusan, Ata...</td>\n      <td>松澤　宏樹　Koju Matsuzawa - +81(0)9085642901</td>\n    </tr>\n    <tr>\n      <th>11</th>\n      <td>11</td>\n      <td>Guatemala</td>\n      <td>Karen Acajabon Coffee Farm</td>\n      <td>The 2022 Pacific Rim Coffee Summit,GT12</td>\n      <td>Cafetoland</td>\n      <td>NaN</td>\n      <td>Taiwan Coffee Laboratory</td>\n      <td>2000</td>\n      <td>Acatenango</td>\n      <td>Karen Acajabon</td>\n      <td>...</td>\n      <td>86.25</td>\n      <td>11.5</td>\n      <td>0</td>\n      <td>0</td>\n      <td>brownish</td>\n      <td>1</td>\n      <td>November 15th, 2023</td>\n      <td>Taiwan Coffee Laboratory 台灣咖啡研究室</td>\n      <td>QAHWAH CO., LTD 4F, No. 225, Sec. 3, Beixin Rd...</td>\n      <td>Lin, Jen-An Neil 林仁安 - 886-289116612</td>\n    </tr>\n    <tr>\n      <th>12</th>\n      <td>12</td>\n      <td>Taiwan</td>\n      <td>古峰咖啡莊園 Goodfun Coffee Farm</td>\n      <td>The 2022 Pacific Rim Coffee Summit,T051</td>\n      <td>古峰咖啡莊園</td>\n      <td>NaN</td>\n      <td>Taiwan Coffee Laboratory</td>\n      <td>1250</td>\n      <td>Yunlin</td>\n      <td>賴彥合</td>\n      <td>...</td>\n      <td>86.25</td>\n      <td>11.9</td>\n      <td>0</td>\n      <td>0</td>\n      <td>green</td>\n      <td>0</td>\n      <td>November 15th, 2023</td>\n      <td>Taiwan Coffee Laboratory 台灣咖啡研究室</td>\n      <td>QAHWAH CO., LTD 4F, No. 225, Sec. 3, Beixin Rd...</td>\n      <td>Lin, Jen-An Neil 林仁安 - 886-289116612</td>\n    </tr>\n    <tr>\n      <th>13</th>\n      <td>13</td>\n      <td>Ethiopia</td>\n      <td>Gelana Geisha</td>\n      <td>Grade 1, Guji, Natural, Gelana Geisha</td>\n      <td>Dry Mill or Hulling Facility</td>\n      <td>010/0475/0207</td>\n      <td>Kerchanshe Trading PLC</td>\n      <td>1900-2000</td>\n      <td>Guji</td>\n      <td>Kerchanshe</td>\n      <td>...</td>\n      <td>86.17</td>\n      <td>11.6</td>\n      <td>0</td>\n      <td>3</td>\n      <td>yellow- green</td>\n      <td>2</td>\n      <td>August 26th, 2023</td>\n      <td>METAD Agricultural Development plc</td>\n      <td>BAWA Center, 3rd Floor (Gerji), Addis Ababa, E...</td>\n      <td>Aman Adinew (Emebet Dinku) - +251-116-292534, ...</td>\n    </tr>\n    <tr>\n      <th>14</th>\n      <td>14</td>\n      <td>Colombia</td>\n      <td>La Gaitania</td>\n      <td>The 2022 Pacific Rim Coffee Summit,CO03</td>\n      <td>La Gaitania</td>\n      <td>NaN</td>\n      <td>Taiwan Coffee Laboratory</td>\n      <td>1850</td>\n      <td>tolima</td>\n      <td>Josue Enciso Suarez</td>\n      <td>...</td>\n      <td>86.17</td>\n      <td>10.6</td>\n      <td>0</td>\n      <td>0</td>\n      <td>green</td>\n      <td>0</td>\n      <td>November 15th, 2023</td>\n      <td>Taiwan Coffee Laboratory 台灣咖啡研究室</td>\n      <td>QAHWAH CO., LTD 4F, No. 225, Sec. 3, Beixin Rd...</td>\n      <td>Lin, Jen-An Neil 林仁安 - 886-289116612</td>\n    </tr>\n    <tr>\n      <th>15</th>\n      <td>15</td>\n      <td>Taiwan</td>\n      <td>青葉咖啡莊園</td>\n      <td>The 2022 Pacific Rim Coffee Summit,T014</td>\n      <td>青葉咖啡莊園</td>\n      <td>NaN</td>\n      <td>Taiwan Coffee Laboratory</td>\n      <td>1100</td>\n      <td>Chiayi</td>\n      <td>葉世遠</td>\n      <td>...</td>\n      <td>86.08</td>\n      <td>10.2</td>\n      <td>0</td>\n      <td>0</td>\n      <td>green</td>\n      <td>0</td>\n      <td>November 15th, 2023</td>\n      <td>Taiwan Coffee Laboratory 台灣咖啡研究室</td>\n      <td>QAHWAH CO., LTD 4F, No. 225, Sec. 3, Beixin Rd...</td>\n      <td>Lin, Jen-An Neil 林仁安 - 886-289116612</td>\n    </tr>\n    <tr>\n      <th>16</th>\n      <td>16</td>\n      <td>Ethiopia</td>\n      <td>Halo Bariti Cooprative</td>\n      <td>CQU2023006</td>\n      <td>Halo Bariti Cooprative</td>\n      <td>NaN</td>\n      <td>Coffee Quality Union</td>\n      <td>1900-2100</td>\n      <td>Gedeb,Yirgacheffe,Sidamo</td>\n      <td>Halo Bariti Cooprative</td>\n      <td>...</td>\n      <td>86.08</td>\n      <td>11.3</td>\n      <td>0</td>\n      <td>2</td>\n      <td>green</td>\n      <td>2</td>\n      <td>April 6th, 2024</td>\n      <td>Japan Coffee Exchange</td>\n      <td>〒413-0002 静岡県熱海市伊豆山１１７３−５８ 1173-58 Izusan, Ata...</td>\n      <td>松澤　宏樹　Koju Matsuzawa - +81(0)9085642901</td>\n    </tr>\n    <tr>\n      <th>17</th>\n      <td>17</td>\n      <td>Taiwan</td>\n      <td>東璧咖啡莊園</td>\n      <td>202203</td>\n      <td>yes</td>\n      <td>non</td>\n      <td>Dongbi coffee</td>\n      <td>1300</td>\n      <td>Shibi, Gukeng Township, Yunlin County 郵遞區號 , T...</td>\n      <td>陳景立</td>\n      <td>...</td>\n      <td>86.08</td>\n      <td>10.3</td>\n      <td>0</td>\n      <td>0</td>\n      <td>yellow-green</td>\n      <td>0</td>\n      <td>October 24th, 2023</td>\n      <td>Blossom Valley International宸嶧國際</td>\n      <td>No.72 Mo-Fan St. Taiwan Zip: 403</td>\n      <td>Damon Chen陳嘉峻 - +886423022323</td>\n    </tr>\n    <tr>\n      <th>18</th>\n      <td>18</td>\n      <td>Taiwan</td>\n      <td>櫻桃果古坑咖啡莊園</td>\n      <td>202112</td>\n      <td>yes</td>\n      <td>non</td>\n      <td>宸嶧國際有限公司</td>\n      <td>1200</td>\n      <td>Gukeng Township, Yunlin County</td>\n      <td>王瀅惠</td>\n      <td>...</td>\n      <td>85.92</td>\n      <td>11.0</td>\n      <td>0</td>\n      <td>0</td>\n      <td>brownish</td>\n      <td>1</td>\n      <td>October 24th, 2023</td>\n      <td>Blossom Valley International宸嶧國際</td>\n      <td>No.72 Mo-Fan St. Taiwan Zip: 403</td>\n      <td>Damon Chen陳嘉峻 - +886423022323</td>\n    </tr>\n    <tr>\n      <th>19</th>\n      <td>19</td>\n      <td>Tanzania, United Republic Of</td>\n      <td>BURKA</td>\n      <td>CN 4127230032/P-9140</td>\n      <td>GOURMET COFFEE MILL</td>\n      <td>033/DE/163/001</td>\n      <td>DORMAN (T) LIMITED</td>\n      <td>1570-1600</td>\n      <td>Arusha</td>\n      <td>DORMAN (T) LIMITED</td>\n      <td>...</td>\n      <td>85.83</td>\n      <td>10.0</td>\n      <td>0</td>\n      <td>0</td>\n      <td>greenish</td>\n      <td>0</td>\n      <td>February 1st, 2024</td>\n      <td>Kenya Coffee Traders Association</td>\n      <td>P.O. Box 646 00100Nairobi, Kenya, Denniss Prit...</td>\n      <td>Benson Kibicho Kamau - +254 786 821 621</td>\n    </tr>\n    <tr>\n      <th>20</th>\n      <td>20</td>\n      <td>Guatemala</td>\n      <td>Finca Vista Hermosa</td>\n      <td>The 2022 Pacific Rim Coffee Summit,GT03</td>\n      <td>El Vergel</td>\n      <td>NaN</td>\n      <td>Taiwan Coffee Laboratory</td>\n      <td>1900</td>\n      <td>Guatemala, Fraijanes, Santa Rosa</td>\n      <td>Fredy Orantes</td>\n      <td>...</td>\n      <td>85.75</td>\n      <td>11.6</td>\n      <td>0</td>\n      <td>0</td>\n      <td>yellowish</td>\n      <td>0</td>\n      <td>November 15th, 2023</td>\n      <td>Taiwan Coffee Laboratory 台灣咖啡研究室</td>\n      <td>QAHWAH CO., LTD 4F, No. 225, Sec. 3, Beixin Rd...</td>\n      <td>Lin, Jen-An Neil 林仁安 - 886-289116612</td>\n    </tr>\n    <tr>\n      <th>21</th>\n      <td>21</td>\n      <td>Taiwan</td>\n      <td>仲大叔咖啡莊園Uncle Chung.s Coffee Farm</td>\n      <td>2022/03</td>\n      <td>仲大叔咖啡莊園Uncle Chung.s Coffee Farm</td>\n      <td>NaN</td>\n      <td>Taiwan Coffee Laboratory</td>\n      <td>850</td>\n      <td>卓溪鄉Zhuoxi Township</td>\n      <td>游婷淯 YU TING YU</td>\n      <td>...</td>\n      <td>85.67</td>\n      <td>10.4</td>\n      <td>0</td>\n      <td>0</td>\n      <td>green</td>\n      <td>0</td>\n      <td>December 12th, 2023</td>\n      <td>Taiwan Coffee Laboratory 台灣咖啡研究室</td>\n      <td>QAHWAH CO., LTD 4F, No. 225, Sec. 3, Beixin Rd...</td>\n      <td>Lin, Jen-An Neil 林仁安 - 886-289116612</td>\n    </tr>\n    <tr>\n      <th>22</th>\n      <td>22</td>\n      <td>Thailand</td>\n      <td>Hom Doi</td>\n      <td>1</td>\n      <td>Machines to peel outer skin of the cherry coff...</td>\n      <td>NaN</td>\n      <td>Lyrose</td>\n      <td>1500-1700</td>\n      <td>Chiang Mai</td>\n      <td>Lisu farmers</td>\n      <td>...</td>\n      <td>85.67</td>\n      <td>9.8</td>\n      <td>0</td>\n      <td>0</td>\n      <td>browish-green</td>\n      <td>5</td>\n      <td>August 16th, 2023</td>\n      <td>FABB Academy of Coffee</td>\n      <td>FABB ACADEMY OF COFFEE 259/313 SUKHUMVIT 71 RD...</td>\n      <td>Janejira Kamonsawedkun - +(66) 095 095 9593</td>\n    </tr>\n    <tr>\n      <th>23</th>\n      <td>23</td>\n      <td>Colombia</td>\n      <td>El Diamante</td>\n      <td>CQU2023005</td>\n      <td>El Diamante</td>\n      <td>NaN</td>\n      <td>Coffee Quality Union</td>\n      <td>1350</td>\n      <td>Quindio</td>\n      <td>Farm Bedoya Arango</td>\n      <td>...</td>\n      <td>85.67</td>\n      <td>11.3</td>\n      <td>0</td>\n      <td>0</td>\n      <td>brownish</td>\n      <td>2</td>\n      <td>April 6th, 2024</td>\n      <td>Japan Coffee Exchange</td>\n      <td>〒413-0002 静岡県熱海市伊豆山１１７３−５８ 1173-58 Izusan, Ata...</td>\n      <td>松澤　宏樹　Koju Matsuzawa - +81(0)9085642901</td>\n    </tr>\n    <tr>\n      <th>24</th>\n      <td>24</td>\n      <td>Taiwan</td>\n      <td>永舜咖啡莊園</td>\n      <td>The 2022 Pacific Rim Coffee Summit, T003</td>\n      <td>永舜咖啡莊園</td>\n      <td>NaN</td>\n      <td>Taiwan Coffee Laboratory</td>\n      <td>1250</td>\n      <td>Yunlin</td>\n      <td>蘇甘永</td>\n      <td>...</td>\n      <td>85.58</td>\n      <td>10.6</td>\n      <td>0</td>\n      <td>0</td>\n      <td>bluish-green</td>\n      <td>0</td>\n      <td>November 15th, 2023</td>\n      <td>Taiwan Coffee Laboratory 台灣咖啡研究室</td>\n      <td>QAHWAH CO., LTD 4F, No. 225, Sec. 3, Beixin Rd...</td>\n      <td>Lin, Jen-An Neil 林仁安 - 886-289116612</td>\n    </tr>\n    <tr>\n      <th>25</th>\n      <td>25</td>\n      <td>Brazil</td>\n      <td>Fazenda Recreio</td>\n      <td>Arara 1</td>\n      <td>Dry mill</td>\n      <td>NaN</td>\n      <td>WIT wealth, investments &amp; trust</td>\n      <td>1250</td>\n      <td>Região Vulcânica</td>\n      <td>Diogo T. Dias de Macedo</td>\n      <td>...</td>\n      <td>85.50</td>\n      <td>11.3</td>\n      <td>2</td>\n      <td>0</td>\n      <td>green</td>\n      <td>3</td>\n      <td>January 6th, 2024</td>\n      <td>Brazil Specialty Coffee Association</td>\n      <td>Rua Gaspar Batista Paiva, 416 – Santa Luiza Va...</td>\n      <td>Chris Allen - 55 35 3212-4705</td>\n    </tr>\n    <tr>\n      <th>26</th>\n      <td>26</td>\n      <td>Taiwan</td>\n      <td>鄒築園ZouZhouYuan</td>\n      <td>The 2022 Pacific Rim Coffee Summit,T024</td>\n      <td>鄒築園ZouZhouYuan</td>\n      <td>NaN</td>\n      <td>Taiwan Coffee Laboratory</td>\n      <td>1300</td>\n      <td>Chiayi</td>\n      <td>方政倫</td>\n      <td>...</td>\n      <td>85.50</td>\n      <td>9.1</td>\n      <td>0</td>\n      <td>0</td>\n      <td>green</td>\n      <td>2</td>\n      <td>November 15th, 2023</td>\n      <td>Taiwan Coffee Laboratory 台灣咖啡研究室</td>\n      <td>QAHWAH CO., LTD 4F, No. 225, Sec. 3, Beixin Rd...</td>\n      <td>Lin, Jen-An Neil 林仁安 - 886-289116612</td>\n    </tr>\n    <tr>\n      <th>27</th>\n      <td>27</td>\n      <td>Taiwan</td>\n      <td>嵩岳咖啡莊園</td>\n      <td>The 2022 Pacific Rim Coffee Summit,T048</td>\n      <td>嵩岳咖啡莊園</td>\n      <td>NaN</td>\n      <td>Taiwan Coffee Laboratory</td>\n      <td>1200</td>\n      <td>Yunlin</td>\n      <td>郭志豪</td>\n      <td>...</td>\n      <td>85.50</td>\n      <td>10.6</td>\n      <td>0</td>\n      <td>0</td>\n      <td>green</td>\n      <td>0</td>\n      <td>November 15th, 2023</td>\n      <td>Taiwan Coffee Laboratory 台灣咖啡研究室</td>\n      <td>QAHWAH CO., LTD 4F, No. 225, Sec. 3, Beixin Rd...</td>\n      <td>Lin, Jen-An Neil 林仁安 - 886-289116612</td>\n    </tr>\n    <tr>\n      <th>28</th>\n      <td>28</td>\n      <td>Taiwan</td>\n      <td>他扶芽有機農園</td>\n      <td>The 2022 Pacific Rim Coffee Summit,T045</td>\n      <td>他扶芽有機農園</td>\n      <td>NaN</td>\n      <td>Taiwan Coffee Laboratory</td>\n      <td>1060</td>\n      <td>Chiayi</td>\n      <td>陳清龍</td>\n      <td>...</td>\n      <td>85.50</td>\n      <td>10.2</td>\n      <td>0</td>\n      <td>0</td>\n      <td>blue-green</td>\n      <td>0</td>\n      <td>November 15th, 2023</td>\n      <td>Taiwan Coffee Laboratory 台灣咖啡研究室</td>\n      <td>QAHWAH CO., LTD 4F, No. 225, Sec. 3, Beixin Rd...</td>\n      <td>Lin, Jen-An Neil 林仁安 - 886-289116612</td>\n    </tr>\n    <tr>\n      <th>29</th>\n      <td>29</td>\n      <td>United States (Hawaii)</td>\n      <td>Hokukano Ranch</td>\n      <td>The 2022 Pacific Rim Coffee Summit,US01</td>\n      <td>Kona Coffee &amp; Tea</td>\n      <td>NaN</td>\n      <td>Taiwan Coffee Laboratory</td>\n      <td>600</td>\n      <td>Kona</td>\n      <td>Kona Hills LLC</td>\n      <td>...</td>\n      <td>85.42</td>\n      <td>9.3</td>\n      <td>0</td>\n      <td>0</td>\n      <td>green</td>\n      <td>0</td>\n      <td>November 15th, 2023</td>\n      <td>Taiwan Coffee Laboratory 台灣咖啡研究室</td>\n      <td>QAHWAH CO., LTD 4F, No. 225, Sec. 3, Beixin Rd...</td>\n      <td>Lin, Jen-An Neil 林仁安 - 886-289116612</td>\n    </tr>\n    <tr>\n      <th>30</th>\n      <td>30</td>\n      <td>Taiwan</td>\n      <td>鄉庭有機農場Siang-Ting Organic Farm</td>\n      <td>2022/3/1(老叢)</td>\n      <td>鄉庭有機農場Siang-Ting Organic Farm</td>\n      <td>NaN</td>\n      <td>Taiwan Coffee Laboratory</td>\n      <td>150-250</td>\n      <td>壽豐鄉Shoufeng Township</td>\n      <td>張進義Zhang Jin-Yi</td>\n      <td>...</td>\n      <td>85.42</td>\n      <td>11.4</td>\n      <td>0</td>\n      <td>0</td>\n      <td>bluish-green</td>\n      <td>0</td>\n      <td>December 12th, 2023</td>\n      <td>Taiwan Coffee Laboratory 台灣咖啡研究室</td>\n      <td>QAHWAH CO., LTD 4F, No. 225, Sec. 3, Beixin Rd...</td>\n      <td>Lin, Jen-An Neil 林仁安 - 886-289116612</td>\n    </tr>\n    <tr>\n      <th>31</th>\n      <td>31</td>\n      <td>Taiwan</td>\n      <td>鄉庭有機農場Siang-Ting Organic Farm</td>\n      <td>2022/02</td>\n      <td>鄉庭有機農場Siang-Ting Organic Farm</td>\n      <td>NaN</td>\n      <td>Taiwan Coffee Laboratory</td>\n      <td>150-250</td>\n      <td>壽豐鄉Shoufeng Township</td>\n      <td>張進義Zhang Jin-Yi</td>\n      <td>...</td>\n      <td>85.33</td>\n      <td>10.8</td>\n      <td>0</td>\n      <td>0</td>\n      <td>green</td>\n      <td>0</td>\n      <td>December 12th, 2023</td>\n      <td>Taiwan Coffee Laboratory 台灣咖啡研究室</td>\n      <td>QAHWAH CO., LTD 4F, No. 225, Sec. 3, Beixin Rd...</td>\n      <td>Lin, Jen-An Neil 林仁安 - 886-289116612</td>\n    </tr>\n    <tr>\n      <th>32</th>\n      <td>32</td>\n      <td>Taiwan</td>\n      <td>金讚咖啡農莊園(Jinzan Coffee Estate)</td>\n      <td>2022臺南市精品咖啡評鑑批次</td>\n      <td>金讚咖啡農莊園(Jinzan Coffee Estate)</td>\n      <td>NaN</td>\n      <td>Taiwan Coffee Laboratory</td>\n      <td>668</td>\n      <td>Dongshan Dist., Tainan City</td>\n      <td>葉明讚 (YE,MING-ZAN)</td>\n      <td>...</td>\n      <td>85.33</td>\n      <td>11.3</td>\n      <td>0</td>\n      <td>0</td>\n      <td>green</td>\n      <td>0</td>\n      <td>June 8th, 2023</td>\n      <td>Taiwan Coffee Laboratory 台灣咖啡研究室</td>\n      <td>QAHWAH CO., LTD 4F, No. 225, Sec. 3, Beixin Rd...</td>\n      <td>Lin, Jen-An Neil 林仁安 - 886-289116612</td>\n    </tr>\n    <tr>\n      <th>33</th>\n      <td>33</td>\n      <td>Ethiopia</td>\n      <td>Eshetu farm</td>\n      <td>Washed Limmu</td>\n      <td>Lata Agri export</td>\n      <td>010/1081</td>\n      <td>Alo Coffee</td>\n      <td>1950</td>\n      <td>Oromia</td>\n      <td>Eshetu</td>\n      <td>...</td>\n      <td>85.33</td>\n      <td>9.9</td>\n      <td>0</td>\n      <td>2</td>\n      <td>green</td>\n      <td>3</td>\n      <td>June 6th, 2023</td>\n      <td>METAD Agricultural Development plc</td>\n      <td>BAWA Center, 3rd Floor (Gerji), Addis Ababa, E...</td>\n      <td>Aman Adinew (Emebet Dinku) - +251-116-292534, ...</td>\n    </tr>\n    <tr>\n      <th>34</th>\n      <td>34</td>\n      <td>Ethiopia</td>\n      <td>Uraga Bisrat washing station</td>\n      <td>0065</td>\n      <td>dry mill</td>\n      <td>ICO: 010/ 0218/0065</td>\n      <td>TADESSE DESTA IMPORT &amp; EXPORT</td>\n      <td>2150 - 2350</td>\n      <td>Southern Ethiopia Guji</td>\n      <td>Bisrat Melaku</td>\n      <td>...</td>\n      <td>85.33</td>\n      <td>12.3</td>\n      <td>0</td>\n      <td>3</td>\n      <td>yellow green</td>\n      <td>4</td>\n      <td>September 30th, 2023</td>\n      <td>METAD Agricultural Development plc</td>\n      <td>BAWA Center, 3rd Floor (Gerji), Addis Ababa, E...</td>\n      <td>Aman Adinew (Emebet Dinku) - +251-116-292534, ...</td>\n    </tr>\n    <tr>\n      <th>35</th>\n      <td>35</td>\n      <td>Ethiopia</td>\n      <td>YHAENU PLC FARM</td>\n      <td>1</td>\n      <td>GUJI COFFEE EXPORT P.L.C</td>\n      <td>010/0891/00041</td>\n      <td>yhaenu plc</td>\n      <td>1700</td>\n      <td>OROMIA</td>\n      <td>YHAENU PLC</td>\n      <td>...</td>\n      <td>85.25</td>\n      <td>9.4</td>\n      <td>0</td>\n      <td>1</td>\n      <td>greenish</td>\n      <td>1</td>\n      <td>December 12th, 2023</td>\n      <td>METAD Agricultural Development plc</td>\n      <td>BAWA Center, 3rd Floor (Gerji), Addis Ababa, E...</td>\n      <td>Aman Adinew (Emebet Dinku) - +251-116-292534, ...</td>\n    </tr>\n    <tr>\n      <th>36</th>\n      <td>36</td>\n      <td>Taiwan</td>\n      <td>卓武山咖啡農場</td>\n      <td>The 2022 Pacific Rim Coffee Summit, T004</td>\n      <td>卓武山咖啡農場</td>\n      <td>NaN</td>\n      <td>Taiwan Coffee Laboratory</td>\n      <td>1200</td>\n      <td>Chiayi</td>\n      <td>許定燁</td>\n      <td>...</td>\n      <td>85.25</td>\n      <td>9.5</td>\n      <td>0</td>\n      <td>0</td>\n      <td>bluish-green</td>\n      <td>0</td>\n      <td>November 15th, 2023</td>\n      <td>Taiwan Coffee Laboratory 台灣咖啡研究室</td>\n      <td>QAHWAH CO., LTD 4F, No. 225, Sec. 3, Beixin Rd...</td>\n      <td>Lin, Jen-An Neil 林仁安 - 886-289116612</td>\n    </tr>\n    <tr>\n      <th>37</th>\n      <td>37</td>\n      <td>Taiwan</td>\n      <td>御香咖啡園 YU SIANG Coffee Estate</td>\n      <td>2022臺南市精品咖啡評鑑批次</td>\n      <td>御香咖啡園 YU SIANG Coffee Estate</td>\n      <td>NaN</td>\n      <td>Taiwan Coffee Laboratory</td>\n      <td>650</td>\n      <td>Dongshan Dist., Tainan City</td>\n      <td>陳建源(CHEN, JIAN-YUAN)</td>\n      <td>...</td>\n      <td>85.25</td>\n      <td>11.3</td>\n      <td>0</td>\n      <td>0</td>\n      <td>green</td>\n      <td>0</td>\n      <td>June 8th, 2023</td>\n      <td>Taiwan Coffee Laboratory 台灣咖啡研究室</td>\n      <td>QAHWAH CO., LTD 4F, No. 225, Sec. 3, Beixin Rd...</td>\n      <td>Lin, Jen-An Neil 林仁安 - 886-289116612</td>\n    </tr>\n    <tr>\n      <th>38</th>\n      <td>38</td>\n      <td>Kenya</td>\n      <td>Small Holder</td>\n      <td>5516</td>\n      <td>NKG</td>\n      <td>NaN</td>\n      <td>IBERO (K) LTD</td>\n      <td>1600-1900</td>\n      <td>Central</td>\n      <td>Small Holder</td>\n      <td>...</td>\n      <td>85.25</td>\n      <td>9.2</td>\n      <td>0</td>\n      <td>0</td>\n      <td>greenish</td>\n      <td>1</td>\n      <td>February 28th, 2024</td>\n      <td>Kenya Coffee Traders Association</td>\n      <td>P.O. Box 646 00100Nairobi, Kenya, Denniss Prit...</td>\n      <td>Benson Kibicho Kamau - +254 786 821 621</td>\n    </tr>\n    <tr>\n      <th>39</th>\n      <td>39</td>\n      <td>Taiwan</td>\n      <td>皇庭咖啡莊園</td>\n      <td>202203</td>\n      <td>yes</td>\n      <td>non</td>\n      <td>宸嶧國際有限公司</td>\n      <td>850</td>\n      <td>Caoling , Gukeng Township, Yunlin County</td>\n      <td>陳榮豐</td>\n      <td>...</td>\n      <td>85.17</td>\n      <td>10.3</td>\n      <td>0</td>\n      <td>0</td>\n      <td>bluish-green</td>\n      <td>0</td>\n      <td>October 24th, 2023</td>\n      <td>Blossom Valley International宸嶧國際</td>\n      <td>No.72 Mo-Fan St. Taiwan Zip: 403</td>\n      <td>Damon Chen陳嘉峻 - +886423022323</td>\n    </tr>\n    <tr>\n      <th>40</th>\n      <td>40</td>\n      <td>Taiwan</td>\n      <td>花蓮縣秀林鄉特用作物（咖啡）產銷第一班Agriculture Production and ...</td>\n      <td>2022/01</td>\n      <td>花蓮縣秀林鄉特用作物（咖啡）產銷第一班Agriculture Production and ...</td>\n      <td>NaN</td>\n      <td>Taiwan Coffee Laboratory</td>\n      <td>300-500</td>\n      <td>秀林鄉Show Linxia Township</td>\n      <td>李志祥 Li Zhi-xia</td>\n      <td>...</td>\n      <td>85.08</td>\n      <td>10.0</td>\n      <td>0</td>\n      <td>0</td>\n      <td>brownish</td>\n      <td>0</td>\n      <td>December 12th, 2023</td>\n      <td>Taiwan Coffee Laboratory 台灣咖啡研究室</td>\n      <td>QAHWAH CO., LTD 4F, No. 225, Sec. 3, Beixin Rd...</td>\n      <td>Lin, Jen-An Neil 林仁安 - 886-289116612</td>\n    </tr>\n    <tr>\n      <th>41</th>\n      <td>41</td>\n      <td>Taiwan</td>\n      <td>八一高地</td>\n      <td>屏東縣三地門鄉德文段</td>\n      <td>乾燥機、脫殼機</td>\n      <td>NaN</td>\n      <td>茂泰生技股份有限公司</td>\n      <td>1000</td>\n      <td>台灣屏東</td>\n      <td>陳科翰</td>\n      <td>...</td>\n      <td>85.08</td>\n      <td>10.5</td>\n      <td>0</td>\n      <td>0</td>\n      <td>greenish</td>\n      <td>0</td>\n      <td>December 30th, 2023</td>\n      <td>Taiwan Coffee Laboratory 台灣咖啡研究室</td>\n      <td>QAHWAH CO., LTD 4F, No. 225, Sec. 3, Beixin Rd...</td>\n      <td>Lin, Jen-An Neil 林仁安 - 886-289116612</td>\n    </tr>\n    <tr>\n      <th>42</th>\n      <td>42</td>\n      <td>Taiwan</td>\n      <td>香夾蘭莊園</td>\n      <td>A26-Northern Taiwan Specialty Coffee Evaluation</td>\n      <td>香夾蘭莊園</td>\n      <td>NaN</td>\n      <td>Taiwu Coffee Cooperative</td>\n      <td>800</td>\n      <td>苗栗縣</td>\n      <td>黃簡秋蘭</td>\n      <td>...</td>\n      <td>85.08</td>\n      <td>10.0</td>\n      <td>0</td>\n      <td>0</td>\n      <td>pale yellow</td>\n      <td>5</td>\n      <td>January 6th, 2024</td>\n      <td>Taiwan Coffee Laboratory 台灣咖啡研究室</td>\n      <td>QAHWAH CO., LTD 4F, No. 225, Sec. 3, Beixin Rd...</td>\n      <td>Lin, Jen-An Neil 林仁安 - 886-289116612</td>\n    </tr>\n    <tr>\n      <th>43</th>\n      <td>43</td>\n      <td>Uganda</td>\n      <td>Gideon Kule</td>\n      <td>7938</td>\n      <td>Dry Mill</td>\n      <td>11/35</td>\n      <td>Kyagalanyi Coffee Limited</td>\n      <td>1905</td>\n      <td>Rwenzori</td>\n      <td>Kyagalanyi coffee limited</td>\n      <td>...</td>\n      <td>85.00</td>\n      <td>11.0</td>\n      <td>0</td>\n      <td>0</td>\n      <td>green</td>\n      <td>1</td>\n      <td>June 29th, 2023</td>\n      <td>Uganda Coffee Development Authority</td>\n      <td>Coffee House, Plot 35, Jinja Road, P.O. Box 72...</td>\n      <td>Brenda Kamara Kemigisha Mangeni - 256773040119</td>\n    </tr>\n    <tr>\n      <th>44</th>\n      <td>44</td>\n      <td>Taiwan</td>\n      <td>愛姬咖啡莊園iGfarm</td>\n      <td>2021/01</td>\n      <td>愛姬咖啡莊園iGfarm</td>\n      <td>NaN</td>\n      <td>Taiwan Coffee Laboratory</td>\n      <td>150</td>\n      <td>壽豐鄉Shoufeng Township</td>\n      <td>劉孟宗 LIU MENG TSUNG</td>\n      <td>...</td>\n      <td>85.00</td>\n      <td>10.9</td>\n      <td>0</td>\n      <td>0</td>\n      <td>green</td>\n      <td>0</td>\n      <td>December 12th, 2023</td>\n      <td>Taiwan Coffee Laboratory 台灣咖啡研究室</td>\n      <td>QAHWAH CO., LTD 4F, No. 225, Sec. 3, Beixin Rd...</td>\n      <td>Lin, Jen-An Neil 林仁安 - 886-289116612</td>\n    </tr>\n    <tr>\n      <th>45</th>\n      <td>45</td>\n      <td>Taiwan</td>\n      <td>青山坪咖啡農場</td>\n      <td>The 2022 Pacific Rim Coffee Summit,T011</td>\n      <td>青山坪咖啡農場</td>\n      <td>NaN</td>\n      <td>Taiwan Coffee Laboratory</td>\n      <td>800</td>\n      <td>Yunlin</td>\n      <td>王清連</td>\n      <td>...</td>\n      <td>85.00</td>\n      <td>10.1</td>\n      <td>0</td>\n      <td>0</td>\n      <td>yellow green</td>\n      <td>0</td>\n      <td>November 15th, 2023</td>\n      <td>Taiwan Coffee Laboratory 台灣咖啡研究室</td>\n      <td>QAHWAH CO., LTD 4F, No. 225, Sec. 3, Beixin Rd...</td>\n      <td>Lin, Jen-An Neil 林仁安 - 886-289116612</td>\n    </tr>\n    <tr>\n      <th>46</th>\n      <td>46</td>\n      <td>Guatemala</td>\n      <td>varias fincas</td>\n      <td>11/15/118</td>\n      <td>Beneficio Pastores</td>\n      <td>11/15/118</td>\n      <td>Peter Schoenfeld, S.A.</td>\n      <td>1600</td>\n      <td>Antigua</td>\n      <td>Varios productores</td>\n      <td>...</td>\n      <td>85.00</td>\n      <td>9.9</td>\n      <td>0</td>\n      <td>1</td>\n      <td>green</td>\n      <td>1</td>\n      <td>April 16th, 2024</td>\n      <td>Asociacion Nacional Del Café</td>\n      <td>5a Calle 0-50, Zona 14 Guatemala City, Guatema...</td>\n      <td>Brayan Cifuentes -</td>\n    </tr>\n    <tr>\n      <th>47</th>\n      <td>47</td>\n      <td>Guatemala</td>\n      <td>PEÑA BLANCA</td>\n      <td>11/951/279</td>\n      <td>BENEFICIO LAS AMERICAS</td>\n      <td>11/951/279</td>\n      <td>OLAM AGRO GUATEMALA, S.A.</td>\n      <td>4700</td>\n      <td>Santa Rosa</td>\n      <td>PABLO CHUY</td>\n      <td>...</td>\n      <td>85.00</td>\n      <td>11.3</td>\n      <td>0</td>\n      <td>0</td>\n      <td>green</td>\n      <td>4</td>\n      <td>February 23rd, 2024</td>\n      <td>Asociacion Nacional Del Café</td>\n      <td>5a Calle 0-50, Zona 14 Guatemala City, Guatema...</td>\n      <td>Brayan Cifuentes -</td>\n    </tr>\n    <tr>\n      <th>48</th>\n      <td>48</td>\n      <td>Guatemala</td>\n      <td>san francisco cotzal</td>\n      <td>11/441/50</td>\n      <td>inmobiliaria e inversiones dos mil, s.a.</td>\n      <td>11/441/50</td>\n      <td>inmobiliaria e inversiones dos mil, s.a.</td>\n      <td>1600</td>\n      <td>quiche</td>\n      <td>san francisco cotzal</td>\n      <td>...</td>\n      <td>84.92</td>\n      <td>11.7</td>\n      <td>0</td>\n      <td>3</td>\n      <td>green</td>\n      <td>1</td>\n      <td>June 22nd, 2023</td>\n      <td>Asociacion Nacional Del Café</td>\n      <td>5a Calle 0-50, Zona 14 Guatemala City, Guatema...</td>\n      <td>Brayan Cifuentes -</td>\n    </tr>\n    <tr>\n      <th>49</th>\n      <td>49</td>\n      <td>Taiwan</td>\n      <td>六曲窩</td>\n      <td>A03-Northern Taiwan Specialty Coffee Evaluation</td>\n      <td>六曲窩</td>\n      <td>NaN</td>\n      <td>Taiwu Coffee Cooperative</td>\n      <td>350-400</td>\n      <td>新竹縣</td>\n      <td>黃俊淦</td>\n      <td>...</td>\n      <td>84.92</td>\n      <td>9.5</td>\n      <td>0</td>\n      <td>0</td>\n      <td>green</td>\n      <td>2</td>\n      <td>January 6th, 2024</td>\n      <td>Taiwan Coffee Laboratory 台灣咖啡研究室</td>\n      <td>QAHWAH CO., LTD 4F, No. 225, Sec. 3, Beixin Rd...</td>\n      <td>Lin, Jen-An Neil 林仁安 - 886-289116612</td>\n    </tr>\n  </tbody>\n</table>\n<p>50 rows × 40 columns</p>\n</div>"
     },
     "execution_count": 9,
     "metadata": {},
     "output_type": "execute_result"
    }
   ],
   "source": [
    "df.head(50)"
   ],
   "metadata": {
    "collapsed": false,
    "ExecuteTime": {
     "end_time": "2023-10-12T02:15:25.917870Z",
     "start_time": "2023-10-12T02:15:25.912273Z"
    }
   },
   "id": "7505bfeedd49e92b"
  },
  {
   "cell_type": "code",
   "execution_count": 10,
   "outputs": [
    {
     "data": {
      "text/plain": "(207, 40)"
     },
     "execution_count": 10,
     "metadata": {},
     "output_type": "execute_result"
    }
   ],
   "source": [
    "# Check the shape\n",
    "\n",
    "df.shape"
   ],
   "metadata": {
    "collapsed": false,
    "ExecuteTime": {
     "end_time": "2023-10-12T02:16:39.216653Z",
     "start_time": "2023-10-12T02:16:39.210598Z"
    }
   },
   "id": "6c10d5fc88ea059b"
  },
  {
   "cell_type": "code",
   "execution_count": 11,
   "outputs": [
    {
     "name": "stdout",
     "output_type": "stream",
     "text": [
      "<class 'pandas.core.frame.DataFrame'>\n",
      "Index: 207 entries, 0 to 206\n",
      "Data columns (total 40 columns):\n",
      " #   Column                 Non-Null Count  Dtype  \n",
      "---  ------                 --------------  -----  \n",
      " 0   ID                     207 non-null    int64  \n",
      " 1   Country of Origin      207 non-null    object \n",
      " 2   Farm Name              205 non-null    object \n",
      " 3   Lot Number             206 non-null    object \n",
      " 4   Mill                   204 non-null    object \n",
      " 5   ICO Number             75 non-null     object \n",
      " 6   Company                207 non-null    object \n",
      " 7   Altitude               206 non-null    object \n",
      " 8   Region                 205 non-null    object \n",
      " 9   Producer               206 non-null    object \n",
      " 10  Number of Bags         207 non-null    int64  \n",
      " 11  Bag Weight             207 non-null    object \n",
      " 12  In-Country Partner     207 non-null    object \n",
      " 13  Harvest Year           207 non-null    object \n",
      " 14  Grading Date           207 non-null    object \n",
      " 15  Owner                  207 non-null    object \n",
      " 16  Variety                201 non-null    object \n",
      " 17  Status                 207 non-null    object \n",
      " 18  Processing Method      202 non-null    object \n",
      " 19  Aroma                  207 non-null    float64\n",
      " 20  Flavor                 207 non-null    float64\n",
      " 21  Aftertaste             207 non-null    float64\n",
      " 22  Acidity                207 non-null    float64\n",
      " 23  Body                   207 non-null    float64\n",
      " 24  Balance                207 non-null    float64\n",
      " 25  Uniformity             207 non-null    float64\n",
      " 26  Clean Cup              207 non-null    float64\n",
      " 27  Sweetness              207 non-null    float64\n",
      " 28  Overall                207 non-null    float64\n",
      " 29  Defects                207 non-null    float64\n",
      " 30  Total Cup Points       207 non-null    float64\n",
      " 31  Moisture Percentage    207 non-null    float64\n",
      " 32  Category One Defects   207 non-null    int64  \n",
      " 33  Quakers                207 non-null    int64  \n",
      " 34  Color                  207 non-null    object \n",
      " 35  Category Two Defects   207 non-null    int64  \n",
      " 36  Expiration             207 non-null    object \n",
      " 37  Certification Body     207 non-null    object \n",
      " 38  Certification Address  207 non-null    object \n",
      " 39  Certification Contact  207 non-null    object \n",
      "dtypes: float64(13), int64(5), object(22)\n",
      "memory usage: 66.3+ KB\n"
     ]
    }
   ],
   "source": [
    "# Check the info\n",
    "\n",
    "df.info()"
   ],
   "metadata": {
    "collapsed": false,
    "ExecuteTime": {
     "end_time": "2023-10-12T02:16:51.569537Z",
     "start_time": "2023-10-12T02:16:51.565788Z"
    }
   },
   "id": "6bd489e60bb240c4"
  },
  {
   "cell_type": "code",
   "execution_count": 12,
   "outputs": [
    {
     "data": {
      "text/plain": "ID                       207\nCountry of Origin         22\nFarm Name                172\nLot Number               187\nMill                     162\nICO Number                67\nCompany                   72\nAltitude                  97\nRegion                   120\nProducer                 172\nNumber of Bags            55\nBag Weight                39\nIn-Country Partner        21\nHarvest Year               7\nGrading Date              75\nOwner                     80\nVariety                   48\nStatus                     1\nProcessing Method         10\nAroma                     19\nFlavor                    19\nAftertaste                20\nAcidity                   19\nBody                      17\nBalance                   18\nUniformity                 3\nClean Cup                  1\nSweetness                  1\nOverall                   21\nDefects                    1\nTotal Cup Points          81\nMoisture Percentage       46\nCategory One Defects       6\nQuakers                   11\nColor                     12\nCategory Two Defects      14\nExpiration                75\nCertification Body        21\nCertification Address     21\nCertification Contact     21\ndtype: int64"
     },
     "execution_count": 12,
     "metadata": {},
     "output_type": "execute_result"
    }
   ],
   "source": [
    "# Check the unique values in the columns\n",
    "\n",
    "df.nunique()"
   ],
   "metadata": {
    "collapsed": false,
    "ExecuteTime": {
     "end_time": "2023-10-12T02:17:27.492992Z",
     "start_time": "2023-10-12T02:17:27.487077Z"
    }
   },
   "id": "5a879e8ff6a5abf7"
  },
  {
   "cell_type": "code",
   "execution_count": 13,
   "outputs": [
    {
     "data": {
      "text/plain": "ID                         int64\nCountry of Origin         object\nFarm Name                 object\nLot Number                object\nMill                      object\nICO Number                object\nCompany                   object\nAltitude                  object\nRegion                    object\nProducer                  object\nNumber of Bags             int64\nBag Weight                object\nIn-Country Partner        object\nHarvest Year              object\nGrading Date              object\nOwner                     object\nVariety                   object\nStatus                    object\nProcessing Method         object\nAroma                    float64\nFlavor                   float64\nAftertaste               float64\nAcidity                  float64\nBody                     float64\nBalance                  float64\nUniformity               float64\nClean Cup                float64\nSweetness                float64\nOverall                  float64\nDefects                  float64\nTotal Cup Points         float64\nMoisture Percentage      float64\nCategory One Defects       int64\nQuakers                    int64\nColor                     object\nCategory Two Defects       int64\nExpiration                object\nCertification Body        object\nCertification Address     object\nCertification Contact     object\ndtype: object"
     },
     "execution_count": 13,
     "metadata": {},
     "output_type": "execute_result"
    }
   ],
   "source": [
    "# Check data types\n",
    "\n",
    "df.dtypes"
   ],
   "metadata": {
    "collapsed": false,
    "ExecuteTime": {
     "end_time": "2023-10-12T02:17:53.342800Z",
     "start_time": "2023-10-12T02:17:53.334685Z"
    }
   },
   "id": "7ef8800a26abc26"
  },
  {
   "cell_type": "markdown",
   "source": [
    "# 4. Checking for Missing Values"
   ],
   "metadata": {
    "collapsed": false
   },
   "id": "46b58c11dfc425be"
  },
  {
   "cell_type": "markdown",
   "source": [
    "#### Check for missing values and remove rows with missing data that will hinder our analysis"
   ],
   "metadata": {
    "collapsed": false
   },
   "id": "c2e13b1fe026810d"
  },
  {
   "cell_type": "code",
   "execution_count": 14,
   "outputs": [
    {
     "data": {
      "text/plain": "ID                         0\nCountry of Origin          0\nFarm Name                  2\nLot Number                 1\nMill                       3\nICO Number               132\nCompany                    0\nAltitude                   1\nRegion                     2\nProducer                   1\nNumber of Bags             0\nBag Weight                 0\nIn-Country Partner         0\nHarvest Year               0\nGrading Date               0\nOwner                      0\nVariety                    6\nStatus                     0\nProcessing Method          5\nAroma                      0\nFlavor                     0\nAftertaste                 0\nAcidity                    0\nBody                       0\nBalance                    0\nUniformity                 0\nClean Cup                  0\nSweetness                  0\nOverall                    0\nDefects                    0\nTotal Cup Points           0\nMoisture Percentage        0\nCategory One Defects       0\nQuakers                    0\nColor                      0\nCategory Two Defects       0\nExpiration                 0\nCertification Body         0\nCertification Address      0\nCertification Contact      0\ndtype: int64"
     },
     "execution_count": 14,
     "metadata": {},
     "output_type": "execute_result"
    }
   ],
   "source": [
    "# Check for missing values\n",
    "\n",
    "df.isnull().sum()"
   ],
   "metadata": {
    "collapsed": false,
    "ExecuteTime": {
     "end_time": "2023-10-12T02:21:32.426708Z",
     "start_time": "2023-10-12T02:21:32.416145Z"
    }
   },
   "id": "6ce74d40ea767aea"
  },
  {
   "cell_type": "code",
   "execution_count": 5,
   "outputs": [],
   "source": [
    "# Check missing values in Farm Name\n",
    "\n",
    "df_nan = df[df['Farm Name'].isnull() == True]"
   ],
   "metadata": {
    "collapsed": false,
    "ExecuteTime": {
     "end_time": "2023-10-13T02:07:41.247024Z",
     "start_time": "2023-10-13T02:07:41.244841Z"
    }
   },
   "id": "2de8e28220042439"
  },
  {
   "cell_type": "code",
   "execution_count": 6,
   "outputs": [
    {
     "data": {
      "text/plain": "      ID Country of Origin Farm Name Lot Number  \\\n97    97          Colombia       NaN  3/37/1370   \n105  105          Colombia       NaN        NaN   \n\n                                     Mill ICO Number  \\\n97   Racafé & CIA S.C.A, Km 5 Vía Pereira  3/37/1370   \n105                                   NaN        NaN   \n\n                      Company Altitude   Region          Producer  ...  \\\n97       Marubeni Corporation     1411  Pereira  RACAFE & CIA SCA  ...   \n105  Coffee Quality Institute      NaN      NaN               NaN  ...   \n\n     Total Cup Points Moisture Percentage Category One Defects Quakers  \\\n97              83.83                11.9                    0       1   \n105             83.67                12.4                    1       0   \n\n        Color Category Two Defects            Expiration  \\\n97      green                    1      April 16th, 2024   \n105  greenish                    9  September 26th, 2023   \n\n                     Certification Body  \\\n97                Japan Coffee Exchange   \n105  Barista and Coffee Academy of Asia   \n\n                                 Certification Address  \\\n97   〒413-0002 静岡県熱海市伊豆山１１７３−５８ 1173-58 Izusan, Ata...   \n105  The Place Bldg., Tunasan, Muntinlupa City, Met...   \n\n                       Certification Contact  \n97   松澤　宏樹　Koju Matsuzawa - +81(0)9085642901  \n105          Rosario Cruz - +63 995 344 5688  \n\n[2 rows x 40 columns]",
      "text/html": "<div>\n<style scoped>\n    .dataframe tbody tr th:only-of-type {\n        vertical-align: middle;\n    }\n\n    .dataframe tbody tr th {\n        vertical-align: top;\n    }\n\n    .dataframe thead th {\n        text-align: right;\n    }\n</style>\n<table border=\"1\" class=\"dataframe\">\n  <thead>\n    <tr style=\"text-align: right;\">\n      <th></th>\n      <th>ID</th>\n      <th>Country of Origin</th>\n      <th>Farm Name</th>\n      <th>Lot Number</th>\n      <th>Mill</th>\n      <th>ICO Number</th>\n      <th>Company</th>\n      <th>Altitude</th>\n      <th>Region</th>\n      <th>Producer</th>\n      <th>...</th>\n      <th>Total Cup Points</th>\n      <th>Moisture Percentage</th>\n      <th>Category One Defects</th>\n      <th>Quakers</th>\n      <th>Color</th>\n      <th>Category Two Defects</th>\n      <th>Expiration</th>\n      <th>Certification Body</th>\n      <th>Certification Address</th>\n      <th>Certification Contact</th>\n    </tr>\n  </thead>\n  <tbody>\n    <tr>\n      <th>97</th>\n      <td>97</td>\n      <td>Colombia</td>\n      <td>NaN</td>\n      <td>3/37/1370</td>\n      <td>Racafé &amp; CIA S.C.A, Km 5 Vía Pereira</td>\n      <td>3/37/1370</td>\n      <td>Marubeni Corporation</td>\n      <td>1411</td>\n      <td>Pereira</td>\n      <td>RACAFE &amp; CIA SCA</td>\n      <td>...</td>\n      <td>83.83</td>\n      <td>11.9</td>\n      <td>0</td>\n      <td>1</td>\n      <td>green</td>\n      <td>1</td>\n      <td>April 16th, 2024</td>\n      <td>Japan Coffee Exchange</td>\n      <td>〒413-0002 静岡県熱海市伊豆山１１７３−５８ 1173-58 Izusan, Ata...</td>\n      <td>松澤　宏樹　Koju Matsuzawa - +81(0)9085642901</td>\n    </tr>\n    <tr>\n      <th>105</th>\n      <td>105</td>\n      <td>Colombia</td>\n      <td>NaN</td>\n      <td>NaN</td>\n      <td>NaN</td>\n      <td>NaN</td>\n      <td>Coffee Quality Institute</td>\n      <td>NaN</td>\n      <td>NaN</td>\n      <td>NaN</td>\n      <td>...</td>\n      <td>83.67</td>\n      <td>12.4</td>\n      <td>1</td>\n      <td>0</td>\n      <td>greenish</td>\n      <td>9</td>\n      <td>September 26th, 2023</td>\n      <td>Barista and Coffee Academy of Asia</td>\n      <td>The Place Bldg., Tunasan, Muntinlupa City, Met...</td>\n      <td>Rosario Cruz - +63 995 344 5688</td>\n    </tr>\n  </tbody>\n</table>\n<p>2 rows × 40 columns</p>\n</div>"
     },
     "execution_count": 6,
     "metadata": {},
     "output_type": "execute_result"
    }
   ],
   "source": [
    "df_nan"
   ],
   "metadata": {
    "collapsed": false,
    "ExecuteTime": {
     "end_time": "2023-10-13T02:07:52.913685Z",
     "start_time": "2023-10-13T02:07:52.907601Z"
    }
   },
   "id": "6a3f3229f738871e"
  },
  {
   "cell_type": "markdown",
   "source": [
    "We'll remove both of these since they make up only 1% of the data and one row has many NaN values in other columns (including altitude which has just one NaN value from our isnull test so this will remove that as well."
   ],
   "metadata": {
    "collapsed": false
   },
   "id": "e9a070ea33f58a79"
  },
  {
   "cell_type": "code",
   "execution_count": 7,
   "outputs": [
    {
     "data": {
      "text/plain": "(207, 40)"
     },
     "execution_count": 7,
     "metadata": {},
     "output_type": "execute_result"
    }
   ],
   "source": [
    "df.shape"
   ],
   "metadata": {
    "collapsed": false,
    "ExecuteTime": {
     "end_time": "2023-10-13T02:09:44.276907Z",
     "start_time": "2023-10-13T02:09:44.266562Z"
    }
   },
   "id": "bfa7449c0e18a410"
  },
  {
   "cell_type": "code",
   "execution_count": 8,
   "outputs": [],
   "source": [
    "# Drop the NaN rows from Farm Name\n",
    "\n",
    "df.dropna(subset = ['Farm Name'], inplace = True)"
   ],
   "metadata": {
    "collapsed": false,
    "ExecuteTime": {
     "end_time": "2023-10-13T02:11:46.409671Z",
     "start_time": "2023-10-13T02:11:46.400150Z"
    }
   },
   "id": "e94dd836234560a4"
  },
  {
   "cell_type": "code",
   "execution_count": 9,
   "outputs": [
    {
     "data": {
      "text/plain": "(205, 40)"
     },
     "execution_count": 9,
     "metadata": {},
     "output_type": "execute_result"
    }
   ],
   "source": [
    "df.shape"
   ],
   "metadata": {
    "collapsed": false,
    "ExecuteTime": {
     "end_time": "2023-10-13T02:11:50.973148Z",
     "start_time": "2023-10-13T02:11:50.961839Z"
    }
   },
   "id": "9c3741ab8089723f"
  },
  {
   "cell_type": "code",
   "execution_count": 11,
   "outputs": [],
   "source": [
    "# Check missing values in Region\n",
    "\n",
    "df_nan = df[df['Region'].isnull() == True]"
   ],
   "metadata": {
    "collapsed": false,
    "ExecuteTime": {
     "end_time": "2023-10-13T02:16:36.572940Z",
     "start_time": "2023-10-13T02:16:36.567385Z"
    }
   },
   "id": "41c864fc72d82040"
  },
  {
   "cell_type": "code",
   "execution_count": 12,
   "outputs": [
    {
     "data": {
      "text/plain": "      ID Country of Origin                 Farm Name    Lot Number    Mill  \\\n196  196         Nicaragua  EXPORTADORA ATLANTIC S.A  017/053/0603  Lavado   \n\n    ICO Number    Company Altitude Region            Producer  ...  \\\n196        NaN  ISHIMITSU     1100    NaN  Varios Productores  ...   \n\n     Total Cup Points Moisture Percentage Category One Defects Quakers  \\\n196              80.5                11.5                    0       1   \n\n        Color Category Two Defects       Expiration     Certification Body  \\\n196  greenish                    3  July 11th, 2023  Japan Coffee Exchange   \n\n                                 Certification Address  \\\n196  〒413-0002 静岡県熱海市伊豆山１１７３−５８ 1173-58 Izusan, Ata...   \n\n                       Certification Contact  \n196  松澤　宏樹　Koju Matsuzawa - +81(0)9085642901  \n\n[1 rows x 40 columns]",
      "text/html": "<div>\n<style scoped>\n    .dataframe tbody tr th:only-of-type {\n        vertical-align: middle;\n    }\n\n    .dataframe tbody tr th {\n        vertical-align: top;\n    }\n\n    .dataframe thead th {\n        text-align: right;\n    }\n</style>\n<table border=\"1\" class=\"dataframe\">\n  <thead>\n    <tr style=\"text-align: right;\">\n      <th></th>\n      <th>ID</th>\n      <th>Country of Origin</th>\n      <th>Farm Name</th>\n      <th>Lot Number</th>\n      <th>Mill</th>\n      <th>ICO Number</th>\n      <th>Company</th>\n      <th>Altitude</th>\n      <th>Region</th>\n      <th>Producer</th>\n      <th>...</th>\n      <th>Total Cup Points</th>\n      <th>Moisture Percentage</th>\n      <th>Category One Defects</th>\n      <th>Quakers</th>\n      <th>Color</th>\n      <th>Category Two Defects</th>\n      <th>Expiration</th>\n      <th>Certification Body</th>\n      <th>Certification Address</th>\n      <th>Certification Contact</th>\n    </tr>\n  </thead>\n  <tbody>\n    <tr>\n      <th>196</th>\n      <td>196</td>\n      <td>Nicaragua</td>\n      <td>EXPORTADORA ATLANTIC S.A</td>\n      <td>017/053/0603</td>\n      <td>Lavado</td>\n      <td>NaN</td>\n      <td>ISHIMITSU</td>\n      <td>1100</td>\n      <td>NaN</td>\n      <td>Varios Productores</td>\n      <td>...</td>\n      <td>80.5</td>\n      <td>11.5</td>\n      <td>0</td>\n      <td>1</td>\n      <td>greenish</td>\n      <td>3</td>\n      <td>July 11th, 2023</td>\n      <td>Japan Coffee Exchange</td>\n      <td>〒413-0002 静岡県熱海市伊豆山１１７３−５８ 1173-58 Izusan, Ata...</td>\n      <td>松澤　宏樹　Koju Matsuzawa - +81(0)9085642901</td>\n    </tr>\n  </tbody>\n</table>\n<p>1 rows × 40 columns</p>\n</div>"
     },
     "execution_count": 12,
     "metadata": {},
     "output_type": "execute_result"
    }
   ],
   "source": [
    "df_nan"
   ],
   "metadata": {
    "collapsed": false,
    "ExecuteTime": {
     "end_time": "2023-10-13T02:16:41.892918Z",
     "start_time": "2023-10-13T02:16:41.887668Z"
    }
   },
   "id": "723fc9a382fe17de"
  },
  {
   "cell_type": "markdown",
   "source": [
    "Since only region and ICO Number are missing (and we plan to delete the ICO number column), we'll leave this as we still have data for all the other columns and it may prove useful in most of our analysis."
   ],
   "metadata": {
    "collapsed": false
   },
   "id": "7fed682e2ab78ed1"
  },
  {
   "cell_type": "code",
   "execution_count": 13,
   "outputs": [],
   "source": [
    "# Check missing values in Variety\n",
    "\n",
    "df_nan = df[df['Variety'].isnull() == True]"
   ],
   "metadata": {
    "collapsed": false,
    "ExecuteTime": {
     "end_time": "2023-10-13T02:19:07.263263Z",
     "start_time": "2023-10-13T02:19:07.254604Z"
    }
   },
   "id": "7f2e35613c0b07d6"
  },
  {
   "cell_type": "code",
   "execution_count": 14,
   "outputs": [
    {
     "data": {
      "text/plain": "      ID Country of Origin            Farm Name    Lot Number  \\\n25    25            Brazil      Fazenda Recreio       Arara 1   \n177  177         Guatemala     Not Specificated        SA4238   \n178  178         Indonesia  Wahana Graha Makmur  015/1686/057   \n194  194            Brazil         Various farm          0038   \n\n                              Mill     ICO Number  \\\n25                        Dry mill            NaN   \n177         Dry Mill of Exportcafe           #327   \n178  PT. Wahana Graha Makmur Medan            NaN   \n194            Dry Mill of Cocapil  002/1738/0038   \n\n                             Company   Altitude                Region  \\\n25   WIT wealth, investments & trust       1250      Região Vulcânica   \n177             Marubeni Corporation  1350-1550               Oriente   \n178             InterAmerican Coffee       1350               Sumatra   \n194             Marubeni Corporation       1200  Alta Mogiana-Ibiraci   \n\n                          Producer  ...  Total Cup Points Moisture Percentage  \\\n25         Diogo T. Dias de Macedo  ...              85.5                11.3   \n177               Exportcafe, S.A.  ...              82.0                11.5   \n178  PT. Wahana Graha Makmur Group  ...              82.0                12.5   \n194                        Cocapil  ...              81.0                10.6   \n\n    Category One Defects Quakers         Color Category Two Defects  \\\n25                     2       0         green                    3   \n177                    0       1    blue-green                    2   \n178                    0       0  bluish-green                    0   \n194                    0       2      greenish                    1   \n\n              Expiration                                 Certification Body  \\\n25     January 6th, 2024                Brazil Specialty Coffee Association   \n177  November 28th, 2023                              Japan Coffee Exchange   \n178    August 22nd, 2023  NKG Quality Service (a division of Bernhard Ro...   \n194     April 16th, 2024                              Japan Coffee Exchange   \n\n                                 Certification Address  \\\n25   Rua Gaspar Batista Paiva, 416 – Santa Luiza Va...   \n177  〒413-0002 静岡県熱海市伊豆山１１７３−５８ 1173-58 Izusan, Ata...   \n178            Bahnhofstrasse 22 6300 Zug, Switzerland   \n194  〒413-0002 静岡県熱海市伊豆山１１７３−５８ 1173-58 Izusan, Ata...   \n\n                       Certification Contact  \n25             Chris Allen - 55 35 3212-4705  \n177  松澤　宏樹　Koju Matsuzawa - +81(0)9085642901  \n178        Tirza Odermatt - +41 41 728 72 81  \n194  松澤　宏樹　Koju Matsuzawa - +81(0)9085642901  \n\n[4 rows x 40 columns]",
      "text/html": "<div>\n<style scoped>\n    .dataframe tbody tr th:only-of-type {\n        vertical-align: middle;\n    }\n\n    .dataframe tbody tr th {\n        vertical-align: top;\n    }\n\n    .dataframe thead th {\n        text-align: right;\n    }\n</style>\n<table border=\"1\" class=\"dataframe\">\n  <thead>\n    <tr style=\"text-align: right;\">\n      <th></th>\n      <th>ID</th>\n      <th>Country of Origin</th>\n      <th>Farm Name</th>\n      <th>Lot Number</th>\n      <th>Mill</th>\n      <th>ICO Number</th>\n      <th>Company</th>\n      <th>Altitude</th>\n      <th>Region</th>\n      <th>Producer</th>\n      <th>...</th>\n      <th>Total Cup Points</th>\n      <th>Moisture Percentage</th>\n      <th>Category One Defects</th>\n      <th>Quakers</th>\n      <th>Color</th>\n      <th>Category Two Defects</th>\n      <th>Expiration</th>\n      <th>Certification Body</th>\n      <th>Certification Address</th>\n      <th>Certification Contact</th>\n    </tr>\n  </thead>\n  <tbody>\n    <tr>\n      <th>25</th>\n      <td>25</td>\n      <td>Brazil</td>\n      <td>Fazenda Recreio</td>\n      <td>Arara 1</td>\n      <td>Dry mill</td>\n      <td>NaN</td>\n      <td>WIT wealth, investments &amp; trust</td>\n      <td>1250</td>\n      <td>Região Vulcânica</td>\n      <td>Diogo T. Dias de Macedo</td>\n      <td>...</td>\n      <td>85.5</td>\n      <td>11.3</td>\n      <td>2</td>\n      <td>0</td>\n      <td>green</td>\n      <td>3</td>\n      <td>January 6th, 2024</td>\n      <td>Brazil Specialty Coffee Association</td>\n      <td>Rua Gaspar Batista Paiva, 416 – Santa Luiza Va...</td>\n      <td>Chris Allen - 55 35 3212-4705</td>\n    </tr>\n    <tr>\n      <th>177</th>\n      <td>177</td>\n      <td>Guatemala</td>\n      <td>Not Specificated</td>\n      <td>SA4238</td>\n      <td>Dry Mill of Exportcafe</td>\n      <td>#327</td>\n      <td>Marubeni Corporation</td>\n      <td>1350-1550</td>\n      <td>Oriente</td>\n      <td>Exportcafe, S.A.</td>\n      <td>...</td>\n      <td>82.0</td>\n      <td>11.5</td>\n      <td>0</td>\n      <td>1</td>\n      <td>blue-green</td>\n      <td>2</td>\n      <td>November 28th, 2023</td>\n      <td>Japan Coffee Exchange</td>\n      <td>〒413-0002 静岡県熱海市伊豆山１１７３−５８ 1173-58 Izusan, Ata...</td>\n      <td>松澤　宏樹　Koju Matsuzawa - +81(0)9085642901</td>\n    </tr>\n    <tr>\n      <th>178</th>\n      <td>178</td>\n      <td>Indonesia</td>\n      <td>Wahana Graha Makmur</td>\n      <td>015/1686/057</td>\n      <td>PT. Wahana Graha Makmur Medan</td>\n      <td>NaN</td>\n      <td>InterAmerican Coffee</td>\n      <td>1350</td>\n      <td>Sumatra</td>\n      <td>PT. Wahana Graha Makmur Group</td>\n      <td>...</td>\n      <td>82.0</td>\n      <td>12.5</td>\n      <td>0</td>\n      <td>0</td>\n      <td>bluish-green</td>\n      <td>0</td>\n      <td>August 22nd, 2023</td>\n      <td>NKG Quality Service (a division of Bernhard Ro...</td>\n      <td>Bahnhofstrasse 22 6300 Zug, Switzerland</td>\n      <td>Tirza Odermatt - +41 41 728 72 81</td>\n    </tr>\n    <tr>\n      <th>194</th>\n      <td>194</td>\n      <td>Brazil</td>\n      <td>Various farm</td>\n      <td>0038</td>\n      <td>Dry Mill of Cocapil</td>\n      <td>002/1738/0038</td>\n      <td>Marubeni Corporation</td>\n      <td>1200</td>\n      <td>Alta Mogiana-Ibiraci</td>\n      <td>Cocapil</td>\n      <td>...</td>\n      <td>81.0</td>\n      <td>10.6</td>\n      <td>0</td>\n      <td>2</td>\n      <td>greenish</td>\n      <td>1</td>\n      <td>April 16th, 2024</td>\n      <td>Japan Coffee Exchange</td>\n      <td>〒413-0002 静岡県熱海市伊豆山１１７３−５８ 1173-58 Izusan, Ata...</td>\n      <td>松澤　宏樹　Koju Matsuzawa - +81(0)9085642901</td>\n    </tr>\n  </tbody>\n</table>\n<p>4 rows × 40 columns</p>\n</div>"
     },
     "execution_count": 14,
     "metadata": {},
     "output_type": "execute_result"
    }
   ],
   "source": [
    "df_nan"
   ],
   "metadata": {
    "collapsed": false,
    "ExecuteTime": {
     "end_time": "2023-10-13T02:19:09.552325Z",
     "start_time": "2023-10-13T02:19:09.547078Z"
    }
   },
   "id": "3e9cf78d35cf3799"
  },
  {
   "cell_type": "markdown",
   "source": [
    "We'll remove these four since we'll want to use variety in our analysis. These make up less than 2% of our data."
   ],
   "metadata": {
    "collapsed": false
   },
   "id": "5a0d402c8075b366"
  },
  {
   "cell_type": "code",
   "execution_count": 15,
   "outputs": [],
   "source": [
    "# Drop the NaN rows from Variety\n",
    "\n",
    "df.dropna(subset = ['Variety'], inplace = True)"
   ],
   "metadata": {
    "collapsed": false,
    "ExecuteTime": {
     "end_time": "2023-10-13T02:22:29.427865Z",
     "start_time": "2023-10-13T02:22:29.420071Z"
    }
   },
   "id": "6c748ac61b287254"
  },
  {
   "cell_type": "code",
   "execution_count": 16,
   "outputs": [
    {
     "data": {
      "text/plain": "(201, 40)"
     },
     "execution_count": 16,
     "metadata": {},
     "output_type": "execute_result"
    }
   ],
   "source": [
    "df.shape"
   ],
   "metadata": {
    "collapsed": false,
    "ExecuteTime": {
     "end_time": "2023-10-13T02:22:33.639516Z",
     "start_time": "2023-10-13T02:22:33.628887Z"
    }
   },
   "id": "c4b7e7cfc64b9c57"
  },
  {
   "cell_type": "code",
   "execution_count": 17,
   "outputs": [],
   "source": [
    "# Check missing values in Processing Method\n",
    "\n",
    "df_nan = df[df['Processing Method'].isnull() == True]"
   ],
   "metadata": {
    "collapsed": false,
    "ExecuteTime": {
     "end_time": "2023-10-13T02:22:55.080585Z",
     "start_time": "2023-10-13T02:22:55.067492Z"
    }
   },
   "id": "6f4f1ed02c4d1f81"
  },
  {
   "cell_type": "code",
   "execution_count": 18,
   "outputs": [
    {
     "data": {
      "text/plain": "      ID Country of Origin                     Farm Name    Lot Number  \\\n23    23          Colombia                   El Diamante    CQU2023005   \n44    44            Taiwan                  愛姬咖啡莊園iGfarm       2021/01   \n51    51         Indonesia  PT Indo CafCo North Sumatera  016/1513/262   \n143  143            Taiwan                        嵩岳咖啡莊園        202203   \n\n              Mill ICO Number                   Company Altitude  \\\n23     El Diamante        NaN      Coffee Quality Union     1350   \n44    愛姬咖啡莊園iGfarm        NaN  Taiwan Coffee Laboratory      150   \n51   PT Indo CafCo        NaN      InterAmerican Coffee     1200   \n143            yes        non                  宸嶧國際有限公司     1200   \n\n                                                Region  \\\n23                                             Quindio   \n44                                壽豐鄉Shoufeng Township   \n51                                         Aceh Tengah   \n143  Shibi, Gukeng Township, Yunlin County 郵遞區號 , T...   \n\n                         Producer  ...  Total Cup Points Moisture Percentage  \\\n23             Farm Bedoya Arango  ...             85.67                11.3   \n44             劉孟宗 LIU MENG TSUNG  ...             85.00                10.9   \n51   PT Indo CafCo North Sumatera  ...             84.83                11.9   \n143                           郭亮志  ...             82.92                10.2   \n\n    Category One Defects Quakers         Color Category Two Defects  \\\n23                     0       0      brownish                    2   \n44                     0       0         green                    0   \n51                     0       3  bluish-green                    2   \n143                    0       0  yellow-green                    0   \n\n               Expiration                                 Certification Body  \\\n23        April 6th, 2024                              Japan Coffee Exchange   \n44    December 12th, 2023                   Taiwan Coffee Laboratory 台灣咖啡研究室   \n51   September 23rd, 2023  NKG Quality Service (a division of Bernhard Ro...   \n143    October 24th, 2023                   Blossom Valley International宸嶧國際   \n\n                                 Certification Address  \\\n23   〒413-0002 静岡県熱海市伊豆山１１７３−５８ 1173-58 Izusan, Ata...   \n44   QAHWAH CO., LTD 4F, No. 225, Sec. 3, Beixin Rd...   \n51             Bahnhofstrasse 22 6300 Zug, Switzerland   \n143                   No.72 Mo-Fan St. Taiwan Zip: 403   \n\n                       Certification Contact  \n23   松澤　宏樹　Koju Matsuzawa - +81(0)9085642901  \n44      Lin, Jen-An Neil 林仁安 - 886-289116612  \n51         Tirza Odermatt - +41 41 728 72 81  \n143            Damon Chen陳嘉峻 - +886423022323  \n\n[4 rows x 40 columns]",
      "text/html": "<div>\n<style scoped>\n    .dataframe tbody tr th:only-of-type {\n        vertical-align: middle;\n    }\n\n    .dataframe tbody tr th {\n        vertical-align: top;\n    }\n\n    .dataframe thead th {\n        text-align: right;\n    }\n</style>\n<table border=\"1\" class=\"dataframe\">\n  <thead>\n    <tr style=\"text-align: right;\">\n      <th></th>\n      <th>ID</th>\n      <th>Country of Origin</th>\n      <th>Farm Name</th>\n      <th>Lot Number</th>\n      <th>Mill</th>\n      <th>ICO Number</th>\n      <th>Company</th>\n      <th>Altitude</th>\n      <th>Region</th>\n      <th>Producer</th>\n      <th>...</th>\n      <th>Total Cup Points</th>\n      <th>Moisture Percentage</th>\n      <th>Category One Defects</th>\n      <th>Quakers</th>\n      <th>Color</th>\n      <th>Category Two Defects</th>\n      <th>Expiration</th>\n      <th>Certification Body</th>\n      <th>Certification Address</th>\n      <th>Certification Contact</th>\n    </tr>\n  </thead>\n  <tbody>\n    <tr>\n      <th>23</th>\n      <td>23</td>\n      <td>Colombia</td>\n      <td>El Diamante</td>\n      <td>CQU2023005</td>\n      <td>El Diamante</td>\n      <td>NaN</td>\n      <td>Coffee Quality Union</td>\n      <td>1350</td>\n      <td>Quindio</td>\n      <td>Farm Bedoya Arango</td>\n      <td>...</td>\n      <td>85.67</td>\n      <td>11.3</td>\n      <td>0</td>\n      <td>0</td>\n      <td>brownish</td>\n      <td>2</td>\n      <td>April 6th, 2024</td>\n      <td>Japan Coffee Exchange</td>\n      <td>〒413-0002 静岡県熱海市伊豆山１１７３−５８ 1173-58 Izusan, Ata...</td>\n      <td>松澤　宏樹　Koju Matsuzawa - +81(0)9085642901</td>\n    </tr>\n    <tr>\n      <th>44</th>\n      <td>44</td>\n      <td>Taiwan</td>\n      <td>愛姬咖啡莊園iGfarm</td>\n      <td>2021/01</td>\n      <td>愛姬咖啡莊園iGfarm</td>\n      <td>NaN</td>\n      <td>Taiwan Coffee Laboratory</td>\n      <td>150</td>\n      <td>壽豐鄉Shoufeng Township</td>\n      <td>劉孟宗 LIU MENG TSUNG</td>\n      <td>...</td>\n      <td>85.00</td>\n      <td>10.9</td>\n      <td>0</td>\n      <td>0</td>\n      <td>green</td>\n      <td>0</td>\n      <td>December 12th, 2023</td>\n      <td>Taiwan Coffee Laboratory 台灣咖啡研究室</td>\n      <td>QAHWAH CO., LTD 4F, No. 225, Sec. 3, Beixin Rd...</td>\n      <td>Lin, Jen-An Neil 林仁安 - 886-289116612</td>\n    </tr>\n    <tr>\n      <th>51</th>\n      <td>51</td>\n      <td>Indonesia</td>\n      <td>PT Indo CafCo North Sumatera</td>\n      <td>016/1513/262</td>\n      <td>PT Indo CafCo</td>\n      <td>NaN</td>\n      <td>InterAmerican Coffee</td>\n      <td>1200</td>\n      <td>Aceh Tengah</td>\n      <td>PT Indo CafCo North Sumatera</td>\n      <td>...</td>\n      <td>84.83</td>\n      <td>11.9</td>\n      <td>0</td>\n      <td>3</td>\n      <td>bluish-green</td>\n      <td>2</td>\n      <td>September 23rd, 2023</td>\n      <td>NKG Quality Service (a division of Bernhard Ro...</td>\n      <td>Bahnhofstrasse 22 6300 Zug, Switzerland</td>\n      <td>Tirza Odermatt - +41 41 728 72 81</td>\n    </tr>\n    <tr>\n      <th>143</th>\n      <td>143</td>\n      <td>Taiwan</td>\n      <td>嵩岳咖啡莊園</td>\n      <td>202203</td>\n      <td>yes</td>\n      <td>non</td>\n      <td>宸嶧國際有限公司</td>\n      <td>1200</td>\n      <td>Shibi, Gukeng Township, Yunlin County 郵遞區號 , T...</td>\n      <td>郭亮志</td>\n      <td>...</td>\n      <td>82.92</td>\n      <td>10.2</td>\n      <td>0</td>\n      <td>0</td>\n      <td>yellow-green</td>\n      <td>0</td>\n      <td>October 24th, 2023</td>\n      <td>Blossom Valley International宸嶧國際</td>\n      <td>No.72 Mo-Fan St. Taiwan Zip: 403</td>\n      <td>Damon Chen陳嘉峻 - +886423022323</td>\n    </tr>\n  </tbody>\n</table>\n<p>4 rows × 40 columns</p>\n</div>"
     },
     "execution_count": 18,
     "metadata": {},
     "output_type": "execute_result"
    }
   ],
   "source": [
    "df_nan"
   ],
   "metadata": {
    "collapsed": false,
    "ExecuteTime": {
     "end_time": "2023-10-13T02:22:58.780360Z",
     "start_time": "2023-10-13T02:22:58.765758Z"
    }
   },
   "id": "f2e12d925a8f70ef"
  },
  {
   "cell_type": "markdown",
   "source": [
    "We'll remove these four since we'll want to use processing method in our analysis. These make up less than 2% of our data."
   ],
   "metadata": {
    "collapsed": false
   },
   "id": "420c60d70e6d3702"
  },
  {
   "cell_type": "code",
   "execution_count": 19,
   "outputs": [],
   "source": [
    "# Drop the NaN rows from Processing Method\n",
    "\n",
    "df.dropna(subset = ['Processing Method'], inplace = True)"
   ],
   "metadata": {
    "collapsed": false,
    "ExecuteTime": {
     "end_time": "2023-10-13T02:23:55.010797Z",
     "start_time": "2023-10-13T02:23:54.997583Z"
    }
   },
   "id": "bdca42b91103723d"
  },
  {
   "cell_type": "code",
   "execution_count": 20,
   "outputs": [
    {
     "data": {
      "text/plain": "(197, 40)"
     },
     "execution_count": 20,
     "metadata": {},
     "output_type": "execute_result"
    }
   ],
   "source": [
    "df.shape"
   ],
   "metadata": {
    "collapsed": false,
    "ExecuteTime": {
     "end_time": "2023-10-13T02:23:58.005209Z",
     "start_time": "2023-10-13T02:23:57.994921Z"
    }
   },
   "id": "102bc02cece676ea"
  },
  {
   "cell_type": "code",
   "execution_count": 21,
   "outputs": [
    {
     "data": {
      "text/plain": "ID                         0\nCountry of Origin          0\nFarm Name                  0\nLot Number                 0\nMill                       2\nICO Number               126\nCompany                    0\nAltitude                   0\nRegion                     1\nProducer                   0\nNumber of Bags             0\nBag Weight                 0\nIn-Country Partner         0\nHarvest Year               0\nGrading Date               0\nOwner                      0\nVariety                    0\nStatus                     0\nProcessing Method          0\nAroma                      0\nFlavor                     0\nAftertaste                 0\nAcidity                    0\nBody                       0\nBalance                    0\nUniformity                 0\nClean Cup                  0\nSweetness                  0\nOverall                    0\nDefects                    0\nTotal Cup Points           0\nMoisture Percentage        0\nCategory One Defects       0\nQuakers                    0\nColor                      0\nCategory Two Defects       0\nExpiration                 0\nCertification Body         0\nCertification Address      0\nCertification Contact      0\ndtype: int64"
     },
     "execution_count": 21,
     "metadata": {},
     "output_type": "execute_result"
    }
   ],
   "source": [
    "df.isnull().sum()"
   ],
   "metadata": {
    "collapsed": false,
    "ExecuteTime": {
     "end_time": "2023-10-13T02:24:50.638430Z",
     "start_time": "2023-10-13T02:24:50.627188Z"
    }
   },
   "id": "11ce161e75022d1d"
  },
  {
   "cell_type": "markdown",
   "source": [
    "We've successfully addressed the NaN values that could affect our analysis."
   ],
   "metadata": {
    "collapsed": false
   },
   "id": "8ff9895b83fd9e27"
  },
  {
   "cell_type": "markdown",
   "source": [
    "# 5. Deleting Unnecessary Columns"
   ],
   "metadata": {
    "collapsed": false
   },
   "id": "ee062a878a4e349a"
  },
  {
   "cell_type": "markdown",
   "source": [
    "There are many columns we want to delete that won't be used in our analysis, those are:\n",
    "- ID\n",
    "- Lot number\n",
    "- Mill\n",
    "- ICO Number\n",
    "- In-country partner\n",
    "- Owner\n",
    "- Status\n",
    "- Certification Body, address, contact\n",
    "- Clean cup - only one value in this column that won't add anything to analysis\n",
    "- Sweetness - only one value in this column that won't add anything to analysis\n",
    "- Defects - only one value in this column that won't add anything to analysis"
   ],
   "metadata": {
    "collapsed": false
   },
   "id": "767e337a86877cce"
  },
  {
   "cell_type": "code",
   "execution_count": 22,
   "outputs": [],
   "source": [
    "df = df.drop(columns = ['ID', 'Lot Number', 'Mill', 'ICO Number', 'In-Country Partner', 'Owner', 'Status', 'Certification Address', 'Certification Body', 'Certification Contact', 'Clean Cup', 'Sweetness', 'Defects'])"
   ],
   "metadata": {
    "collapsed": false,
    "ExecuteTime": {
     "end_time": "2023-10-13T02:40:40.938378Z",
     "start_time": "2023-10-13T02:40:40.922823Z"
    }
   },
   "id": "1082cccedd6278c3"
  },
  {
   "cell_type": "code",
   "execution_count": 23,
   "outputs": [
    {
     "data": {
      "text/plain": "               Country of Origin  \\\n0                       Colombia   \n1                         Taiwan   \n2                           Laos   \n3                     Costa Rica   \n4                       Colombia   \n5                      Guatemala   \n6                         Taiwan   \n7                         Taiwan   \n8                         Taiwan   \n9   Tanzania, United Republic Of   \n10                      Ethiopia   \n11                     Guatemala   \n12                        Taiwan   \n13                      Ethiopia   \n14                      Colombia   \n15                        Taiwan   \n16                      Ethiopia   \n17                        Taiwan   \n18                        Taiwan   \n19  Tanzania, United Republic Of   \n20                     Guatemala   \n21                        Taiwan   \n22                      Thailand   \n24                        Taiwan   \n26                        Taiwan   \n27                        Taiwan   \n28                        Taiwan   \n29        United States (Hawaii)   \n30                        Taiwan   \n31                        Taiwan   \n32                        Taiwan   \n33                      Ethiopia   \n34                      Ethiopia   \n35                      Ethiopia   \n36                        Taiwan   \n37                        Taiwan   \n38                         Kenya   \n39                        Taiwan   \n40                        Taiwan   \n41                        Taiwan   \n42                        Taiwan   \n43                        Uganda   \n45                        Taiwan   \n46                     Guatemala   \n47                     Guatemala   \n48                     Guatemala   \n49                        Taiwan   \n50                        Taiwan   \n52                          Peru   \n53  Tanzania, United Republic Of   \n\n                                            Farm Name  \\\n0                                    Finca El Paraiso   \n1                            Royal Bean Geisha Estate   \n2                                  OKLAO coffee farms   \n3                                           La Cumbre   \n4                                     Finca Santuario   \n5                                           La Colina   \n6                     野牡丹咖啡莊園 Melastoma Coffee Estate   \n7            七彩琉璃咖啡莊園 Chi Tsai Liu Li Ecological Farm   \n8                       亮軒咖啡莊園 Liang Xuan Coffee Farm   \n9                                       MASHIMA AMCOS   \n10                                            TADE GG   \n11                         Karen Acajabon Coffee Farm   \n12                         古峰咖啡莊園 Goodfun Coffee Farm   \n13                                      Gelana Geisha   \n14                                        La Gaitania   \n15                                             青葉咖啡莊園   \n16                             Halo Bariti Cooprative   \n17                                             東璧咖啡莊園   \n18                                          櫻桃果古坑咖啡莊園   \n19                                              BURKA   \n20                                Finca Vista Hermosa   \n21                   仲大叔咖啡莊園Uncle Chung.s Coffee Farm   \n22                                            Hom Doi   \n24                                             永舜咖啡莊園   \n26                                     鄒築園ZouZhouYuan   \n27                                             嵩岳咖啡莊園   \n28                                            他扶芽有機農園   \n29                                     Hokukano Ranch   \n30                      鄉庭有機農場Siang-Ting Organic Farm   \n31                      鄉庭有機農場Siang-Ting Organic Farm   \n32                      金讚咖啡農莊園(Jinzan Coffee Estate)   \n33                                        Eshetu farm   \n34                       Uraga Bisrat washing station   \n35                                    YHAENU PLC FARM   \n36                                            卓武山咖啡農場   \n37                       御香咖啡園 YU SIANG Coffee Estate   \n38                                       Small Holder   \n39                                             皇庭咖啡莊園   \n40  花蓮縣秀林鄉特用作物（咖啡）產銷第一班Agriculture Production and ...   \n41                                               八一高地   \n42                                              香夾蘭莊園   \n43                                        Gideon Kule   \n45                                            青山坪咖啡農場   \n46                                      varias fincas   \n47                                        PEÑA BLANCA   \n48                               san francisco cotzal   \n49                                                六曲窩   \n50                                               北平山林   \n52                                     Ruya Yayu Farm   \n53                                             IYENGA   \n\n                                     Company     Altitude  \\\n0                       Coffee Quality Union    1700-1930   \n1                   Taiwan Coffee Laboratory         1200   \n2                   Taiwan Coffee Laboratory         1300   \n3                       Coffee Quality Union         1900   \n4                       Coffee Quality Union    1850-2100   \n5                   Taiwan Coffee Laboratory         1668   \n6                   Taiwan Coffee Laboratory         1250   \n7                   Taiwan Coffee Laboratory         1200   \n8                   Taiwan Coffee Laboratory         1250   \n9                         DORMAN (T) LIMITED    1400-1700   \n10                           Marubeni corp.,    1800-2200   \n11                  Taiwan Coffee Laboratory         2000   \n12                  Taiwan Coffee Laboratory         1250   \n13                    Kerchanshe Trading PLC    1900-2000   \n14                  Taiwan Coffee Laboratory         1850   \n15                  Taiwan Coffee Laboratory         1100   \n16                      Coffee Quality Union    1900-2100   \n17                             Dongbi coffee         1300   \n18                                  宸嶧國際有限公司         1200   \n19                        DORMAN (T) LIMITED    1570-1600   \n20                  Taiwan Coffee Laboratory         1900   \n21                  Taiwan Coffee Laboratory          850   \n22                                    Lyrose    1500-1700   \n24                  Taiwan Coffee Laboratory         1250   \n26                  Taiwan Coffee Laboratory         1300   \n27                  Taiwan Coffee Laboratory         1200   \n28                  Taiwan Coffee Laboratory         1060   \n29                  Taiwan Coffee Laboratory          600   \n30                  Taiwan Coffee Laboratory      150-250   \n31                  Taiwan Coffee Laboratory      150-250   \n32                  Taiwan Coffee Laboratory          668   \n33                                Alo Coffee         1950   \n34             TADESSE DESTA IMPORT & EXPORT  2150 - 2350   \n35                                yhaenu plc         1700   \n36                  Taiwan Coffee Laboratory         1200   \n37                  Taiwan Coffee Laboratory          650   \n38                             IBERO (K) LTD    1600-1900   \n39                                  宸嶧國際有限公司          850   \n40                  Taiwan Coffee Laboratory      300-500   \n41                                茂泰生技股份有限公司         1000   \n42                  Taiwu Coffee Cooperative          800   \n43                 Kyagalanyi Coffee Limited         1905   \n45                  Taiwan Coffee Laboratory          800   \n46                    Peter Schoenfeld, S.A.         1600   \n47                 OLAM AGRO GUATEMALA, S.A.         4700   \n48  inmobiliaria e inversiones dos mil, s.a.         1600   \n49                  Taiwu Coffee Cooperative      350-400   \n50                  Taiwu Coffee Cooperative          230   \n52                  Taiwan Coffee Laboratory         1750   \n53          VOLCAFE/TaylorWinch Tanzania Ltd         1654   \n\n                                               Region  \\\n0                                      Piendamo,Cauca   \n1                                              Chiayi   \n2                                Laos Borofen Plateau   \n3                                  Los Santos,Tarrazu   \n4                                       Popayan,Cauca   \n5                                       Chimaltenango   \n6                                              Chiayi   \n7                                              Chiayi   \n8                                              Chiayi   \n9                                         KILIMANJARO   \n10                                               Guji   \n11                                         Acatenango   \n12                                             Yunlin   \n13                                               Guji   \n14                                             tolima   \n15                                             Chiayi   \n16                           Gedeb,Yirgacheffe,Sidamo   \n17  Shibi, Gukeng Township, Yunlin County 郵遞區號 , T...   \n18                     Gukeng Township, Yunlin County   \n19                                             Arusha   \n20                   Guatemala, Fraijanes, Santa Rosa   \n21                                 卓溪鄉Zhuoxi Township   \n22                                         Chiang Mai   \n24                                             Yunlin   \n26                                             Chiayi   \n27                                             Yunlin   \n28                                             Chiayi   \n29                                               Kona   \n30                               壽豐鄉Shoufeng Township   \n31                               壽豐鄉Shoufeng Township   \n32                        Dongshan Dist., Tainan City   \n33                                             Oromia   \n34                             Southern Ethiopia Guji   \n35                                             OROMIA   \n36                                             Chiayi   \n37                        Dongshan Dist., Tainan City   \n38                                            Central   \n39           Caoling , Gukeng Township, Yunlin County   \n40                            秀林鄉Show Linxia Township   \n41                                               台灣屏東   \n42                                                苗栗縣   \n43                                           Rwenzori   \n45                                             Yunlin   \n46                                            Antigua   \n47                                         Santa Rosa   \n48                                             quiche   \n49                                                新竹縣   \n50                                                新竹縣   \n52                                         Villa Rica   \n53                                              Mbeya   \n\n                        Producer  Number of Bags Bag Weight Harvest Year  \\\n0          Diego Samuel Bermudez               1      35 kg  2021 / 2022   \n1                            曾福森               1      80 kg  2021 / 2022   \n2                     WU TAO CHI              19      25 kg  2021 / 2022   \n3            Santa Maria de Dota               1      22 kg         2022   \n4               Camilo Merizalde               2      24 kg         2022   \n5   Emilio Antonio Medina Garcia               5      30 kg         2022   \n6                            黃保錫               1      27 kg  2021 / 2022   \n7                            莊家榮               1      90 kg  2021 / 2022   \n8                            鍾旭亮               1      30 kg  2021 / 2022   \n9             DORMAN (T) LIMITED             320      60 kg  2022 / 2023   \n10         Tesfaye Bekele Degaga              10      30 kg  2021 / 2022   \n11                Karen Acajabon               5      15 kg         2021   \n12                           賴彥合               1      60 kg  2021 / 2022   \n13                    Kerchanshe              40      60 kg  2021 / 2022   \n14           Josue Enciso Suarez              70      35 kg  2021 / 2022   \n15                           葉世遠               1      60 kg  2021 / 2022   \n16        Halo Bariti Cooprative               8       5 kg         2022   \n17                           陳景立               5       2 kg         2022   \n18                           王瀅惠               8       1 kg  2021 / 2022   \n19            DORMAN (T) LIMITED             200      30 kg  2022 / 2023   \n20                 Fredy Orantes               8      30 kg  2021 / 2022   \n21                游婷淯 YU TING YU               1      20 kg         2022   \n22                  Lisu farmers               2       1 kg  2021 / 2022   \n24                           蘇甘永               4      50 kg  2021 / 2022   \n26                           方政倫               1     100 kg  2021 / 2022   \n27                           郭志豪               1      90 kg  2021 / 2022   \n28                           陳清龍               1      85 kg  2021 / 2022   \n29                Kona Hills LLC              80      15 kg  2021 / 2022   \n30               張進義Zhang Jin-Yi               3      48 kg         2022   \n31               張進義Zhang Jin-Yi               3      50 kg         2022   \n32             葉明讚 (YE,MING-ZAN)               4       5 kg         2022   \n33                        Eshetu             320      60 kg  2021 / 2022   \n34                 Bisrat Melaku             320      60 kg  2021 / 2022   \n35                    YHAENU PLC             320   19200 kg  2021 / 2022   \n36                           許定燁               1     100 kg  2021 / 2022   \n37          陳建源(CHEN, JIAN-YUAN)              20       5 kg         2022   \n38                  Small Holder             300      60 kg  2022 / 2023   \n39                           陳榮豐              20       1 kg  2017 / 2018   \n40                李志祥 Li Zhi-xia               1      10 kg         2022   \n41                           陳科翰               1       2 kg  2021 / 2022   \n42                          黃簡秋蘭               1      50 kg  2021 / 2022   \n43     Kyagalanyi coffee limited             320      60 kg  2021 / 2022   \n45                           王清連               6      50 kg  2021 / 2022   \n46            Varios productores             600      30 kg  2022 / 2023   \n47                    PABLO CHUY             632      30 kg  2022 / 2023   \n48          san francisco cotzal             275      69 kg  2021 / 2022   \n49                           黃俊淦               1      13 kg  2021 / 2022   \n50                           戴禎男               1       4 kg  2021 / 2022   \n52                     Ruya Yayu               3       5 kg         2022   \n53                  IYENGA AMCOS             620      30 kg  2022 / 2023   \n\n            Grading Date  ... Balance Uniformity  Overall  Total Cup Points  \\\n0   September 21st, 2022  ...    8.42       10.0     8.58             89.33   \n1    November 15th, 2022  ...    8.25       10.0     8.50             87.58   \n2    November 15th, 2022  ...    8.17       10.0     8.33             87.42   \n3   September 21st, 2022  ...    8.08       10.0     8.25             87.17   \n4        March 6th, 2023  ...    7.92       10.0     8.25             87.08   \n5    November 15th, 2022  ...    8.17       10.0     8.25             87.00   \n6    November 15th, 2022  ...    8.25       10.0     8.25             86.92   \n7    November 15th, 2022  ...    8.08       10.0     8.08             86.75   \n8    November 15th, 2022  ...    8.00       10.0     8.25             86.67   \n9     February 1st, 2023  ...    8.00       10.0     8.00             86.50   \n10        May 31st, 2022  ...    7.92       10.0     8.00             86.25   \n11   November 15th, 2022  ...    8.17       10.0     8.00             86.25   \n12   November 15th, 2022  ...    8.00       10.0     8.00             86.25   \n13     August 26th, 2022  ...    8.00       10.0     8.00             86.17   \n14   November 15th, 2022  ...    8.00       10.0     8.00             86.17   \n15   November 15th, 2022  ...    7.92       10.0     8.00             86.08   \n16       April 7th, 2023  ...    7.92       10.0     8.08             86.08   \n17    October 24th, 2022  ...    7.92       10.0     8.17             86.08   \n18    October 24th, 2022  ...    8.00       10.0     8.17             85.92   \n19    February 1st, 2023  ...    7.75       10.0     7.92             85.83   \n20   November 15th, 2022  ...    8.00       10.0     8.08             85.75   \n21   December 12th, 2022  ...    7.83       10.0     7.92             85.67   \n22     August 16th, 2022  ...    8.00       10.0     8.08             85.67   \n24   November 15th, 2022  ...    7.92       10.0     7.92             85.58   \n26   November 15th, 2022  ...    7.92       10.0     8.00             85.50   \n27   November 15th, 2022  ...    7.83       10.0     7.92             85.50   \n28   November 15th, 2022  ...    7.92       10.0     7.92             85.50   \n29   November 15th, 2022  ...    8.00       10.0     8.00             85.42   \n30   December 12th, 2022  ...    7.92       10.0     8.08             85.42   \n31   December 12th, 2022  ...    7.83       10.0     8.00             85.33   \n32        June 8th, 2022  ...    7.92       10.0     8.00             85.33   \n33        June 6th, 2022  ...    8.00       10.0     8.00             85.33   \n34  September 30th, 2022  ...    7.75       10.0     7.83             85.33   \n35   December 12th, 2022  ...    7.75       10.0     7.83             85.25   \n36   November 15th, 2022  ...    7.83       10.0     7.92             85.25   \n37        June 8th, 2022  ...    7.75       10.0     7.92             85.25   \n38   February 28th, 2023  ...    8.00       10.0     8.00             85.25   \n39    October 24th, 2022  ...    7.92       10.0     8.00             85.17   \n40   December 12th, 2022  ...    7.75       10.0     7.92             85.08   \n41   December 30th, 2022  ...    7.83       10.0     7.83             85.08   \n42     January 6th, 2023  ...    7.83       10.0     7.92             85.08   \n43       June 29th, 2022  ...    7.92       10.0     7.92             85.00   \n45   November 15th, 2022  ...    7.75       10.0     7.83             85.00   \n46      April 17th, 2023  ...    7.83       10.0     7.83             85.00   \n47   February 23rd, 2023  ...    7.83       10.0     7.83             85.00   \n48       June 22nd, 2022  ...    7.75       10.0     7.92             84.92   \n49     January 6th, 2023  ...    7.83       10.0     7.83             84.92   \n50     January 6th, 2023  ...    7.75       10.0     7.92             84.83   \n52   November 15th, 2022  ...    7.83       10.0     7.75             84.83   \n53    November 9th, 2022  ...    7.83       10.0     7.83             84.83   \n\n    Moisture Percentage  Category One Defects  Quakers          Color  \\\n0                  11.8                     0        0          green   \n1                  10.5                     0        0     blue-green   \n2                  10.4                     0        0      yellowish   \n3                  11.8                     0        0          green   \n4                  11.6                     0        2   yellow-green   \n5                  10.7                     0        0          green   \n6                   9.1                     0        0          green   \n7                  10.0                     0        0   yellow green   \n8                  10.8                     0        0       greenish   \n9                  11.0                     0        0       greenish   \n10                 11.8                     0        1       greenish   \n11                 11.5                     0        0       brownish   \n12                 11.9                     0        0          green   \n13                 11.6                     0        3  yellow- green   \n14                 10.6                     0        0          green   \n15                 10.2                     0        0          green   \n16                 11.3                     0        2          green   \n17                 10.3                     0        0   yellow-green   \n18                 11.0                     0        0       brownish   \n19                 10.0                     0        0       greenish   \n20                 11.6                     0        0      yellowish   \n21                 10.4                     0        0          green   \n22                  9.8                     0        0  browish-green   \n24                 10.6                     0        0   bluish-green   \n26                  9.1                     0        0          green   \n27                 10.6                     0        0          green   \n28                 10.2                     0        0     blue-green   \n29                  9.3                     0        0          green   \n30                 11.4                     0        0   bluish-green   \n31                 10.8                     0        0          green   \n32                 11.3                     0        0          green   \n33                  9.9                     0        2          green   \n34                 12.3                     0        3   yellow green   \n35                  9.4                     0        1       greenish   \n36                  9.5                     0        0   bluish-green   \n37                 11.3                     0        0          green   \n38                  9.2                     0        0       greenish   \n39                 10.3                     0        0   bluish-green   \n40                 10.0                     0        0       brownish   \n41                 10.5                     0        0       greenish   \n42                 10.0                     0        0    pale yellow   \n43                 11.0                     0        0          green   \n45                 10.1                     0        0   yellow green   \n46                  9.9                     0        1          green   \n47                 11.3                     0        0          green   \n48                 11.7                     0        3          green   \n49                  9.5                     0        0          green   \n50                  9.7                     0        0       brownish   \n52                 10.7                     0        0       greenish   \n53                 11.2                     0        0       greenish   \n\n    Category Two Defects            Expiration  \n0                      3  September 21st, 2023  \n1                      0   November 15th, 2023  \n2                      2   November 15th, 2023  \n3                      0  September 21st, 2023  \n4                      2       March 5th, 2024  \n5                      2   November 15th, 2023  \n6                      0   November 15th, 2023  \n7                      1   November 15th, 2023  \n8                      0   November 15th, 2023  \n9                      0    February 1st, 2024  \n10                     1        May 31st, 2023  \n11                     1   November 15th, 2023  \n12                     0   November 15th, 2023  \n13                     2     August 26th, 2023  \n14                     0   November 15th, 2023  \n15                     0   November 15th, 2023  \n16                     2       April 6th, 2024  \n17                     0    October 24th, 2023  \n18                     1    October 24th, 2023  \n19                     0    February 1st, 2024  \n20                     0   November 15th, 2023  \n21                     0   December 12th, 2023  \n22                     5     August 16th, 2023  \n24                     0   November 15th, 2023  \n26                     2   November 15th, 2023  \n27                     0   November 15th, 2023  \n28                     0   November 15th, 2023  \n29                     0   November 15th, 2023  \n30                     0   December 12th, 2023  \n31                     0   December 12th, 2023  \n32                     0        June 8th, 2023  \n33                     3        June 6th, 2023  \n34                     4  September 30th, 2023  \n35                     1   December 12th, 2023  \n36                     0   November 15th, 2023  \n37                     0        June 8th, 2023  \n38                     1   February 28th, 2024  \n39                     0    October 24th, 2023  \n40                     0   December 12th, 2023  \n41                     0   December 30th, 2023  \n42                     5     January 6th, 2024  \n43                     1       June 29th, 2023  \n45                     0   November 15th, 2023  \n46                     1      April 16th, 2024  \n47                     4   February 23rd, 2024  \n48                     1       June 22nd, 2023  \n49                     2     January 6th, 2024  \n50                     0     January 6th, 2024  \n52                     0   November 15th, 2023  \n53                     0    November 9th, 2023  \n\n[50 rows x 27 columns]",
      "text/html": "<div>\n<style scoped>\n    .dataframe tbody tr th:only-of-type {\n        vertical-align: middle;\n    }\n\n    .dataframe tbody tr th {\n        vertical-align: top;\n    }\n\n    .dataframe thead th {\n        text-align: right;\n    }\n</style>\n<table border=\"1\" class=\"dataframe\">\n  <thead>\n    <tr style=\"text-align: right;\">\n      <th></th>\n      <th>Country of Origin</th>\n      <th>Farm Name</th>\n      <th>Company</th>\n      <th>Altitude</th>\n      <th>Region</th>\n      <th>Producer</th>\n      <th>Number of Bags</th>\n      <th>Bag Weight</th>\n      <th>Harvest Year</th>\n      <th>Grading Date</th>\n      <th>...</th>\n      <th>Balance</th>\n      <th>Uniformity</th>\n      <th>Overall</th>\n      <th>Total Cup Points</th>\n      <th>Moisture Percentage</th>\n      <th>Category One Defects</th>\n      <th>Quakers</th>\n      <th>Color</th>\n      <th>Category Two Defects</th>\n      <th>Expiration</th>\n    </tr>\n  </thead>\n  <tbody>\n    <tr>\n      <th>0</th>\n      <td>Colombia</td>\n      <td>Finca El Paraiso</td>\n      <td>Coffee Quality Union</td>\n      <td>1700-1930</td>\n      <td>Piendamo,Cauca</td>\n      <td>Diego Samuel Bermudez</td>\n      <td>1</td>\n      <td>35 kg</td>\n      <td>2021 / 2022</td>\n      <td>September 21st, 2022</td>\n      <td>...</td>\n      <td>8.42</td>\n      <td>10.0</td>\n      <td>8.58</td>\n      <td>89.33</td>\n      <td>11.8</td>\n      <td>0</td>\n      <td>0</td>\n      <td>green</td>\n      <td>3</td>\n      <td>September 21st, 2023</td>\n    </tr>\n    <tr>\n      <th>1</th>\n      <td>Taiwan</td>\n      <td>Royal Bean Geisha Estate</td>\n      <td>Taiwan Coffee Laboratory</td>\n      <td>1200</td>\n      <td>Chiayi</td>\n      <td>曾福森</td>\n      <td>1</td>\n      <td>80 kg</td>\n      <td>2021 / 2022</td>\n      <td>November 15th, 2022</td>\n      <td>...</td>\n      <td>8.25</td>\n      <td>10.0</td>\n      <td>8.50</td>\n      <td>87.58</td>\n      <td>10.5</td>\n      <td>0</td>\n      <td>0</td>\n      <td>blue-green</td>\n      <td>0</td>\n      <td>November 15th, 2023</td>\n    </tr>\n    <tr>\n      <th>2</th>\n      <td>Laos</td>\n      <td>OKLAO coffee farms</td>\n      <td>Taiwan Coffee Laboratory</td>\n      <td>1300</td>\n      <td>Laos Borofen Plateau</td>\n      <td>WU TAO CHI</td>\n      <td>19</td>\n      <td>25 kg</td>\n      <td>2021 / 2022</td>\n      <td>November 15th, 2022</td>\n      <td>...</td>\n      <td>8.17</td>\n      <td>10.0</td>\n      <td>8.33</td>\n      <td>87.42</td>\n      <td>10.4</td>\n      <td>0</td>\n      <td>0</td>\n      <td>yellowish</td>\n      <td>2</td>\n      <td>November 15th, 2023</td>\n    </tr>\n    <tr>\n      <th>3</th>\n      <td>Costa Rica</td>\n      <td>La Cumbre</td>\n      <td>Coffee Quality Union</td>\n      <td>1900</td>\n      <td>Los Santos,Tarrazu</td>\n      <td>Santa Maria de Dota</td>\n      <td>1</td>\n      <td>22 kg</td>\n      <td>2022</td>\n      <td>September 21st, 2022</td>\n      <td>...</td>\n      <td>8.08</td>\n      <td>10.0</td>\n      <td>8.25</td>\n      <td>87.17</td>\n      <td>11.8</td>\n      <td>0</td>\n      <td>0</td>\n      <td>green</td>\n      <td>0</td>\n      <td>September 21st, 2023</td>\n    </tr>\n    <tr>\n      <th>4</th>\n      <td>Colombia</td>\n      <td>Finca Santuario</td>\n      <td>Coffee Quality Union</td>\n      <td>1850-2100</td>\n      <td>Popayan,Cauca</td>\n      <td>Camilo Merizalde</td>\n      <td>2</td>\n      <td>24 kg</td>\n      <td>2022</td>\n      <td>March 6th, 2023</td>\n      <td>...</td>\n      <td>7.92</td>\n      <td>10.0</td>\n      <td>8.25</td>\n      <td>87.08</td>\n      <td>11.6</td>\n      <td>0</td>\n      <td>2</td>\n      <td>yellow-green</td>\n      <td>2</td>\n      <td>March 5th, 2024</td>\n    </tr>\n    <tr>\n      <th>5</th>\n      <td>Guatemala</td>\n      <td>La Colina</td>\n      <td>Taiwan Coffee Laboratory</td>\n      <td>1668</td>\n      <td>Chimaltenango</td>\n      <td>Emilio Antonio Medina Garcia</td>\n      <td>5</td>\n      <td>30 kg</td>\n      <td>2022</td>\n      <td>November 15th, 2022</td>\n      <td>...</td>\n      <td>8.17</td>\n      <td>10.0</td>\n      <td>8.25</td>\n      <td>87.00</td>\n      <td>10.7</td>\n      <td>0</td>\n      <td>0</td>\n      <td>green</td>\n      <td>2</td>\n      <td>November 15th, 2023</td>\n    </tr>\n    <tr>\n      <th>6</th>\n      <td>Taiwan</td>\n      <td>野牡丹咖啡莊園 Melastoma Coffee Estate</td>\n      <td>Taiwan Coffee Laboratory</td>\n      <td>1250</td>\n      <td>Chiayi</td>\n      <td>黃保錫</td>\n      <td>1</td>\n      <td>27 kg</td>\n      <td>2021 / 2022</td>\n      <td>November 15th, 2022</td>\n      <td>...</td>\n      <td>8.25</td>\n      <td>10.0</td>\n      <td>8.25</td>\n      <td>86.92</td>\n      <td>9.1</td>\n      <td>0</td>\n      <td>0</td>\n      <td>green</td>\n      <td>0</td>\n      <td>November 15th, 2023</td>\n    </tr>\n    <tr>\n      <th>7</th>\n      <td>Taiwan</td>\n      <td>七彩琉璃咖啡莊園 Chi Tsai Liu Li Ecological Farm</td>\n      <td>Taiwan Coffee Laboratory</td>\n      <td>1200</td>\n      <td>Chiayi</td>\n      <td>莊家榮</td>\n      <td>1</td>\n      <td>90 kg</td>\n      <td>2021 / 2022</td>\n      <td>November 15th, 2022</td>\n      <td>...</td>\n      <td>8.08</td>\n      <td>10.0</td>\n      <td>8.08</td>\n      <td>86.75</td>\n      <td>10.0</td>\n      <td>0</td>\n      <td>0</td>\n      <td>yellow green</td>\n      <td>1</td>\n      <td>November 15th, 2023</td>\n    </tr>\n    <tr>\n      <th>8</th>\n      <td>Taiwan</td>\n      <td>亮軒咖啡莊園 Liang Xuan Coffee Farm</td>\n      <td>Taiwan Coffee Laboratory</td>\n      <td>1250</td>\n      <td>Chiayi</td>\n      <td>鍾旭亮</td>\n      <td>1</td>\n      <td>30 kg</td>\n      <td>2021 / 2022</td>\n      <td>November 15th, 2022</td>\n      <td>...</td>\n      <td>8.00</td>\n      <td>10.0</td>\n      <td>8.25</td>\n      <td>86.67</td>\n      <td>10.8</td>\n      <td>0</td>\n      <td>0</td>\n      <td>greenish</td>\n      <td>0</td>\n      <td>November 15th, 2023</td>\n    </tr>\n    <tr>\n      <th>9</th>\n      <td>Tanzania, United Republic Of</td>\n      <td>MASHIMA AMCOS</td>\n      <td>DORMAN (T) LIMITED</td>\n      <td>1400-1700</td>\n      <td>KILIMANJARO</td>\n      <td>DORMAN (T) LIMITED</td>\n      <td>320</td>\n      <td>60 kg</td>\n      <td>2022 / 2023</td>\n      <td>February 1st, 2023</td>\n      <td>...</td>\n      <td>8.00</td>\n      <td>10.0</td>\n      <td>8.00</td>\n      <td>86.50</td>\n      <td>11.0</td>\n      <td>0</td>\n      <td>0</td>\n      <td>greenish</td>\n      <td>0</td>\n      <td>February 1st, 2024</td>\n    </tr>\n    <tr>\n      <th>10</th>\n      <td>Ethiopia</td>\n      <td>TADE GG</td>\n      <td>Marubeni corp.,</td>\n      <td>1800-2200</td>\n      <td>Guji</td>\n      <td>Tesfaye Bekele Degaga</td>\n      <td>10</td>\n      <td>30 kg</td>\n      <td>2021 / 2022</td>\n      <td>May 31st, 2022</td>\n      <td>...</td>\n      <td>7.92</td>\n      <td>10.0</td>\n      <td>8.00</td>\n      <td>86.25</td>\n      <td>11.8</td>\n      <td>0</td>\n      <td>1</td>\n      <td>greenish</td>\n      <td>1</td>\n      <td>May 31st, 2023</td>\n    </tr>\n    <tr>\n      <th>11</th>\n      <td>Guatemala</td>\n      <td>Karen Acajabon Coffee Farm</td>\n      <td>Taiwan Coffee Laboratory</td>\n      <td>2000</td>\n      <td>Acatenango</td>\n      <td>Karen Acajabon</td>\n      <td>5</td>\n      <td>15 kg</td>\n      <td>2021</td>\n      <td>November 15th, 2022</td>\n      <td>...</td>\n      <td>8.17</td>\n      <td>10.0</td>\n      <td>8.00</td>\n      <td>86.25</td>\n      <td>11.5</td>\n      <td>0</td>\n      <td>0</td>\n      <td>brownish</td>\n      <td>1</td>\n      <td>November 15th, 2023</td>\n    </tr>\n    <tr>\n      <th>12</th>\n      <td>Taiwan</td>\n      <td>古峰咖啡莊園 Goodfun Coffee Farm</td>\n      <td>Taiwan Coffee Laboratory</td>\n      <td>1250</td>\n      <td>Yunlin</td>\n      <td>賴彥合</td>\n      <td>1</td>\n      <td>60 kg</td>\n      <td>2021 / 2022</td>\n      <td>November 15th, 2022</td>\n      <td>...</td>\n      <td>8.00</td>\n      <td>10.0</td>\n      <td>8.00</td>\n      <td>86.25</td>\n      <td>11.9</td>\n      <td>0</td>\n      <td>0</td>\n      <td>green</td>\n      <td>0</td>\n      <td>November 15th, 2023</td>\n    </tr>\n    <tr>\n      <th>13</th>\n      <td>Ethiopia</td>\n      <td>Gelana Geisha</td>\n      <td>Kerchanshe Trading PLC</td>\n      <td>1900-2000</td>\n      <td>Guji</td>\n      <td>Kerchanshe</td>\n      <td>40</td>\n      <td>60 kg</td>\n      <td>2021 / 2022</td>\n      <td>August 26th, 2022</td>\n      <td>...</td>\n      <td>8.00</td>\n      <td>10.0</td>\n      <td>8.00</td>\n      <td>86.17</td>\n      <td>11.6</td>\n      <td>0</td>\n      <td>3</td>\n      <td>yellow- green</td>\n      <td>2</td>\n      <td>August 26th, 2023</td>\n    </tr>\n    <tr>\n      <th>14</th>\n      <td>Colombia</td>\n      <td>La Gaitania</td>\n      <td>Taiwan Coffee Laboratory</td>\n      <td>1850</td>\n      <td>tolima</td>\n      <td>Josue Enciso Suarez</td>\n      <td>70</td>\n      <td>35 kg</td>\n      <td>2021 / 2022</td>\n      <td>November 15th, 2022</td>\n      <td>...</td>\n      <td>8.00</td>\n      <td>10.0</td>\n      <td>8.00</td>\n      <td>86.17</td>\n      <td>10.6</td>\n      <td>0</td>\n      <td>0</td>\n      <td>green</td>\n      <td>0</td>\n      <td>November 15th, 2023</td>\n    </tr>\n    <tr>\n      <th>15</th>\n      <td>Taiwan</td>\n      <td>青葉咖啡莊園</td>\n      <td>Taiwan Coffee Laboratory</td>\n      <td>1100</td>\n      <td>Chiayi</td>\n      <td>葉世遠</td>\n      <td>1</td>\n      <td>60 kg</td>\n      <td>2021 / 2022</td>\n      <td>November 15th, 2022</td>\n      <td>...</td>\n      <td>7.92</td>\n      <td>10.0</td>\n      <td>8.00</td>\n      <td>86.08</td>\n      <td>10.2</td>\n      <td>0</td>\n      <td>0</td>\n      <td>green</td>\n      <td>0</td>\n      <td>November 15th, 2023</td>\n    </tr>\n    <tr>\n      <th>16</th>\n      <td>Ethiopia</td>\n      <td>Halo Bariti Cooprative</td>\n      <td>Coffee Quality Union</td>\n      <td>1900-2100</td>\n      <td>Gedeb,Yirgacheffe,Sidamo</td>\n      <td>Halo Bariti Cooprative</td>\n      <td>8</td>\n      <td>5 kg</td>\n      <td>2022</td>\n      <td>April 7th, 2023</td>\n      <td>...</td>\n      <td>7.92</td>\n      <td>10.0</td>\n      <td>8.08</td>\n      <td>86.08</td>\n      <td>11.3</td>\n      <td>0</td>\n      <td>2</td>\n      <td>green</td>\n      <td>2</td>\n      <td>April 6th, 2024</td>\n    </tr>\n    <tr>\n      <th>17</th>\n      <td>Taiwan</td>\n      <td>東璧咖啡莊園</td>\n      <td>Dongbi coffee</td>\n      <td>1300</td>\n      <td>Shibi, Gukeng Township, Yunlin County 郵遞區號 , T...</td>\n      <td>陳景立</td>\n      <td>5</td>\n      <td>2 kg</td>\n      <td>2022</td>\n      <td>October 24th, 2022</td>\n      <td>...</td>\n      <td>7.92</td>\n      <td>10.0</td>\n      <td>8.17</td>\n      <td>86.08</td>\n      <td>10.3</td>\n      <td>0</td>\n      <td>0</td>\n      <td>yellow-green</td>\n      <td>0</td>\n      <td>October 24th, 2023</td>\n    </tr>\n    <tr>\n      <th>18</th>\n      <td>Taiwan</td>\n      <td>櫻桃果古坑咖啡莊園</td>\n      <td>宸嶧國際有限公司</td>\n      <td>1200</td>\n      <td>Gukeng Township, Yunlin County</td>\n      <td>王瀅惠</td>\n      <td>8</td>\n      <td>1 kg</td>\n      <td>2021 / 2022</td>\n      <td>October 24th, 2022</td>\n      <td>...</td>\n      <td>8.00</td>\n      <td>10.0</td>\n      <td>8.17</td>\n      <td>85.92</td>\n      <td>11.0</td>\n      <td>0</td>\n      <td>0</td>\n      <td>brownish</td>\n      <td>1</td>\n      <td>October 24th, 2023</td>\n    </tr>\n    <tr>\n      <th>19</th>\n      <td>Tanzania, United Republic Of</td>\n      <td>BURKA</td>\n      <td>DORMAN (T) LIMITED</td>\n      <td>1570-1600</td>\n      <td>Arusha</td>\n      <td>DORMAN (T) LIMITED</td>\n      <td>200</td>\n      <td>30 kg</td>\n      <td>2022 / 2023</td>\n      <td>February 1st, 2023</td>\n      <td>...</td>\n      <td>7.75</td>\n      <td>10.0</td>\n      <td>7.92</td>\n      <td>85.83</td>\n      <td>10.0</td>\n      <td>0</td>\n      <td>0</td>\n      <td>greenish</td>\n      <td>0</td>\n      <td>February 1st, 2024</td>\n    </tr>\n    <tr>\n      <th>20</th>\n      <td>Guatemala</td>\n      <td>Finca Vista Hermosa</td>\n      <td>Taiwan Coffee Laboratory</td>\n      <td>1900</td>\n      <td>Guatemala, Fraijanes, Santa Rosa</td>\n      <td>Fredy Orantes</td>\n      <td>8</td>\n      <td>30 kg</td>\n      <td>2021 / 2022</td>\n      <td>November 15th, 2022</td>\n      <td>...</td>\n      <td>8.00</td>\n      <td>10.0</td>\n      <td>8.08</td>\n      <td>85.75</td>\n      <td>11.6</td>\n      <td>0</td>\n      <td>0</td>\n      <td>yellowish</td>\n      <td>0</td>\n      <td>November 15th, 2023</td>\n    </tr>\n    <tr>\n      <th>21</th>\n      <td>Taiwan</td>\n      <td>仲大叔咖啡莊園Uncle Chung.s Coffee Farm</td>\n      <td>Taiwan Coffee Laboratory</td>\n      <td>850</td>\n      <td>卓溪鄉Zhuoxi Township</td>\n      <td>游婷淯 YU TING YU</td>\n      <td>1</td>\n      <td>20 kg</td>\n      <td>2022</td>\n      <td>December 12th, 2022</td>\n      <td>...</td>\n      <td>7.83</td>\n      <td>10.0</td>\n      <td>7.92</td>\n      <td>85.67</td>\n      <td>10.4</td>\n      <td>0</td>\n      <td>0</td>\n      <td>green</td>\n      <td>0</td>\n      <td>December 12th, 2023</td>\n    </tr>\n    <tr>\n      <th>22</th>\n      <td>Thailand</td>\n      <td>Hom Doi</td>\n      <td>Lyrose</td>\n      <td>1500-1700</td>\n      <td>Chiang Mai</td>\n      <td>Lisu farmers</td>\n      <td>2</td>\n      <td>1 kg</td>\n      <td>2021 / 2022</td>\n      <td>August 16th, 2022</td>\n      <td>...</td>\n      <td>8.00</td>\n      <td>10.0</td>\n      <td>8.08</td>\n      <td>85.67</td>\n      <td>9.8</td>\n      <td>0</td>\n      <td>0</td>\n      <td>browish-green</td>\n      <td>5</td>\n      <td>August 16th, 2023</td>\n    </tr>\n    <tr>\n      <th>24</th>\n      <td>Taiwan</td>\n      <td>永舜咖啡莊園</td>\n      <td>Taiwan Coffee Laboratory</td>\n      <td>1250</td>\n      <td>Yunlin</td>\n      <td>蘇甘永</td>\n      <td>4</td>\n      <td>50 kg</td>\n      <td>2021 / 2022</td>\n      <td>November 15th, 2022</td>\n      <td>...</td>\n      <td>7.92</td>\n      <td>10.0</td>\n      <td>7.92</td>\n      <td>85.58</td>\n      <td>10.6</td>\n      <td>0</td>\n      <td>0</td>\n      <td>bluish-green</td>\n      <td>0</td>\n      <td>November 15th, 2023</td>\n    </tr>\n    <tr>\n      <th>26</th>\n      <td>Taiwan</td>\n      <td>鄒築園ZouZhouYuan</td>\n      <td>Taiwan Coffee Laboratory</td>\n      <td>1300</td>\n      <td>Chiayi</td>\n      <td>方政倫</td>\n      <td>1</td>\n      <td>100 kg</td>\n      <td>2021 / 2022</td>\n      <td>November 15th, 2022</td>\n      <td>...</td>\n      <td>7.92</td>\n      <td>10.0</td>\n      <td>8.00</td>\n      <td>85.50</td>\n      <td>9.1</td>\n      <td>0</td>\n      <td>0</td>\n      <td>green</td>\n      <td>2</td>\n      <td>November 15th, 2023</td>\n    </tr>\n    <tr>\n      <th>27</th>\n      <td>Taiwan</td>\n      <td>嵩岳咖啡莊園</td>\n      <td>Taiwan Coffee Laboratory</td>\n      <td>1200</td>\n      <td>Yunlin</td>\n      <td>郭志豪</td>\n      <td>1</td>\n      <td>90 kg</td>\n      <td>2021 / 2022</td>\n      <td>November 15th, 2022</td>\n      <td>...</td>\n      <td>7.83</td>\n      <td>10.0</td>\n      <td>7.92</td>\n      <td>85.50</td>\n      <td>10.6</td>\n      <td>0</td>\n      <td>0</td>\n      <td>green</td>\n      <td>0</td>\n      <td>November 15th, 2023</td>\n    </tr>\n    <tr>\n      <th>28</th>\n      <td>Taiwan</td>\n      <td>他扶芽有機農園</td>\n      <td>Taiwan Coffee Laboratory</td>\n      <td>1060</td>\n      <td>Chiayi</td>\n      <td>陳清龍</td>\n      <td>1</td>\n      <td>85 kg</td>\n      <td>2021 / 2022</td>\n      <td>November 15th, 2022</td>\n      <td>...</td>\n      <td>7.92</td>\n      <td>10.0</td>\n      <td>7.92</td>\n      <td>85.50</td>\n      <td>10.2</td>\n      <td>0</td>\n      <td>0</td>\n      <td>blue-green</td>\n      <td>0</td>\n      <td>November 15th, 2023</td>\n    </tr>\n    <tr>\n      <th>29</th>\n      <td>United States (Hawaii)</td>\n      <td>Hokukano Ranch</td>\n      <td>Taiwan Coffee Laboratory</td>\n      <td>600</td>\n      <td>Kona</td>\n      <td>Kona Hills LLC</td>\n      <td>80</td>\n      <td>15 kg</td>\n      <td>2021 / 2022</td>\n      <td>November 15th, 2022</td>\n      <td>...</td>\n      <td>8.00</td>\n      <td>10.0</td>\n      <td>8.00</td>\n      <td>85.42</td>\n      <td>9.3</td>\n      <td>0</td>\n      <td>0</td>\n      <td>green</td>\n      <td>0</td>\n      <td>November 15th, 2023</td>\n    </tr>\n    <tr>\n      <th>30</th>\n      <td>Taiwan</td>\n      <td>鄉庭有機農場Siang-Ting Organic Farm</td>\n      <td>Taiwan Coffee Laboratory</td>\n      <td>150-250</td>\n      <td>壽豐鄉Shoufeng Township</td>\n      <td>張進義Zhang Jin-Yi</td>\n      <td>3</td>\n      <td>48 kg</td>\n      <td>2022</td>\n      <td>December 12th, 2022</td>\n      <td>...</td>\n      <td>7.92</td>\n      <td>10.0</td>\n      <td>8.08</td>\n      <td>85.42</td>\n      <td>11.4</td>\n      <td>0</td>\n      <td>0</td>\n      <td>bluish-green</td>\n      <td>0</td>\n      <td>December 12th, 2023</td>\n    </tr>\n    <tr>\n      <th>31</th>\n      <td>Taiwan</td>\n      <td>鄉庭有機農場Siang-Ting Organic Farm</td>\n      <td>Taiwan Coffee Laboratory</td>\n      <td>150-250</td>\n      <td>壽豐鄉Shoufeng Township</td>\n      <td>張進義Zhang Jin-Yi</td>\n      <td>3</td>\n      <td>50 kg</td>\n      <td>2022</td>\n      <td>December 12th, 2022</td>\n      <td>...</td>\n      <td>7.83</td>\n      <td>10.0</td>\n      <td>8.00</td>\n      <td>85.33</td>\n      <td>10.8</td>\n      <td>0</td>\n      <td>0</td>\n      <td>green</td>\n      <td>0</td>\n      <td>December 12th, 2023</td>\n    </tr>\n    <tr>\n      <th>32</th>\n      <td>Taiwan</td>\n      <td>金讚咖啡農莊園(Jinzan Coffee Estate)</td>\n      <td>Taiwan Coffee Laboratory</td>\n      <td>668</td>\n      <td>Dongshan Dist., Tainan City</td>\n      <td>葉明讚 (YE,MING-ZAN)</td>\n      <td>4</td>\n      <td>5 kg</td>\n      <td>2022</td>\n      <td>June 8th, 2022</td>\n      <td>...</td>\n      <td>7.92</td>\n      <td>10.0</td>\n      <td>8.00</td>\n      <td>85.33</td>\n      <td>11.3</td>\n      <td>0</td>\n      <td>0</td>\n      <td>green</td>\n      <td>0</td>\n      <td>June 8th, 2023</td>\n    </tr>\n    <tr>\n      <th>33</th>\n      <td>Ethiopia</td>\n      <td>Eshetu farm</td>\n      <td>Alo Coffee</td>\n      <td>1950</td>\n      <td>Oromia</td>\n      <td>Eshetu</td>\n      <td>320</td>\n      <td>60 kg</td>\n      <td>2021 / 2022</td>\n      <td>June 6th, 2022</td>\n      <td>...</td>\n      <td>8.00</td>\n      <td>10.0</td>\n      <td>8.00</td>\n      <td>85.33</td>\n      <td>9.9</td>\n      <td>0</td>\n      <td>2</td>\n      <td>green</td>\n      <td>3</td>\n      <td>June 6th, 2023</td>\n    </tr>\n    <tr>\n      <th>34</th>\n      <td>Ethiopia</td>\n      <td>Uraga Bisrat washing station</td>\n      <td>TADESSE DESTA IMPORT &amp; EXPORT</td>\n      <td>2150 - 2350</td>\n      <td>Southern Ethiopia Guji</td>\n      <td>Bisrat Melaku</td>\n      <td>320</td>\n      <td>60 kg</td>\n      <td>2021 / 2022</td>\n      <td>September 30th, 2022</td>\n      <td>...</td>\n      <td>7.75</td>\n      <td>10.0</td>\n      <td>7.83</td>\n      <td>85.33</td>\n      <td>12.3</td>\n      <td>0</td>\n      <td>3</td>\n      <td>yellow green</td>\n      <td>4</td>\n      <td>September 30th, 2023</td>\n    </tr>\n    <tr>\n      <th>35</th>\n      <td>Ethiopia</td>\n      <td>YHAENU PLC FARM</td>\n      <td>yhaenu plc</td>\n      <td>1700</td>\n      <td>OROMIA</td>\n      <td>YHAENU PLC</td>\n      <td>320</td>\n      <td>19200 kg</td>\n      <td>2021 / 2022</td>\n      <td>December 12th, 2022</td>\n      <td>...</td>\n      <td>7.75</td>\n      <td>10.0</td>\n      <td>7.83</td>\n      <td>85.25</td>\n      <td>9.4</td>\n      <td>0</td>\n      <td>1</td>\n      <td>greenish</td>\n      <td>1</td>\n      <td>December 12th, 2023</td>\n    </tr>\n    <tr>\n      <th>36</th>\n      <td>Taiwan</td>\n      <td>卓武山咖啡農場</td>\n      <td>Taiwan Coffee Laboratory</td>\n      <td>1200</td>\n      <td>Chiayi</td>\n      <td>許定燁</td>\n      <td>1</td>\n      <td>100 kg</td>\n      <td>2021 / 2022</td>\n      <td>November 15th, 2022</td>\n      <td>...</td>\n      <td>7.83</td>\n      <td>10.0</td>\n      <td>7.92</td>\n      <td>85.25</td>\n      <td>9.5</td>\n      <td>0</td>\n      <td>0</td>\n      <td>bluish-green</td>\n      <td>0</td>\n      <td>November 15th, 2023</td>\n    </tr>\n    <tr>\n      <th>37</th>\n      <td>Taiwan</td>\n      <td>御香咖啡園 YU SIANG Coffee Estate</td>\n      <td>Taiwan Coffee Laboratory</td>\n      <td>650</td>\n      <td>Dongshan Dist., Tainan City</td>\n      <td>陳建源(CHEN, JIAN-YUAN)</td>\n      <td>20</td>\n      <td>5 kg</td>\n      <td>2022</td>\n      <td>June 8th, 2022</td>\n      <td>...</td>\n      <td>7.75</td>\n      <td>10.0</td>\n      <td>7.92</td>\n      <td>85.25</td>\n      <td>11.3</td>\n      <td>0</td>\n      <td>0</td>\n      <td>green</td>\n      <td>0</td>\n      <td>June 8th, 2023</td>\n    </tr>\n    <tr>\n      <th>38</th>\n      <td>Kenya</td>\n      <td>Small Holder</td>\n      <td>IBERO (K) LTD</td>\n      <td>1600-1900</td>\n      <td>Central</td>\n      <td>Small Holder</td>\n      <td>300</td>\n      <td>60 kg</td>\n      <td>2022 / 2023</td>\n      <td>February 28th, 2023</td>\n      <td>...</td>\n      <td>8.00</td>\n      <td>10.0</td>\n      <td>8.00</td>\n      <td>85.25</td>\n      <td>9.2</td>\n      <td>0</td>\n      <td>0</td>\n      <td>greenish</td>\n      <td>1</td>\n      <td>February 28th, 2024</td>\n    </tr>\n    <tr>\n      <th>39</th>\n      <td>Taiwan</td>\n      <td>皇庭咖啡莊園</td>\n      <td>宸嶧國際有限公司</td>\n      <td>850</td>\n      <td>Caoling , Gukeng Township, Yunlin County</td>\n      <td>陳榮豐</td>\n      <td>20</td>\n      <td>1 kg</td>\n      <td>2017 / 2018</td>\n      <td>October 24th, 2022</td>\n      <td>...</td>\n      <td>7.92</td>\n      <td>10.0</td>\n      <td>8.00</td>\n      <td>85.17</td>\n      <td>10.3</td>\n      <td>0</td>\n      <td>0</td>\n      <td>bluish-green</td>\n      <td>0</td>\n      <td>October 24th, 2023</td>\n    </tr>\n    <tr>\n      <th>40</th>\n      <td>Taiwan</td>\n      <td>花蓮縣秀林鄉特用作物（咖啡）產銷第一班Agriculture Production and ...</td>\n      <td>Taiwan Coffee Laboratory</td>\n      <td>300-500</td>\n      <td>秀林鄉Show Linxia Township</td>\n      <td>李志祥 Li Zhi-xia</td>\n      <td>1</td>\n      <td>10 kg</td>\n      <td>2022</td>\n      <td>December 12th, 2022</td>\n      <td>...</td>\n      <td>7.75</td>\n      <td>10.0</td>\n      <td>7.92</td>\n      <td>85.08</td>\n      <td>10.0</td>\n      <td>0</td>\n      <td>0</td>\n      <td>brownish</td>\n      <td>0</td>\n      <td>December 12th, 2023</td>\n    </tr>\n    <tr>\n      <th>41</th>\n      <td>Taiwan</td>\n      <td>八一高地</td>\n      <td>茂泰生技股份有限公司</td>\n      <td>1000</td>\n      <td>台灣屏東</td>\n      <td>陳科翰</td>\n      <td>1</td>\n      <td>2 kg</td>\n      <td>2021 / 2022</td>\n      <td>December 30th, 2022</td>\n      <td>...</td>\n      <td>7.83</td>\n      <td>10.0</td>\n      <td>7.83</td>\n      <td>85.08</td>\n      <td>10.5</td>\n      <td>0</td>\n      <td>0</td>\n      <td>greenish</td>\n      <td>0</td>\n      <td>December 30th, 2023</td>\n    </tr>\n    <tr>\n      <th>42</th>\n      <td>Taiwan</td>\n      <td>香夾蘭莊園</td>\n      <td>Taiwu Coffee Cooperative</td>\n      <td>800</td>\n      <td>苗栗縣</td>\n      <td>黃簡秋蘭</td>\n      <td>1</td>\n      <td>50 kg</td>\n      <td>2021 / 2022</td>\n      <td>January 6th, 2023</td>\n      <td>...</td>\n      <td>7.83</td>\n      <td>10.0</td>\n      <td>7.92</td>\n      <td>85.08</td>\n      <td>10.0</td>\n      <td>0</td>\n      <td>0</td>\n      <td>pale yellow</td>\n      <td>5</td>\n      <td>January 6th, 2024</td>\n    </tr>\n    <tr>\n      <th>43</th>\n      <td>Uganda</td>\n      <td>Gideon Kule</td>\n      <td>Kyagalanyi Coffee Limited</td>\n      <td>1905</td>\n      <td>Rwenzori</td>\n      <td>Kyagalanyi coffee limited</td>\n      <td>320</td>\n      <td>60 kg</td>\n      <td>2021 / 2022</td>\n      <td>June 29th, 2022</td>\n      <td>...</td>\n      <td>7.92</td>\n      <td>10.0</td>\n      <td>7.92</td>\n      <td>85.00</td>\n      <td>11.0</td>\n      <td>0</td>\n      <td>0</td>\n      <td>green</td>\n      <td>1</td>\n      <td>June 29th, 2023</td>\n    </tr>\n    <tr>\n      <th>45</th>\n      <td>Taiwan</td>\n      <td>青山坪咖啡農場</td>\n      <td>Taiwan Coffee Laboratory</td>\n      <td>800</td>\n      <td>Yunlin</td>\n      <td>王清連</td>\n      <td>6</td>\n      <td>50 kg</td>\n      <td>2021 / 2022</td>\n      <td>November 15th, 2022</td>\n      <td>...</td>\n      <td>7.75</td>\n      <td>10.0</td>\n      <td>7.83</td>\n      <td>85.00</td>\n      <td>10.1</td>\n      <td>0</td>\n      <td>0</td>\n      <td>yellow green</td>\n      <td>0</td>\n      <td>November 15th, 2023</td>\n    </tr>\n    <tr>\n      <th>46</th>\n      <td>Guatemala</td>\n      <td>varias fincas</td>\n      <td>Peter Schoenfeld, S.A.</td>\n      <td>1600</td>\n      <td>Antigua</td>\n      <td>Varios productores</td>\n      <td>600</td>\n      <td>30 kg</td>\n      <td>2022 / 2023</td>\n      <td>April 17th, 2023</td>\n      <td>...</td>\n      <td>7.83</td>\n      <td>10.0</td>\n      <td>7.83</td>\n      <td>85.00</td>\n      <td>9.9</td>\n      <td>0</td>\n      <td>1</td>\n      <td>green</td>\n      <td>1</td>\n      <td>April 16th, 2024</td>\n    </tr>\n    <tr>\n      <th>47</th>\n      <td>Guatemala</td>\n      <td>PEÑA BLANCA</td>\n      <td>OLAM AGRO GUATEMALA, S.A.</td>\n      <td>4700</td>\n      <td>Santa Rosa</td>\n      <td>PABLO CHUY</td>\n      <td>632</td>\n      <td>30 kg</td>\n      <td>2022 / 2023</td>\n      <td>February 23rd, 2023</td>\n      <td>...</td>\n      <td>7.83</td>\n      <td>10.0</td>\n      <td>7.83</td>\n      <td>85.00</td>\n      <td>11.3</td>\n      <td>0</td>\n      <td>0</td>\n      <td>green</td>\n      <td>4</td>\n      <td>February 23rd, 2024</td>\n    </tr>\n    <tr>\n      <th>48</th>\n      <td>Guatemala</td>\n      <td>san francisco cotzal</td>\n      <td>inmobiliaria e inversiones dos mil, s.a.</td>\n      <td>1600</td>\n      <td>quiche</td>\n      <td>san francisco cotzal</td>\n      <td>275</td>\n      <td>69 kg</td>\n      <td>2021 / 2022</td>\n      <td>June 22nd, 2022</td>\n      <td>...</td>\n      <td>7.75</td>\n      <td>10.0</td>\n      <td>7.92</td>\n      <td>84.92</td>\n      <td>11.7</td>\n      <td>0</td>\n      <td>3</td>\n      <td>green</td>\n      <td>1</td>\n      <td>June 22nd, 2023</td>\n    </tr>\n    <tr>\n      <th>49</th>\n      <td>Taiwan</td>\n      <td>六曲窩</td>\n      <td>Taiwu Coffee Cooperative</td>\n      <td>350-400</td>\n      <td>新竹縣</td>\n      <td>黃俊淦</td>\n      <td>1</td>\n      <td>13 kg</td>\n      <td>2021 / 2022</td>\n      <td>January 6th, 2023</td>\n      <td>...</td>\n      <td>7.83</td>\n      <td>10.0</td>\n      <td>7.83</td>\n      <td>84.92</td>\n      <td>9.5</td>\n      <td>0</td>\n      <td>0</td>\n      <td>green</td>\n      <td>2</td>\n      <td>January 6th, 2024</td>\n    </tr>\n    <tr>\n      <th>50</th>\n      <td>Taiwan</td>\n      <td>北平山林</td>\n      <td>Taiwu Coffee Cooperative</td>\n      <td>230</td>\n      <td>新竹縣</td>\n      <td>戴禎男</td>\n      <td>1</td>\n      <td>4 kg</td>\n      <td>2021 / 2022</td>\n      <td>January 6th, 2023</td>\n      <td>...</td>\n      <td>7.75</td>\n      <td>10.0</td>\n      <td>7.92</td>\n      <td>84.83</td>\n      <td>9.7</td>\n      <td>0</td>\n      <td>0</td>\n      <td>brownish</td>\n      <td>0</td>\n      <td>January 6th, 2024</td>\n    </tr>\n    <tr>\n      <th>52</th>\n      <td>Peru</td>\n      <td>Ruya Yayu Farm</td>\n      <td>Taiwan Coffee Laboratory</td>\n      <td>1750</td>\n      <td>Villa Rica</td>\n      <td>Ruya Yayu</td>\n      <td>3</td>\n      <td>5 kg</td>\n      <td>2022</td>\n      <td>November 15th, 2022</td>\n      <td>...</td>\n      <td>7.83</td>\n      <td>10.0</td>\n      <td>7.75</td>\n      <td>84.83</td>\n      <td>10.7</td>\n      <td>0</td>\n      <td>0</td>\n      <td>greenish</td>\n      <td>0</td>\n      <td>November 15th, 2023</td>\n    </tr>\n    <tr>\n      <th>53</th>\n      <td>Tanzania, United Republic Of</td>\n      <td>IYENGA</td>\n      <td>VOLCAFE/TaylorWinch Tanzania Ltd</td>\n      <td>1654</td>\n      <td>Mbeya</td>\n      <td>IYENGA AMCOS</td>\n      <td>620</td>\n      <td>30 kg</td>\n      <td>2022 / 2023</td>\n      <td>November 9th, 2022</td>\n      <td>...</td>\n      <td>7.83</td>\n      <td>10.0</td>\n      <td>7.83</td>\n      <td>84.83</td>\n      <td>11.2</td>\n      <td>0</td>\n      <td>0</td>\n      <td>greenish</td>\n      <td>0</td>\n      <td>November 9th, 2023</td>\n    </tr>\n  </tbody>\n</table>\n<p>50 rows × 27 columns</p>\n</div>"
     },
     "execution_count": 23,
     "metadata": {},
     "output_type": "execute_result"
    }
   ],
   "source": [
    " df.head(50)"
   ],
   "metadata": {
    "collapsed": false,
    "ExecuteTime": {
     "end_time": "2023-10-13T02:40:47.388947Z",
     "start_time": "2023-10-13T02:40:47.382684Z"
    }
   },
   "id": "eda9522e9e9a0bbf"
  },
  {
   "cell_type": "markdown",
   "source": [
    "# 6. Checking For Mixed Data Types"
   ],
   "metadata": {
    "collapsed": false
   },
   "id": "ce5cb4e7a965130"
  },
  {
   "cell_type": "code",
   "execution_count": 24,
   "outputs": [
    {
     "name": "stdout",
     "output_type": "stream",
     "text": [
      "Region\n"
     ]
    },
    {
     "name": "stderr",
     "output_type": "stream",
     "text": [
      "/var/folders/q4/1gjxbf_s0jbclz3c0q66rpdh0000gn/T/ipykernel_72642/1895089933.py:4: FutureWarning: DataFrame.applymap has been deprecated. Use DataFrame.map instead.\n",
      "  weird = (df[[col]].applymap(type) != df[[col]].iloc[0].apply(type)).any(axis = 1)\n",
      "/var/folders/q4/1gjxbf_s0jbclz3c0q66rpdh0000gn/T/ipykernel_72642/1895089933.py:4: FutureWarning: DataFrame.applymap has been deprecated. Use DataFrame.map instead.\n",
      "  weird = (df[[col]].applymap(type) != df[[col]].iloc[0].apply(type)).any(axis = 1)\n",
      "/var/folders/q4/1gjxbf_s0jbclz3c0q66rpdh0000gn/T/ipykernel_72642/1895089933.py:4: FutureWarning: DataFrame.applymap has been deprecated. Use DataFrame.map instead.\n",
      "  weird = (df[[col]].applymap(type) != df[[col]].iloc[0].apply(type)).any(axis = 1)\n",
      "/var/folders/q4/1gjxbf_s0jbclz3c0q66rpdh0000gn/T/ipykernel_72642/1895089933.py:4: FutureWarning: DataFrame.applymap has been deprecated. Use DataFrame.map instead.\n",
      "  weird = (df[[col]].applymap(type) != df[[col]].iloc[0].apply(type)).any(axis = 1)\n",
      "/var/folders/q4/1gjxbf_s0jbclz3c0q66rpdh0000gn/T/ipykernel_72642/1895089933.py:4: FutureWarning: DataFrame.applymap has been deprecated. Use DataFrame.map instead.\n",
      "  weird = (df[[col]].applymap(type) != df[[col]].iloc[0].apply(type)).any(axis = 1)\n",
      "/var/folders/q4/1gjxbf_s0jbclz3c0q66rpdh0000gn/T/ipykernel_72642/1895089933.py:4: FutureWarning: DataFrame.applymap has been deprecated. Use DataFrame.map instead.\n",
      "  weird = (df[[col]].applymap(type) != df[[col]].iloc[0].apply(type)).any(axis = 1)\n",
      "/var/folders/q4/1gjxbf_s0jbclz3c0q66rpdh0000gn/T/ipykernel_72642/1895089933.py:4: FutureWarning: DataFrame.applymap has been deprecated. Use DataFrame.map instead.\n",
      "  weird = (df[[col]].applymap(type) != df[[col]].iloc[0].apply(type)).any(axis = 1)\n",
      "/var/folders/q4/1gjxbf_s0jbclz3c0q66rpdh0000gn/T/ipykernel_72642/1895089933.py:4: FutureWarning: DataFrame.applymap has been deprecated. Use DataFrame.map instead.\n",
      "  weird = (df[[col]].applymap(type) != df[[col]].iloc[0].apply(type)).any(axis = 1)\n",
      "/var/folders/q4/1gjxbf_s0jbclz3c0q66rpdh0000gn/T/ipykernel_72642/1895089933.py:4: FutureWarning: DataFrame.applymap has been deprecated. Use DataFrame.map instead.\n",
      "  weird = (df[[col]].applymap(type) != df[[col]].iloc[0].apply(type)).any(axis = 1)\n",
      "/var/folders/q4/1gjxbf_s0jbclz3c0q66rpdh0000gn/T/ipykernel_72642/1895089933.py:4: FutureWarning: DataFrame.applymap has been deprecated. Use DataFrame.map instead.\n",
      "  weird = (df[[col]].applymap(type) != df[[col]].iloc[0].apply(type)).any(axis = 1)\n",
      "/var/folders/q4/1gjxbf_s0jbclz3c0q66rpdh0000gn/T/ipykernel_72642/1895089933.py:4: FutureWarning: DataFrame.applymap has been deprecated. Use DataFrame.map instead.\n",
      "  weird = (df[[col]].applymap(type) != df[[col]].iloc[0].apply(type)).any(axis = 1)\n",
      "/var/folders/q4/1gjxbf_s0jbclz3c0q66rpdh0000gn/T/ipykernel_72642/1895089933.py:4: FutureWarning: DataFrame.applymap has been deprecated. Use DataFrame.map instead.\n",
      "  weird = (df[[col]].applymap(type) != df[[col]].iloc[0].apply(type)).any(axis = 1)\n",
      "/var/folders/q4/1gjxbf_s0jbclz3c0q66rpdh0000gn/T/ipykernel_72642/1895089933.py:4: FutureWarning: DataFrame.applymap has been deprecated. Use DataFrame.map instead.\n",
      "  weird = (df[[col]].applymap(type) != df[[col]].iloc[0].apply(type)).any(axis = 1)\n",
      "/var/folders/q4/1gjxbf_s0jbclz3c0q66rpdh0000gn/T/ipykernel_72642/1895089933.py:4: FutureWarning: DataFrame.applymap has been deprecated. Use DataFrame.map instead.\n",
      "  weird = (df[[col]].applymap(type) != df[[col]].iloc[0].apply(type)).any(axis = 1)\n",
      "/var/folders/q4/1gjxbf_s0jbclz3c0q66rpdh0000gn/T/ipykernel_72642/1895089933.py:4: FutureWarning: DataFrame.applymap has been deprecated. Use DataFrame.map instead.\n",
      "  weird = (df[[col]].applymap(type) != df[[col]].iloc[0].apply(type)).any(axis = 1)\n",
      "/var/folders/q4/1gjxbf_s0jbclz3c0q66rpdh0000gn/T/ipykernel_72642/1895089933.py:4: FutureWarning: DataFrame.applymap has been deprecated. Use DataFrame.map instead.\n",
      "  weird = (df[[col]].applymap(type) != df[[col]].iloc[0].apply(type)).any(axis = 1)\n",
      "/var/folders/q4/1gjxbf_s0jbclz3c0q66rpdh0000gn/T/ipykernel_72642/1895089933.py:4: FutureWarning: DataFrame.applymap has been deprecated. Use DataFrame.map instead.\n",
      "  weird = (df[[col]].applymap(type) != df[[col]].iloc[0].apply(type)).any(axis = 1)\n",
      "/var/folders/q4/1gjxbf_s0jbclz3c0q66rpdh0000gn/T/ipykernel_72642/1895089933.py:4: FutureWarning: DataFrame.applymap has been deprecated. Use DataFrame.map instead.\n",
      "  weird = (df[[col]].applymap(type) != df[[col]].iloc[0].apply(type)).any(axis = 1)\n",
      "/var/folders/q4/1gjxbf_s0jbclz3c0q66rpdh0000gn/T/ipykernel_72642/1895089933.py:4: FutureWarning: DataFrame.applymap has been deprecated. Use DataFrame.map instead.\n",
      "  weird = (df[[col]].applymap(type) != df[[col]].iloc[0].apply(type)).any(axis = 1)\n",
      "/var/folders/q4/1gjxbf_s0jbclz3c0q66rpdh0000gn/T/ipykernel_72642/1895089933.py:4: FutureWarning: DataFrame.applymap has been deprecated. Use DataFrame.map instead.\n",
      "  weird = (df[[col]].applymap(type) != df[[col]].iloc[0].apply(type)).any(axis = 1)\n",
      "/var/folders/q4/1gjxbf_s0jbclz3c0q66rpdh0000gn/T/ipykernel_72642/1895089933.py:4: FutureWarning: DataFrame.applymap has been deprecated. Use DataFrame.map instead.\n",
      "  weird = (df[[col]].applymap(type) != df[[col]].iloc[0].apply(type)).any(axis = 1)\n",
      "/var/folders/q4/1gjxbf_s0jbclz3c0q66rpdh0000gn/T/ipykernel_72642/1895089933.py:4: FutureWarning: DataFrame.applymap has been deprecated. Use DataFrame.map instead.\n",
      "  weird = (df[[col]].applymap(type) != df[[col]].iloc[0].apply(type)).any(axis = 1)\n",
      "/var/folders/q4/1gjxbf_s0jbclz3c0q66rpdh0000gn/T/ipykernel_72642/1895089933.py:4: FutureWarning: DataFrame.applymap has been deprecated. Use DataFrame.map instead.\n",
      "  weird = (df[[col]].applymap(type) != df[[col]].iloc[0].apply(type)).any(axis = 1)\n",
      "/var/folders/q4/1gjxbf_s0jbclz3c0q66rpdh0000gn/T/ipykernel_72642/1895089933.py:4: FutureWarning: DataFrame.applymap has been deprecated. Use DataFrame.map instead.\n",
      "  weird = (df[[col]].applymap(type) != df[[col]].iloc[0].apply(type)).any(axis = 1)\n",
      "/var/folders/q4/1gjxbf_s0jbclz3c0q66rpdh0000gn/T/ipykernel_72642/1895089933.py:4: FutureWarning: DataFrame.applymap has been deprecated. Use DataFrame.map instead.\n",
      "  weird = (df[[col]].applymap(type) != df[[col]].iloc[0].apply(type)).any(axis = 1)\n",
      "/var/folders/q4/1gjxbf_s0jbclz3c0q66rpdh0000gn/T/ipykernel_72642/1895089933.py:4: FutureWarning: DataFrame.applymap has been deprecated. Use DataFrame.map instead.\n",
      "  weird = (df[[col]].applymap(type) != df[[col]].iloc[0].apply(type)).any(axis = 1)\n",
      "/var/folders/q4/1gjxbf_s0jbclz3c0q66rpdh0000gn/T/ipykernel_72642/1895089933.py:4: FutureWarning: DataFrame.applymap has been deprecated. Use DataFrame.map instead.\n",
      "  weird = (df[[col]].applymap(type) != df[[col]].iloc[0].apply(type)).any(axis = 1)\n"
     ]
    }
   ],
   "source": [
    "# Check for mixed data types\n",
    "\n",
    "for col in df.columns.tolist():\n",
    "  weird = (df[[col]].applymap(type) != df[[col]].iloc[0].apply(type)).any(axis = 1)\n",
    "  if len (df[weird]) > 0:\n",
    "    print (col)"
   ],
   "metadata": {
    "collapsed": false,
    "ExecuteTime": {
     "end_time": "2023-10-13T02:44:22.259233Z",
     "start_time": "2023-10-13T02:44:22.240496Z"
    }
   },
   "id": "6d48acf7f1326cff"
  },
  {
   "cell_type": "code",
   "execution_count": 26,
   "outputs": [],
   "source": [
    "# Update region to string data type\n",
    "\n",
    "df['Region'] = df['Region'].astype('str')"
   ],
   "metadata": {
    "collapsed": false,
    "ExecuteTime": {
     "end_time": "2023-10-13T02:46:26.333595Z",
     "start_time": "2023-10-13T02:46:26.324106Z"
    }
   },
   "id": "2b3dc8059ae9c047"
  },
  {
   "cell_type": "code",
   "execution_count": 27,
   "outputs": [
    {
     "name": "stderr",
     "output_type": "stream",
     "text": [
      "/var/folders/q4/1gjxbf_s0jbclz3c0q66rpdh0000gn/T/ipykernel_72642/958171467.py:4: FutureWarning: DataFrame.applymap has been deprecated. Use DataFrame.map instead.\n",
      "  weird = (df[[col]].applymap(type) != df[[col]].iloc[0].apply(type)).any(axis = 1)\n",
      "/var/folders/q4/1gjxbf_s0jbclz3c0q66rpdh0000gn/T/ipykernel_72642/958171467.py:4: FutureWarning: DataFrame.applymap has been deprecated. Use DataFrame.map instead.\n",
      "  weird = (df[[col]].applymap(type) != df[[col]].iloc[0].apply(type)).any(axis = 1)\n",
      "/var/folders/q4/1gjxbf_s0jbclz3c0q66rpdh0000gn/T/ipykernel_72642/958171467.py:4: FutureWarning: DataFrame.applymap has been deprecated. Use DataFrame.map instead.\n",
      "  weird = (df[[col]].applymap(type) != df[[col]].iloc[0].apply(type)).any(axis = 1)\n",
      "/var/folders/q4/1gjxbf_s0jbclz3c0q66rpdh0000gn/T/ipykernel_72642/958171467.py:4: FutureWarning: DataFrame.applymap has been deprecated. Use DataFrame.map instead.\n",
      "  weird = (df[[col]].applymap(type) != df[[col]].iloc[0].apply(type)).any(axis = 1)\n",
      "/var/folders/q4/1gjxbf_s0jbclz3c0q66rpdh0000gn/T/ipykernel_72642/958171467.py:4: FutureWarning: DataFrame.applymap has been deprecated. Use DataFrame.map instead.\n",
      "  weird = (df[[col]].applymap(type) != df[[col]].iloc[0].apply(type)).any(axis = 1)\n",
      "/var/folders/q4/1gjxbf_s0jbclz3c0q66rpdh0000gn/T/ipykernel_72642/958171467.py:4: FutureWarning: DataFrame.applymap has been deprecated. Use DataFrame.map instead.\n",
      "  weird = (df[[col]].applymap(type) != df[[col]].iloc[0].apply(type)).any(axis = 1)\n",
      "/var/folders/q4/1gjxbf_s0jbclz3c0q66rpdh0000gn/T/ipykernel_72642/958171467.py:4: FutureWarning: DataFrame.applymap has been deprecated. Use DataFrame.map instead.\n",
      "  weird = (df[[col]].applymap(type) != df[[col]].iloc[0].apply(type)).any(axis = 1)\n",
      "/var/folders/q4/1gjxbf_s0jbclz3c0q66rpdh0000gn/T/ipykernel_72642/958171467.py:4: FutureWarning: DataFrame.applymap has been deprecated. Use DataFrame.map instead.\n",
      "  weird = (df[[col]].applymap(type) != df[[col]].iloc[0].apply(type)).any(axis = 1)\n",
      "/var/folders/q4/1gjxbf_s0jbclz3c0q66rpdh0000gn/T/ipykernel_72642/958171467.py:4: FutureWarning: DataFrame.applymap has been deprecated. Use DataFrame.map instead.\n",
      "  weird = (df[[col]].applymap(type) != df[[col]].iloc[0].apply(type)).any(axis = 1)\n",
      "/var/folders/q4/1gjxbf_s0jbclz3c0q66rpdh0000gn/T/ipykernel_72642/958171467.py:4: FutureWarning: DataFrame.applymap has been deprecated. Use DataFrame.map instead.\n",
      "  weird = (df[[col]].applymap(type) != df[[col]].iloc[0].apply(type)).any(axis = 1)\n",
      "/var/folders/q4/1gjxbf_s0jbclz3c0q66rpdh0000gn/T/ipykernel_72642/958171467.py:4: FutureWarning: DataFrame.applymap has been deprecated. Use DataFrame.map instead.\n",
      "  weird = (df[[col]].applymap(type) != df[[col]].iloc[0].apply(type)).any(axis = 1)\n",
      "/var/folders/q4/1gjxbf_s0jbclz3c0q66rpdh0000gn/T/ipykernel_72642/958171467.py:4: FutureWarning: DataFrame.applymap has been deprecated. Use DataFrame.map instead.\n",
      "  weird = (df[[col]].applymap(type) != df[[col]].iloc[0].apply(type)).any(axis = 1)\n",
      "/var/folders/q4/1gjxbf_s0jbclz3c0q66rpdh0000gn/T/ipykernel_72642/958171467.py:4: FutureWarning: DataFrame.applymap has been deprecated. Use DataFrame.map instead.\n",
      "  weird = (df[[col]].applymap(type) != df[[col]].iloc[0].apply(type)).any(axis = 1)\n",
      "/var/folders/q4/1gjxbf_s0jbclz3c0q66rpdh0000gn/T/ipykernel_72642/958171467.py:4: FutureWarning: DataFrame.applymap has been deprecated. Use DataFrame.map instead.\n",
      "  weird = (df[[col]].applymap(type) != df[[col]].iloc[0].apply(type)).any(axis = 1)\n",
      "/var/folders/q4/1gjxbf_s0jbclz3c0q66rpdh0000gn/T/ipykernel_72642/958171467.py:4: FutureWarning: DataFrame.applymap has been deprecated. Use DataFrame.map instead.\n",
      "  weird = (df[[col]].applymap(type) != df[[col]].iloc[0].apply(type)).any(axis = 1)\n",
      "/var/folders/q4/1gjxbf_s0jbclz3c0q66rpdh0000gn/T/ipykernel_72642/958171467.py:4: FutureWarning: DataFrame.applymap has been deprecated. Use DataFrame.map instead.\n",
      "  weird = (df[[col]].applymap(type) != df[[col]].iloc[0].apply(type)).any(axis = 1)\n",
      "/var/folders/q4/1gjxbf_s0jbclz3c0q66rpdh0000gn/T/ipykernel_72642/958171467.py:4: FutureWarning: DataFrame.applymap has been deprecated. Use DataFrame.map instead.\n",
      "  weird = (df[[col]].applymap(type) != df[[col]].iloc[0].apply(type)).any(axis = 1)\n",
      "/var/folders/q4/1gjxbf_s0jbclz3c0q66rpdh0000gn/T/ipykernel_72642/958171467.py:4: FutureWarning: DataFrame.applymap has been deprecated. Use DataFrame.map instead.\n",
      "  weird = (df[[col]].applymap(type) != df[[col]].iloc[0].apply(type)).any(axis = 1)\n",
      "/var/folders/q4/1gjxbf_s0jbclz3c0q66rpdh0000gn/T/ipykernel_72642/958171467.py:4: FutureWarning: DataFrame.applymap has been deprecated. Use DataFrame.map instead.\n",
      "  weird = (df[[col]].applymap(type) != df[[col]].iloc[0].apply(type)).any(axis = 1)\n",
      "/var/folders/q4/1gjxbf_s0jbclz3c0q66rpdh0000gn/T/ipykernel_72642/958171467.py:4: FutureWarning: DataFrame.applymap has been deprecated. Use DataFrame.map instead.\n",
      "  weird = (df[[col]].applymap(type) != df[[col]].iloc[0].apply(type)).any(axis = 1)\n",
      "/var/folders/q4/1gjxbf_s0jbclz3c0q66rpdh0000gn/T/ipykernel_72642/958171467.py:4: FutureWarning: DataFrame.applymap has been deprecated. Use DataFrame.map instead.\n",
      "  weird = (df[[col]].applymap(type) != df[[col]].iloc[0].apply(type)).any(axis = 1)\n",
      "/var/folders/q4/1gjxbf_s0jbclz3c0q66rpdh0000gn/T/ipykernel_72642/958171467.py:4: FutureWarning: DataFrame.applymap has been deprecated. Use DataFrame.map instead.\n",
      "  weird = (df[[col]].applymap(type) != df[[col]].iloc[0].apply(type)).any(axis = 1)\n",
      "/var/folders/q4/1gjxbf_s0jbclz3c0q66rpdh0000gn/T/ipykernel_72642/958171467.py:4: FutureWarning: DataFrame.applymap has been deprecated. Use DataFrame.map instead.\n",
      "  weird = (df[[col]].applymap(type) != df[[col]].iloc[0].apply(type)).any(axis = 1)\n",
      "/var/folders/q4/1gjxbf_s0jbclz3c0q66rpdh0000gn/T/ipykernel_72642/958171467.py:4: FutureWarning: DataFrame.applymap has been deprecated. Use DataFrame.map instead.\n",
      "  weird = (df[[col]].applymap(type) != df[[col]].iloc[0].apply(type)).any(axis = 1)\n",
      "/var/folders/q4/1gjxbf_s0jbclz3c0q66rpdh0000gn/T/ipykernel_72642/958171467.py:4: FutureWarning: DataFrame.applymap has been deprecated. Use DataFrame.map instead.\n",
      "  weird = (df[[col]].applymap(type) != df[[col]].iloc[0].apply(type)).any(axis = 1)\n",
      "/var/folders/q4/1gjxbf_s0jbclz3c0q66rpdh0000gn/T/ipykernel_72642/958171467.py:4: FutureWarning: DataFrame.applymap has been deprecated. Use DataFrame.map instead.\n",
      "  weird = (df[[col]].applymap(type) != df[[col]].iloc[0].apply(type)).any(axis = 1)\n",
      "/var/folders/q4/1gjxbf_s0jbclz3c0q66rpdh0000gn/T/ipykernel_72642/958171467.py:4: FutureWarning: DataFrame.applymap has been deprecated. Use DataFrame.map instead.\n",
      "  weird = (df[[col]].applymap(type) != df[[col]].iloc[0].apply(type)).any(axis = 1)\n"
     ]
    }
   ],
   "source": [
    "# Check for mixed data types again\n",
    "\n",
    "for col in df.columns.tolist():\n",
    "  weird = (df[[col]].applymap(type) != df[[col]].iloc[0].apply(type)).any(axis = 1)\n",
    "  if len (df[weird]) > 0:\n",
    "    print (col)"
   ],
   "metadata": {
    "collapsed": false,
    "ExecuteTime": {
     "end_time": "2023-10-13T02:46:33.769152Z",
     "start_time": "2023-10-13T02:46:33.736979Z"
    }
   },
   "id": "d9931368501d6e"
  },
  {
   "cell_type": "markdown",
   "source": [
    "# 7. Further Explore Data"
   ],
   "metadata": {
    "collapsed": false
   },
   "id": "cc85e283230dc556"
  },
  {
   "cell_type": "markdown",
   "source": [
    "#### Check Values\n",
    "\n",
    "I want to get a little more information about what values that various columns contain"
   ],
   "metadata": {
    "collapsed": false
   },
   "id": "290b9f6c9dfd12ce"
  },
  {
   "cell_type": "code",
   "execution_count": 4,
   "outputs": [
    {
     "data": {
      "text/plain": "Country of Origin\nTaiwan                          59\nGuatemala                       20\nColombia                        16\nHonduras                        13\nThailand                        12\nEthiopia                        11\nCosta Rica                       8\nBrazil                           8\nNicaragua                        7\nEl Salvador                      7\nTanzania, United Republic Of     6\nUnited States (Hawaii)           5\nMexico                           4\nVietnam                          4\nPeru                             4\nUganda                           3\nLaos                             3\nPanama                           2\nKenya                            2\nIndonesia                        1\nMadagascar                       1\nMyanmar                          1\nName: count, dtype: int64"
     },
     "execution_count": 4,
     "metadata": {},
     "output_type": "execute_result"
    }
   ],
   "source": [
    "# Check the values in the Country of Origin column\n",
    "\n",
    "df['Country of Origin'].value_counts(dropna=False)"
   ],
   "metadata": {
    "collapsed": false,
    "ExecuteTime": {
     "end_time": "2023-10-16T23:31:04.415137Z",
     "start_time": "2023-10-16T23:31:04.400795Z"
    }
   },
   "id": "348114420f6eaebb"
  },
  {
   "cell_type": "code",
   "execution_count": 5,
   "outputs": [
    {
     "data": {
      "text/plain": "Category One Defects\n0    185\n1      5\n2      4\n3      1\n4      1\n5      1\nName: count, dtype: int64"
     },
     "execution_count": 5,
     "metadata": {},
     "output_type": "execute_result"
    }
   ],
   "source": [
    "# Check the values in the Category One Defects column\n",
    "\n",
    "df['Category One Defects'].value_counts(dropna=False)"
   ],
   "metadata": {
    "collapsed": false,
    "ExecuteTime": {
     "end_time": "2023-10-17T13:09:00.927167Z",
     "start_time": "2023-10-17T13:09:00.919532Z"
    }
   },
   "id": "e9655b776647af32"
  },
  {
   "cell_type": "code",
   "execution_count": 6,
   "outputs": [
    {
     "data": {
      "text/plain": "Category Two Defects\n0     71\n2     34\n1     32\n3     15\n5     13\n4     13\n7      5\n8      4\n12     3\n11     3\n9      1\n16     1\n10     1\n13     1\nName: count, dtype: int64"
     },
     "execution_count": 6,
     "metadata": {},
     "output_type": "execute_result"
    }
   ],
   "source": [
    "# Check the values in the Category Two Defects column\n",
    "\n",
    "df['Category Two Defects'].value_counts(dropna=False)"
   ],
   "metadata": {
    "collapsed": false,
    "ExecuteTime": {
     "end_time": "2023-10-17T13:09:37.765618Z",
     "start_time": "2023-10-17T13:09:37.754091Z"
    }
   },
   "id": "8c5dc618e0b4f92b"
  },
  {
   "cell_type": "code",
   "execution_count": 7,
   "outputs": [
    {
     "data": {
      "text/plain": "Quakers\n0     144\n1      23\n2      15\n3       7\n5       2\n7       1\n8       1\n6       1\n10      1\n9       1\n12      1\nName: count, dtype: int64"
     },
     "execution_count": 7,
     "metadata": {},
     "output_type": "execute_result"
    }
   ],
   "source": [
    "# Check the values in the Quakers column\n",
    "\n",
    "df['Quakers'].value_counts(dropna=False)"
   ],
   "metadata": {
    "collapsed": false,
    "ExecuteTime": {
     "end_time": "2023-10-17T13:10:02.465117Z",
     "start_time": "2023-10-17T13:10:02.454439Z"
    }
   },
   "id": "3957031ff2235554"
  },
  {
   "cell_type": "code",
   "execution_count": 8,
   "outputs": [
    {
     "data": {
      "text/plain": "Uniformity\n10.00    195\n9.33       1\n8.67       1\nName: count, dtype: int64"
     },
     "execution_count": 8,
     "metadata": {},
     "output_type": "execute_result"
    }
   ],
   "source": [
    "# Check the values in the Uniformity column\n",
    "\n",
    "df['Uniformity'].value_counts(dropna=False)"
   ],
   "metadata": {
    "collapsed": false,
    "ExecuteTime": {
     "end_time": "2023-10-17T13:15:41.044613Z",
     "start_time": "2023-10-17T13:15:41.040344Z"
    }
   },
   "id": "7ae0a4a5b7faf793"
  },
  {
   "cell_type": "code",
   "execution_count": 5,
   "outputs": [
    {
     "data": {
      "text/plain": "Harvest Year\n2021 / 2022    97\n2022           42\n2022 / 2023    40\n2021           13\n2023            3\n2017 / 2018     1\n2018 / 2019     1\nName: count, dtype: int64"
     },
     "execution_count": 5,
     "metadata": {},
     "output_type": "execute_result"
    }
   ],
   "source": [
    "# Check the values in the Harvest Year column\n",
    "\n",
    "df['Harvest Year'].value_counts(dropna=False)"
   ],
   "metadata": {
    "collapsed": false,
    "ExecuteTime": {
     "end_time": "2023-10-16T23:31:51.963913Z",
     "start_time": "2023-10-16T23:31:51.948173Z"
    }
   },
   "id": "9730e86ed81d3495"
  },
  {
   "cell_type": "code",
   "execution_count": 6,
   "outputs": [
    {
     "data": {
      "text/plain": "Processing Method\nWashed / Wet                            122\nNatural / Dry                            45\nPulped natural / honey                   23\nDouble Anaerobic Washed                   1\nSemi Washed                               1\nHoney,Mossto                              1\nDouble Carbonic Maceration / Natural      1\nWet Hulling                               1\nAnaerobico 1000h                          1\nSEMI-LAVADO                               1\nName: count, dtype: int64"
     },
     "execution_count": 6,
     "metadata": {},
     "output_type": "execute_result"
    }
   ],
   "source": [
    "# Check the values in the Processing Method column\n",
    "\n",
    "df['Processing Method'].value_counts(dropna=False)"
   ],
   "metadata": {
    "collapsed": false,
    "ExecuteTime": {
     "end_time": "2023-10-16T23:56:16.180450Z",
     "start_time": "2023-10-16T23:56:16.166334Z"
    }
   },
   "id": "f31394fe7ac71472"
  },
  {
   "cell_type": "code",
   "execution_count": 7,
   "outputs": [
    {
     "data": {
      "text/plain": "Variety\nCaturra                                                         27\nGesha                                                           26\nTypica                                                          22\nBourbon                                                         17\nunknown                                                         12\nCatuai                                                          12\nCatimor                                                         10\nEthiopian Heirlooms                                              9\nSL34                                                             8\nMundo Novo                                                       4\nJava                                                             3\nSHG                                                              3\nSL14                                                             3\nYellow Bourbon                                                   3\nParainema                                                        2\nPacamara                                                         2\nSarchimor                                                        2\nMaragogype                                                       2\nSL28                                                             2\nunknow                                                           1\nBourbon, Catimor, Caturra, Typica                                1\nCaturra-Catuai                                                   1\nTypica Bourbon Caturra Catimor                                   1\nSL28,SL34,Ruiru11                                                1\nYellow Catuai                                                    1\nCatucai                                                          1\nSantander                                                        1\nTypica Gesha                                                     1\nCaturra,Colombia,Castillo                                        1\nCastillo,Caturra,Bourbon                                         1\nPacas                                                            1\nGayo                                                             1\nCastillo                                                         1\nLempira                                                          1\nRed Bourbon,Caturra                                              1\nMARSELLESA, CATUAI, CATURRA & MARSELLESA, ANACAFE 14, CATUAI     1\nTypica + SL34                                                    1\nCatimor,Catuai,Caturra,Bourbon                                   1\nBourbon Sidra                                                    1\nBOURBON, CATURRA Y CATIMOR                                       1\nJember,TIM-TIM,Ateng                                             1\nCastillo and Colombia blend                                      1\nCatrenic                                                         1\nWolishalo,Kurume,Dega                                            1\nSl34+Gesha                                                       1\nRed Bourbon                                                      1\nCatuai and Mundo Novo                                            1\nName: count, dtype: int64"
     },
     "execution_count": 7,
     "metadata": {},
     "output_type": "execute_result"
    }
   ],
   "source": [
    "# Check the values in the Variety column\n",
    "\n",
    "df['Variety'].value_counts(dropna=False)"
   ],
   "metadata": {
    "collapsed": false,
    "ExecuteTime": {
     "end_time": "2023-10-16T23:56:52.257322Z",
     "start_time": "2023-10-16T23:56:52.240364Z"
    }
   },
   "id": "7380bff7a92afd3b"
  },
  {
   "cell_type": "code",
   "execution_count": 11,
   "outputs": [
    {
     "data": {
      "text/plain": "Altitude\n1200           20\n1600           12\n1300            7\n1400            7\n1250            6\n               ..\n1600-1750       1\n4895 A 5650     1\n400-600         1\n200-400         1\n850-1100        1\nName: count, Length: 95, dtype: int64"
     },
     "execution_count": 11,
     "metadata": {},
     "output_type": "execute_result"
    }
   ],
   "source": [
    "# Check the values in the Altitude column\n",
    "\n",
    "df['Altitude'].value_counts(dropna=False)"
   ],
   "metadata": {
    "collapsed": false,
    "ExecuteTime": {
     "end_time": "2023-10-17T01:41:52.614128Z",
     "start_time": "2023-10-17T01:41:52.592347Z"
    }
   },
   "id": "4b42d11cd039b42a"
  },
  {
   "cell_type": "code",
   "execution_count": 12,
   "outputs": [],
   "source": [
    "# This function will parse the Altitude column and find the average of ranges\n",
    "\n",
    "def calculate_average(range_str):\n",
    "    if '-' in range_str or 'A' in range_str or '~' in range_str:\n",
    "        # Split the range based on different separators\n",
    "        separators = ['-', 'A', '~']\n",
    "        for sep in separators:\n",
    "            if sep in range_str:\n",
    "                start, end = map(int, range_str.split(sep))\n",
    "                return (start + end) / 2\n",
    "    else:\n",
    "        # Return the whole value for single values\n",
    "        return int(range_str)\n",
    "    \n",
    "# Apply the calculate_average function to the Altitude column\n",
    "df['Altitude'] = df['Altitude'].apply(calculate_average)"
   ],
   "metadata": {
    "collapsed": false,
    "ExecuteTime": {
     "end_time": "2023-10-17T01:42:21.991105Z",
     "start_time": "2023-10-17T01:42:21.980567Z"
    }
   },
   "id": "775b18050acd6a16"
  },
  {
   "cell_type": "code",
   "execution_count": 13,
   "outputs": [
    {
     "data": {
      "text/plain": "          Country of Origin                  Farm Name  \\\n0                  Colombia           Finca El Paraiso   \n1                    Taiwan   Royal Bean Geisha Estate   \n2                      Laos         OKLAO coffee farms   \n3                Costa Rica                  La Cumbre   \n4                  Colombia            Finca Santuario   \n..                      ...                        ...   \n100                Ethiopia  Gerbicho Lela Cooperative   \n101                Colombia                      N / A   \n102  United States (Hawaii)              various farms   \n103                Colombia                 La Gallera   \n104                  Mexico             Finca Custepec   \n\n                         Company  Altitude                Region  \\\n0           Coffee Quality Union    1815.0        Piendamo,Cauca   \n1       Taiwan Coffee Laboratory    1200.0                Chiayi   \n2       Taiwan Coffee Laboratory    1300.0  Laos Borofen Plateau   \n3           Coffee Quality Union    1900.0    Los Santos,Tarrazu   \n4           Coffee Quality Union    1975.0         Popayan,Cauca   \n..                           ...       ...                   ...   \n100      Taylor Winch Coffee Ltd    2000.0                Sidama   \n101                ECOM COLOMBIA    1700.0                 Cauca   \n102     Taiwan Coffee Laboratory     500.0                  Ka'u   \n103     Taiwan Coffee Laboratory    1800.0                Tolima   \n104  Exportadora Café California    1200.0               Chiapas   \n\n                                    Producer  Number of Bags Bag Weight  \\\n0                      Diego Samuel Bermudez               1      35 kg   \n1                                        曾福森               1      80 kg   \n2                                 WU TAO CHI              19      25 kg   \n3                        Santa Maria de Dota               1      22 kg   \n4                           Camilo Merizalde               2      24 kg   \n..                                       ...             ...        ...   \n100  Sidama Coffee Farmers Cooperative Union             100      60 kg   \n101                       Regional producers             285      70 kg   \n102                      Isla Custom Coffees               4      15 kg   \n103               Oscar Javier Paez & Family              40      35 kg   \n104                          Armando Pohlenz             600      30 kg   \n\n    Harvest Year          Grading Date  ... Balance Uniformity  Overall  \\\n0    2021 / 2022  September 21st, 2022  ...    8.42       10.0     8.58   \n1    2021 / 2022   November 15th, 2022  ...    8.25       10.0     8.50   \n2    2021 / 2022   November 15th, 2022  ...    8.17       10.0     8.33   \n3           2022  September 21st, 2022  ...    8.08       10.0     8.25   \n4           2022       March 6th, 2023  ...    7.92       10.0     8.25   \n..           ...                   ...  ...     ...        ...      ...   \n100  2021 / 2022   September 9th, 2022  ...    7.67       10.0     7.75   \n101  2022 / 2023   February 22nd, 2023  ...    7.67       10.0     7.58   \n102         2022   November 15th, 2022  ...    7.75       10.0     7.75   \n103         2022   November 15th, 2022  ...    7.67       10.0     7.58   \n104  2022 / 2023       April 5th, 2023  ...    7.58       10.0     7.75   \n\n     Total Cup Points  Moisture Percentage  Category One Defects  Quakers  \\\n0               89.33                 11.8                     0        0   \n1               87.58                 10.5                     0        0   \n2               87.42                 10.4                     0        0   \n3               87.17                 11.8                     0        0   \n4               87.08                 11.6                     0        2   \n..                ...                  ...                   ...      ...   \n100             83.83                 12.0                     0        0   \n101             83.83                 12.1                     2        5   \n102             83.83                 11.8                     0        3   \n103             83.75                 10.6                     0        0   \n104             83.75                 11.7                     4        0   \n\n            Color  Category Two Defects            Expiration  \n0           green                     3  September 21st, 2023  \n1      blue-green                     0   November 15th, 2023  \n2       yellowish                     2   November 15th, 2023  \n3           green                     0  September 21st, 2023  \n4    yellow-green                     2       March 5th, 2024  \n..            ...                   ...                   ...  \n100         green                    12   September 9th, 2023  \n101         green                     5   February 22nd, 2024  \n102         green                     3   November 15th, 2023  \n103      greenish                     1   November 15th, 2023  \n104         green                    12       April 4th, 2024  \n\n[100 rows x 27 columns]",
      "text/html": "<div>\n<style scoped>\n    .dataframe tbody tr th:only-of-type {\n        vertical-align: middle;\n    }\n\n    .dataframe tbody tr th {\n        vertical-align: top;\n    }\n\n    .dataframe thead th {\n        text-align: right;\n    }\n</style>\n<table border=\"1\" class=\"dataframe\">\n  <thead>\n    <tr style=\"text-align: right;\">\n      <th></th>\n      <th>Country of Origin</th>\n      <th>Farm Name</th>\n      <th>Company</th>\n      <th>Altitude</th>\n      <th>Region</th>\n      <th>Producer</th>\n      <th>Number of Bags</th>\n      <th>Bag Weight</th>\n      <th>Harvest Year</th>\n      <th>Grading Date</th>\n      <th>...</th>\n      <th>Balance</th>\n      <th>Uniformity</th>\n      <th>Overall</th>\n      <th>Total Cup Points</th>\n      <th>Moisture Percentage</th>\n      <th>Category One Defects</th>\n      <th>Quakers</th>\n      <th>Color</th>\n      <th>Category Two Defects</th>\n      <th>Expiration</th>\n    </tr>\n  </thead>\n  <tbody>\n    <tr>\n      <th>0</th>\n      <td>Colombia</td>\n      <td>Finca El Paraiso</td>\n      <td>Coffee Quality Union</td>\n      <td>1815.0</td>\n      <td>Piendamo,Cauca</td>\n      <td>Diego Samuel Bermudez</td>\n      <td>1</td>\n      <td>35 kg</td>\n      <td>2021 / 2022</td>\n      <td>September 21st, 2022</td>\n      <td>...</td>\n      <td>8.42</td>\n      <td>10.0</td>\n      <td>8.58</td>\n      <td>89.33</td>\n      <td>11.8</td>\n      <td>0</td>\n      <td>0</td>\n      <td>green</td>\n      <td>3</td>\n      <td>September 21st, 2023</td>\n    </tr>\n    <tr>\n      <th>1</th>\n      <td>Taiwan</td>\n      <td>Royal Bean Geisha Estate</td>\n      <td>Taiwan Coffee Laboratory</td>\n      <td>1200.0</td>\n      <td>Chiayi</td>\n      <td>曾福森</td>\n      <td>1</td>\n      <td>80 kg</td>\n      <td>2021 / 2022</td>\n      <td>November 15th, 2022</td>\n      <td>...</td>\n      <td>8.25</td>\n      <td>10.0</td>\n      <td>8.50</td>\n      <td>87.58</td>\n      <td>10.5</td>\n      <td>0</td>\n      <td>0</td>\n      <td>blue-green</td>\n      <td>0</td>\n      <td>November 15th, 2023</td>\n    </tr>\n    <tr>\n      <th>2</th>\n      <td>Laos</td>\n      <td>OKLAO coffee farms</td>\n      <td>Taiwan Coffee Laboratory</td>\n      <td>1300.0</td>\n      <td>Laos Borofen Plateau</td>\n      <td>WU TAO CHI</td>\n      <td>19</td>\n      <td>25 kg</td>\n      <td>2021 / 2022</td>\n      <td>November 15th, 2022</td>\n      <td>...</td>\n      <td>8.17</td>\n      <td>10.0</td>\n      <td>8.33</td>\n      <td>87.42</td>\n      <td>10.4</td>\n      <td>0</td>\n      <td>0</td>\n      <td>yellowish</td>\n      <td>2</td>\n      <td>November 15th, 2023</td>\n    </tr>\n    <tr>\n      <th>3</th>\n      <td>Costa Rica</td>\n      <td>La Cumbre</td>\n      <td>Coffee Quality Union</td>\n      <td>1900.0</td>\n      <td>Los Santos,Tarrazu</td>\n      <td>Santa Maria de Dota</td>\n      <td>1</td>\n      <td>22 kg</td>\n      <td>2022</td>\n      <td>September 21st, 2022</td>\n      <td>...</td>\n      <td>8.08</td>\n      <td>10.0</td>\n      <td>8.25</td>\n      <td>87.17</td>\n      <td>11.8</td>\n      <td>0</td>\n      <td>0</td>\n      <td>green</td>\n      <td>0</td>\n      <td>September 21st, 2023</td>\n    </tr>\n    <tr>\n      <th>4</th>\n      <td>Colombia</td>\n      <td>Finca Santuario</td>\n      <td>Coffee Quality Union</td>\n      <td>1975.0</td>\n      <td>Popayan,Cauca</td>\n      <td>Camilo Merizalde</td>\n      <td>2</td>\n      <td>24 kg</td>\n      <td>2022</td>\n      <td>March 6th, 2023</td>\n      <td>...</td>\n      <td>7.92</td>\n      <td>10.0</td>\n      <td>8.25</td>\n      <td>87.08</td>\n      <td>11.6</td>\n      <td>0</td>\n      <td>2</td>\n      <td>yellow-green</td>\n      <td>2</td>\n      <td>March 5th, 2024</td>\n    </tr>\n    <tr>\n      <th>...</th>\n      <td>...</td>\n      <td>...</td>\n      <td>...</td>\n      <td>...</td>\n      <td>...</td>\n      <td>...</td>\n      <td>...</td>\n      <td>...</td>\n      <td>...</td>\n      <td>...</td>\n      <td>...</td>\n      <td>...</td>\n      <td>...</td>\n      <td>...</td>\n      <td>...</td>\n      <td>...</td>\n      <td>...</td>\n      <td>...</td>\n      <td>...</td>\n      <td>...</td>\n      <td>...</td>\n    </tr>\n    <tr>\n      <th>100</th>\n      <td>Ethiopia</td>\n      <td>Gerbicho Lela Cooperative</td>\n      <td>Taylor Winch Coffee Ltd</td>\n      <td>2000.0</td>\n      <td>Sidama</td>\n      <td>Sidama Coffee Farmers Cooperative Union</td>\n      <td>100</td>\n      <td>60 kg</td>\n      <td>2021 / 2022</td>\n      <td>September 9th, 2022</td>\n      <td>...</td>\n      <td>7.67</td>\n      <td>10.0</td>\n      <td>7.75</td>\n      <td>83.83</td>\n      <td>12.0</td>\n      <td>0</td>\n      <td>0</td>\n      <td>green</td>\n      <td>12</td>\n      <td>September 9th, 2023</td>\n    </tr>\n    <tr>\n      <th>101</th>\n      <td>Colombia</td>\n      <td>N / A</td>\n      <td>ECOM COLOMBIA</td>\n      <td>1700.0</td>\n      <td>Cauca</td>\n      <td>Regional producers</td>\n      <td>285</td>\n      <td>70 kg</td>\n      <td>2022 / 2023</td>\n      <td>February 22nd, 2023</td>\n      <td>...</td>\n      <td>7.67</td>\n      <td>10.0</td>\n      <td>7.58</td>\n      <td>83.83</td>\n      <td>12.1</td>\n      <td>2</td>\n      <td>5</td>\n      <td>green</td>\n      <td>5</td>\n      <td>February 22nd, 2024</td>\n    </tr>\n    <tr>\n      <th>102</th>\n      <td>United States (Hawaii)</td>\n      <td>various farms</td>\n      <td>Taiwan Coffee Laboratory</td>\n      <td>500.0</td>\n      <td>Ka'u</td>\n      <td>Isla Custom Coffees</td>\n      <td>4</td>\n      <td>15 kg</td>\n      <td>2022</td>\n      <td>November 15th, 2022</td>\n      <td>...</td>\n      <td>7.75</td>\n      <td>10.0</td>\n      <td>7.75</td>\n      <td>83.83</td>\n      <td>11.8</td>\n      <td>0</td>\n      <td>3</td>\n      <td>green</td>\n      <td>3</td>\n      <td>November 15th, 2023</td>\n    </tr>\n    <tr>\n      <th>103</th>\n      <td>Colombia</td>\n      <td>La Gallera</td>\n      <td>Taiwan Coffee Laboratory</td>\n      <td>1800.0</td>\n      <td>Tolima</td>\n      <td>Oscar Javier Paez &amp; Family</td>\n      <td>40</td>\n      <td>35 kg</td>\n      <td>2022</td>\n      <td>November 15th, 2022</td>\n      <td>...</td>\n      <td>7.67</td>\n      <td>10.0</td>\n      <td>7.58</td>\n      <td>83.75</td>\n      <td>10.6</td>\n      <td>0</td>\n      <td>0</td>\n      <td>greenish</td>\n      <td>1</td>\n      <td>November 15th, 2023</td>\n    </tr>\n    <tr>\n      <th>104</th>\n      <td>Mexico</td>\n      <td>Finca Custepec</td>\n      <td>Exportadora Café California</td>\n      <td>1200.0</td>\n      <td>Chiapas</td>\n      <td>Armando Pohlenz</td>\n      <td>600</td>\n      <td>30 kg</td>\n      <td>2022 / 2023</td>\n      <td>April 5th, 2023</td>\n      <td>...</td>\n      <td>7.58</td>\n      <td>10.0</td>\n      <td>7.75</td>\n      <td>83.75</td>\n      <td>11.7</td>\n      <td>4</td>\n      <td>0</td>\n      <td>green</td>\n      <td>12</td>\n      <td>April 4th, 2024</td>\n    </tr>\n  </tbody>\n</table>\n<p>100 rows × 27 columns</p>\n</div>"
     },
     "execution_count": 13,
     "metadata": {},
     "output_type": "execute_result"
    }
   ],
   "source": [
    "df.head(100)"
   ],
   "metadata": {
    "collapsed": false,
    "ExecuteTime": {
     "end_time": "2023-10-17T01:42:35.249129Z",
     "start_time": "2023-10-17T01:42:35.230570Z"
    }
   },
   "id": "d1b3e946d6793066"
  },
  {
   "cell_type": "markdown",
   "source": [
    "#### Run Describe"
   ],
   "metadata": {
    "collapsed": false
   },
   "id": "ac1f24bfac5c16e8"
  },
  {
   "cell_type": "code",
   "execution_count": 14,
   "outputs": [
    {
     "data": {
      "text/plain": "          Altitude  Number of Bags       Aroma      Flavor  Aftertaste  \\\ncount   197.000000      197.000000  197.000000  197.000000  197.000000   \nmean   1318.055838      152.868020    7.720406    7.746142    7.600558   \nstd     732.920889      247.500985    0.291451    0.280206    0.277807   \nmin     139.000000        1.000000    6.500000    6.750000    6.670000   \n25%    1000.000000        1.000000    7.580000    7.580000    7.420000   \n50%    1340.000000       10.000000    7.670000    7.750000    7.580000   \n75%    1600.000000      275.000000    7.920000    7.920000    7.750000   \nmax    5400.000000     2240.000000    8.580000    8.500000    8.420000   \n\n          Acidity        Body     Balance  Uniformity     Overall  \\\ncount  197.000000  197.000000  197.000000  197.000000  197.000000   \nmean     7.688528    7.642944    7.645888    9.989848    7.676904   \nstd      0.258832    0.233753    0.258036    0.105885    0.309621   \nmin      6.830000    6.830000    6.670000    8.670000    6.670000   \n25%      7.500000    7.500000    7.500000   10.000000    7.500000   \n50%      7.670000    7.670000    7.670000   10.000000    7.670000   \n75%      7.830000    7.750000    7.750000   10.000000    7.920000   \nmax      8.580000    8.250000    8.420000   10.000000    8.580000   \n\n       Total Cup Points  Moisture Percentage  Category One Defects  \\\ncount        197.000000           197.000000            197.000000   \nmean          83.709848            10.698985              0.126904   \nstd            1.739459             1.257954              0.588267   \nmin           78.000000             0.000000              0.000000   \n25%           82.580000            10.000000              0.000000   \n50%           83.750000            10.800000              0.000000   \n75%           84.830000            11.500000              0.000000   \nmax           89.330000            13.500000              5.000000   \n\n          Quakers  Category Two Defects  \ncount  197.000000            197.000000  \nmean     0.690355              2.263959  \nstd      1.714452              2.969465  \nmin      0.000000              0.000000  \n25%      0.000000              0.000000  \n50%      0.000000              1.000000  \n75%      1.000000              3.000000  \nmax     12.000000             16.000000  ",
      "text/html": "<div>\n<style scoped>\n    .dataframe tbody tr th:only-of-type {\n        vertical-align: middle;\n    }\n\n    .dataframe tbody tr th {\n        vertical-align: top;\n    }\n\n    .dataframe thead th {\n        text-align: right;\n    }\n</style>\n<table border=\"1\" class=\"dataframe\">\n  <thead>\n    <tr style=\"text-align: right;\">\n      <th></th>\n      <th>Altitude</th>\n      <th>Number of Bags</th>\n      <th>Aroma</th>\n      <th>Flavor</th>\n      <th>Aftertaste</th>\n      <th>Acidity</th>\n      <th>Body</th>\n      <th>Balance</th>\n      <th>Uniformity</th>\n      <th>Overall</th>\n      <th>Total Cup Points</th>\n      <th>Moisture Percentage</th>\n      <th>Category One Defects</th>\n      <th>Quakers</th>\n      <th>Category Two Defects</th>\n    </tr>\n  </thead>\n  <tbody>\n    <tr>\n      <th>count</th>\n      <td>197.000000</td>\n      <td>197.000000</td>\n      <td>197.000000</td>\n      <td>197.000000</td>\n      <td>197.000000</td>\n      <td>197.000000</td>\n      <td>197.000000</td>\n      <td>197.000000</td>\n      <td>197.000000</td>\n      <td>197.000000</td>\n      <td>197.000000</td>\n      <td>197.000000</td>\n      <td>197.000000</td>\n      <td>197.000000</td>\n      <td>197.000000</td>\n    </tr>\n    <tr>\n      <th>mean</th>\n      <td>1318.055838</td>\n      <td>152.868020</td>\n      <td>7.720406</td>\n      <td>7.746142</td>\n      <td>7.600558</td>\n      <td>7.688528</td>\n      <td>7.642944</td>\n      <td>7.645888</td>\n      <td>9.989848</td>\n      <td>7.676904</td>\n      <td>83.709848</td>\n      <td>10.698985</td>\n      <td>0.126904</td>\n      <td>0.690355</td>\n      <td>2.263959</td>\n    </tr>\n    <tr>\n      <th>std</th>\n      <td>732.920889</td>\n      <td>247.500985</td>\n      <td>0.291451</td>\n      <td>0.280206</td>\n      <td>0.277807</td>\n      <td>0.258832</td>\n      <td>0.233753</td>\n      <td>0.258036</td>\n      <td>0.105885</td>\n      <td>0.309621</td>\n      <td>1.739459</td>\n      <td>1.257954</td>\n      <td>0.588267</td>\n      <td>1.714452</td>\n      <td>2.969465</td>\n    </tr>\n    <tr>\n      <th>min</th>\n      <td>139.000000</td>\n      <td>1.000000</td>\n      <td>6.500000</td>\n      <td>6.750000</td>\n      <td>6.670000</td>\n      <td>6.830000</td>\n      <td>6.830000</td>\n      <td>6.670000</td>\n      <td>8.670000</td>\n      <td>6.670000</td>\n      <td>78.000000</td>\n      <td>0.000000</td>\n      <td>0.000000</td>\n      <td>0.000000</td>\n      <td>0.000000</td>\n    </tr>\n    <tr>\n      <th>25%</th>\n      <td>1000.000000</td>\n      <td>1.000000</td>\n      <td>7.580000</td>\n      <td>7.580000</td>\n      <td>7.420000</td>\n      <td>7.500000</td>\n      <td>7.500000</td>\n      <td>7.500000</td>\n      <td>10.000000</td>\n      <td>7.500000</td>\n      <td>82.580000</td>\n      <td>10.000000</td>\n      <td>0.000000</td>\n      <td>0.000000</td>\n      <td>0.000000</td>\n    </tr>\n    <tr>\n      <th>50%</th>\n      <td>1340.000000</td>\n      <td>10.000000</td>\n      <td>7.670000</td>\n      <td>7.750000</td>\n      <td>7.580000</td>\n      <td>7.670000</td>\n      <td>7.670000</td>\n      <td>7.670000</td>\n      <td>10.000000</td>\n      <td>7.670000</td>\n      <td>83.750000</td>\n      <td>10.800000</td>\n      <td>0.000000</td>\n      <td>0.000000</td>\n      <td>1.000000</td>\n    </tr>\n    <tr>\n      <th>75%</th>\n      <td>1600.000000</td>\n      <td>275.000000</td>\n      <td>7.920000</td>\n      <td>7.920000</td>\n      <td>7.750000</td>\n      <td>7.830000</td>\n      <td>7.750000</td>\n      <td>7.750000</td>\n      <td>10.000000</td>\n      <td>7.920000</td>\n      <td>84.830000</td>\n      <td>11.500000</td>\n      <td>0.000000</td>\n      <td>1.000000</td>\n      <td>3.000000</td>\n    </tr>\n    <tr>\n      <th>max</th>\n      <td>5400.000000</td>\n      <td>2240.000000</td>\n      <td>8.580000</td>\n      <td>8.500000</td>\n      <td>8.420000</td>\n      <td>8.580000</td>\n      <td>8.250000</td>\n      <td>8.420000</td>\n      <td>10.000000</td>\n      <td>8.580000</td>\n      <td>89.330000</td>\n      <td>13.500000</td>\n      <td>5.000000</td>\n      <td>12.000000</td>\n      <td>16.000000</td>\n    </tr>\n  </tbody>\n</table>\n</div>"
     },
     "execution_count": 14,
     "metadata": {},
     "output_type": "execute_result"
    }
   ],
   "source": [
    "# Run describe\n",
    "\n",
    "df.describe()"
   ],
   "metadata": {
    "collapsed": false,
    "ExecuteTime": {
     "end_time": "2023-10-17T01:42:42.929673Z",
     "start_time": "2023-10-17T01:42:42.905789Z"
    }
   },
   "id": "91f587931b251233"
  },
  {
   "cell_type": "markdown",
   "source": [
    "# 8. Export Dataframe"
   ],
   "metadata": {
    "collapsed": false
   },
   "id": "311f1dc274cd1831"
  },
  {
   "cell_type": "code",
   "execution_count": 15,
   "outputs": [],
   "source": [
    "  # Export our dataframe\n",
    "\n",
    "df.to_pickle(os.path.join(path, '02 Data','Prepared Data', 'coffee_final.pkl'))"
   ],
   "metadata": {
    "collapsed": false,
    "ExecuteTime": {
     "end_time": "2023-10-17T01:43:17.489811Z",
     "start_time": "2023-10-17T01:43:17.457426Z"
    }
   },
   "id": "26b5ea5f6ebcaaae"
  },
  {
   "cell_type": "code",
   "execution_count": null,
   "outputs": [],
   "source": [],
   "metadata": {
    "collapsed": false
   },
   "id": "b53ee5b9461fa02a"
  }
 ],
 "metadata": {
  "kernelspec": {
   "display_name": "Python 3",
   "language": "python",
   "name": "python3"
  },
  "language_info": {
   "codemirror_mode": {
    "name": "ipython",
    "version": 2
   },
   "file_extension": ".py",
   "mimetype": "text/x-python",
   "name": "python",
   "nbconvert_exporter": "python",
   "pygments_lexer": "ipython2",
   "version": "2.7.6"
  }
 },
 "nbformat": 4,
 "nbformat_minor": 5
}
