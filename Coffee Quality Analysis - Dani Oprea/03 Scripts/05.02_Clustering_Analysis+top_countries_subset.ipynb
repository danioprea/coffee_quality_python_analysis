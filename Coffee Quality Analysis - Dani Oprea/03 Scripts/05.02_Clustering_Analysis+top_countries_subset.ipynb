{
 "cells": [
  {
   "cell_type": "markdown",
   "source": [
    "Contents\n",
    "\n",
    "1. Importing Libraries and Data Set\n",
    "2. The Elbow Technique\n",
    "3. k-Means Clustering\n",
    "4. Grouping & Descriptive Stats\n",
    "5. Exporting Data Set"
   ],
   "metadata": {
    "collapsed": false
   },
   "id": "2c820b870b6aad4f"
  },
  {
   "cell_type": "markdown",
   "source": [
    "# 1. Importing Libraries and Data Set"
   ],
   "metadata": {
    "collapsed": false
   },
   "id": "270bd554be62a380"
  },
  {
   "cell_type": "code",
   "execution_count": 1,
   "outputs": [],
   "source": [
    "# Importing Libraries\n",
    "\n",
    "import pandas as pd\n",
    "import numpy as np\n",
    "import seaborn as sns\n",
    "import matplotlib\n",
    "import matplotlib.pyplot as plt\n",
    "import plotly.express as px\n",
    "import os\n",
    "import sklearn\n",
    "from sklearn.cluster import KMeans\n",
    "import pylab as pl\n",
    "from sklearn.preprocessing import StandardScaler\n",
    "from scipy.stats import f_oneway"
   ],
   "metadata": {
    "collapsed": false,
    "ExecuteTime": {
     "end_time": "2023-11-23T00:23:30.673188Z",
     "start_time": "2023-11-23T00:23:30.372234Z"
    }
   },
   "id": "a6828947d354a1b5"
  },
  {
   "cell_type": "code",
   "execution_count": 2,
   "outputs": [],
   "source": [
    "# This option ensures the graphs you create are displayed in your notebook without the need to \"call\" them specifically.\n",
    "\n",
    "%matplotlib inline"
   ],
   "metadata": {
    "collapsed": false,
    "ExecuteTime": {
     "end_time": "2023-11-23T00:23:31.439583Z",
     "start_time": "2023-11-23T00:23:31.424767Z"
    }
   },
   "id": "86344f47e11bf227"
  },
  {
   "cell_type": "code",
   "execution_count": 3,
   "outputs": [],
   "source": [
    "# Set path\n",
    "\n",
    "path = r'/Users/danioprea/Desktop/Data Analytics/Coffee Quality Analysis - Dani Oprea'"
   ],
   "metadata": {
    "collapsed": false,
    "ExecuteTime": {
     "end_time": "2023-11-23T00:23:36.564750Z",
     "start_time": "2023-11-23T00:23:36.544973Z"
    }
   },
   "id": "cf2ecec664682831"
  },
  {
   "cell_type": "code",
   "execution_count": 4,
   "outputs": [],
   "source": [
    "# Import data set with pandas\n",
    "\n",
    "df = pd.read_pickle(os.path.join(path, '02 Data','Prepared Data', 'coffee_final.pkl'))"
   ],
   "metadata": {
    "collapsed": false,
    "ExecuteTime": {
     "end_time": "2023-11-23T00:23:37.350230Z",
     "start_time": "2023-11-23T00:23:37.335884Z"
    }
   },
   "id": "c72a38e21d0beba7"
  },
  {
   "cell_type": "code",
   "execution_count": 5,
   "outputs": [
    {
     "data": {
      "text/plain": "               Country of Origin  \\\n0                       Colombia   \n1                         Taiwan   \n2                           Laos   \n3                     Costa Rica   \n4                       Colombia   \n5                      Guatemala   \n6                         Taiwan   \n7                         Taiwan   \n8                         Taiwan   \n9   Tanzania, United Republic Of   \n10                      Ethiopia   \n11                     Guatemala   \n12                        Taiwan   \n13                      Ethiopia   \n14                      Colombia   \n15                        Taiwan   \n16                      Ethiopia   \n17                        Taiwan   \n18                        Taiwan   \n19  Tanzania, United Republic Of   \n20                     Guatemala   \n21                        Taiwan   \n22                      Thailand   \n24                        Taiwan   \n26                        Taiwan   \n27                        Taiwan   \n28                        Taiwan   \n29        United States (Hawaii)   \n30                        Taiwan   \n31                        Taiwan   \n32                        Taiwan   \n33                      Ethiopia   \n34                      Ethiopia   \n35                      Ethiopia   \n36                        Taiwan   \n37                        Taiwan   \n38                         Kenya   \n39                        Taiwan   \n40                        Taiwan   \n41                        Taiwan   \n42                        Taiwan   \n43                        Uganda   \n45                        Taiwan   \n46                     Guatemala   \n47                     Guatemala   \n48                     Guatemala   \n49                        Taiwan   \n50                        Taiwan   \n52                          Peru   \n53  Tanzania, United Republic Of   \n\n                                            Farm Name  \\\n0                                    Finca El Paraiso   \n1                            Royal Bean Geisha Estate   \n2                                  OKLAO coffee farms   \n3                                           La Cumbre   \n4                                     Finca Santuario   \n5                                           La Colina   \n6                     野牡丹咖啡莊園 Melastoma Coffee Estate   \n7            七彩琉璃咖啡莊園 Chi Tsai Liu Li Ecological Farm   \n8                       亮軒咖啡莊園 Liang Xuan Coffee Farm   \n9                                       MASHIMA AMCOS   \n10                                            TADE GG   \n11                         Karen Acajabon Coffee Farm   \n12                         古峰咖啡莊園 Goodfun Coffee Farm   \n13                                      Gelana Geisha   \n14                                        La Gaitania   \n15                                             青葉咖啡莊園   \n16                             Halo Bariti Cooprative   \n17                                             東璧咖啡莊園   \n18                                          櫻桃果古坑咖啡莊園   \n19                                              BURKA   \n20                                Finca Vista Hermosa   \n21                   仲大叔咖啡莊園Uncle Chung.s Coffee Farm   \n22                                            Hom Doi   \n24                                             永舜咖啡莊園   \n26                                     鄒築園ZouZhouYuan   \n27                                             嵩岳咖啡莊園   \n28                                            他扶芽有機農園   \n29                                     Hokukano Ranch   \n30                      鄉庭有機農場Siang-Ting Organic Farm   \n31                      鄉庭有機農場Siang-Ting Organic Farm   \n32                      金讚咖啡農莊園(Jinzan Coffee Estate)   \n33                                        Eshetu farm   \n34                       Uraga Bisrat washing station   \n35                                    YHAENU PLC FARM   \n36                                            卓武山咖啡農場   \n37                       御香咖啡園 YU SIANG Coffee Estate   \n38                                       Small Holder   \n39                                             皇庭咖啡莊園   \n40  花蓮縣秀林鄉特用作物（咖啡）產銷第一班Agriculture Production and ...   \n41                                               八一高地   \n42                                              香夾蘭莊園   \n43                                        Gideon Kule   \n45                                            青山坪咖啡農場   \n46                                      varias fincas   \n47                                        PEÑA BLANCA   \n48                               san francisco cotzal   \n49                                                六曲窩   \n50                                               北平山林   \n52                                     Ruya Yayu Farm   \n53                                             IYENGA   \n\n                                     Company  Altitude  \\\n0                       Coffee Quality Union    1815.0   \n1                   Taiwan Coffee Laboratory    1200.0   \n2                   Taiwan Coffee Laboratory    1300.0   \n3                       Coffee Quality Union    1900.0   \n4                       Coffee Quality Union    1975.0   \n5                   Taiwan Coffee Laboratory    1668.0   \n6                   Taiwan Coffee Laboratory    1250.0   \n7                   Taiwan Coffee Laboratory    1200.0   \n8                   Taiwan Coffee Laboratory    1250.0   \n9                         DORMAN (T) LIMITED    1550.0   \n10                           Marubeni corp.,    2000.0   \n11                  Taiwan Coffee Laboratory    2000.0   \n12                  Taiwan Coffee Laboratory    1250.0   \n13                    Kerchanshe Trading PLC    1950.0   \n14                  Taiwan Coffee Laboratory    1850.0   \n15                  Taiwan Coffee Laboratory    1100.0   \n16                      Coffee Quality Union    2000.0   \n17                             Dongbi coffee    1300.0   \n18                                  宸嶧國際有限公司    1200.0   \n19                        DORMAN (T) LIMITED    1585.0   \n20                  Taiwan Coffee Laboratory    1900.0   \n21                  Taiwan Coffee Laboratory     850.0   \n22                                    Lyrose    1600.0   \n24                  Taiwan Coffee Laboratory    1250.0   \n26                  Taiwan Coffee Laboratory    1300.0   \n27                  Taiwan Coffee Laboratory    1200.0   \n28                  Taiwan Coffee Laboratory    1060.0   \n29                  Taiwan Coffee Laboratory     600.0   \n30                  Taiwan Coffee Laboratory     200.0   \n31                  Taiwan Coffee Laboratory     200.0   \n32                  Taiwan Coffee Laboratory     668.0   \n33                                Alo Coffee    1950.0   \n34             TADESSE DESTA IMPORT & EXPORT    2250.0   \n35                                yhaenu plc    1700.0   \n36                  Taiwan Coffee Laboratory    1200.0   \n37                  Taiwan Coffee Laboratory     650.0   \n38                             IBERO (K) LTD    1750.0   \n39                                  宸嶧國際有限公司     850.0   \n40                  Taiwan Coffee Laboratory     400.0   \n41                                茂泰生技股份有限公司    1000.0   \n42                  Taiwu Coffee Cooperative     800.0   \n43                 Kyagalanyi Coffee Limited    1905.0   \n45                  Taiwan Coffee Laboratory     800.0   \n46                    Peter Schoenfeld, S.A.    1600.0   \n47                 OLAM AGRO GUATEMALA, S.A.    4700.0   \n48  inmobiliaria e inversiones dos mil, s.a.    1600.0   \n49                  Taiwu Coffee Cooperative     375.0   \n50                  Taiwu Coffee Cooperative     230.0   \n52                  Taiwan Coffee Laboratory    1750.0   \n53          VOLCAFE/TaylorWinch Tanzania Ltd    1654.0   \n\n                                               Region  \\\n0                                      Piendamo,Cauca   \n1                                              Chiayi   \n2                                Laos Borofen Plateau   \n3                                  Los Santos,Tarrazu   \n4                                       Popayan,Cauca   \n5                                       Chimaltenango   \n6                                              Chiayi   \n7                                              Chiayi   \n8                                              Chiayi   \n9                                         KILIMANJARO   \n10                                               Guji   \n11                                         Acatenango   \n12                                             Yunlin   \n13                                               Guji   \n14                                             tolima   \n15                                             Chiayi   \n16                           Gedeb,Yirgacheffe,Sidamo   \n17  Shibi, Gukeng Township, Yunlin County 郵遞區號 , T...   \n18                     Gukeng Township, Yunlin County   \n19                                             Arusha   \n20                   Guatemala, Fraijanes, Santa Rosa   \n21                                 卓溪鄉Zhuoxi Township   \n22                                         Chiang Mai   \n24                                             Yunlin   \n26                                             Chiayi   \n27                                             Yunlin   \n28                                             Chiayi   \n29                                               Kona   \n30                               壽豐鄉Shoufeng Township   \n31                               壽豐鄉Shoufeng Township   \n32                        Dongshan Dist., Tainan City   \n33                                             Oromia   \n34                             Southern Ethiopia Guji   \n35                                             OROMIA   \n36                                             Chiayi   \n37                        Dongshan Dist., Tainan City   \n38                                            Central   \n39           Caoling , Gukeng Township, Yunlin County   \n40                            秀林鄉Show Linxia Township   \n41                                               台灣屏東   \n42                                                苗栗縣   \n43                                           Rwenzori   \n45                                             Yunlin   \n46                                            Antigua   \n47                                         Santa Rosa   \n48                                             quiche   \n49                                                新竹縣   \n50                                                新竹縣   \n52                                         Villa Rica   \n53                                              Mbeya   \n\n                        Producer  Number of Bags Bag Weight Harvest Year  \\\n0          Diego Samuel Bermudez               1      35 kg  2021 / 2022   \n1                            曾福森               1      80 kg  2021 / 2022   \n2                     WU TAO CHI              19      25 kg  2021 / 2022   \n3            Santa Maria de Dota               1      22 kg         2022   \n4               Camilo Merizalde               2      24 kg         2022   \n5   Emilio Antonio Medina Garcia               5      30 kg         2022   \n6                            黃保錫               1      27 kg  2021 / 2022   \n7                            莊家榮               1      90 kg  2021 / 2022   \n8                            鍾旭亮               1      30 kg  2021 / 2022   \n9             DORMAN (T) LIMITED             320      60 kg  2022 / 2023   \n10         Tesfaye Bekele Degaga              10      30 kg  2021 / 2022   \n11                Karen Acajabon               5      15 kg         2021   \n12                           賴彥合               1      60 kg  2021 / 2022   \n13                    Kerchanshe              40      60 kg  2021 / 2022   \n14           Josue Enciso Suarez              70      35 kg  2021 / 2022   \n15                           葉世遠               1      60 kg  2021 / 2022   \n16        Halo Bariti Cooprative               8       5 kg         2022   \n17                           陳景立               5       2 kg         2022   \n18                           王瀅惠               8       1 kg  2021 / 2022   \n19            DORMAN (T) LIMITED             200      30 kg  2022 / 2023   \n20                 Fredy Orantes               8      30 kg  2021 / 2022   \n21                游婷淯 YU TING YU               1      20 kg         2022   \n22                  Lisu farmers               2       1 kg  2021 / 2022   \n24                           蘇甘永               4      50 kg  2021 / 2022   \n26                           方政倫               1     100 kg  2021 / 2022   \n27                           郭志豪               1      90 kg  2021 / 2022   \n28                           陳清龍               1      85 kg  2021 / 2022   \n29                Kona Hills LLC              80      15 kg  2021 / 2022   \n30               張進義Zhang Jin-Yi               3      48 kg         2022   \n31               張進義Zhang Jin-Yi               3      50 kg         2022   \n32             葉明讚 (YE,MING-ZAN)               4       5 kg         2022   \n33                        Eshetu             320      60 kg  2021 / 2022   \n34                 Bisrat Melaku             320      60 kg  2021 / 2022   \n35                    YHAENU PLC             320   19200 kg  2021 / 2022   \n36                           許定燁               1     100 kg  2021 / 2022   \n37          陳建源(CHEN, JIAN-YUAN)              20       5 kg         2022   \n38                  Small Holder             300      60 kg  2022 / 2023   \n39                           陳榮豐              20       1 kg  2017 / 2018   \n40                李志祥 Li Zhi-xia               1      10 kg         2022   \n41                           陳科翰               1       2 kg  2021 / 2022   \n42                          黃簡秋蘭               1      50 kg  2021 / 2022   \n43     Kyagalanyi coffee limited             320      60 kg  2021 / 2022   \n45                           王清連               6      50 kg  2021 / 2022   \n46            Varios productores             600      30 kg  2022 / 2023   \n47                    PABLO CHUY             632      30 kg  2022 / 2023   \n48          san francisco cotzal             275      69 kg  2021 / 2022   \n49                           黃俊淦               1      13 kg  2021 / 2022   \n50                           戴禎男               1       4 kg  2021 / 2022   \n52                     Ruya Yayu               3       5 kg         2022   \n53                  IYENGA AMCOS             620      30 kg  2022 / 2023   \n\n   Grading Date  ... Uniformity Overall  Total Cup Points  \\\n0    2022-09-21  ...       10.0    8.58             89.33   \n1    2022-11-15  ...       10.0    8.50             87.58   \n2    2022-11-15  ...       10.0    8.33             87.42   \n3    2022-09-21  ...       10.0    8.25             87.17   \n4    2023-03-06  ...       10.0    8.25             87.08   \n5    2022-11-15  ...       10.0    8.25             87.00   \n6    2022-11-15  ...       10.0    8.25             86.92   \n7    2022-11-15  ...       10.0    8.08             86.75   \n8    2022-11-15  ...       10.0    8.25             86.67   \n9    2023-02-01  ...       10.0    8.00             86.50   \n10   2022-05-31  ...       10.0    8.00             86.25   \n11   2022-11-15  ...       10.0    8.00             86.25   \n12   2022-11-15  ...       10.0    8.00             86.25   \n13   2022-08-26  ...       10.0    8.00             86.17   \n14   2022-11-15  ...       10.0    8.00             86.17   \n15   2022-11-15  ...       10.0    8.00             86.08   \n16   2023-04-07  ...       10.0    8.08             86.08   \n17   2022-10-24  ...       10.0    8.17             86.08   \n18   2022-10-24  ...       10.0    8.17             85.92   \n19   2023-02-01  ...       10.0    7.92             85.83   \n20   2022-11-15  ...       10.0    8.08             85.75   \n21   2022-12-12  ...       10.0    7.92             85.67   \n22   2022-08-16  ...       10.0    8.08             85.67   \n24   2022-11-15  ...       10.0    7.92             85.58   \n26   2022-11-15  ...       10.0    8.00             85.50   \n27   2022-11-15  ...       10.0    7.92             85.50   \n28   2022-11-15  ...       10.0    7.92             85.50   \n29   2022-11-15  ...       10.0    8.00             85.42   \n30   2022-12-12  ...       10.0    8.08             85.42   \n31   2022-12-12  ...       10.0    8.00             85.33   \n32   2022-06-08  ...       10.0    8.00             85.33   \n33   2022-06-06  ...       10.0    8.00             85.33   \n34   2022-09-30  ...       10.0    7.83             85.33   \n35   2022-12-12  ...       10.0    7.83             85.25   \n36   2022-11-15  ...       10.0    7.92             85.25   \n37   2022-06-08  ...       10.0    7.92             85.25   \n38   2023-02-28  ...       10.0    8.00             85.25   \n39   2022-10-24  ...       10.0    8.00             85.17   \n40   2022-12-12  ...       10.0    7.92             85.08   \n41   2022-12-30  ...       10.0    7.83             85.08   \n42   2023-01-06  ...       10.0    7.92             85.08   \n43   2022-06-29  ...       10.0    7.92             85.00   \n45   2022-11-15  ...       10.0    7.83             85.00   \n46   2023-04-17  ...       10.0    7.83             85.00   \n47   2023-02-23  ...       10.0    7.83             85.00   \n48   2022-06-22  ...       10.0    7.92             84.92   \n49   2023-01-06  ...       10.0    7.83             84.92   \n50   2023-01-06  ...       10.0    7.92             84.83   \n52   2022-11-15  ...       10.0    7.75             84.83   \n53   2022-11-09  ...       10.0    7.83             84.83   \n\n    Moisture Percentage  Category One Defects  Quakers           Color  \\\n0                  11.8                     0        0           green   \n1                  10.5                     0        0      blue-green   \n2                  10.4                     0        0       yellowish   \n3                  11.8                     0        0           green   \n4                  11.6                     0        2    yellow-green   \n5                  10.7                     0        0           green   \n6                   9.1                     0        0           green   \n7                  10.0                     0        0    yellow-green   \n8                  10.8                     0        0        greenish   \n9                  11.0                     0        0        greenish   \n10                 11.8                     0        1        greenish   \n11                 11.5                     0        0        brownish   \n12                 11.9                     0        0           green   \n13                 11.6                     0        3    yellow-green   \n14                 10.6                     0        0           green   \n15                 10.2                     0        0           green   \n16                 11.3                     0        2           green   \n17                 10.3                     0        0    yellow-green   \n18                 11.0                     0        0        brownish   \n19                 10.0                     0        0        greenish   \n20                 11.6                     0        0       yellowish   \n21                 10.4                     0        0           green   \n22                  9.8                     0        0  brownish-green   \n24                 10.6                     0        0      blue-green   \n26                  9.1                     0        0           green   \n27                 10.6                     0        0           green   \n28                 10.2                     0        0      blue-green   \n29                  9.3                     0        0           green   \n30                 11.4                     0        0      blue-green   \n31                 10.8                     0        0           green   \n32                 11.3                     0        0           green   \n33                  9.9                     0        2           green   \n34                 12.3                     0        3    yellow-green   \n35                  9.4                     0        1        greenish   \n36                  9.5                     0        0      blue-green   \n37                 11.3                     0        0           green   \n38                  9.2                     0        0        greenish   \n39                 10.3                     0        0      blue-green   \n40                 10.0                     0        0        brownish   \n41                 10.5                     0        0        greenish   \n42                 10.0                     0        0     pale yellow   \n43                 11.0                     0        0           green   \n45                 10.1                     0        0    yellow-green   \n46                  9.9                     0        1           green   \n47                 11.3                     0        0           green   \n48                 11.7                     0        3           green   \n49                  9.5                     0        0           green   \n50                  9.7                     0        0        brownish   \n52                 10.7                     0        0        greenish   \n53                 11.2                     0        0        greenish   \n\n    Category Two Defects            Expiration  Rating Category  \n0                      3  September 21st, 2023      High Rating  \n1                      0   November 15th, 2023      High Rating  \n2                      2   November 15th, 2023      High Rating  \n3                      0  September 21st, 2023      High Rating  \n4                      2       March 5th, 2024      High Rating  \n5                      2   November 15th, 2023      High Rating  \n6                      0   November 15th, 2023      High Rating  \n7                      1   November 15th, 2023      High Rating  \n8                      0   November 15th, 2023      High Rating  \n9                      0    February 1st, 2024      High Rating  \n10                     1        May 31st, 2023      High Rating  \n11                     1   November 15th, 2023      High Rating  \n12                     0   November 15th, 2023      High Rating  \n13                     2     August 26th, 2023      High Rating  \n14                     0   November 15th, 2023      High Rating  \n15                     0   November 15th, 2023      High Rating  \n16                     2       April 6th, 2024      High Rating  \n17                     0    October 24th, 2023      High Rating  \n18                     1    October 24th, 2023      High Rating  \n19                     0    February 1st, 2024      High Rating  \n20                     0   November 15th, 2023      High Rating  \n21                     0   December 12th, 2023      High Rating  \n22                     5     August 16th, 2023      High Rating  \n24                     0   November 15th, 2023      High Rating  \n26                     2   November 15th, 2023      High Rating  \n27                     0   November 15th, 2023      High Rating  \n28                     0   November 15th, 2023      High Rating  \n29                     0   November 15th, 2023    Middle Rating  \n30                     0   December 12th, 2023    Middle Rating  \n31                     0   December 12th, 2023    Middle Rating  \n32                     0        June 8th, 2023    Middle Rating  \n33                     3        June 6th, 2023    Middle Rating  \n34                     4  September 30th, 2023    Middle Rating  \n35                     1   December 12th, 2023    Middle Rating  \n36                     0   November 15th, 2023    Middle Rating  \n37                     0        June 8th, 2023    Middle Rating  \n38                     1   February 28th, 2024    Middle Rating  \n39                     0    October 24th, 2023    Middle Rating  \n40                     0   December 12th, 2023    Middle Rating  \n41                     0   December 30th, 2023    Middle Rating  \n42                     5     January 6th, 2024    Middle Rating  \n43                     1       June 29th, 2023    Middle Rating  \n45                     0   November 15th, 2023    Middle Rating  \n46                     1      April 16th, 2024    Middle Rating  \n47                     4   February 23rd, 2024    Middle Rating  \n48                     1       June 22nd, 2023    Middle Rating  \n49                     2     January 6th, 2024    Middle Rating  \n50                     0     January 6th, 2024    Middle Rating  \n52                     0   November 15th, 2023    Middle Rating  \n53                     0    November 9th, 2023    Middle Rating  \n\n[50 rows x 28 columns]",
      "text/html": "<div>\n<style scoped>\n    .dataframe tbody tr th:only-of-type {\n        vertical-align: middle;\n    }\n\n    .dataframe tbody tr th {\n        vertical-align: top;\n    }\n\n    .dataframe thead th {\n        text-align: right;\n    }\n</style>\n<table border=\"1\" class=\"dataframe\">\n  <thead>\n    <tr style=\"text-align: right;\">\n      <th></th>\n      <th>Country of Origin</th>\n      <th>Farm Name</th>\n      <th>Company</th>\n      <th>Altitude</th>\n      <th>Region</th>\n      <th>Producer</th>\n      <th>Number of Bags</th>\n      <th>Bag Weight</th>\n      <th>Harvest Year</th>\n      <th>Grading Date</th>\n      <th>...</th>\n      <th>Uniformity</th>\n      <th>Overall</th>\n      <th>Total Cup Points</th>\n      <th>Moisture Percentage</th>\n      <th>Category One Defects</th>\n      <th>Quakers</th>\n      <th>Color</th>\n      <th>Category Two Defects</th>\n      <th>Expiration</th>\n      <th>Rating Category</th>\n    </tr>\n  </thead>\n  <tbody>\n    <tr>\n      <th>0</th>\n      <td>Colombia</td>\n      <td>Finca El Paraiso</td>\n      <td>Coffee Quality Union</td>\n      <td>1815.0</td>\n      <td>Piendamo,Cauca</td>\n      <td>Diego Samuel Bermudez</td>\n      <td>1</td>\n      <td>35 kg</td>\n      <td>2021 / 2022</td>\n      <td>2022-09-21</td>\n      <td>...</td>\n      <td>10.0</td>\n      <td>8.58</td>\n      <td>89.33</td>\n      <td>11.8</td>\n      <td>0</td>\n      <td>0</td>\n      <td>green</td>\n      <td>3</td>\n      <td>September 21st, 2023</td>\n      <td>High Rating</td>\n    </tr>\n    <tr>\n      <th>1</th>\n      <td>Taiwan</td>\n      <td>Royal Bean Geisha Estate</td>\n      <td>Taiwan Coffee Laboratory</td>\n      <td>1200.0</td>\n      <td>Chiayi</td>\n      <td>曾福森</td>\n      <td>1</td>\n      <td>80 kg</td>\n      <td>2021 / 2022</td>\n      <td>2022-11-15</td>\n      <td>...</td>\n      <td>10.0</td>\n      <td>8.50</td>\n      <td>87.58</td>\n      <td>10.5</td>\n      <td>0</td>\n      <td>0</td>\n      <td>blue-green</td>\n      <td>0</td>\n      <td>November 15th, 2023</td>\n      <td>High Rating</td>\n    </tr>\n    <tr>\n      <th>2</th>\n      <td>Laos</td>\n      <td>OKLAO coffee farms</td>\n      <td>Taiwan Coffee Laboratory</td>\n      <td>1300.0</td>\n      <td>Laos Borofen Plateau</td>\n      <td>WU TAO CHI</td>\n      <td>19</td>\n      <td>25 kg</td>\n      <td>2021 / 2022</td>\n      <td>2022-11-15</td>\n      <td>...</td>\n      <td>10.0</td>\n      <td>8.33</td>\n      <td>87.42</td>\n      <td>10.4</td>\n      <td>0</td>\n      <td>0</td>\n      <td>yellowish</td>\n      <td>2</td>\n      <td>November 15th, 2023</td>\n      <td>High Rating</td>\n    </tr>\n    <tr>\n      <th>3</th>\n      <td>Costa Rica</td>\n      <td>La Cumbre</td>\n      <td>Coffee Quality Union</td>\n      <td>1900.0</td>\n      <td>Los Santos,Tarrazu</td>\n      <td>Santa Maria de Dota</td>\n      <td>1</td>\n      <td>22 kg</td>\n      <td>2022</td>\n      <td>2022-09-21</td>\n      <td>...</td>\n      <td>10.0</td>\n      <td>8.25</td>\n      <td>87.17</td>\n      <td>11.8</td>\n      <td>0</td>\n      <td>0</td>\n      <td>green</td>\n      <td>0</td>\n      <td>September 21st, 2023</td>\n      <td>High Rating</td>\n    </tr>\n    <tr>\n      <th>4</th>\n      <td>Colombia</td>\n      <td>Finca Santuario</td>\n      <td>Coffee Quality Union</td>\n      <td>1975.0</td>\n      <td>Popayan,Cauca</td>\n      <td>Camilo Merizalde</td>\n      <td>2</td>\n      <td>24 kg</td>\n      <td>2022</td>\n      <td>2023-03-06</td>\n      <td>...</td>\n      <td>10.0</td>\n      <td>8.25</td>\n      <td>87.08</td>\n      <td>11.6</td>\n      <td>0</td>\n      <td>2</td>\n      <td>yellow-green</td>\n      <td>2</td>\n      <td>March 5th, 2024</td>\n      <td>High Rating</td>\n    </tr>\n    <tr>\n      <th>5</th>\n      <td>Guatemala</td>\n      <td>La Colina</td>\n      <td>Taiwan Coffee Laboratory</td>\n      <td>1668.0</td>\n      <td>Chimaltenango</td>\n      <td>Emilio Antonio Medina Garcia</td>\n      <td>5</td>\n      <td>30 kg</td>\n      <td>2022</td>\n      <td>2022-11-15</td>\n      <td>...</td>\n      <td>10.0</td>\n      <td>8.25</td>\n      <td>87.00</td>\n      <td>10.7</td>\n      <td>0</td>\n      <td>0</td>\n      <td>green</td>\n      <td>2</td>\n      <td>November 15th, 2023</td>\n      <td>High Rating</td>\n    </tr>\n    <tr>\n      <th>6</th>\n      <td>Taiwan</td>\n      <td>野牡丹咖啡莊園 Melastoma Coffee Estate</td>\n      <td>Taiwan Coffee Laboratory</td>\n      <td>1250.0</td>\n      <td>Chiayi</td>\n      <td>黃保錫</td>\n      <td>1</td>\n      <td>27 kg</td>\n      <td>2021 / 2022</td>\n      <td>2022-11-15</td>\n      <td>...</td>\n      <td>10.0</td>\n      <td>8.25</td>\n      <td>86.92</td>\n      <td>9.1</td>\n      <td>0</td>\n      <td>0</td>\n      <td>green</td>\n      <td>0</td>\n      <td>November 15th, 2023</td>\n      <td>High Rating</td>\n    </tr>\n    <tr>\n      <th>7</th>\n      <td>Taiwan</td>\n      <td>七彩琉璃咖啡莊園 Chi Tsai Liu Li Ecological Farm</td>\n      <td>Taiwan Coffee Laboratory</td>\n      <td>1200.0</td>\n      <td>Chiayi</td>\n      <td>莊家榮</td>\n      <td>1</td>\n      <td>90 kg</td>\n      <td>2021 / 2022</td>\n      <td>2022-11-15</td>\n      <td>...</td>\n      <td>10.0</td>\n      <td>8.08</td>\n      <td>86.75</td>\n      <td>10.0</td>\n      <td>0</td>\n      <td>0</td>\n      <td>yellow-green</td>\n      <td>1</td>\n      <td>November 15th, 2023</td>\n      <td>High Rating</td>\n    </tr>\n    <tr>\n      <th>8</th>\n      <td>Taiwan</td>\n      <td>亮軒咖啡莊園 Liang Xuan Coffee Farm</td>\n      <td>Taiwan Coffee Laboratory</td>\n      <td>1250.0</td>\n      <td>Chiayi</td>\n      <td>鍾旭亮</td>\n      <td>1</td>\n      <td>30 kg</td>\n      <td>2021 / 2022</td>\n      <td>2022-11-15</td>\n      <td>...</td>\n      <td>10.0</td>\n      <td>8.25</td>\n      <td>86.67</td>\n      <td>10.8</td>\n      <td>0</td>\n      <td>0</td>\n      <td>greenish</td>\n      <td>0</td>\n      <td>November 15th, 2023</td>\n      <td>High Rating</td>\n    </tr>\n    <tr>\n      <th>9</th>\n      <td>Tanzania, United Republic Of</td>\n      <td>MASHIMA AMCOS</td>\n      <td>DORMAN (T) LIMITED</td>\n      <td>1550.0</td>\n      <td>KILIMANJARO</td>\n      <td>DORMAN (T) LIMITED</td>\n      <td>320</td>\n      <td>60 kg</td>\n      <td>2022 / 2023</td>\n      <td>2023-02-01</td>\n      <td>...</td>\n      <td>10.0</td>\n      <td>8.00</td>\n      <td>86.50</td>\n      <td>11.0</td>\n      <td>0</td>\n      <td>0</td>\n      <td>greenish</td>\n      <td>0</td>\n      <td>February 1st, 2024</td>\n      <td>High Rating</td>\n    </tr>\n    <tr>\n      <th>10</th>\n      <td>Ethiopia</td>\n      <td>TADE GG</td>\n      <td>Marubeni corp.,</td>\n      <td>2000.0</td>\n      <td>Guji</td>\n      <td>Tesfaye Bekele Degaga</td>\n      <td>10</td>\n      <td>30 kg</td>\n      <td>2021 / 2022</td>\n      <td>2022-05-31</td>\n      <td>...</td>\n      <td>10.0</td>\n      <td>8.00</td>\n      <td>86.25</td>\n      <td>11.8</td>\n      <td>0</td>\n      <td>1</td>\n      <td>greenish</td>\n      <td>1</td>\n      <td>May 31st, 2023</td>\n      <td>High Rating</td>\n    </tr>\n    <tr>\n      <th>11</th>\n      <td>Guatemala</td>\n      <td>Karen Acajabon Coffee Farm</td>\n      <td>Taiwan Coffee Laboratory</td>\n      <td>2000.0</td>\n      <td>Acatenango</td>\n      <td>Karen Acajabon</td>\n      <td>5</td>\n      <td>15 kg</td>\n      <td>2021</td>\n      <td>2022-11-15</td>\n      <td>...</td>\n      <td>10.0</td>\n      <td>8.00</td>\n      <td>86.25</td>\n      <td>11.5</td>\n      <td>0</td>\n      <td>0</td>\n      <td>brownish</td>\n      <td>1</td>\n      <td>November 15th, 2023</td>\n      <td>High Rating</td>\n    </tr>\n    <tr>\n      <th>12</th>\n      <td>Taiwan</td>\n      <td>古峰咖啡莊園 Goodfun Coffee Farm</td>\n      <td>Taiwan Coffee Laboratory</td>\n      <td>1250.0</td>\n      <td>Yunlin</td>\n      <td>賴彥合</td>\n      <td>1</td>\n      <td>60 kg</td>\n      <td>2021 / 2022</td>\n      <td>2022-11-15</td>\n      <td>...</td>\n      <td>10.0</td>\n      <td>8.00</td>\n      <td>86.25</td>\n      <td>11.9</td>\n      <td>0</td>\n      <td>0</td>\n      <td>green</td>\n      <td>0</td>\n      <td>November 15th, 2023</td>\n      <td>High Rating</td>\n    </tr>\n    <tr>\n      <th>13</th>\n      <td>Ethiopia</td>\n      <td>Gelana Geisha</td>\n      <td>Kerchanshe Trading PLC</td>\n      <td>1950.0</td>\n      <td>Guji</td>\n      <td>Kerchanshe</td>\n      <td>40</td>\n      <td>60 kg</td>\n      <td>2021 / 2022</td>\n      <td>2022-08-26</td>\n      <td>...</td>\n      <td>10.0</td>\n      <td>8.00</td>\n      <td>86.17</td>\n      <td>11.6</td>\n      <td>0</td>\n      <td>3</td>\n      <td>yellow-green</td>\n      <td>2</td>\n      <td>August 26th, 2023</td>\n      <td>High Rating</td>\n    </tr>\n    <tr>\n      <th>14</th>\n      <td>Colombia</td>\n      <td>La Gaitania</td>\n      <td>Taiwan Coffee Laboratory</td>\n      <td>1850.0</td>\n      <td>tolima</td>\n      <td>Josue Enciso Suarez</td>\n      <td>70</td>\n      <td>35 kg</td>\n      <td>2021 / 2022</td>\n      <td>2022-11-15</td>\n      <td>...</td>\n      <td>10.0</td>\n      <td>8.00</td>\n      <td>86.17</td>\n      <td>10.6</td>\n      <td>0</td>\n      <td>0</td>\n      <td>green</td>\n      <td>0</td>\n      <td>November 15th, 2023</td>\n      <td>High Rating</td>\n    </tr>\n    <tr>\n      <th>15</th>\n      <td>Taiwan</td>\n      <td>青葉咖啡莊園</td>\n      <td>Taiwan Coffee Laboratory</td>\n      <td>1100.0</td>\n      <td>Chiayi</td>\n      <td>葉世遠</td>\n      <td>1</td>\n      <td>60 kg</td>\n      <td>2021 / 2022</td>\n      <td>2022-11-15</td>\n      <td>...</td>\n      <td>10.0</td>\n      <td>8.00</td>\n      <td>86.08</td>\n      <td>10.2</td>\n      <td>0</td>\n      <td>0</td>\n      <td>green</td>\n      <td>0</td>\n      <td>November 15th, 2023</td>\n      <td>High Rating</td>\n    </tr>\n    <tr>\n      <th>16</th>\n      <td>Ethiopia</td>\n      <td>Halo Bariti Cooprative</td>\n      <td>Coffee Quality Union</td>\n      <td>2000.0</td>\n      <td>Gedeb,Yirgacheffe,Sidamo</td>\n      <td>Halo Bariti Cooprative</td>\n      <td>8</td>\n      <td>5 kg</td>\n      <td>2022</td>\n      <td>2023-04-07</td>\n      <td>...</td>\n      <td>10.0</td>\n      <td>8.08</td>\n      <td>86.08</td>\n      <td>11.3</td>\n      <td>0</td>\n      <td>2</td>\n      <td>green</td>\n      <td>2</td>\n      <td>April 6th, 2024</td>\n      <td>High Rating</td>\n    </tr>\n    <tr>\n      <th>17</th>\n      <td>Taiwan</td>\n      <td>東璧咖啡莊園</td>\n      <td>Dongbi coffee</td>\n      <td>1300.0</td>\n      <td>Shibi, Gukeng Township, Yunlin County 郵遞區號 , T...</td>\n      <td>陳景立</td>\n      <td>5</td>\n      <td>2 kg</td>\n      <td>2022</td>\n      <td>2022-10-24</td>\n      <td>...</td>\n      <td>10.0</td>\n      <td>8.17</td>\n      <td>86.08</td>\n      <td>10.3</td>\n      <td>0</td>\n      <td>0</td>\n      <td>yellow-green</td>\n      <td>0</td>\n      <td>October 24th, 2023</td>\n      <td>High Rating</td>\n    </tr>\n    <tr>\n      <th>18</th>\n      <td>Taiwan</td>\n      <td>櫻桃果古坑咖啡莊園</td>\n      <td>宸嶧國際有限公司</td>\n      <td>1200.0</td>\n      <td>Gukeng Township, Yunlin County</td>\n      <td>王瀅惠</td>\n      <td>8</td>\n      <td>1 kg</td>\n      <td>2021 / 2022</td>\n      <td>2022-10-24</td>\n      <td>...</td>\n      <td>10.0</td>\n      <td>8.17</td>\n      <td>85.92</td>\n      <td>11.0</td>\n      <td>0</td>\n      <td>0</td>\n      <td>brownish</td>\n      <td>1</td>\n      <td>October 24th, 2023</td>\n      <td>High Rating</td>\n    </tr>\n    <tr>\n      <th>19</th>\n      <td>Tanzania, United Republic Of</td>\n      <td>BURKA</td>\n      <td>DORMAN (T) LIMITED</td>\n      <td>1585.0</td>\n      <td>Arusha</td>\n      <td>DORMAN (T) LIMITED</td>\n      <td>200</td>\n      <td>30 kg</td>\n      <td>2022 / 2023</td>\n      <td>2023-02-01</td>\n      <td>...</td>\n      <td>10.0</td>\n      <td>7.92</td>\n      <td>85.83</td>\n      <td>10.0</td>\n      <td>0</td>\n      <td>0</td>\n      <td>greenish</td>\n      <td>0</td>\n      <td>February 1st, 2024</td>\n      <td>High Rating</td>\n    </tr>\n    <tr>\n      <th>20</th>\n      <td>Guatemala</td>\n      <td>Finca Vista Hermosa</td>\n      <td>Taiwan Coffee Laboratory</td>\n      <td>1900.0</td>\n      <td>Guatemala, Fraijanes, Santa Rosa</td>\n      <td>Fredy Orantes</td>\n      <td>8</td>\n      <td>30 kg</td>\n      <td>2021 / 2022</td>\n      <td>2022-11-15</td>\n      <td>...</td>\n      <td>10.0</td>\n      <td>8.08</td>\n      <td>85.75</td>\n      <td>11.6</td>\n      <td>0</td>\n      <td>0</td>\n      <td>yellowish</td>\n      <td>0</td>\n      <td>November 15th, 2023</td>\n      <td>High Rating</td>\n    </tr>\n    <tr>\n      <th>21</th>\n      <td>Taiwan</td>\n      <td>仲大叔咖啡莊園Uncle Chung.s Coffee Farm</td>\n      <td>Taiwan Coffee Laboratory</td>\n      <td>850.0</td>\n      <td>卓溪鄉Zhuoxi Township</td>\n      <td>游婷淯 YU TING YU</td>\n      <td>1</td>\n      <td>20 kg</td>\n      <td>2022</td>\n      <td>2022-12-12</td>\n      <td>...</td>\n      <td>10.0</td>\n      <td>7.92</td>\n      <td>85.67</td>\n      <td>10.4</td>\n      <td>0</td>\n      <td>0</td>\n      <td>green</td>\n      <td>0</td>\n      <td>December 12th, 2023</td>\n      <td>High Rating</td>\n    </tr>\n    <tr>\n      <th>22</th>\n      <td>Thailand</td>\n      <td>Hom Doi</td>\n      <td>Lyrose</td>\n      <td>1600.0</td>\n      <td>Chiang Mai</td>\n      <td>Lisu farmers</td>\n      <td>2</td>\n      <td>1 kg</td>\n      <td>2021 / 2022</td>\n      <td>2022-08-16</td>\n      <td>...</td>\n      <td>10.0</td>\n      <td>8.08</td>\n      <td>85.67</td>\n      <td>9.8</td>\n      <td>0</td>\n      <td>0</td>\n      <td>brownish-green</td>\n      <td>5</td>\n      <td>August 16th, 2023</td>\n      <td>High Rating</td>\n    </tr>\n    <tr>\n      <th>24</th>\n      <td>Taiwan</td>\n      <td>永舜咖啡莊園</td>\n      <td>Taiwan Coffee Laboratory</td>\n      <td>1250.0</td>\n      <td>Yunlin</td>\n      <td>蘇甘永</td>\n      <td>4</td>\n      <td>50 kg</td>\n      <td>2021 / 2022</td>\n      <td>2022-11-15</td>\n      <td>...</td>\n      <td>10.0</td>\n      <td>7.92</td>\n      <td>85.58</td>\n      <td>10.6</td>\n      <td>0</td>\n      <td>0</td>\n      <td>blue-green</td>\n      <td>0</td>\n      <td>November 15th, 2023</td>\n      <td>High Rating</td>\n    </tr>\n    <tr>\n      <th>26</th>\n      <td>Taiwan</td>\n      <td>鄒築園ZouZhouYuan</td>\n      <td>Taiwan Coffee Laboratory</td>\n      <td>1300.0</td>\n      <td>Chiayi</td>\n      <td>方政倫</td>\n      <td>1</td>\n      <td>100 kg</td>\n      <td>2021 / 2022</td>\n      <td>2022-11-15</td>\n      <td>...</td>\n      <td>10.0</td>\n      <td>8.00</td>\n      <td>85.50</td>\n      <td>9.1</td>\n      <td>0</td>\n      <td>0</td>\n      <td>green</td>\n      <td>2</td>\n      <td>November 15th, 2023</td>\n      <td>High Rating</td>\n    </tr>\n    <tr>\n      <th>27</th>\n      <td>Taiwan</td>\n      <td>嵩岳咖啡莊園</td>\n      <td>Taiwan Coffee Laboratory</td>\n      <td>1200.0</td>\n      <td>Yunlin</td>\n      <td>郭志豪</td>\n      <td>1</td>\n      <td>90 kg</td>\n      <td>2021 / 2022</td>\n      <td>2022-11-15</td>\n      <td>...</td>\n      <td>10.0</td>\n      <td>7.92</td>\n      <td>85.50</td>\n      <td>10.6</td>\n      <td>0</td>\n      <td>0</td>\n      <td>green</td>\n      <td>0</td>\n      <td>November 15th, 2023</td>\n      <td>High Rating</td>\n    </tr>\n    <tr>\n      <th>28</th>\n      <td>Taiwan</td>\n      <td>他扶芽有機農園</td>\n      <td>Taiwan Coffee Laboratory</td>\n      <td>1060.0</td>\n      <td>Chiayi</td>\n      <td>陳清龍</td>\n      <td>1</td>\n      <td>85 kg</td>\n      <td>2021 / 2022</td>\n      <td>2022-11-15</td>\n      <td>...</td>\n      <td>10.0</td>\n      <td>7.92</td>\n      <td>85.50</td>\n      <td>10.2</td>\n      <td>0</td>\n      <td>0</td>\n      <td>blue-green</td>\n      <td>0</td>\n      <td>November 15th, 2023</td>\n      <td>High Rating</td>\n    </tr>\n    <tr>\n      <th>29</th>\n      <td>United States (Hawaii)</td>\n      <td>Hokukano Ranch</td>\n      <td>Taiwan Coffee Laboratory</td>\n      <td>600.0</td>\n      <td>Kona</td>\n      <td>Kona Hills LLC</td>\n      <td>80</td>\n      <td>15 kg</td>\n      <td>2021 / 2022</td>\n      <td>2022-11-15</td>\n      <td>...</td>\n      <td>10.0</td>\n      <td>8.00</td>\n      <td>85.42</td>\n      <td>9.3</td>\n      <td>0</td>\n      <td>0</td>\n      <td>green</td>\n      <td>0</td>\n      <td>November 15th, 2023</td>\n      <td>Middle Rating</td>\n    </tr>\n    <tr>\n      <th>30</th>\n      <td>Taiwan</td>\n      <td>鄉庭有機農場Siang-Ting Organic Farm</td>\n      <td>Taiwan Coffee Laboratory</td>\n      <td>200.0</td>\n      <td>壽豐鄉Shoufeng Township</td>\n      <td>張進義Zhang Jin-Yi</td>\n      <td>3</td>\n      <td>48 kg</td>\n      <td>2022</td>\n      <td>2022-12-12</td>\n      <td>...</td>\n      <td>10.0</td>\n      <td>8.08</td>\n      <td>85.42</td>\n      <td>11.4</td>\n      <td>0</td>\n      <td>0</td>\n      <td>blue-green</td>\n      <td>0</td>\n      <td>December 12th, 2023</td>\n      <td>Middle Rating</td>\n    </tr>\n    <tr>\n      <th>31</th>\n      <td>Taiwan</td>\n      <td>鄉庭有機農場Siang-Ting Organic Farm</td>\n      <td>Taiwan Coffee Laboratory</td>\n      <td>200.0</td>\n      <td>壽豐鄉Shoufeng Township</td>\n      <td>張進義Zhang Jin-Yi</td>\n      <td>3</td>\n      <td>50 kg</td>\n      <td>2022</td>\n      <td>2022-12-12</td>\n      <td>...</td>\n      <td>10.0</td>\n      <td>8.00</td>\n      <td>85.33</td>\n      <td>10.8</td>\n      <td>0</td>\n      <td>0</td>\n      <td>green</td>\n      <td>0</td>\n      <td>December 12th, 2023</td>\n      <td>Middle Rating</td>\n    </tr>\n    <tr>\n      <th>32</th>\n      <td>Taiwan</td>\n      <td>金讚咖啡農莊園(Jinzan Coffee Estate)</td>\n      <td>Taiwan Coffee Laboratory</td>\n      <td>668.0</td>\n      <td>Dongshan Dist., Tainan City</td>\n      <td>葉明讚 (YE,MING-ZAN)</td>\n      <td>4</td>\n      <td>5 kg</td>\n      <td>2022</td>\n      <td>2022-06-08</td>\n      <td>...</td>\n      <td>10.0</td>\n      <td>8.00</td>\n      <td>85.33</td>\n      <td>11.3</td>\n      <td>0</td>\n      <td>0</td>\n      <td>green</td>\n      <td>0</td>\n      <td>June 8th, 2023</td>\n      <td>Middle Rating</td>\n    </tr>\n    <tr>\n      <th>33</th>\n      <td>Ethiopia</td>\n      <td>Eshetu farm</td>\n      <td>Alo Coffee</td>\n      <td>1950.0</td>\n      <td>Oromia</td>\n      <td>Eshetu</td>\n      <td>320</td>\n      <td>60 kg</td>\n      <td>2021 / 2022</td>\n      <td>2022-06-06</td>\n      <td>...</td>\n      <td>10.0</td>\n      <td>8.00</td>\n      <td>85.33</td>\n      <td>9.9</td>\n      <td>0</td>\n      <td>2</td>\n      <td>green</td>\n      <td>3</td>\n      <td>June 6th, 2023</td>\n      <td>Middle Rating</td>\n    </tr>\n    <tr>\n      <th>34</th>\n      <td>Ethiopia</td>\n      <td>Uraga Bisrat washing station</td>\n      <td>TADESSE DESTA IMPORT &amp; EXPORT</td>\n      <td>2250.0</td>\n      <td>Southern Ethiopia Guji</td>\n      <td>Bisrat Melaku</td>\n      <td>320</td>\n      <td>60 kg</td>\n      <td>2021 / 2022</td>\n      <td>2022-09-30</td>\n      <td>...</td>\n      <td>10.0</td>\n      <td>7.83</td>\n      <td>85.33</td>\n      <td>12.3</td>\n      <td>0</td>\n      <td>3</td>\n      <td>yellow-green</td>\n      <td>4</td>\n      <td>September 30th, 2023</td>\n      <td>Middle Rating</td>\n    </tr>\n    <tr>\n      <th>35</th>\n      <td>Ethiopia</td>\n      <td>YHAENU PLC FARM</td>\n      <td>yhaenu plc</td>\n      <td>1700.0</td>\n      <td>OROMIA</td>\n      <td>YHAENU PLC</td>\n      <td>320</td>\n      <td>19200 kg</td>\n      <td>2021 / 2022</td>\n      <td>2022-12-12</td>\n      <td>...</td>\n      <td>10.0</td>\n      <td>7.83</td>\n      <td>85.25</td>\n      <td>9.4</td>\n      <td>0</td>\n      <td>1</td>\n      <td>greenish</td>\n      <td>1</td>\n      <td>December 12th, 2023</td>\n      <td>Middle Rating</td>\n    </tr>\n    <tr>\n      <th>36</th>\n      <td>Taiwan</td>\n      <td>卓武山咖啡農場</td>\n      <td>Taiwan Coffee Laboratory</td>\n      <td>1200.0</td>\n      <td>Chiayi</td>\n      <td>許定燁</td>\n      <td>1</td>\n      <td>100 kg</td>\n      <td>2021 / 2022</td>\n      <td>2022-11-15</td>\n      <td>...</td>\n      <td>10.0</td>\n      <td>7.92</td>\n      <td>85.25</td>\n      <td>9.5</td>\n      <td>0</td>\n      <td>0</td>\n      <td>blue-green</td>\n      <td>0</td>\n      <td>November 15th, 2023</td>\n      <td>Middle Rating</td>\n    </tr>\n    <tr>\n      <th>37</th>\n      <td>Taiwan</td>\n      <td>御香咖啡園 YU SIANG Coffee Estate</td>\n      <td>Taiwan Coffee Laboratory</td>\n      <td>650.0</td>\n      <td>Dongshan Dist., Tainan City</td>\n      <td>陳建源(CHEN, JIAN-YUAN)</td>\n      <td>20</td>\n      <td>5 kg</td>\n      <td>2022</td>\n      <td>2022-06-08</td>\n      <td>...</td>\n      <td>10.0</td>\n      <td>7.92</td>\n      <td>85.25</td>\n      <td>11.3</td>\n      <td>0</td>\n      <td>0</td>\n      <td>green</td>\n      <td>0</td>\n      <td>June 8th, 2023</td>\n      <td>Middle Rating</td>\n    </tr>\n    <tr>\n      <th>38</th>\n      <td>Kenya</td>\n      <td>Small Holder</td>\n      <td>IBERO (K) LTD</td>\n      <td>1750.0</td>\n      <td>Central</td>\n      <td>Small Holder</td>\n      <td>300</td>\n      <td>60 kg</td>\n      <td>2022 / 2023</td>\n      <td>2023-02-28</td>\n      <td>...</td>\n      <td>10.0</td>\n      <td>8.00</td>\n      <td>85.25</td>\n      <td>9.2</td>\n      <td>0</td>\n      <td>0</td>\n      <td>greenish</td>\n      <td>1</td>\n      <td>February 28th, 2024</td>\n      <td>Middle Rating</td>\n    </tr>\n    <tr>\n      <th>39</th>\n      <td>Taiwan</td>\n      <td>皇庭咖啡莊園</td>\n      <td>宸嶧國際有限公司</td>\n      <td>850.0</td>\n      <td>Caoling , Gukeng Township, Yunlin County</td>\n      <td>陳榮豐</td>\n      <td>20</td>\n      <td>1 kg</td>\n      <td>2017 / 2018</td>\n      <td>2022-10-24</td>\n      <td>...</td>\n      <td>10.0</td>\n      <td>8.00</td>\n      <td>85.17</td>\n      <td>10.3</td>\n      <td>0</td>\n      <td>0</td>\n      <td>blue-green</td>\n      <td>0</td>\n      <td>October 24th, 2023</td>\n      <td>Middle Rating</td>\n    </tr>\n    <tr>\n      <th>40</th>\n      <td>Taiwan</td>\n      <td>花蓮縣秀林鄉特用作物（咖啡）產銷第一班Agriculture Production and ...</td>\n      <td>Taiwan Coffee Laboratory</td>\n      <td>400.0</td>\n      <td>秀林鄉Show Linxia Township</td>\n      <td>李志祥 Li Zhi-xia</td>\n      <td>1</td>\n      <td>10 kg</td>\n      <td>2022</td>\n      <td>2022-12-12</td>\n      <td>...</td>\n      <td>10.0</td>\n      <td>7.92</td>\n      <td>85.08</td>\n      <td>10.0</td>\n      <td>0</td>\n      <td>0</td>\n      <td>brownish</td>\n      <td>0</td>\n      <td>December 12th, 2023</td>\n      <td>Middle Rating</td>\n    </tr>\n    <tr>\n      <th>41</th>\n      <td>Taiwan</td>\n      <td>八一高地</td>\n      <td>茂泰生技股份有限公司</td>\n      <td>1000.0</td>\n      <td>台灣屏東</td>\n      <td>陳科翰</td>\n      <td>1</td>\n      <td>2 kg</td>\n      <td>2021 / 2022</td>\n      <td>2022-12-30</td>\n      <td>...</td>\n      <td>10.0</td>\n      <td>7.83</td>\n      <td>85.08</td>\n      <td>10.5</td>\n      <td>0</td>\n      <td>0</td>\n      <td>greenish</td>\n      <td>0</td>\n      <td>December 30th, 2023</td>\n      <td>Middle Rating</td>\n    </tr>\n    <tr>\n      <th>42</th>\n      <td>Taiwan</td>\n      <td>香夾蘭莊園</td>\n      <td>Taiwu Coffee Cooperative</td>\n      <td>800.0</td>\n      <td>苗栗縣</td>\n      <td>黃簡秋蘭</td>\n      <td>1</td>\n      <td>50 kg</td>\n      <td>2021 / 2022</td>\n      <td>2023-01-06</td>\n      <td>...</td>\n      <td>10.0</td>\n      <td>7.92</td>\n      <td>85.08</td>\n      <td>10.0</td>\n      <td>0</td>\n      <td>0</td>\n      <td>pale yellow</td>\n      <td>5</td>\n      <td>January 6th, 2024</td>\n      <td>Middle Rating</td>\n    </tr>\n    <tr>\n      <th>43</th>\n      <td>Uganda</td>\n      <td>Gideon Kule</td>\n      <td>Kyagalanyi Coffee Limited</td>\n      <td>1905.0</td>\n      <td>Rwenzori</td>\n      <td>Kyagalanyi coffee limited</td>\n      <td>320</td>\n      <td>60 kg</td>\n      <td>2021 / 2022</td>\n      <td>2022-06-29</td>\n      <td>...</td>\n      <td>10.0</td>\n      <td>7.92</td>\n      <td>85.00</td>\n      <td>11.0</td>\n      <td>0</td>\n      <td>0</td>\n      <td>green</td>\n      <td>1</td>\n      <td>June 29th, 2023</td>\n      <td>Middle Rating</td>\n    </tr>\n    <tr>\n      <th>45</th>\n      <td>Taiwan</td>\n      <td>青山坪咖啡農場</td>\n      <td>Taiwan Coffee Laboratory</td>\n      <td>800.0</td>\n      <td>Yunlin</td>\n      <td>王清連</td>\n      <td>6</td>\n      <td>50 kg</td>\n      <td>2021 / 2022</td>\n      <td>2022-11-15</td>\n      <td>...</td>\n      <td>10.0</td>\n      <td>7.83</td>\n      <td>85.00</td>\n      <td>10.1</td>\n      <td>0</td>\n      <td>0</td>\n      <td>yellow-green</td>\n      <td>0</td>\n      <td>November 15th, 2023</td>\n      <td>Middle Rating</td>\n    </tr>\n    <tr>\n      <th>46</th>\n      <td>Guatemala</td>\n      <td>varias fincas</td>\n      <td>Peter Schoenfeld, S.A.</td>\n      <td>1600.0</td>\n      <td>Antigua</td>\n      <td>Varios productores</td>\n      <td>600</td>\n      <td>30 kg</td>\n      <td>2022 / 2023</td>\n      <td>2023-04-17</td>\n      <td>...</td>\n      <td>10.0</td>\n      <td>7.83</td>\n      <td>85.00</td>\n      <td>9.9</td>\n      <td>0</td>\n      <td>1</td>\n      <td>green</td>\n      <td>1</td>\n      <td>April 16th, 2024</td>\n      <td>Middle Rating</td>\n    </tr>\n    <tr>\n      <th>47</th>\n      <td>Guatemala</td>\n      <td>PEÑA BLANCA</td>\n      <td>OLAM AGRO GUATEMALA, S.A.</td>\n      <td>4700.0</td>\n      <td>Santa Rosa</td>\n      <td>PABLO CHUY</td>\n      <td>632</td>\n      <td>30 kg</td>\n      <td>2022 / 2023</td>\n      <td>2023-02-23</td>\n      <td>...</td>\n      <td>10.0</td>\n      <td>7.83</td>\n      <td>85.00</td>\n      <td>11.3</td>\n      <td>0</td>\n      <td>0</td>\n      <td>green</td>\n      <td>4</td>\n      <td>February 23rd, 2024</td>\n      <td>Middle Rating</td>\n    </tr>\n    <tr>\n      <th>48</th>\n      <td>Guatemala</td>\n      <td>san francisco cotzal</td>\n      <td>inmobiliaria e inversiones dos mil, s.a.</td>\n      <td>1600.0</td>\n      <td>quiche</td>\n      <td>san francisco cotzal</td>\n      <td>275</td>\n      <td>69 kg</td>\n      <td>2021 / 2022</td>\n      <td>2022-06-22</td>\n      <td>...</td>\n      <td>10.0</td>\n      <td>7.92</td>\n      <td>84.92</td>\n      <td>11.7</td>\n      <td>0</td>\n      <td>3</td>\n      <td>green</td>\n      <td>1</td>\n      <td>June 22nd, 2023</td>\n      <td>Middle Rating</td>\n    </tr>\n    <tr>\n      <th>49</th>\n      <td>Taiwan</td>\n      <td>六曲窩</td>\n      <td>Taiwu Coffee Cooperative</td>\n      <td>375.0</td>\n      <td>新竹縣</td>\n      <td>黃俊淦</td>\n      <td>1</td>\n      <td>13 kg</td>\n      <td>2021 / 2022</td>\n      <td>2023-01-06</td>\n      <td>...</td>\n      <td>10.0</td>\n      <td>7.83</td>\n      <td>84.92</td>\n      <td>9.5</td>\n      <td>0</td>\n      <td>0</td>\n      <td>green</td>\n      <td>2</td>\n      <td>January 6th, 2024</td>\n      <td>Middle Rating</td>\n    </tr>\n    <tr>\n      <th>50</th>\n      <td>Taiwan</td>\n      <td>北平山林</td>\n      <td>Taiwu Coffee Cooperative</td>\n      <td>230.0</td>\n      <td>新竹縣</td>\n      <td>戴禎男</td>\n      <td>1</td>\n      <td>4 kg</td>\n      <td>2021 / 2022</td>\n      <td>2023-01-06</td>\n      <td>...</td>\n      <td>10.0</td>\n      <td>7.92</td>\n      <td>84.83</td>\n      <td>9.7</td>\n      <td>0</td>\n      <td>0</td>\n      <td>brownish</td>\n      <td>0</td>\n      <td>January 6th, 2024</td>\n      <td>Middle Rating</td>\n    </tr>\n    <tr>\n      <th>52</th>\n      <td>Peru</td>\n      <td>Ruya Yayu Farm</td>\n      <td>Taiwan Coffee Laboratory</td>\n      <td>1750.0</td>\n      <td>Villa Rica</td>\n      <td>Ruya Yayu</td>\n      <td>3</td>\n      <td>5 kg</td>\n      <td>2022</td>\n      <td>2022-11-15</td>\n      <td>...</td>\n      <td>10.0</td>\n      <td>7.75</td>\n      <td>84.83</td>\n      <td>10.7</td>\n      <td>0</td>\n      <td>0</td>\n      <td>greenish</td>\n      <td>0</td>\n      <td>November 15th, 2023</td>\n      <td>Middle Rating</td>\n    </tr>\n    <tr>\n      <th>53</th>\n      <td>Tanzania, United Republic Of</td>\n      <td>IYENGA</td>\n      <td>VOLCAFE/TaylorWinch Tanzania Ltd</td>\n      <td>1654.0</td>\n      <td>Mbeya</td>\n      <td>IYENGA AMCOS</td>\n      <td>620</td>\n      <td>30 kg</td>\n      <td>2022 / 2023</td>\n      <td>2022-11-09</td>\n      <td>...</td>\n      <td>10.0</td>\n      <td>7.83</td>\n      <td>84.83</td>\n      <td>11.2</td>\n      <td>0</td>\n      <td>0</td>\n      <td>greenish</td>\n      <td>0</td>\n      <td>November 9th, 2023</td>\n      <td>Middle Rating</td>\n    </tr>\n  </tbody>\n</table>\n<p>50 rows × 28 columns</p>\n</div>"
     },
     "execution_count": 5,
     "metadata": {},
     "output_type": "execute_result"
    }
   ],
   "source": [
    "df.head(50)"
   ],
   "metadata": {
    "collapsed": false,
    "ExecuteTime": {
     "end_time": "2023-11-23T00:23:38.878007Z",
     "start_time": "2023-11-23T00:23:38.858201Z"
    }
   },
   "id": "c1a13f57057f94f0"
  },
  {
   "cell_type": "code",
   "execution_count": 6,
   "outputs": [
    {
     "data": {
      "text/plain": "(197, 28)"
     },
     "execution_count": 6,
     "metadata": {},
     "output_type": "execute_result"
    }
   ],
   "source": [
    "df.shape"
   ],
   "metadata": {
    "collapsed": false,
    "ExecuteTime": {
     "end_time": "2023-11-23T00:23:39.889436Z",
     "start_time": "2023-11-23T00:23:39.868306Z"
    }
   },
   "id": "f4ff8093fd54c21c"
  },
  {
   "cell_type": "code",
   "execution_count": 7,
   "outputs": [],
   "source": [
    "# Create top countries subset\n",
    "\n",
    "df_country = df[df['Country of Origin'].str.contains('Ethiopia|Tanzania, United Republic Of|Guatemala|Taiwan')]"
   ],
   "metadata": {
    "collapsed": false,
    "ExecuteTime": {
     "end_time": "2023-11-23T00:24:25.177680Z",
     "start_time": "2023-11-23T00:24:25.154429Z"
    }
   },
   "id": "687275a9bac5c851"
  },
  {
   "cell_type": "code",
   "execution_count": 7,
   "outputs": [
    {
     "data": {
      "text/plain": "Index(['Country of Origin', 'Farm Name', 'Company', 'Altitude', 'Region',\n       'Producer', 'Number of Bags', 'Bag Weight', 'Harvest Year',\n       'Grading Date', 'Variety', 'Processing Method', 'Aroma', 'Flavor',\n       'Aftertaste', 'Acidity', 'Body', 'Balance', 'Uniformity', 'Overall',\n       'Total Cup Points', 'Moisture Percentage', 'Category One Defects',\n       'Quakers', 'Color', 'Category Two Defects', 'Expiration',\n       'Rating Category'],\n      dtype='object')"
     },
     "execution_count": 7,
     "metadata": {},
     "output_type": "execute_result"
    }
   ],
   "source": [
    "df.columns"
   ],
   "metadata": {
    "collapsed": false,
    "ExecuteTime": {
     "end_time": "2023-11-19T18:37:32.714988Z",
     "start_time": "2023-11-19T18:37:32.699240Z"
    }
   },
   "id": "902f78935a909e9b"
  },
  {
   "cell_type": "code",
   "execution_count": 8,
   "outputs": [],
   "source": [
    "# Create a new dataframe without categorical columns BUT ADDING Altitude and Moisture Percentage\n",
    "\n",
    "df_cont = df_country[['Altitude', 'Aroma', 'Flavor', 'Aftertaste', 'Acidity', 'Body', 'Balance', 'Overall', 'Total Cup Points', 'Moisture Percentage', 'Category One Defects', 'Category Two Defects']]"
   ],
   "metadata": {
    "collapsed": false,
    "ExecuteTime": {
     "end_time": "2023-11-23T00:25:06.504532Z",
     "start_time": "2023-11-23T00:25:06.480770Z"
    }
   },
   "id": "d286c84b39184cac"
  },
  {
   "cell_type": "code",
   "execution_count": 9,
   "outputs": [
    {
     "data": {
      "text/plain": "    Altitude  Aroma  Flavor  Aftertaste  Acidity  Body  Balance  Overall  \\\n1     1200.0   8.50    8.50        7.92     8.00  7.92     8.25     8.50   \n5     1668.0   8.33    8.33        8.25     7.83  7.83     8.17     8.25   \n6     1250.0   8.33    8.17        8.08     8.00  7.83     8.25     8.25   \n7     1200.0   8.25    8.25        8.17     8.00  7.92     8.08     8.08   \n8     1250.0   8.08    8.08        8.25     8.08  7.92     8.00     8.25   \n9     1550.0   8.08    8.17        8.08     8.17  8.00     8.00     8.00   \n10    2000.0   8.08    8.25        8.00     8.08  7.92     7.92     8.00   \n11    2000.0   8.08    8.00        8.00     7.75  8.25     8.17     8.00   \n12    1250.0   8.08    8.00        8.08     8.08  8.00     8.00     8.00   \n13    1950.0   7.67    8.17        8.00     8.33  8.00     8.00     8.00   \n15    1100.0   8.17    8.08        8.00     7.92  8.00     7.92     8.00   \n16    2000.0   8.17    8.08        7.92     8.17  7.75     7.92     8.08   \n17    1300.0   8.00    8.17        8.00     7.92  7.92     7.92     8.17   \n18    1200.0   8.08    8.17        7.75     7.92  7.83     8.00     8.17   \n19    1585.0   8.17    8.00        7.92     7.92  8.17     7.75     7.92   \n20    1900.0   8.00    7.92        8.08     7.92  7.75     8.00     8.08   \n21     850.0   8.08    8.00        7.92     7.92  8.00     7.83     7.92   \n24    1250.0   7.83    8.00        7.92     8.00  8.00     7.92     7.92   \n26    1300.0   7.92    7.92        8.00     7.92  7.83     7.92     8.00   \n27    1200.0   8.17    8.08        7.92     8.00  7.58     7.83     7.92   \n28    1060.0   8.00    8.00        8.00     7.92  7.75     7.92     7.92   \n30     200.0   8.00    8.00        7.83     7.83  7.75     7.92     8.08   \n31     200.0   7.92    8.00        7.83     7.92  7.83     7.83     8.00   \n32     668.0   8.08    8.17        7.67     7.83  7.67     7.92     8.00   \n33    1950.0   7.67    7.83        7.83     8.00  8.00     8.00     8.00   \n34    2250.0   8.00    8.08        8.00     8.00  7.67     7.75     7.83   \n35    1700.0   7.92    7.75        7.83     8.17  8.00     7.75     7.83   \n36    1200.0   8.00    7.92        7.83     7.92  7.83     7.83     7.92   \n37     650.0   8.25    8.08        7.83     7.75  7.67     7.75     7.92   \n39     850.0   7.75    7.92        7.75     8.00  7.83     7.92     8.00   \n40     400.0   8.00    7.92        7.83     7.92  7.75     7.75     7.92   \n41    1000.0   8.00    8.08        7.67     7.75  7.92     7.83     7.83   \n42     800.0   8.00    7.92        7.67     8.00  7.75     7.83     7.92   \n45     800.0   8.17    8.08        7.83     7.67  7.67     7.75     7.83   \n46    1600.0   7.67    8.08        7.67     8.00  7.92     7.83     7.83   \n47    4700.0   7.67    8.00        7.75     7.92  8.00     7.83     7.83   \n48    1600.0   7.83    7.92        7.75     8.00  7.75     7.75     7.92   \n49     375.0   7.92    7.92        7.83     7.83  7.75     7.83     7.83   \n50     230.0   8.00    8.00        7.75     7.75  7.67     7.75     7.92   \n53    1654.0   7.92    7.75        7.75     7.92  7.83     7.83     7.83   \n54    1300.0   7.83    7.83        7.67     7.67  7.83     8.00     8.00   \n55    1400.0   7.67    7.92        7.92     7.83  7.75     7.83     7.83   \n58    1200.0   7.92    8.08        7.67     7.92  7.67     7.75     7.75   \n59    1600.0   7.67    8.00        7.67     7.83  7.92     7.67     7.92   \n60    4895.0   7.83    8.00        7.67     7.83  7.75     7.75     7.83   \n62     250.0   7.83    7.83        7.75     7.75  7.75     7.75     7.92   \n63     700.0   8.17    7.83        7.67     7.83  7.67     7.67     7.75   \n65    1250.0   8.08    7.83        7.67     7.67  7.67     7.75     7.92   \n66    1450.0   7.83    8.00        7.67     7.75  7.67     7.75     7.92   \n69     520.0   7.75    7.92        7.83     7.75  7.75     7.75     7.75   \n\n    Total Cup Points  Moisture Percentage  Category One Defects  \\\n1              87.58                 10.5                     0   \n5              87.00                 10.7                     0   \n6              86.92                  9.1                     0   \n7              86.75                 10.0                     0   \n8              86.67                 10.8                     0   \n9              86.50                 11.0                     0   \n10             86.25                 11.8                     0   \n11             86.25                 11.5                     0   \n12             86.25                 11.9                     0   \n13             86.17                 11.6                     0   \n15             86.08                 10.2                     0   \n16             86.08                 11.3                     0   \n17             86.08                 10.3                     0   \n18             85.92                 11.0                     0   \n19             85.83                 10.0                     0   \n20             85.75                 11.6                     0   \n21             85.67                 10.4                     0   \n24             85.58                 10.6                     0   \n26             85.50                  9.1                     0   \n27             85.50                 10.6                     0   \n28             85.50                 10.2                     0   \n30             85.42                 11.4                     0   \n31             85.33                 10.8                     0   \n32             85.33                 11.3                     0   \n33             85.33                  9.9                     0   \n34             85.33                 12.3                     0   \n35             85.25                  9.4                     0   \n36             85.25                  9.5                     0   \n37             85.25                 11.3                     0   \n39             85.17                 10.3                     0   \n40             85.08                 10.0                     0   \n41             85.08                 10.5                     0   \n42             85.08                 10.0                     0   \n45             85.00                 10.1                     0   \n46             85.00                  9.9                     0   \n47             85.00                 11.3                     0   \n48             84.92                 11.7                     0   \n49             84.92                  9.5                     0   \n50             84.83                  9.7                     0   \n53             84.83                 11.2                     0   \n54             84.83                  9.5                     0   \n55             84.75                 10.4                     0   \n58             84.75                 10.0                     0   \n59             84.67                 10.6                     0   \n60             84.67                 10.9                     0   \n62             84.58                  9.6                     0   \n63             84.58                 11.5                     0   \n65             84.58                 11.2                     0   \n66             84.58                 10.3                     0   \n69             84.50                 11.3                     0   \n\n    Category Two Defects  \n1                      0  \n5                      2  \n6                      0  \n7                      1  \n8                      0  \n9                      0  \n10                     1  \n11                     1  \n12                     0  \n13                     2  \n15                     0  \n16                     2  \n17                     0  \n18                     1  \n19                     0  \n20                     0  \n21                     0  \n24                     0  \n26                     2  \n27                     0  \n28                     0  \n30                     0  \n31                     0  \n32                     0  \n33                     3  \n34                     4  \n35                     1  \n36                     0  \n37                     0  \n39                     0  \n40                     0  \n41                     0  \n42                     5  \n45                     0  \n46                     1  \n47                     4  \n48                     1  \n49                     2  \n50                     0  \n53                     0  \n54                     0  \n55                     0  \n58                     0  \n59                     1  \n60                     2  \n62                     0  \n63                     0  \n65                     2  \n66                     0  \n69                     0  ",
      "text/html": "<div>\n<style scoped>\n    .dataframe tbody tr th:only-of-type {\n        vertical-align: middle;\n    }\n\n    .dataframe tbody tr th {\n        vertical-align: top;\n    }\n\n    .dataframe thead th {\n        text-align: right;\n    }\n</style>\n<table border=\"1\" class=\"dataframe\">\n  <thead>\n    <tr style=\"text-align: right;\">\n      <th></th>\n      <th>Altitude</th>\n      <th>Aroma</th>\n      <th>Flavor</th>\n      <th>Aftertaste</th>\n      <th>Acidity</th>\n      <th>Body</th>\n      <th>Balance</th>\n      <th>Overall</th>\n      <th>Total Cup Points</th>\n      <th>Moisture Percentage</th>\n      <th>Category One Defects</th>\n      <th>Category Two Defects</th>\n    </tr>\n  </thead>\n  <tbody>\n    <tr>\n      <th>1</th>\n      <td>1200.0</td>\n      <td>8.50</td>\n      <td>8.50</td>\n      <td>7.92</td>\n      <td>8.00</td>\n      <td>7.92</td>\n      <td>8.25</td>\n      <td>8.50</td>\n      <td>87.58</td>\n      <td>10.5</td>\n      <td>0</td>\n      <td>0</td>\n    </tr>\n    <tr>\n      <th>5</th>\n      <td>1668.0</td>\n      <td>8.33</td>\n      <td>8.33</td>\n      <td>8.25</td>\n      <td>7.83</td>\n      <td>7.83</td>\n      <td>8.17</td>\n      <td>8.25</td>\n      <td>87.00</td>\n      <td>10.7</td>\n      <td>0</td>\n      <td>2</td>\n    </tr>\n    <tr>\n      <th>6</th>\n      <td>1250.0</td>\n      <td>8.33</td>\n      <td>8.17</td>\n      <td>8.08</td>\n      <td>8.00</td>\n      <td>7.83</td>\n      <td>8.25</td>\n      <td>8.25</td>\n      <td>86.92</td>\n      <td>9.1</td>\n      <td>0</td>\n      <td>0</td>\n    </tr>\n    <tr>\n      <th>7</th>\n      <td>1200.0</td>\n      <td>8.25</td>\n      <td>8.25</td>\n      <td>8.17</td>\n      <td>8.00</td>\n      <td>7.92</td>\n      <td>8.08</td>\n      <td>8.08</td>\n      <td>86.75</td>\n      <td>10.0</td>\n      <td>0</td>\n      <td>1</td>\n    </tr>\n    <tr>\n      <th>8</th>\n      <td>1250.0</td>\n      <td>8.08</td>\n      <td>8.08</td>\n      <td>8.25</td>\n      <td>8.08</td>\n      <td>7.92</td>\n      <td>8.00</td>\n      <td>8.25</td>\n      <td>86.67</td>\n      <td>10.8</td>\n      <td>0</td>\n      <td>0</td>\n    </tr>\n    <tr>\n      <th>9</th>\n      <td>1550.0</td>\n      <td>8.08</td>\n      <td>8.17</td>\n      <td>8.08</td>\n      <td>8.17</td>\n      <td>8.00</td>\n      <td>8.00</td>\n      <td>8.00</td>\n      <td>86.50</td>\n      <td>11.0</td>\n      <td>0</td>\n      <td>0</td>\n    </tr>\n    <tr>\n      <th>10</th>\n      <td>2000.0</td>\n      <td>8.08</td>\n      <td>8.25</td>\n      <td>8.00</td>\n      <td>8.08</td>\n      <td>7.92</td>\n      <td>7.92</td>\n      <td>8.00</td>\n      <td>86.25</td>\n      <td>11.8</td>\n      <td>0</td>\n      <td>1</td>\n    </tr>\n    <tr>\n      <th>11</th>\n      <td>2000.0</td>\n      <td>8.08</td>\n      <td>8.00</td>\n      <td>8.00</td>\n      <td>7.75</td>\n      <td>8.25</td>\n      <td>8.17</td>\n      <td>8.00</td>\n      <td>86.25</td>\n      <td>11.5</td>\n      <td>0</td>\n      <td>1</td>\n    </tr>\n    <tr>\n      <th>12</th>\n      <td>1250.0</td>\n      <td>8.08</td>\n      <td>8.00</td>\n      <td>8.08</td>\n      <td>8.08</td>\n      <td>8.00</td>\n      <td>8.00</td>\n      <td>8.00</td>\n      <td>86.25</td>\n      <td>11.9</td>\n      <td>0</td>\n      <td>0</td>\n    </tr>\n    <tr>\n      <th>13</th>\n      <td>1950.0</td>\n      <td>7.67</td>\n      <td>8.17</td>\n      <td>8.00</td>\n      <td>8.33</td>\n      <td>8.00</td>\n      <td>8.00</td>\n      <td>8.00</td>\n      <td>86.17</td>\n      <td>11.6</td>\n      <td>0</td>\n      <td>2</td>\n    </tr>\n    <tr>\n      <th>15</th>\n      <td>1100.0</td>\n      <td>8.17</td>\n      <td>8.08</td>\n      <td>8.00</td>\n      <td>7.92</td>\n      <td>8.00</td>\n      <td>7.92</td>\n      <td>8.00</td>\n      <td>86.08</td>\n      <td>10.2</td>\n      <td>0</td>\n      <td>0</td>\n    </tr>\n    <tr>\n      <th>16</th>\n      <td>2000.0</td>\n      <td>8.17</td>\n      <td>8.08</td>\n      <td>7.92</td>\n      <td>8.17</td>\n      <td>7.75</td>\n      <td>7.92</td>\n      <td>8.08</td>\n      <td>86.08</td>\n      <td>11.3</td>\n      <td>0</td>\n      <td>2</td>\n    </tr>\n    <tr>\n      <th>17</th>\n      <td>1300.0</td>\n      <td>8.00</td>\n      <td>8.17</td>\n      <td>8.00</td>\n      <td>7.92</td>\n      <td>7.92</td>\n      <td>7.92</td>\n      <td>8.17</td>\n      <td>86.08</td>\n      <td>10.3</td>\n      <td>0</td>\n      <td>0</td>\n    </tr>\n    <tr>\n      <th>18</th>\n      <td>1200.0</td>\n      <td>8.08</td>\n      <td>8.17</td>\n      <td>7.75</td>\n      <td>7.92</td>\n      <td>7.83</td>\n      <td>8.00</td>\n      <td>8.17</td>\n      <td>85.92</td>\n      <td>11.0</td>\n      <td>0</td>\n      <td>1</td>\n    </tr>\n    <tr>\n      <th>19</th>\n      <td>1585.0</td>\n      <td>8.17</td>\n      <td>8.00</td>\n      <td>7.92</td>\n      <td>7.92</td>\n      <td>8.17</td>\n      <td>7.75</td>\n      <td>7.92</td>\n      <td>85.83</td>\n      <td>10.0</td>\n      <td>0</td>\n      <td>0</td>\n    </tr>\n    <tr>\n      <th>20</th>\n      <td>1900.0</td>\n      <td>8.00</td>\n      <td>7.92</td>\n      <td>8.08</td>\n      <td>7.92</td>\n      <td>7.75</td>\n      <td>8.00</td>\n      <td>8.08</td>\n      <td>85.75</td>\n      <td>11.6</td>\n      <td>0</td>\n      <td>0</td>\n    </tr>\n    <tr>\n      <th>21</th>\n      <td>850.0</td>\n      <td>8.08</td>\n      <td>8.00</td>\n      <td>7.92</td>\n      <td>7.92</td>\n      <td>8.00</td>\n      <td>7.83</td>\n      <td>7.92</td>\n      <td>85.67</td>\n      <td>10.4</td>\n      <td>0</td>\n      <td>0</td>\n    </tr>\n    <tr>\n      <th>24</th>\n      <td>1250.0</td>\n      <td>7.83</td>\n      <td>8.00</td>\n      <td>7.92</td>\n      <td>8.00</td>\n      <td>8.00</td>\n      <td>7.92</td>\n      <td>7.92</td>\n      <td>85.58</td>\n      <td>10.6</td>\n      <td>0</td>\n      <td>0</td>\n    </tr>\n    <tr>\n      <th>26</th>\n      <td>1300.0</td>\n      <td>7.92</td>\n      <td>7.92</td>\n      <td>8.00</td>\n      <td>7.92</td>\n      <td>7.83</td>\n      <td>7.92</td>\n      <td>8.00</td>\n      <td>85.50</td>\n      <td>9.1</td>\n      <td>0</td>\n      <td>2</td>\n    </tr>\n    <tr>\n      <th>27</th>\n      <td>1200.0</td>\n      <td>8.17</td>\n      <td>8.08</td>\n      <td>7.92</td>\n      <td>8.00</td>\n      <td>7.58</td>\n      <td>7.83</td>\n      <td>7.92</td>\n      <td>85.50</td>\n      <td>10.6</td>\n      <td>0</td>\n      <td>0</td>\n    </tr>\n    <tr>\n      <th>28</th>\n      <td>1060.0</td>\n      <td>8.00</td>\n      <td>8.00</td>\n      <td>8.00</td>\n      <td>7.92</td>\n      <td>7.75</td>\n      <td>7.92</td>\n      <td>7.92</td>\n      <td>85.50</td>\n      <td>10.2</td>\n      <td>0</td>\n      <td>0</td>\n    </tr>\n    <tr>\n      <th>30</th>\n      <td>200.0</td>\n      <td>8.00</td>\n      <td>8.00</td>\n      <td>7.83</td>\n      <td>7.83</td>\n      <td>7.75</td>\n      <td>7.92</td>\n      <td>8.08</td>\n      <td>85.42</td>\n      <td>11.4</td>\n      <td>0</td>\n      <td>0</td>\n    </tr>\n    <tr>\n      <th>31</th>\n      <td>200.0</td>\n      <td>7.92</td>\n      <td>8.00</td>\n      <td>7.83</td>\n      <td>7.92</td>\n      <td>7.83</td>\n      <td>7.83</td>\n      <td>8.00</td>\n      <td>85.33</td>\n      <td>10.8</td>\n      <td>0</td>\n      <td>0</td>\n    </tr>\n    <tr>\n      <th>32</th>\n      <td>668.0</td>\n      <td>8.08</td>\n      <td>8.17</td>\n      <td>7.67</td>\n      <td>7.83</td>\n      <td>7.67</td>\n      <td>7.92</td>\n      <td>8.00</td>\n      <td>85.33</td>\n      <td>11.3</td>\n      <td>0</td>\n      <td>0</td>\n    </tr>\n    <tr>\n      <th>33</th>\n      <td>1950.0</td>\n      <td>7.67</td>\n      <td>7.83</td>\n      <td>7.83</td>\n      <td>8.00</td>\n      <td>8.00</td>\n      <td>8.00</td>\n      <td>8.00</td>\n      <td>85.33</td>\n      <td>9.9</td>\n      <td>0</td>\n      <td>3</td>\n    </tr>\n    <tr>\n      <th>34</th>\n      <td>2250.0</td>\n      <td>8.00</td>\n      <td>8.08</td>\n      <td>8.00</td>\n      <td>8.00</td>\n      <td>7.67</td>\n      <td>7.75</td>\n      <td>7.83</td>\n      <td>85.33</td>\n      <td>12.3</td>\n      <td>0</td>\n      <td>4</td>\n    </tr>\n    <tr>\n      <th>35</th>\n      <td>1700.0</td>\n      <td>7.92</td>\n      <td>7.75</td>\n      <td>7.83</td>\n      <td>8.17</td>\n      <td>8.00</td>\n      <td>7.75</td>\n      <td>7.83</td>\n      <td>85.25</td>\n      <td>9.4</td>\n      <td>0</td>\n      <td>1</td>\n    </tr>\n    <tr>\n      <th>36</th>\n      <td>1200.0</td>\n      <td>8.00</td>\n      <td>7.92</td>\n      <td>7.83</td>\n      <td>7.92</td>\n      <td>7.83</td>\n      <td>7.83</td>\n      <td>7.92</td>\n      <td>85.25</td>\n      <td>9.5</td>\n      <td>0</td>\n      <td>0</td>\n    </tr>\n    <tr>\n      <th>37</th>\n      <td>650.0</td>\n      <td>8.25</td>\n      <td>8.08</td>\n      <td>7.83</td>\n      <td>7.75</td>\n      <td>7.67</td>\n      <td>7.75</td>\n      <td>7.92</td>\n      <td>85.25</td>\n      <td>11.3</td>\n      <td>0</td>\n      <td>0</td>\n    </tr>\n    <tr>\n      <th>39</th>\n      <td>850.0</td>\n      <td>7.75</td>\n      <td>7.92</td>\n      <td>7.75</td>\n      <td>8.00</td>\n      <td>7.83</td>\n      <td>7.92</td>\n      <td>8.00</td>\n      <td>85.17</td>\n      <td>10.3</td>\n      <td>0</td>\n      <td>0</td>\n    </tr>\n    <tr>\n      <th>40</th>\n      <td>400.0</td>\n      <td>8.00</td>\n      <td>7.92</td>\n      <td>7.83</td>\n      <td>7.92</td>\n      <td>7.75</td>\n      <td>7.75</td>\n      <td>7.92</td>\n      <td>85.08</td>\n      <td>10.0</td>\n      <td>0</td>\n      <td>0</td>\n    </tr>\n    <tr>\n      <th>41</th>\n      <td>1000.0</td>\n      <td>8.00</td>\n      <td>8.08</td>\n      <td>7.67</td>\n      <td>7.75</td>\n      <td>7.92</td>\n      <td>7.83</td>\n      <td>7.83</td>\n      <td>85.08</td>\n      <td>10.5</td>\n      <td>0</td>\n      <td>0</td>\n    </tr>\n    <tr>\n      <th>42</th>\n      <td>800.0</td>\n      <td>8.00</td>\n      <td>7.92</td>\n      <td>7.67</td>\n      <td>8.00</td>\n      <td>7.75</td>\n      <td>7.83</td>\n      <td>7.92</td>\n      <td>85.08</td>\n      <td>10.0</td>\n      <td>0</td>\n      <td>5</td>\n    </tr>\n    <tr>\n      <th>45</th>\n      <td>800.0</td>\n      <td>8.17</td>\n      <td>8.08</td>\n      <td>7.83</td>\n      <td>7.67</td>\n      <td>7.67</td>\n      <td>7.75</td>\n      <td>7.83</td>\n      <td>85.00</td>\n      <td>10.1</td>\n      <td>0</td>\n      <td>0</td>\n    </tr>\n    <tr>\n      <th>46</th>\n      <td>1600.0</td>\n      <td>7.67</td>\n      <td>8.08</td>\n      <td>7.67</td>\n      <td>8.00</td>\n      <td>7.92</td>\n      <td>7.83</td>\n      <td>7.83</td>\n      <td>85.00</td>\n      <td>9.9</td>\n      <td>0</td>\n      <td>1</td>\n    </tr>\n    <tr>\n      <th>47</th>\n      <td>4700.0</td>\n      <td>7.67</td>\n      <td>8.00</td>\n      <td>7.75</td>\n      <td>7.92</td>\n      <td>8.00</td>\n      <td>7.83</td>\n      <td>7.83</td>\n      <td>85.00</td>\n      <td>11.3</td>\n      <td>0</td>\n      <td>4</td>\n    </tr>\n    <tr>\n      <th>48</th>\n      <td>1600.0</td>\n      <td>7.83</td>\n      <td>7.92</td>\n      <td>7.75</td>\n      <td>8.00</td>\n      <td>7.75</td>\n      <td>7.75</td>\n      <td>7.92</td>\n      <td>84.92</td>\n      <td>11.7</td>\n      <td>0</td>\n      <td>1</td>\n    </tr>\n    <tr>\n      <th>49</th>\n      <td>375.0</td>\n      <td>7.92</td>\n      <td>7.92</td>\n      <td>7.83</td>\n      <td>7.83</td>\n      <td>7.75</td>\n      <td>7.83</td>\n      <td>7.83</td>\n      <td>84.92</td>\n      <td>9.5</td>\n      <td>0</td>\n      <td>2</td>\n    </tr>\n    <tr>\n      <th>50</th>\n      <td>230.0</td>\n      <td>8.00</td>\n      <td>8.00</td>\n      <td>7.75</td>\n      <td>7.75</td>\n      <td>7.67</td>\n      <td>7.75</td>\n      <td>7.92</td>\n      <td>84.83</td>\n      <td>9.7</td>\n      <td>0</td>\n      <td>0</td>\n    </tr>\n    <tr>\n      <th>53</th>\n      <td>1654.0</td>\n      <td>7.92</td>\n      <td>7.75</td>\n      <td>7.75</td>\n      <td>7.92</td>\n      <td>7.83</td>\n      <td>7.83</td>\n      <td>7.83</td>\n      <td>84.83</td>\n      <td>11.2</td>\n      <td>0</td>\n      <td>0</td>\n    </tr>\n    <tr>\n      <th>54</th>\n      <td>1300.0</td>\n      <td>7.83</td>\n      <td>7.83</td>\n      <td>7.67</td>\n      <td>7.67</td>\n      <td>7.83</td>\n      <td>8.00</td>\n      <td>8.00</td>\n      <td>84.83</td>\n      <td>9.5</td>\n      <td>0</td>\n      <td>0</td>\n    </tr>\n    <tr>\n      <th>55</th>\n      <td>1400.0</td>\n      <td>7.67</td>\n      <td>7.92</td>\n      <td>7.92</td>\n      <td>7.83</td>\n      <td>7.75</td>\n      <td>7.83</td>\n      <td>7.83</td>\n      <td>84.75</td>\n      <td>10.4</td>\n      <td>0</td>\n      <td>0</td>\n    </tr>\n    <tr>\n      <th>58</th>\n      <td>1200.0</td>\n      <td>7.92</td>\n      <td>8.08</td>\n      <td>7.67</td>\n      <td>7.92</td>\n      <td>7.67</td>\n      <td>7.75</td>\n      <td>7.75</td>\n      <td>84.75</td>\n      <td>10.0</td>\n      <td>0</td>\n      <td>0</td>\n    </tr>\n    <tr>\n      <th>59</th>\n      <td>1600.0</td>\n      <td>7.67</td>\n      <td>8.00</td>\n      <td>7.67</td>\n      <td>7.83</td>\n      <td>7.92</td>\n      <td>7.67</td>\n      <td>7.92</td>\n      <td>84.67</td>\n      <td>10.6</td>\n      <td>0</td>\n      <td>1</td>\n    </tr>\n    <tr>\n      <th>60</th>\n      <td>4895.0</td>\n      <td>7.83</td>\n      <td>8.00</td>\n      <td>7.67</td>\n      <td>7.83</td>\n      <td>7.75</td>\n      <td>7.75</td>\n      <td>7.83</td>\n      <td>84.67</td>\n      <td>10.9</td>\n      <td>0</td>\n      <td>2</td>\n    </tr>\n    <tr>\n      <th>62</th>\n      <td>250.0</td>\n      <td>7.83</td>\n      <td>7.83</td>\n      <td>7.75</td>\n      <td>7.75</td>\n      <td>7.75</td>\n      <td>7.75</td>\n      <td>7.92</td>\n      <td>84.58</td>\n      <td>9.6</td>\n      <td>0</td>\n      <td>0</td>\n    </tr>\n    <tr>\n      <th>63</th>\n      <td>700.0</td>\n      <td>8.17</td>\n      <td>7.83</td>\n      <td>7.67</td>\n      <td>7.83</td>\n      <td>7.67</td>\n      <td>7.67</td>\n      <td>7.75</td>\n      <td>84.58</td>\n      <td>11.5</td>\n      <td>0</td>\n      <td>0</td>\n    </tr>\n    <tr>\n      <th>65</th>\n      <td>1250.0</td>\n      <td>8.08</td>\n      <td>7.83</td>\n      <td>7.67</td>\n      <td>7.67</td>\n      <td>7.67</td>\n      <td>7.75</td>\n      <td>7.92</td>\n      <td>84.58</td>\n      <td>11.2</td>\n      <td>0</td>\n      <td>2</td>\n    </tr>\n    <tr>\n      <th>66</th>\n      <td>1450.0</td>\n      <td>7.83</td>\n      <td>8.00</td>\n      <td>7.67</td>\n      <td>7.75</td>\n      <td>7.67</td>\n      <td>7.75</td>\n      <td>7.92</td>\n      <td>84.58</td>\n      <td>10.3</td>\n      <td>0</td>\n      <td>0</td>\n    </tr>\n    <tr>\n      <th>69</th>\n      <td>520.0</td>\n      <td>7.75</td>\n      <td>7.92</td>\n      <td>7.83</td>\n      <td>7.75</td>\n      <td>7.75</td>\n      <td>7.75</td>\n      <td>7.75</td>\n      <td>84.50</td>\n      <td>11.3</td>\n      <td>0</td>\n      <td>0</td>\n    </tr>\n  </tbody>\n</table>\n</div>"
     },
     "execution_count": 9,
     "metadata": {},
     "output_type": "execute_result"
    }
   ],
   "source": [
    "df_cont.head(50)"
   ],
   "metadata": {
    "collapsed": false,
    "ExecuteTime": {
     "end_time": "2023-11-23T00:25:09.779342Z",
     "start_time": "2023-11-23T00:25:09.749206Z"
    }
   },
   "id": "430e8a517249fb6a"
  },
  {
   "cell_type": "code",
   "execution_count": 10,
   "outputs": [
    {
     "data": {
      "text/plain": "(96, 12)"
     },
     "execution_count": 10,
     "metadata": {},
     "output_type": "execute_result"
    }
   ],
   "source": [
    "df_cont.shape"
   ],
   "metadata": {
    "collapsed": false,
    "ExecuteTime": {
     "end_time": "2023-11-23T00:25:18.555438Z",
     "start_time": "2023-11-23T00:25:18.539557Z"
    }
   },
   "id": "f11b5595d70d1a62"
  },
  {
   "cell_type": "markdown",
   "source": [
    "#### Scale data"
   ],
   "metadata": {
    "collapsed": false
   },
   "id": "2f49cab4be5d6dbb"
  },
  {
   "cell_type": "code",
   "execution_count": 11,
   "outputs": [],
   "source": [
    "scaler=StandardScaler() #sets 'scaler' as a shortcut"
   ],
   "metadata": {
    "collapsed": false,
    "ExecuteTime": {
     "end_time": "2023-11-23T00:25:28.613300Z",
     "start_time": "2023-11-23T00:25:28.587482Z"
    }
   },
   "id": "52cf7120de554b97"
  },
  {
   "cell_type": "code",
   "execution_count": 12,
   "outputs": [
    {
     "data": {
      "text/plain": "['Altitude',\n 'Aroma',\n 'Flavor',\n 'Aftertaste',\n 'Acidity',\n 'Body',\n 'Balance',\n 'Overall',\n 'Total Cup Points',\n 'Moisture Percentage',\n 'Category One Defects',\n 'Category Two Defects']"
     },
     "execution_count": 12,
     "metadata": {},
     "output_type": "execute_result"
    }
   ],
   "source": [
    "# Create a list of the columns of the new dataframe\n",
    "\n",
    "columns=df_cont.columns.values.tolist() \n",
    "columns #list the columns"
   ],
   "metadata": {
    "collapsed": false,
    "ExecuteTime": {
     "end_time": "2023-11-23T00:25:33.026840Z",
     "start_time": "2023-11-23T00:25:33.006791Z"
    }
   },
   "id": "477c13cf11f9884e"
  },
  {
   "cell_type": "code",
   "execution_count": 13,
   "outputs": [
    {
     "data": {
      "text/plain": "   Altitude     Aroma    Flavor  Aftertaste   Acidity      Body   Balance  \\\n0 -0.014261  2.668235  2.931156    0.955827  1.014069  1.019037  2.510961   \n1  0.507508  1.998509  2.135605    2.517488  0.148504  0.562610  2.115145   \n2  0.041483  1.998509  1.386852    1.712996  1.014069  0.562610  2.510961   \n3 -0.014261  1.683344  1.761228    2.138904  1.014069  1.019037  1.669851   \n4  0.041483  1.013617  0.965678    2.517488  1.421394  1.019037  1.274035   \n\n    Overall  Total Cup Points  Moisture Percentage  Category One Defects  \\\n0  3.183569          2.382921             0.132222             -0.102598   \n1  2.025381          1.939053             0.345556             -0.102598   \n2  2.025381          1.877830            -1.361112             -0.102598   \n3  1.237813          1.747731            -0.401111             -0.102598   \n4  2.025381          1.686507             0.452223             -0.102598   \n\n   Category Two Defects  \n0             -0.613324  \n1              0.278783  \n2             -0.613324  \n3             -0.167270  \n4             -0.613324  ",
      "text/html": "<div>\n<style scoped>\n    .dataframe tbody tr th:only-of-type {\n        vertical-align: middle;\n    }\n\n    .dataframe tbody tr th {\n        vertical-align: top;\n    }\n\n    .dataframe thead th {\n        text-align: right;\n    }\n</style>\n<table border=\"1\" class=\"dataframe\">\n  <thead>\n    <tr style=\"text-align: right;\">\n      <th></th>\n      <th>Altitude</th>\n      <th>Aroma</th>\n      <th>Flavor</th>\n      <th>Aftertaste</th>\n      <th>Acidity</th>\n      <th>Body</th>\n      <th>Balance</th>\n      <th>Overall</th>\n      <th>Total Cup Points</th>\n      <th>Moisture Percentage</th>\n      <th>Category One Defects</th>\n      <th>Category Two Defects</th>\n    </tr>\n  </thead>\n  <tbody>\n    <tr>\n      <th>0</th>\n      <td>-0.014261</td>\n      <td>2.668235</td>\n      <td>2.931156</td>\n      <td>0.955827</td>\n      <td>1.014069</td>\n      <td>1.019037</td>\n      <td>2.510961</td>\n      <td>3.183569</td>\n      <td>2.382921</td>\n      <td>0.132222</td>\n      <td>-0.102598</td>\n      <td>-0.613324</td>\n    </tr>\n    <tr>\n      <th>1</th>\n      <td>0.507508</td>\n      <td>1.998509</td>\n      <td>2.135605</td>\n      <td>2.517488</td>\n      <td>0.148504</td>\n      <td>0.562610</td>\n      <td>2.115145</td>\n      <td>2.025381</td>\n      <td>1.939053</td>\n      <td>0.345556</td>\n      <td>-0.102598</td>\n      <td>0.278783</td>\n    </tr>\n    <tr>\n      <th>2</th>\n      <td>0.041483</td>\n      <td>1.998509</td>\n      <td>1.386852</td>\n      <td>1.712996</td>\n      <td>1.014069</td>\n      <td>0.562610</td>\n      <td>2.510961</td>\n      <td>2.025381</td>\n      <td>1.877830</td>\n      <td>-1.361112</td>\n      <td>-0.102598</td>\n      <td>-0.613324</td>\n    </tr>\n    <tr>\n      <th>3</th>\n      <td>-0.014261</td>\n      <td>1.683344</td>\n      <td>1.761228</td>\n      <td>2.138904</td>\n      <td>1.014069</td>\n      <td>1.019037</td>\n      <td>1.669851</td>\n      <td>1.237813</td>\n      <td>1.747731</td>\n      <td>-0.401111</td>\n      <td>-0.102598</td>\n      <td>-0.167270</td>\n    </tr>\n    <tr>\n      <th>4</th>\n      <td>0.041483</td>\n      <td>1.013617</td>\n      <td>0.965678</td>\n      <td>2.517488</td>\n      <td>1.421394</td>\n      <td>1.019037</td>\n      <td>1.274035</td>\n      <td>2.025381</td>\n      <td>1.686507</td>\n      <td>0.452223</td>\n      <td>-0.102598</td>\n      <td>-0.613324</td>\n    </tr>\n  </tbody>\n</table>\n</div>"
     },
     "execution_count": 13,
     "metadata": {},
     "output_type": "execute_result"
    }
   ],
   "source": [
    "#run the scaler on the dataframe to create a new 'df_scaled'\n",
    "\n",
    "df_scaled=pd.DataFrame(scaler.fit_transform(df_cont), columns=columns) \n",
    "df_scaled.head() #show scaled df"
   ],
   "metadata": {
    "collapsed": false,
    "ExecuteTime": {
     "end_time": "2023-11-23T00:25:38.724123Z",
     "start_time": "2023-11-23T00:25:38.712392Z"
    }
   },
   "id": "364a7ee67a2f1cb3"
  },
  {
   "cell_type": "code",
   "execution_count": 14,
   "outputs": [
    {
     "data": {
      "text/plain": "           Altitude         Aroma        Flavor    Aftertaste       Acidity  \\\ncount  9.600000e+01  9.600000e+01  9.600000e+01  9.600000e+01  9.600000e+01   \nmean  -1.017704e-16 -1.859624e-15 -1.665335e-15 -3.210395e-15  1.850372e-16   \nstd    1.005249e+00  1.005249e+00  1.005249e+00  1.005249e+00  1.005249e+00   \nmin   -1.197160e+00 -2.256222e+00 -2.122931e+00 -1.836233e+00 -2.397277e+00   \n25%   -8.044401e-01 -6.016045e-01 -5.786267e-01 -6.531569e-01 -6.661459e-01   \n50%    1.361096e-02  2.872600e-02  2.169241e-01 -2.272493e-01  1.485039e-01   \n75%    4.316950e-01  6.984522e-01  5.913009e-01  5.299197e-01  6.067443e-01   \nmax    4.526131e+00  2.668235e+00  2.931156e+00  2.517488e+00  2.694284e+00   \n\n               Body       Balance       Overall  Total Cup Points  \\\ncount  9.600000e+01  9.600000e+01  9.600000e+01      9.600000e+01   \nmean   1.517305e-15  1.369275e-15  1.286008e-15     -2.026157e-15   \nstd    1.005249e+00  1.005249e+00  1.005249e+00      1.005249e+00   \nmin   -2.378810e+00 -2.436746e+00 -2.236751e+00     -2.270041e+00   \n25%   -7.052434e-01 -8.040024e-01 -6.616149e-01     -6.782381e-01   \n50%    1.568968e-01  3.710780e-02  7.962542e-02      8.705172e-02   \n75%    5.626099e-01  5.442478e-01  4.965731e-01      6.610191e-01   \nmax    2.692603e+00  2.510961e+00  3.183569e+00      2.382921e+00   \n\n       Moisture Percentage  Category One Defects  Category Two Defects  \ncount         9.600000e+01          9.600000e+01          9.600000e+01  \nmean         -8.557969e-16          9.251859e-18          3.700743e-17  \nstd           1.005249e+00          1.005249e+00          1.005249e+00  \nmin          -2.427779e+00         -1.025978e-01         -6.133236e-01  \n25%          -6.411115e-01         -1.025978e-01         -6.133236e-01  \n50%           2.555557e-02         -1.025978e-01         -3.902968e-01  \n75%           6.655560e-01         -1.025978e-01          2.787834e-01  \nmax           2.052223e+00          9.746794e+00          4.739319e+00  ",
      "text/html": "<div>\n<style scoped>\n    .dataframe tbody tr th:only-of-type {\n        vertical-align: middle;\n    }\n\n    .dataframe tbody tr th {\n        vertical-align: top;\n    }\n\n    .dataframe thead th {\n        text-align: right;\n    }\n</style>\n<table border=\"1\" class=\"dataframe\">\n  <thead>\n    <tr style=\"text-align: right;\">\n      <th></th>\n      <th>Altitude</th>\n      <th>Aroma</th>\n      <th>Flavor</th>\n      <th>Aftertaste</th>\n      <th>Acidity</th>\n      <th>Body</th>\n      <th>Balance</th>\n      <th>Overall</th>\n      <th>Total Cup Points</th>\n      <th>Moisture Percentage</th>\n      <th>Category One Defects</th>\n      <th>Category Two Defects</th>\n    </tr>\n  </thead>\n  <tbody>\n    <tr>\n      <th>count</th>\n      <td>9.600000e+01</td>\n      <td>9.600000e+01</td>\n      <td>9.600000e+01</td>\n      <td>9.600000e+01</td>\n      <td>9.600000e+01</td>\n      <td>9.600000e+01</td>\n      <td>9.600000e+01</td>\n      <td>9.600000e+01</td>\n      <td>9.600000e+01</td>\n      <td>9.600000e+01</td>\n      <td>9.600000e+01</td>\n      <td>9.600000e+01</td>\n    </tr>\n    <tr>\n      <th>mean</th>\n      <td>-1.017704e-16</td>\n      <td>-1.859624e-15</td>\n      <td>-1.665335e-15</td>\n      <td>-3.210395e-15</td>\n      <td>1.850372e-16</td>\n      <td>1.517305e-15</td>\n      <td>1.369275e-15</td>\n      <td>1.286008e-15</td>\n      <td>-2.026157e-15</td>\n      <td>-8.557969e-16</td>\n      <td>9.251859e-18</td>\n      <td>3.700743e-17</td>\n    </tr>\n    <tr>\n      <th>std</th>\n      <td>1.005249e+00</td>\n      <td>1.005249e+00</td>\n      <td>1.005249e+00</td>\n      <td>1.005249e+00</td>\n      <td>1.005249e+00</td>\n      <td>1.005249e+00</td>\n      <td>1.005249e+00</td>\n      <td>1.005249e+00</td>\n      <td>1.005249e+00</td>\n      <td>1.005249e+00</td>\n      <td>1.005249e+00</td>\n      <td>1.005249e+00</td>\n    </tr>\n    <tr>\n      <th>min</th>\n      <td>-1.197160e+00</td>\n      <td>-2.256222e+00</td>\n      <td>-2.122931e+00</td>\n      <td>-1.836233e+00</td>\n      <td>-2.397277e+00</td>\n      <td>-2.378810e+00</td>\n      <td>-2.436746e+00</td>\n      <td>-2.236751e+00</td>\n      <td>-2.270041e+00</td>\n      <td>-2.427779e+00</td>\n      <td>-1.025978e-01</td>\n      <td>-6.133236e-01</td>\n    </tr>\n    <tr>\n      <th>25%</th>\n      <td>-8.044401e-01</td>\n      <td>-6.016045e-01</td>\n      <td>-5.786267e-01</td>\n      <td>-6.531569e-01</td>\n      <td>-6.661459e-01</td>\n      <td>-7.052434e-01</td>\n      <td>-8.040024e-01</td>\n      <td>-6.616149e-01</td>\n      <td>-6.782381e-01</td>\n      <td>-6.411115e-01</td>\n      <td>-1.025978e-01</td>\n      <td>-6.133236e-01</td>\n    </tr>\n    <tr>\n      <th>50%</th>\n      <td>1.361096e-02</td>\n      <td>2.872600e-02</td>\n      <td>2.169241e-01</td>\n      <td>-2.272493e-01</td>\n      <td>1.485039e-01</td>\n      <td>1.568968e-01</td>\n      <td>3.710780e-02</td>\n      <td>7.962542e-02</td>\n      <td>8.705172e-02</td>\n      <td>2.555557e-02</td>\n      <td>-1.025978e-01</td>\n      <td>-3.902968e-01</td>\n    </tr>\n    <tr>\n      <th>75%</th>\n      <td>4.316950e-01</td>\n      <td>6.984522e-01</td>\n      <td>5.913009e-01</td>\n      <td>5.299197e-01</td>\n      <td>6.067443e-01</td>\n      <td>5.626099e-01</td>\n      <td>5.442478e-01</td>\n      <td>4.965731e-01</td>\n      <td>6.610191e-01</td>\n      <td>6.655560e-01</td>\n      <td>-1.025978e-01</td>\n      <td>2.787834e-01</td>\n    </tr>\n    <tr>\n      <th>max</th>\n      <td>4.526131e+00</td>\n      <td>2.668235e+00</td>\n      <td>2.931156e+00</td>\n      <td>2.517488e+00</td>\n      <td>2.694284e+00</td>\n      <td>2.692603e+00</td>\n      <td>2.510961e+00</td>\n      <td>3.183569e+00</td>\n      <td>2.382921e+00</td>\n      <td>2.052223e+00</td>\n      <td>9.746794e+00</td>\n      <td>4.739319e+00</td>\n    </tr>\n  </tbody>\n</table>\n</div>"
     },
     "execution_count": 14,
     "metadata": {},
     "output_type": "execute_result"
    }
   ],
   "source": [
    "df_scaled.describe()"
   ],
   "metadata": {
    "collapsed": false,
    "ExecuteTime": {
     "end_time": "2023-11-23T00:25:40.539286Z",
     "start_time": "2023-11-23T00:25:40.498508Z"
    }
   },
   "id": "d76a33203ec3c5b5"
  },
  {
   "cell_type": "code",
   "execution_count": 15,
   "outputs": [
    {
     "data": {
      "text/plain": "   Altitude  Aroma  Flavor  Aftertaste  Acidity  Body  Balance  Overall  \\\n1    1200.0   8.50    8.50        7.92     8.00  7.92     8.25     8.50   \n5    1668.0   8.33    8.33        8.25     7.83  7.83     8.17     8.25   \n6    1250.0   8.33    8.17        8.08     8.00  7.83     8.25     8.25   \n7    1200.0   8.25    8.25        8.17     8.00  7.92     8.08     8.08   \n8    1250.0   8.08    8.08        8.25     8.08  7.92     8.00     8.25   \n\n   Total Cup Points  Moisture Percentage  Category One Defects  \\\n1             87.58                 10.5                     0   \n5             87.00                 10.7                     0   \n6             86.92                  9.1                     0   \n7             86.75                 10.0                     0   \n8             86.67                 10.8                     0   \n\n   Category Two Defects  \n1                     0  \n5                     2  \n6                     0  \n7                     1  \n8                     0  ",
      "text/html": "<div>\n<style scoped>\n    .dataframe tbody tr th:only-of-type {\n        vertical-align: middle;\n    }\n\n    .dataframe tbody tr th {\n        vertical-align: top;\n    }\n\n    .dataframe thead th {\n        text-align: right;\n    }\n</style>\n<table border=\"1\" class=\"dataframe\">\n  <thead>\n    <tr style=\"text-align: right;\">\n      <th></th>\n      <th>Altitude</th>\n      <th>Aroma</th>\n      <th>Flavor</th>\n      <th>Aftertaste</th>\n      <th>Acidity</th>\n      <th>Body</th>\n      <th>Balance</th>\n      <th>Overall</th>\n      <th>Total Cup Points</th>\n      <th>Moisture Percentage</th>\n      <th>Category One Defects</th>\n      <th>Category Two Defects</th>\n    </tr>\n  </thead>\n  <tbody>\n    <tr>\n      <th>1</th>\n      <td>1200.0</td>\n      <td>8.50</td>\n      <td>8.50</td>\n      <td>7.92</td>\n      <td>8.00</td>\n      <td>7.92</td>\n      <td>8.25</td>\n      <td>8.50</td>\n      <td>87.58</td>\n      <td>10.5</td>\n      <td>0</td>\n      <td>0</td>\n    </tr>\n    <tr>\n      <th>5</th>\n      <td>1668.0</td>\n      <td>8.33</td>\n      <td>8.33</td>\n      <td>8.25</td>\n      <td>7.83</td>\n      <td>7.83</td>\n      <td>8.17</td>\n      <td>8.25</td>\n      <td>87.00</td>\n      <td>10.7</td>\n      <td>0</td>\n      <td>2</td>\n    </tr>\n    <tr>\n      <th>6</th>\n      <td>1250.0</td>\n      <td>8.33</td>\n      <td>8.17</td>\n      <td>8.08</td>\n      <td>8.00</td>\n      <td>7.83</td>\n      <td>8.25</td>\n      <td>8.25</td>\n      <td>86.92</td>\n      <td>9.1</td>\n      <td>0</td>\n      <td>0</td>\n    </tr>\n    <tr>\n      <th>7</th>\n      <td>1200.0</td>\n      <td>8.25</td>\n      <td>8.25</td>\n      <td>8.17</td>\n      <td>8.00</td>\n      <td>7.92</td>\n      <td>8.08</td>\n      <td>8.08</td>\n      <td>86.75</td>\n      <td>10.0</td>\n      <td>0</td>\n      <td>1</td>\n    </tr>\n    <tr>\n      <th>8</th>\n      <td>1250.0</td>\n      <td>8.08</td>\n      <td>8.08</td>\n      <td>8.25</td>\n      <td>8.08</td>\n      <td>7.92</td>\n      <td>8.00</td>\n      <td>8.25</td>\n      <td>86.67</td>\n      <td>10.8</td>\n      <td>0</td>\n      <td>0</td>\n    </tr>\n  </tbody>\n</table>\n</div>"
     },
     "execution_count": 15,
     "metadata": {},
     "output_type": "execute_result"
    }
   ],
   "source": [
    "df_cont.head()"
   ],
   "metadata": {
    "collapsed": false,
    "ExecuteTime": {
     "end_time": "2023-11-23T00:25:47.397906Z",
     "start_time": "2023-11-23T00:25:47.356070Z"
    }
   },
   "id": "fec9cbe6377856ab"
  },
  {
   "cell_type": "markdown",
   "source": [
    "# 2. The Elbow Technique"
   ],
   "metadata": {
    "collapsed": false
   },
   "id": "85cb3c469388f9fc"
  },
  {
   "cell_type": "code",
   "execution_count": 16,
   "outputs": [],
   "source": [
    "num_cl = range(1, 10) # Defines the range of potential clusters in the data.\n",
    "kmeans = [KMeans(n_clusters=i) for i in num_cl] # Defines k-means clusters in the range assigned above."
   ],
   "metadata": {
    "collapsed": false,
    "ExecuteTime": {
     "end_time": "2023-11-23T00:25:51.617782Z",
     "start_time": "2023-11-23T00:25:51.586273Z"
    }
   },
   "id": "c441a73a2f67d6c"
  },
  {
   "cell_type": "code",
   "execution_count": 17,
   "outputs": [
    {
     "name": "stderr",
     "output_type": "stream",
     "text": [
      "/Users/danioprea/PycharmProjects/Coffee_Quality_Data_Analysis/venv/lib/python3.9/site-packages/sklearn/cluster/_kmeans.py:1416: FutureWarning: The default value of `n_init` will change from 10 to 'auto' in 1.4. Set the value of `n_init` explicitly to suppress the warning\n",
      "  super()._check_params_vs_input(X, default_n_init=10)\n",
      "/Users/danioprea/PycharmProjects/Coffee_Quality_Data_Analysis/venv/lib/python3.9/site-packages/sklearn/cluster/_kmeans.py:1416: FutureWarning: The default value of `n_init` will change from 10 to 'auto' in 1.4. Set the value of `n_init` explicitly to suppress the warning\n",
      "  super()._check_params_vs_input(X, default_n_init=10)\n",
      "/Users/danioprea/PycharmProjects/Coffee_Quality_Data_Analysis/venv/lib/python3.9/site-packages/sklearn/cluster/_kmeans.py:1416: FutureWarning: The default value of `n_init` will change from 10 to 'auto' in 1.4. Set the value of `n_init` explicitly to suppress the warning\n",
      "  super()._check_params_vs_input(X, default_n_init=10)\n",
      "/Users/danioprea/PycharmProjects/Coffee_Quality_Data_Analysis/venv/lib/python3.9/site-packages/sklearn/cluster/_kmeans.py:1416: FutureWarning: The default value of `n_init` will change from 10 to 'auto' in 1.4. Set the value of `n_init` explicitly to suppress the warning\n",
      "  super()._check_params_vs_input(X, default_n_init=10)\n",
      "/Users/danioprea/PycharmProjects/Coffee_Quality_Data_Analysis/venv/lib/python3.9/site-packages/sklearn/cluster/_kmeans.py:1416: FutureWarning: The default value of `n_init` will change from 10 to 'auto' in 1.4. Set the value of `n_init` explicitly to suppress the warning\n",
      "  super()._check_params_vs_input(X, default_n_init=10)\n",
      "/Users/danioprea/PycharmProjects/Coffee_Quality_Data_Analysis/venv/lib/python3.9/site-packages/sklearn/cluster/_kmeans.py:1416: FutureWarning: The default value of `n_init` will change from 10 to 'auto' in 1.4. Set the value of `n_init` explicitly to suppress the warning\n",
      "  super()._check_params_vs_input(X, default_n_init=10)\n",
      "/Users/danioprea/PycharmProjects/Coffee_Quality_Data_Analysis/venv/lib/python3.9/site-packages/sklearn/cluster/_kmeans.py:1416: FutureWarning: The default value of `n_init` will change from 10 to 'auto' in 1.4. Set the value of `n_init` explicitly to suppress the warning\n",
      "  super()._check_params_vs_input(X, default_n_init=10)\n",
      "/Users/danioprea/PycharmProjects/Coffee_Quality_Data_Analysis/venv/lib/python3.9/site-packages/sklearn/cluster/_kmeans.py:1416: FutureWarning: The default value of `n_init` will change from 10 to 'auto' in 1.4. Set the value of `n_init` explicitly to suppress the warning\n",
      "  super()._check_params_vs_input(X, default_n_init=10)\n",
      "/Users/danioprea/PycharmProjects/Coffee_Quality_Data_Analysis/venv/lib/python3.9/site-packages/sklearn/cluster/_kmeans.py:1416: FutureWarning: The default value of `n_init` will change from 10 to 'auto' in 1.4. Set the value of `n_init` explicitly to suppress the warning\n",
      "  super()._check_params_vs_input(X, default_n_init=10)\n"
     ]
    },
    {
     "data": {
      "text/plain": "[-1152.0,\n -742.9951884257014,\n -601.0996897463956,\n -503.14234715555324,\n -418.58240837771086,\n -369.7299056099003,\n -330.1331023546155,\n -302.1093518330578,\n -277.4239699860805]"
     },
     "execution_count": 17,
     "metadata": {},
     "output_type": "execute_result"
    }
   ],
   "source": [
    "score = [kmeans[i].fit(df_scaled).score(df_scaled) for i in range(len(kmeans))] # Creates a score that represents a rate of variation for the given cluster option.\n",
    "\n",
    "score"
   ],
   "metadata": {
    "collapsed": false,
    "ExecuteTime": {
     "end_time": "2023-11-23T00:25:53.347793Z",
     "start_time": "2023-11-23T00:25:52.832905Z"
    }
   },
   "id": "3e17fe2b2b7e44fa"
  },
  {
   "cell_type": "code",
   "execution_count": 18,
   "outputs": [
    {
     "data": {
      "text/plain": "<Figure size 640x480 with 1 Axes>",
      "image/png": "[encoded data removed]"
     },
     "metadata": {},
     "output_type": "display_data"
    }
   ],
   "source": [
    "# Plot the elbow curve using PyLab.\n",
    "\n",
    "pl.plot(num_cl,score)\n",
    "pl.xlabel('Number of Clusters')\n",
    "pl.ylabel('Score')\n",
    "pl.title('Elbow Curve')\n",
    "pl.show()"
   ],
   "metadata": {
    "collapsed": false,
    "ExecuteTime": {
     "end_time": "2023-11-23T00:25:58.819024Z",
     "start_time": "2023-11-23T00:25:58.712209Z"
    }
   },
   "id": "40d0010828e0ffca"
  },
  {
   "cell_type": "markdown",
   "source": [
    "We'll try 3 clusters."
   ],
   "metadata": {
    "collapsed": false
   },
   "id": "58ffaa0050e38a57"
  },
  {
   "cell_type": "markdown",
   "source": [
    "# 3. k-Means Clustering"
   ],
   "metadata": {
    "collapsed": false
   },
   "id": "bec556897a4c6acd"
  },
  {
   "cell_type": "code",
   "execution_count": 19,
   "outputs": [],
   "source": [
    "# Create the k-means object\n",
    "\n",
    "kmeans = KMeans(n_clusters=3)"
   ],
   "metadata": {
    "collapsed": false,
    "ExecuteTime": {
     "end_time": "2023-11-23T00:26:54.323661Z",
     "start_time": "2023-11-23T00:26:54.298873Z"
    }
   },
   "id": "7d0d802127a0673"
  },
  {
   "cell_type": "code",
   "execution_count": 20,
   "outputs": [
    {
     "name": "stderr",
     "output_type": "stream",
     "text": [
      "/Users/danioprea/PycharmProjects/Coffee_Quality_Data_Analysis/venv/lib/python3.9/site-packages/sklearn/cluster/_kmeans.py:1416: FutureWarning: The default value of `n_init` will change from 10 to 'auto' in 1.4. Set the value of `n_init` explicitly to suppress the warning\n",
      "  super()._check_params_vs_input(X, default_n_init=10)\n"
     ]
    },
    {
     "data": {
      "text/plain": "KMeans(n_clusters=3)",
      "text/html": "<style>#sk-container-id-1 {color: black;}#sk-container-id-1 pre{padding: 0;}#sk-container-id-1 div.sk-toggleable {background-color: white;}#sk-container-id-1 label.sk-toggleable__label {cursor: pointer;display: block;width: 100%;margin-bottom: 0;padding: 0.3em;box-sizing: border-box;text-align: center;}#sk-container-id-1 label.sk-toggleable__label-arrow:before {content: \"▸\";float: left;margin-right: 0.25em;color: #696969;}#sk-container-id-1 label.sk-toggleable__label-arrow:hover:before {color: black;}#sk-container-id-1 div.sk-estimator:hover label.sk-toggleable__label-arrow:before {color: black;}#sk-container-id-1 div.sk-toggleable__content {max-height: 0;max-width: 0;overflow: hidden;text-align: left;background-color: #f0f8ff;}#sk-container-id-1 div.sk-toggleable__content pre {margin: 0.2em;color: black;border-radius: 0.25em;background-color: #f0f8ff;}#sk-container-id-1 input.sk-toggleable__control:checked~div.sk-toggleable__content {max-height: 200px;max-width: 100%;overflow: auto;}#sk-container-id-1 input.sk-toggleable__control:checked~label.sk-toggleable__label-arrow:before {content: \"▾\";}#sk-container-id-1 div.sk-estimator input.sk-toggleable__control:checked~label.sk-toggleable__label {background-color: #d4ebff;}#sk-container-id-1 div.sk-label input.sk-toggleable__control:checked~label.sk-toggleable__label {background-color: #d4ebff;}#sk-container-id-1 input.sk-hidden--visually {border: 0;clip: rect(1px 1px 1px 1px);clip: rect(1px, 1px, 1px, 1px);height: 1px;margin: -1px;overflow: hidden;padding: 0;position: absolute;width: 1px;}#sk-container-id-1 div.sk-estimator {font-family: monospace;background-color: #f0f8ff;border: 1px dotted black;border-radius: 0.25em;box-sizing: border-box;margin-bottom: 0.5em;}#sk-container-id-1 div.sk-estimator:hover {background-color: #d4ebff;}#sk-container-id-1 div.sk-parallel-item::after {content: \"\";width: 100%;border-bottom: 1px solid gray;flex-grow: 1;}#sk-container-id-1 div.sk-label:hover label.sk-toggleable__label {background-color: #d4ebff;}#sk-container-id-1 div.sk-serial::before {content: \"\";position: absolute;border-left: 1px solid gray;box-sizing: border-box;top: 0;bottom: 0;left: 50%;z-index: 0;}#sk-container-id-1 div.sk-serial {display: flex;flex-direction: column;align-items: center;background-color: white;padding-right: 0.2em;padding-left: 0.2em;position: relative;}#sk-container-id-1 div.sk-item {position: relative;z-index: 1;}#sk-container-id-1 div.sk-parallel {display: flex;align-items: stretch;justify-content: center;background-color: white;position: relative;}#sk-container-id-1 div.sk-item::before, #sk-container-id-1 div.sk-parallel-item::before {content: \"\";position: absolute;border-left: 1px solid gray;box-sizing: border-box;top: 0;bottom: 0;left: 50%;z-index: -1;}#sk-container-id-1 div.sk-parallel-item {display: flex;flex-direction: column;z-index: 1;position: relative;background-color: white;}#sk-container-id-1 div.sk-parallel-item:first-child::after {align-self: flex-end;width: 50%;}#sk-container-id-1 div.sk-parallel-item:last-child::after {align-self: flex-start;width: 50%;}#sk-container-id-1 div.sk-parallel-item:only-child::after {width: 0;}#sk-container-id-1 div.sk-dashed-wrapped {border: 1px dashed gray;margin: 0 0.4em 0.5em 0.4em;box-sizing: border-box;padding-bottom: 0.4em;background-color: white;}#sk-container-id-1 div.sk-label label {font-family: monospace;font-weight: bold;display: inline-block;line-height: 1.2em;}#sk-container-id-1 div.sk-label-container {text-align: center;}#sk-container-id-1 div.sk-container {/* jupyter's `normalize.less` sets `[hidden] { display: none; }` but bootstrap.min.css set `[hidden] { display: none !important; }` so we also need the `!important` here to be able to override the default hidden behavior on the sphinx rendered scikit-learn.org. See: https://github.com/scikit-learn/scikit-learn/issues/21755 */display: inline-block !important;position: relative;}#sk-container-id-1 div.sk-text-repr-fallback {display: none;}</style><div id=\"sk-container-id-1\" class=\"sk-top-container\"><div class=\"sk-text-repr-fallback\"><pre>KMeans(n_clusters=3)</pre><b>In a Jupyter environment, please rerun this cell to show the HTML representation or trust the notebook. <br />On GitHub, the HTML representation is unable to render, please try loading this page with nbviewer.org.</b></div><div class=\"sk-container\" hidden><div class=\"sk-item\"><div class=\"sk-estimator sk-toggleable\"><input class=\"sk-toggleable__control sk-hidden--visually\" id=\"sk-estimator-id-1\" type=\"checkbox\" checked><label for=\"sk-estimator-id-1\" class=\"sk-toggleable__label sk-toggleable__label-arrow\">KMeans</label><div class=\"sk-toggleable__content\"><pre>KMeans(n_clusters=3)</pre></div></div></div></div></div>"
     },
     "execution_count": 20,
     "metadata": {},
     "output_type": "execute_result"
    }
   ],
   "source": [
    "# Fit the k-means object to the data\n",
    "\n",
    "kmeans.fit(df_scaled)"
   ],
   "metadata": {
    "collapsed": false,
    "ExecuteTime": {
     "end_time": "2023-11-23T00:26:54.807680Z",
     "start_time": "2023-11-23T00:26:54.787665Z"
    }
   },
   "id": "4d4a0627a0e5a773"
  },
  {
   "cell_type": "code",
   "execution_count": 21,
   "outputs": [
    {
     "name": "stderr",
     "output_type": "stream",
     "text": [
      "/Users/danioprea/PycharmProjects/Coffee_Quality_Data_Analysis/venv/lib/python3.9/site-packages/sklearn/cluster/_kmeans.py:1416: FutureWarning: The default value of `n_init` will change from 10 to 'auto' in 1.4. Set the value of `n_init` explicitly to suppress the warning\n",
      "  super()._check_params_vs_input(X, default_n_init=10)\n"
     ]
    }
   ],
   "source": [
    "df_scaled['clusters'] = kmeans.fit_predict(df_scaled)"
   ],
   "metadata": {
    "collapsed": false,
    "ExecuteTime": {
     "end_time": "2023-11-23T00:26:59.201140Z",
     "start_time": "2023-11-23T00:26:59.182151Z"
    }
   },
   "id": "9c0e84d33f4bbbe2"
  },
  {
   "cell_type": "code",
   "execution_count": 22,
   "outputs": [
    {
     "data": {
      "text/plain": "    Altitude     Aroma    Flavor  Aftertaste   Acidity      Body   Balance  \\\n0  -0.014261  2.668235  2.931156    0.955827  1.014069  1.019037  2.510961   \n1   0.507508  1.998509  2.135605    2.517488  0.148504  0.562610  2.115145   \n2   0.041483  1.998509  1.386852    1.712996  1.014069  0.562610  2.510961   \n3  -0.014261  1.683344  1.761228    2.138904  1.014069  1.019037  1.669851   \n4   0.041483  1.013617  0.965678    2.517488  1.421394  1.019037  1.274035   \n5   0.375950  1.013617  1.386852    1.712996  1.879635  1.424750  1.274035   \n6   0.877651  1.013617  1.761228    1.334412  1.421394  1.019037  0.878218   \n7   0.877651  1.013617  0.591301    1.334412 -0.258821  2.692603  2.115145   \n8   0.041483  1.013617  0.591301    1.712996  1.421394  1.424750  1.274035   \n9   0.821907 -0.601605  1.386852    1.334412  2.694284  1.424750  1.274035   \n10 -0.125750  1.368178  0.965678    1.334412  0.606744  1.424750  0.878218   \n11  0.877651  1.368178  0.965678    0.955827  1.879635  0.156897  0.878218   \n12  0.097228  0.698452  1.386852    1.334412  0.606744  1.019037  0.878218   \n13 -0.014261  1.013617  1.386852    0.151335  0.606744  0.562610  1.274035   \n14  0.414972  1.368178  0.591301    0.955827  0.606744  2.286890  0.037108   \n15  0.766162  0.698452  0.216924    1.712996  0.606744  0.156897  1.274035   \n16 -0.404473  1.013617  0.591301    0.955827  0.606744  1.424750  0.432924   \n17  0.041483  0.028726  0.591301    0.955827  1.014069  1.424750  0.878218   \n18  0.097228  0.383287  0.216924    1.334412  0.606744  0.562610  0.878218   \n19 -0.014261  1.368178  0.965678    0.955827  1.014069 -0.705243  0.432924   \n20 -0.170346  0.698452  0.591301    1.334412  0.606744  0.156897  0.878218   \n21 -1.129152  0.698452  0.591301    0.529920  0.148504  0.156897  0.878218   \n22 -1.129152  0.383287  0.591301    0.529920  0.606744  0.562610  0.432924   \n23 -0.607383  1.013617  1.386852   -0.227249  0.148504 -0.248816  0.878218   \n24  0.821907 -0.601605 -0.204250    0.529920  1.014069  1.424750  1.274035   \n25  1.156374  0.698452  0.965678    1.334412  1.014069 -0.248816  0.037108   \n26  0.543184  0.383287 -0.578627    0.529920  1.879635  1.424750  0.037108   \n27 -0.014261  0.698452  0.216924    0.529920  0.606744  0.562610  0.432924   \n28 -0.627451  1.683344  0.965678    0.529920 -0.258821 -0.248816  0.037108   \n29 -0.404473 -0.286439  0.216924    0.151335  1.014069  0.562610  0.878218   \n30 -0.906174  0.698452  0.216924    0.529920  0.606744  0.156897  0.037108   \n31 -0.237239  0.698452  0.965678   -0.227249 -0.258821  1.019037  0.432924   \n32 -0.460218  0.698452  0.216924   -0.227249  1.014069  0.156897  0.432924   \n33 -0.460218  1.368178  0.965678    0.529920 -0.666146 -0.248816  0.037108   \n34  0.431695 -0.601605  0.965678   -0.227249  1.014069  1.019037  0.432924   \n35  3.887856 -0.601605  0.591301    0.151335  0.606744  1.424750  0.432924   \n36  0.431695  0.028726  0.216924    0.151335  1.014069  0.156897  0.037108   \n37 -0.934046  0.383287  0.216924    0.529920  0.148504  0.156897  0.432924   \n38 -1.095705  0.698452  0.591301    0.151335 -0.258821 -0.248816  0.037108   \n39  0.491899  0.383287 -0.578627    0.151335  0.606744  0.562610  0.432924   \n40  0.097228  0.028726 -0.204250   -0.227249 -0.666146  0.562610  1.274035   \n41  0.208717 -0.601605  0.216924    0.955827  0.148504  0.156897  0.432924   \n42 -0.014261  0.383287  0.965678   -0.227249  0.606744 -0.248816  0.037108   \n43  0.431695 -0.601605  0.591301   -0.227249  0.148504  1.019037 -0.358709   \n44  4.105260  0.028726  0.591301   -0.227249  0.148504  0.156897  0.037108   \n45 -1.073408  0.028726 -0.204250    0.151335 -0.258821  0.156897  0.037108   \n46 -0.571707  1.368178 -0.204250   -0.227249  0.148504 -0.248816 -0.358709   \n47  0.041483  1.013617 -0.204250   -0.227249 -0.666146 -0.248816  0.037108   \n48  0.264461  0.028726  0.591301   -0.227249 -0.258821 -0.248816  0.037108   \n49 -0.772387 -0.286439  0.216924    0.529920 -0.258821  0.156897  0.037108   \n\n     Overall  Total Cup Points  Moisture Percentage  Category One Defects  \\\n0   3.183569          2.382921             0.132222             -0.102598   \n1   2.025381          1.939053             0.345556             -0.102598   \n2   2.025381          1.877830            -1.361112             -0.102598   \n3   1.237813          1.747731            -0.401111             -0.102598   \n4   2.025381          1.686507             0.452223             -0.102598   \n5   0.867193          1.556408             0.665556             -0.102598   \n6   0.867193          1.365086             1.518890             -0.102598   \n7   0.867193          1.365086             1.198890             -0.102598   \n8   0.867193          1.365086             1.625557             -0.102598   \n9   0.867193          1.303863             1.305556             -0.102598   \n10  0.867193          1.234986            -0.187778             -0.102598   \n11  1.237813          1.234986             0.985556             -0.102598   \n12  1.654761          1.234986            -0.081111             -0.102598   \n13  1.654761          1.112540             0.665556             -0.102598   \n14  0.496573          1.043664            -0.401111             -0.102598   \n15  1.237813          0.982441             1.305556             -0.102598   \n16  0.496573          0.921218             0.025556             -0.102598   \n17  0.496573          0.852342             0.238889             -0.102598   \n18  0.867193          0.791118            -1.361112             -0.102598   \n19  0.496573          0.791118             0.238889             -0.102598   \n20  0.496573          0.791118            -0.187778             -0.102598   \n21  1.237813          0.729895             1.092223             -0.102598   \n22  0.867193          0.661019             0.452223             -0.102598   \n23  0.867193          0.661019             0.985556             -0.102598   \n24  0.867193          0.661019            -0.507778             -0.102598   \n25  0.079625          0.661019             2.052223             -0.102598   \n26  0.079625          0.599796            -1.041112             -0.102598   \n27  0.496573          0.599796            -0.934445             -0.102598   \n28  0.496573          0.599796             0.985556             -0.102598   \n29  0.867193          0.538573            -0.081111             -0.102598   \n30  0.496573          0.469697            -0.401111             -0.102598   \n31  0.079625          0.469697             0.132222             -0.102598   \n32  0.496573          0.469697            -0.401111             -0.102598   \n33  0.079625          0.408473            -0.294445             -0.102598   \n34  0.079625          0.408473            -0.507778             -0.102598   \n35  0.079625          0.408473             0.985556             -0.102598   \n36  0.496573          0.347250             1.412223             -0.102598   \n37  0.079625          0.347250            -0.934445             -0.102598   \n38  0.496573          0.278374            -0.721112             -0.102598   \n39  0.079625          0.278374             0.878889             -0.102598   \n40  0.867193          0.278374            -0.934445             -0.102598   \n41  0.079625          0.217151             0.025556             -0.102598   \n42 -0.290995          0.217151            -0.401111             -0.102598   \n43  0.496573          0.155928             0.238889             -0.102598   \n44  0.079625          0.155928             0.558889             -0.102598   \n45  0.496573          0.087052            -0.827778             -0.102598   \n46 -0.290995          0.087052             1.198890             -0.102598   \n47  0.496573          0.087052             0.878889             -0.102598   \n48  0.496573          0.087052            -0.081111             -0.102598   \n49 -0.290995          0.025829             0.985556             -0.102598   \n\n    Category Two Defects  clusters  \n0              -0.613324         0  \n1               0.278783         0  \n2              -0.613324         0  \n3              -0.167270         0  \n4              -0.613324         0  \n5              -0.613324         0  \n6              -0.167270         0  \n7              -0.167270         0  \n8              -0.613324         0  \n9               0.278783         0  \n10             -0.613324         0  \n11              0.278783         0  \n12             -0.613324         0  \n13             -0.167270         0  \n14             -0.613324         0  \n15             -0.613324         0  \n16             -0.613324         0  \n17             -0.613324         0  \n18              0.278783         0  \n19             -0.613324         0  \n20             -0.613324         0  \n21             -0.613324         0  \n22             -0.613324         0  \n23             -0.613324         0  \n24              0.724837         0  \n25              1.170890         0  \n26             -0.167270         0  \n27             -0.613324         0  \n28             -0.613324         0  \n29             -0.613324         0  \n30             -0.613324         0  \n31             -0.613324         0  \n32              1.616944         2  \n33             -0.613324         0  \n34             -0.167270         2  \n35              1.170890         2  \n36             -0.167270         2  \n37              0.278783         2  \n38             -0.613324         2  \n39             -0.613324         2  \n40             -0.613324         2  \n41             -0.613324         2  \n42             -0.613324         2  \n43             -0.167270         2  \n44              0.278783         2  \n45             -0.613324         2  \n46             -0.613324         2  \n47              0.278783         2  \n48             -0.613324         2  \n49             -0.613324         2  ",
      "text/html": "<div>\n<style scoped>\n    .dataframe tbody tr th:only-of-type {\n        vertical-align: middle;\n    }\n\n    .dataframe tbody tr th {\n        vertical-align: top;\n    }\n\n    .dataframe thead th {\n        text-align: right;\n    }\n</style>\n<table border=\"1\" class=\"dataframe\">\n  <thead>\n    <tr style=\"text-align: right;\">\n      <th></th>\n      <th>Altitude</th>\n      <th>Aroma</th>\n      <th>Flavor</th>\n      <th>Aftertaste</th>\n      <th>Acidity</th>\n      <th>Body</th>\n      <th>Balance</th>\n      <th>Overall</th>\n      <th>Total Cup Points</th>\n      <th>Moisture Percentage</th>\n      <th>Category One Defects</th>\n      <th>Category Two Defects</th>\n      <th>clusters</th>\n    </tr>\n  </thead>\n  <tbody>\n    <tr>\n      <th>0</th>\n      <td>-0.014261</td>\n      <td>2.668235</td>\n      <td>2.931156</td>\n      <td>0.955827</td>\n      <td>1.014069</td>\n      <td>1.019037</td>\n      <td>2.510961</td>\n      <td>3.183569</td>\n      <td>2.382921</td>\n      <td>0.132222</td>\n      <td>-0.102598</td>\n      <td>-0.613324</td>\n      <td>0</td>\n    </tr>\n    <tr>\n      <th>1</th>\n      <td>0.507508</td>\n      <td>1.998509</td>\n      <td>2.135605</td>\n      <td>2.517488</td>\n      <td>0.148504</td>\n      <td>0.562610</td>\n      <td>2.115145</td>\n      <td>2.025381</td>\n      <td>1.939053</td>\n      <td>0.345556</td>\n      <td>-0.102598</td>\n      <td>0.278783</td>\n      <td>0</td>\n    </tr>\n    <tr>\n      <th>2</th>\n      <td>0.041483</td>\n      <td>1.998509</td>\n      <td>1.386852</td>\n      <td>1.712996</td>\n      <td>1.014069</td>\n      <td>0.562610</td>\n      <td>2.510961</td>\n      <td>2.025381</td>\n      <td>1.877830</td>\n      <td>-1.361112</td>\n      <td>-0.102598</td>\n      <td>-0.613324</td>\n      <td>0</td>\n    </tr>\n    <tr>\n      <th>3</th>\n      <td>-0.014261</td>\n      <td>1.683344</td>\n      <td>1.761228</td>\n      <td>2.138904</td>\n      <td>1.014069</td>\n      <td>1.019037</td>\n      <td>1.669851</td>\n      <td>1.237813</td>\n      <td>1.747731</td>\n      <td>-0.401111</td>\n      <td>-0.102598</td>\n      <td>-0.167270</td>\n      <td>0</td>\n    </tr>\n    <tr>\n      <th>4</th>\n      <td>0.041483</td>\n      <td>1.013617</td>\n      <td>0.965678</td>\n      <td>2.517488</td>\n      <td>1.421394</td>\n      <td>1.019037</td>\n      <td>1.274035</td>\n      <td>2.025381</td>\n      <td>1.686507</td>\n      <td>0.452223</td>\n      <td>-0.102598</td>\n      <td>-0.613324</td>\n      <td>0</td>\n    </tr>\n    <tr>\n      <th>5</th>\n      <td>0.375950</td>\n      <td>1.013617</td>\n      <td>1.386852</td>\n      <td>1.712996</td>\n      <td>1.879635</td>\n      <td>1.424750</td>\n      <td>1.274035</td>\n      <td>0.867193</td>\n      <td>1.556408</td>\n      <td>0.665556</td>\n      <td>-0.102598</td>\n      <td>-0.613324</td>\n      <td>0</td>\n    </tr>\n    <tr>\n      <th>6</th>\n      <td>0.877651</td>\n      <td>1.013617</td>\n      <td>1.761228</td>\n      <td>1.334412</td>\n      <td>1.421394</td>\n      <td>1.019037</td>\n      <td>0.878218</td>\n      <td>0.867193</td>\n      <td>1.365086</td>\n      <td>1.518890</td>\n      <td>-0.102598</td>\n      <td>-0.167270</td>\n      <td>0</td>\n    </tr>\n    <tr>\n      <th>7</th>\n      <td>0.877651</td>\n      <td>1.013617</td>\n      <td>0.591301</td>\n      <td>1.334412</td>\n      <td>-0.258821</td>\n      <td>2.692603</td>\n      <td>2.115145</td>\n      <td>0.867193</td>\n      <td>1.365086</td>\n      <td>1.198890</td>\n      <td>-0.102598</td>\n      <td>-0.167270</td>\n      <td>0</td>\n    </tr>\n    <tr>\n      <th>8</th>\n      <td>0.041483</td>\n      <td>1.013617</td>\n      <td>0.591301</td>\n      <td>1.712996</td>\n      <td>1.421394</td>\n      <td>1.424750</td>\n      <td>1.274035</td>\n      <td>0.867193</td>\n      <td>1.365086</td>\n      <td>1.625557</td>\n      <td>-0.102598</td>\n      <td>-0.613324</td>\n      <td>0</td>\n    </tr>\n    <tr>\n      <th>9</th>\n      <td>0.821907</td>\n      <td>-0.601605</td>\n      <td>1.386852</td>\n      <td>1.334412</td>\n      <td>2.694284</td>\n      <td>1.424750</td>\n      <td>1.274035</td>\n      <td>0.867193</td>\n      <td>1.303863</td>\n      <td>1.305556</td>\n      <td>-0.102598</td>\n      <td>0.278783</td>\n      <td>0</td>\n    </tr>\n    <tr>\n      <th>10</th>\n      <td>-0.125750</td>\n      <td>1.368178</td>\n      <td>0.965678</td>\n      <td>1.334412</td>\n      <td>0.606744</td>\n      <td>1.424750</td>\n      <td>0.878218</td>\n      <td>0.867193</td>\n      <td>1.234986</td>\n      <td>-0.187778</td>\n      <td>-0.102598</td>\n      <td>-0.613324</td>\n      <td>0</td>\n    </tr>\n    <tr>\n      <th>11</th>\n      <td>0.877651</td>\n      <td>1.368178</td>\n      <td>0.965678</td>\n      <td>0.955827</td>\n      <td>1.879635</td>\n      <td>0.156897</td>\n      <td>0.878218</td>\n      <td>1.237813</td>\n      <td>1.234986</td>\n      <td>0.985556</td>\n      <td>-0.102598</td>\n      <td>0.278783</td>\n      <td>0</td>\n    </tr>\n    <tr>\n      <th>12</th>\n      <td>0.097228</td>\n      <td>0.698452</td>\n      <td>1.386852</td>\n      <td>1.334412</td>\n      <td>0.606744</td>\n      <td>1.019037</td>\n      <td>0.878218</td>\n      <td>1.654761</td>\n      <td>1.234986</td>\n      <td>-0.081111</td>\n      <td>-0.102598</td>\n      <td>-0.613324</td>\n      <td>0</td>\n    </tr>\n    <tr>\n      <th>13</th>\n      <td>-0.014261</td>\n      <td>1.013617</td>\n      <td>1.386852</td>\n      <td>0.151335</td>\n      <td>0.606744</td>\n      <td>0.562610</td>\n      <td>1.274035</td>\n      <td>1.654761</td>\n      <td>1.112540</td>\n      <td>0.665556</td>\n      <td>-0.102598</td>\n      <td>-0.167270</td>\n      <td>0</td>\n    </tr>\n    <tr>\n      <th>14</th>\n      <td>0.414972</td>\n      <td>1.368178</td>\n      <td>0.591301</td>\n      <td>0.955827</td>\n      <td>0.606744</td>\n      <td>2.286890</td>\n      <td>0.037108</td>\n      <td>0.496573</td>\n      <td>1.043664</td>\n      <td>-0.401111</td>\n      <td>-0.102598</td>\n      <td>-0.613324</td>\n      <td>0</td>\n    </tr>\n    <tr>\n      <th>15</th>\n      <td>0.766162</td>\n      <td>0.698452</td>\n      <td>0.216924</td>\n      <td>1.712996</td>\n      <td>0.606744</td>\n      <td>0.156897</td>\n      <td>1.274035</td>\n      <td>1.237813</td>\n      <td>0.982441</td>\n      <td>1.305556</td>\n      <td>-0.102598</td>\n      <td>-0.613324</td>\n      <td>0</td>\n    </tr>\n    <tr>\n      <th>16</th>\n      <td>-0.404473</td>\n      <td>1.013617</td>\n      <td>0.591301</td>\n      <td>0.955827</td>\n      <td>0.606744</td>\n      <td>1.424750</td>\n      <td>0.432924</td>\n      <td>0.496573</td>\n      <td>0.921218</td>\n      <td>0.025556</td>\n      <td>-0.102598</td>\n      <td>-0.613324</td>\n      <td>0</td>\n    </tr>\n    <tr>\n      <th>17</th>\n      <td>0.041483</td>\n      <td>0.028726</td>\n      <td>0.591301</td>\n      <td>0.955827</td>\n      <td>1.014069</td>\n      <td>1.424750</td>\n      <td>0.878218</td>\n      <td>0.496573</td>\n      <td>0.852342</td>\n      <td>0.238889</td>\n      <td>-0.102598</td>\n      <td>-0.613324</td>\n      <td>0</td>\n    </tr>\n    <tr>\n      <th>18</th>\n      <td>0.097228</td>\n      <td>0.383287</td>\n      <td>0.216924</td>\n      <td>1.334412</td>\n      <td>0.606744</td>\n      <td>0.562610</td>\n      <td>0.878218</td>\n      <td>0.867193</td>\n      <td>0.791118</td>\n      <td>-1.361112</td>\n      <td>-0.102598</td>\n      <td>0.278783</td>\n      <td>0</td>\n    </tr>\n    <tr>\n      <th>19</th>\n      <td>-0.014261</td>\n      <td>1.368178</td>\n      <td>0.965678</td>\n      <td>0.955827</td>\n      <td>1.014069</td>\n      <td>-0.705243</td>\n      <td>0.432924</td>\n      <td>0.496573</td>\n      <td>0.791118</td>\n      <td>0.238889</td>\n      <td>-0.102598</td>\n      <td>-0.613324</td>\n      <td>0</td>\n    </tr>\n    <tr>\n      <th>20</th>\n      <td>-0.170346</td>\n      <td>0.698452</td>\n      <td>0.591301</td>\n      <td>1.334412</td>\n      <td>0.606744</td>\n      <td>0.156897</td>\n      <td>0.878218</td>\n      <td>0.496573</td>\n      <td>0.791118</td>\n      <td>-0.187778</td>\n      <td>-0.102598</td>\n      <td>-0.613324</td>\n      <td>0</td>\n    </tr>\n    <tr>\n      <th>21</th>\n      <td>-1.129152</td>\n      <td>0.698452</td>\n      <td>0.591301</td>\n      <td>0.529920</td>\n      <td>0.148504</td>\n      <td>0.156897</td>\n      <td>0.878218</td>\n      <td>1.237813</td>\n      <td>0.729895</td>\n      <td>1.092223</td>\n      <td>-0.102598</td>\n      <td>-0.613324</td>\n      <td>0</td>\n    </tr>\n    <tr>\n      <th>22</th>\n      <td>-1.129152</td>\n      <td>0.383287</td>\n      <td>0.591301</td>\n      <td>0.529920</td>\n      <td>0.606744</td>\n      <td>0.562610</td>\n      <td>0.432924</td>\n      <td>0.867193</td>\n      <td>0.661019</td>\n      <td>0.452223</td>\n      <td>-0.102598</td>\n      <td>-0.613324</td>\n      <td>0</td>\n    </tr>\n    <tr>\n      <th>23</th>\n      <td>-0.607383</td>\n      <td>1.013617</td>\n      <td>1.386852</td>\n      <td>-0.227249</td>\n      <td>0.148504</td>\n      <td>-0.248816</td>\n      <td>0.878218</td>\n      <td>0.867193</td>\n      <td>0.661019</td>\n      <td>0.985556</td>\n      <td>-0.102598</td>\n      <td>-0.613324</td>\n      <td>0</td>\n    </tr>\n    <tr>\n      <th>24</th>\n      <td>0.821907</td>\n      <td>-0.601605</td>\n      <td>-0.204250</td>\n      <td>0.529920</td>\n      <td>1.014069</td>\n      <td>1.424750</td>\n      <td>1.274035</td>\n      <td>0.867193</td>\n      <td>0.661019</td>\n      <td>-0.507778</td>\n      <td>-0.102598</td>\n      <td>0.724837</td>\n      <td>0</td>\n    </tr>\n    <tr>\n      <th>25</th>\n      <td>1.156374</td>\n      <td>0.698452</td>\n      <td>0.965678</td>\n      <td>1.334412</td>\n      <td>1.014069</td>\n      <td>-0.248816</td>\n      <td>0.037108</td>\n      <td>0.079625</td>\n      <td>0.661019</td>\n      <td>2.052223</td>\n      <td>-0.102598</td>\n      <td>1.170890</td>\n      <td>0</td>\n    </tr>\n    <tr>\n      <th>26</th>\n      <td>0.543184</td>\n      <td>0.383287</td>\n      <td>-0.578627</td>\n      <td>0.529920</td>\n      <td>1.879635</td>\n      <td>1.424750</td>\n      <td>0.037108</td>\n      <td>0.079625</td>\n      <td>0.599796</td>\n      <td>-1.041112</td>\n      <td>-0.102598</td>\n      <td>-0.167270</td>\n      <td>0</td>\n    </tr>\n    <tr>\n      <th>27</th>\n      <td>-0.014261</td>\n      <td>0.698452</td>\n      <td>0.216924</td>\n      <td>0.529920</td>\n      <td>0.606744</td>\n      <td>0.562610</td>\n      <td>0.432924</td>\n      <td>0.496573</td>\n      <td>0.599796</td>\n      <td>-0.934445</td>\n      <td>-0.102598</td>\n      <td>-0.613324</td>\n      <td>0</td>\n    </tr>\n    <tr>\n      <th>28</th>\n      <td>-0.627451</td>\n      <td>1.683344</td>\n      <td>0.965678</td>\n      <td>0.529920</td>\n      <td>-0.258821</td>\n      <td>-0.248816</td>\n      <td>0.037108</td>\n      <td>0.496573</td>\n      <td>0.599796</td>\n      <td>0.985556</td>\n      <td>-0.102598</td>\n      <td>-0.613324</td>\n      <td>0</td>\n    </tr>\n    <tr>\n      <th>29</th>\n      <td>-0.404473</td>\n      <td>-0.286439</td>\n      <td>0.216924</td>\n      <td>0.151335</td>\n      <td>1.014069</td>\n      <td>0.562610</td>\n      <td>0.878218</td>\n      <td>0.867193</td>\n      <td>0.538573</td>\n      <td>-0.081111</td>\n      <td>-0.102598</td>\n      <td>-0.613324</td>\n      <td>0</td>\n    </tr>\n    <tr>\n      <th>30</th>\n      <td>-0.906174</td>\n      <td>0.698452</td>\n      <td>0.216924</td>\n      <td>0.529920</td>\n      <td>0.606744</td>\n      <td>0.156897</td>\n      <td>0.037108</td>\n      <td>0.496573</td>\n      <td>0.469697</td>\n      <td>-0.401111</td>\n      <td>-0.102598</td>\n      <td>-0.613324</td>\n      <td>0</td>\n    </tr>\n    <tr>\n      <th>31</th>\n      <td>-0.237239</td>\n      <td>0.698452</td>\n      <td>0.965678</td>\n      <td>-0.227249</td>\n      <td>-0.258821</td>\n      <td>1.019037</td>\n      <td>0.432924</td>\n      <td>0.079625</td>\n      <td>0.469697</td>\n      <td>0.132222</td>\n      <td>-0.102598</td>\n      <td>-0.613324</td>\n      <td>0</td>\n    </tr>\n    <tr>\n      <th>32</th>\n      <td>-0.460218</td>\n      <td>0.698452</td>\n      <td>0.216924</td>\n      <td>-0.227249</td>\n      <td>1.014069</td>\n      <td>0.156897</td>\n      <td>0.432924</td>\n      <td>0.496573</td>\n      <td>0.469697</td>\n      <td>-0.401111</td>\n      <td>-0.102598</td>\n      <td>1.616944</td>\n      <td>2</td>\n    </tr>\n    <tr>\n      <th>33</th>\n      <td>-0.460218</td>\n      <td>1.368178</td>\n      <td>0.965678</td>\n      <td>0.529920</td>\n      <td>-0.666146</td>\n      <td>-0.248816</td>\n      <td>0.037108</td>\n      <td>0.079625</td>\n      <td>0.408473</td>\n      <td>-0.294445</td>\n      <td>-0.102598</td>\n      <td>-0.613324</td>\n      <td>0</td>\n    </tr>\n    <tr>\n      <th>34</th>\n      <td>0.431695</td>\n      <td>-0.601605</td>\n      <td>0.965678</td>\n      <td>-0.227249</td>\n      <td>1.014069</td>\n      <td>1.019037</td>\n      <td>0.432924</td>\n      <td>0.079625</td>\n      <td>0.408473</td>\n      <td>-0.507778</td>\n      <td>-0.102598</td>\n      <td>-0.167270</td>\n      <td>2</td>\n    </tr>\n    <tr>\n      <th>35</th>\n      <td>3.887856</td>\n      <td>-0.601605</td>\n      <td>0.591301</td>\n      <td>0.151335</td>\n      <td>0.606744</td>\n      <td>1.424750</td>\n      <td>0.432924</td>\n      <td>0.079625</td>\n      <td>0.408473</td>\n      <td>0.985556</td>\n      <td>-0.102598</td>\n      <td>1.170890</td>\n      <td>2</td>\n    </tr>\n    <tr>\n      <th>36</th>\n      <td>0.431695</td>\n      <td>0.028726</td>\n      <td>0.216924</td>\n      <td>0.151335</td>\n      <td>1.014069</td>\n      <td>0.156897</td>\n      <td>0.037108</td>\n      <td>0.496573</td>\n      <td>0.347250</td>\n      <td>1.412223</td>\n      <td>-0.102598</td>\n      <td>-0.167270</td>\n      <td>2</td>\n    </tr>\n    <tr>\n      <th>37</th>\n      <td>-0.934046</td>\n      <td>0.383287</td>\n      <td>0.216924</td>\n      <td>0.529920</td>\n      <td>0.148504</td>\n      <td>0.156897</td>\n      <td>0.432924</td>\n      <td>0.079625</td>\n      <td>0.347250</td>\n      <td>-0.934445</td>\n      <td>-0.102598</td>\n      <td>0.278783</td>\n      <td>2</td>\n    </tr>\n    <tr>\n      <th>38</th>\n      <td>-1.095705</td>\n      <td>0.698452</td>\n      <td>0.591301</td>\n      <td>0.151335</td>\n      <td>-0.258821</td>\n      <td>-0.248816</td>\n      <td>0.037108</td>\n      <td>0.496573</td>\n      <td>0.278374</td>\n      <td>-0.721112</td>\n      <td>-0.102598</td>\n      <td>-0.613324</td>\n      <td>2</td>\n    </tr>\n    <tr>\n      <th>39</th>\n      <td>0.491899</td>\n      <td>0.383287</td>\n      <td>-0.578627</td>\n      <td>0.151335</td>\n      <td>0.606744</td>\n      <td>0.562610</td>\n      <td>0.432924</td>\n      <td>0.079625</td>\n      <td>0.278374</td>\n      <td>0.878889</td>\n      <td>-0.102598</td>\n      <td>-0.613324</td>\n      <td>2</td>\n    </tr>\n    <tr>\n      <th>40</th>\n      <td>0.097228</td>\n      <td>0.028726</td>\n      <td>-0.204250</td>\n      <td>-0.227249</td>\n      <td>-0.666146</td>\n      <td>0.562610</td>\n      <td>1.274035</td>\n      <td>0.867193</td>\n      <td>0.278374</td>\n      <td>-0.934445</td>\n      <td>-0.102598</td>\n      <td>-0.613324</td>\n      <td>2</td>\n    </tr>\n    <tr>\n      <th>41</th>\n      <td>0.208717</td>\n      <td>-0.601605</td>\n      <td>0.216924</td>\n      <td>0.955827</td>\n      <td>0.148504</td>\n      <td>0.156897</td>\n      <td>0.432924</td>\n      <td>0.079625</td>\n      <td>0.217151</td>\n      <td>0.025556</td>\n      <td>-0.102598</td>\n      <td>-0.613324</td>\n      <td>2</td>\n    </tr>\n    <tr>\n      <th>42</th>\n      <td>-0.014261</td>\n      <td>0.383287</td>\n      <td>0.965678</td>\n      <td>-0.227249</td>\n      <td>0.606744</td>\n      <td>-0.248816</td>\n      <td>0.037108</td>\n      <td>-0.290995</td>\n      <td>0.217151</td>\n      <td>-0.401111</td>\n      <td>-0.102598</td>\n      <td>-0.613324</td>\n      <td>2</td>\n    </tr>\n    <tr>\n      <th>43</th>\n      <td>0.431695</td>\n      <td>-0.601605</td>\n      <td>0.591301</td>\n      <td>-0.227249</td>\n      <td>0.148504</td>\n      <td>1.019037</td>\n      <td>-0.358709</td>\n      <td>0.496573</td>\n      <td>0.155928</td>\n      <td>0.238889</td>\n      <td>-0.102598</td>\n      <td>-0.167270</td>\n      <td>2</td>\n    </tr>\n    <tr>\n      <th>44</th>\n      <td>4.105260</td>\n      <td>0.028726</td>\n      <td>0.591301</td>\n      <td>-0.227249</td>\n      <td>0.148504</td>\n      <td>0.156897</td>\n      <td>0.037108</td>\n      <td>0.079625</td>\n      <td>0.155928</td>\n      <td>0.558889</td>\n      <td>-0.102598</td>\n      <td>0.278783</td>\n      <td>2</td>\n    </tr>\n    <tr>\n      <th>45</th>\n      <td>-1.073408</td>\n      <td>0.028726</td>\n      <td>-0.204250</td>\n      <td>0.151335</td>\n      <td>-0.258821</td>\n      <td>0.156897</td>\n      <td>0.037108</td>\n      <td>0.496573</td>\n      <td>0.087052</td>\n      <td>-0.827778</td>\n      <td>-0.102598</td>\n      <td>-0.613324</td>\n      <td>2</td>\n    </tr>\n    <tr>\n      <th>46</th>\n      <td>-0.571707</td>\n      <td>1.368178</td>\n      <td>-0.204250</td>\n      <td>-0.227249</td>\n      <td>0.148504</td>\n      <td>-0.248816</td>\n      <td>-0.358709</td>\n      <td>-0.290995</td>\n      <td>0.087052</td>\n      <td>1.198890</td>\n      <td>-0.102598</td>\n      <td>-0.613324</td>\n      <td>2</td>\n    </tr>\n    <tr>\n      <th>47</th>\n      <td>0.041483</td>\n      <td>1.013617</td>\n      <td>-0.204250</td>\n      <td>-0.227249</td>\n      <td>-0.666146</td>\n      <td>-0.248816</td>\n      <td>0.037108</td>\n      <td>0.496573</td>\n      <td>0.087052</td>\n      <td>0.878889</td>\n      <td>-0.102598</td>\n      <td>0.278783</td>\n      <td>2</td>\n    </tr>\n    <tr>\n      <th>48</th>\n      <td>0.264461</td>\n      <td>0.028726</td>\n      <td>0.591301</td>\n      <td>-0.227249</td>\n      <td>-0.258821</td>\n      <td>-0.248816</td>\n      <td>0.037108</td>\n      <td>0.496573</td>\n      <td>0.087052</td>\n      <td>-0.081111</td>\n      <td>-0.102598</td>\n      <td>-0.613324</td>\n      <td>2</td>\n    </tr>\n    <tr>\n      <th>49</th>\n      <td>-0.772387</td>\n      <td>-0.286439</td>\n      <td>0.216924</td>\n      <td>0.529920</td>\n      <td>-0.258821</td>\n      <td>0.156897</td>\n      <td>0.037108</td>\n      <td>-0.290995</td>\n      <td>0.025829</td>\n      <td>0.985556</td>\n      <td>-0.102598</td>\n      <td>-0.613324</td>\n      <td>2</td>\n    </tr>\n  </tbody>\n</table>\n</div>"
     },
     "execution_count": 22,
     "metadata": {},
     "output_type": "execute_result"
    }
   ],
   "source": [
    "df_scaled.head(50)"
   ],
   "metadata": {
    "collapsed": false,
    "ExecuteTime": {
     "end_time": "2023-11-23T00:27:02.197581Z",
     "start_time": "2023-11-23T00:27:02.188206Z"
    }
   },
   "id": "59229c628f61ce95"
  },
  {
   "cell_type": "code",
   "execution_count": 23,
   "outputs": [
    {
     "data": {
      "text/plain": "clusters\n2    42\n0    33\n1    21\nName: count, dtype: int64"
     },
     "execution_count": 23,
     "metadata": {},
     "output_type": "execute_result"
    }
   ],
   "source": [
    "df_scaled['clusters'].value_counts()"
   ],
   "metadata": {
    "collapsed": false,
    "ExecuteTime": {
     "end_time": "2023-11-23T00:27:03.360426Z",
     "start_time": "2023-11-23T00:27:03.335569Z"
    }
   },
   "id": "10af6c55846c019d"
  },
  {
   "cell_type": "code",
   "execution_count": 62,
   "outputs": [
    {
     "data": {
      "text/plain": "<Figure size 1200x800 with 1 Axes>",
      "image/png": "[encoded data removed]"
     },
     "metadata": {},
     "output_type": "display_data"
    }
   ],
   "source": [
    "# Plot the clusters for the \"Total Cup Points\" and \"Category Two Defects\" variables.\n",
    "\n",
    "plt.figure(figsize=(12,8))\n",
    "ax = sns.scatterplot(x=df_cont['Category Two Defects'], y=df_cont['Total Cup Points'], hue=kmeans.labels_, s=100) \n",
    "\n",
    "ax.grid(False) # This removes the grid from the background.\n",
    "plt.xlabel('Category Two Defects') # Label x-axis.\n",
    "plt.ylabel('Total Cup Points') # Label y-axis.\n",
    "plt.show()"
   ],
   "metadata": {
    "collapsed": false,
    "ExecuteTime": {
     "end_time": "2023-11-23T17:13:32.741808Z",
     "start_time": "2023-11-23T17:13:32.608945Z"
    }
   },
   "id": "ea641b501215279"
  },
  {
   "cell_type": "code",
   "execution_count": 43,
   "outputs": [
    {
     "data": {
      "text/plain": "<Figure size 1200x800 with 1 Axes>",
      "image/png": "[encoded data removed]"
     },
     "metadata": {},
     "output_type": "display_data"
    }
   ],
   "source": [
    "# Plot the clusters for the \"Total Cup Points\" and \"Altitude\" variables.\n",
    "\n",
    "plt.figure(figsize=(12,8))\n",
    "ax = sns.scatterplot(x=df_cont['Altitude'], y=df_cont['Total Cup Points'], hue=kmeans.labels_, s=100) \n",
    "\n",
    "ax.grid(False) # This removes the grid from the background.\n",
    "plt.xlabel('Altitude') # Label x-axis.\n",
    "plt.ylabel('Total Cup Points') # Label y-axis.\n",
    "plt.show()"
   ],
   "metadata": {
    "collapsed": false,
    "ExecuteTime": {
     "end_time": "2023-11-23T00:51:36.533111Z",
     "start_time": "2023-11-23T00:51:36.428759Z"
    }
   },
   "id": "f0ba48c055029eb6"
  },
  {
   "cell_type": "code",
   "execution_count": 25,
   "outputs": [
    {
     "data": {
      "text/plain": "<Figure size 1200x800 with 1 Axes>",
      "image/png": "[encoded data removed]"
     },
     "metadata": {},
     "output_type": "display_data"
    }
   ],
   "source": [
    "# Plot the clusters for the \"Total Cup Points\" and \"Moisture Percentage\" variables.\n",
    "\n",
    "plt.figure(figsize=(12,8))\n",
    "ax = sns.scatterplot(x=df_cont['Moisture Percentage'], y=df_cont['Total Cup Points'], hue=kmeans.labels_, s=100) \n",
    "\n",
    "ax.grid(False) # This removes the grid from the background.\n",
    "plt.xlabel('Moisture Percentage') # Label x-axis.\n",
    "plt.ylabel('Total Cup Points') # Label y-axis.\n",
    "plt.show()"
   ],
   "metadata": {
    "collapsed": false,
    "ExecuteTime": {
     "end_time": "2023-11-23T00:27:42.359516Z",
     "start_time": "2023-11-23T00:27:42.239516Z"
    }
   },
   "id": "8c728d8419fc4a3c"
  },
  {
   "cell_type": "code",
   "execution_count": 50,
   "outputs": [
    {
     "name": "stderr",
     "output_type": "stream",
     "text": [
      "/var/folders/q4/1gjxbf_s0jbclz3c0q66rpdh0000gn/T/ipykernel_19782/808508771.py:3: SettingWithCopyWarning:\n",
      "\n",
      "\n",
      "A value is trying to be set on a copy of a slice from a DataFrame.\n",
      "Try using .loc[row_indexer,col_indexer] = value instead\n",
      "\n",
      "See the caveats in the documentation: https://pandas.pydata.org/pandas-docs/stable/user_guide/indexing.html#returning-a-view-versus-a-copy\n",
      "\n"
     ]
    },
    {
     "data": {
      "text/plain": "               Country of Origin  \\\n1                         Taiwan   \n5                      Guatemala   \n6                         Taiwan   \n7                         Taiwan   \n8                         Taiwan   \n9   Tanzania, United Republic Of   \n10                      Ethiopia   \n11                     Guatemala   \n12                        Taiwan   \n13                      Ethiopia   \n15                        Taiwan   \n16                      Ethiopia   \n17                        Taiwan   \n18                        Taiwan   \n19  Tanzania, United Republic Of   \n20                     Guatemala   \n21                        Taiwan   \n24                        Taiwan   \n26                        Taiwan   \n27                        Taiwan   \n28                        Taiwan   \n30                        Taiwan   \n31                        Taiwan   \n32                        Taiwan   \n33                      Ethiopia   \n34                      Ethiopia   \n35                      Ethiopia   \n36                        Taiwan   \n37                        Taiwan   \n39                        Taiwan   \n40                        Taiwan   \n41                        Taiwan   \n42                        Taiwan   \n45                        Taiwan   \n46                     Guatemala   \n47                     Guatemala   \n48                     Guatemala   \n49                        Taiwan   \n50                        Taiwan   \n53  Tanzania, United Republic Of   \n54                        Taiwan   \n55                        Taiwan   \n58                        Taiwan   \n59                     Guatemala   \n60                     Guatemala   \n62                        Taiwan   \n63                        Taiwan   \n65                        Taiwan   \n66                        Taiwan   \n69                        Taiwan   \n\n                                            Farm Name  \\\n1                            Royal Bean Geisha Estate   \n5                                           La Colina   \n6                     野牡丹咖啡莊園 Melastoma Coffee Estate   \n7            七彩琉璃咖啡莊園 Chi Tsai Liu Li Ecological Farm   \n8                       亮軒咖啡莊園 Liang Xuan Coffee Farm   \n9                                       MASHIMA AMCOS   \n10                                            TADE GG   \n11                         Karen Acajabon Coffee Farm   \n12                         古峰咖啡莊園 Goodfun Coffee Farm   \n13                                      Gelana Geisha   \n15                                             青葉咖啡莊園   \n16                             Halo Bariti Cooprative   \n17                                             東璧咖啡莊園   \n18                                          櫻桃果古坑咖啡莊園   \n19                                              BURKA   \n20                                Finca Vista Hermosa   \n21                   仲大叔咖啡莊園Uncle Chung.s Coffee Farm   \n24                                             永舜咖啡莊園   \n26                                     鄒築園ZouZhouYuan   \n27                                             嵩岳咖啡莊園   \n28                                            他扶芽有機農園   \n30                      鄉庭有機農場Siang-Ting Organic Farm   \n31                      鄉庭有機農場Siang-Ting Organic Farm   \n32                      金讚咖啡農莊園(Jinzan Coffee Estate)   \n33                                        Eshetu farm   \n34                       Uraga Bisrat washing station   \n35                                    YHAENU PLC FARM   \n36                                            卓武山咖啡農場   \n37                       御香咖啡園 YU SIANG Coffee Estate   \n39                                             皇庭咖啡莊園   \n40  花蓮縣秀林鄉特用作物（咖啡）產銷第一班Agriculture Production and ...   \n41                                               八一高地   \n42                                              香夾蘭莊園   \n45                                            青山坪咖啡農場   \n46                                      varias fincas   \n47                                        PEÑA BLANCA   \n48                               san francisco cotzal   \n49                                                六曲窩   \n50                                               北平山林   \n53                                             IYENGA   \n54                                         優遊吧斯瑪翡咖啡莊園   \n55                                           森悅高峰咖啡莊園   \n58                                             嵐雲綠海咖啡   \n59                                      Varias Fincas   \n60                            SAN RAFAEL URIAS VALDES   \n62                                             羅馬8號莊園   \n63                          大鋤花間(Dachu Coffee Estate)   \n65                                            雅慕伊咖啡莊園   \n66                                                名陽園   \n69                                            苗55咖啡莊園   \n\n                                     Company  Altitude  \\\n1                   Taiwan Coffee Laboratory    1200.0   \n5                   Taiwan Coffee Laboratory    1668.0   \n6                   Taiwan Coffee Laboratory    1250.0   \n7                   Taiwan Coffee Laboratory    1200.0   \n8                   Taiwan Coffee Laboratory    1250.0   \n9                         DORMAN (T) LIMITED    1550.0   \n10                           Marubeni corp.,    2000.0   \n11                  Taiwan Coffee Laboratory    2000.0   \n12                  Taiwan Coffee Laboratory    1250.0   \n13                    Kerchanshe Trading PLC    1950.0   \n15                  Taiwan Coffee Laboratory    1100.0   \n16                      Coffee Quality Union    2000.0   \n17                             Dongbi coffee    1300.0   \n18                                  宸嶧國際有限公司    1200.0   \n19                        DORMAN (T) LIMITED    1585.0   \n20                  Taiwan Coffee Laboratory    1900.0   \n21                  Taiwan Coffee Laboratory     850.0   \n24                  Taiwan Coffee Laboratory    1250.0   \n26                  Taiwan Coffee Laboratory    1300.0   \n27                  Taiwan Coffee Laboratory    1200.0   \n28                  Taiwan Coffee Laboratory    1060.0   \n30                  Taiwan Coffee Laboratory     200.0   \n31                  Taiwan Coffee Laboratory     200.0   \n32                  Taiwan Coffee Laboratory     668.0   \n33                                Alo Coffee    1950.0   \n34             TADESSE DESTA IMPORT & EXPORT    2250.0   \n35                                yhaenu plc    1700.0   \n36                  Taiwan Coffee Laboratory    1200.0   \n37                  Taiwan Coffee Laboratory     650.0   \n39                                  宸嶧國際有限公司     850.0   \n40                  Taiwan Coffee Laboratory     400.0   \n41                                茂泰生技股份有限公司    1000.0   \n42                  Taiwu Coffee Cooperative     800.0   \n45                  Taiwan Coffee Laboratory     800.0   \n46                    Peter Schoenfeld, S.A.    1600.0   \n47                 OLAM AGRO GUATEMALA, S.A.    4700.0   \n48  inmobiliaria e inversiones dos mil, s.a.    1600.0   \n49                  Taiwu Coffee Cooperative     375.0   \n50                  Taiwu Coffee Cooperative     230.0   \n53          VOLCAFE/TaylorWinch Tanzania Ltd    1654.0   \n54                  Taiwan Coffee Laboratory    1300.0   \n55                  Taiwan Coffee Laboratory    1400.0   \n58                                茂泰生技股份有限公司    1200.0   \n59                    Peter Schoenfeld, S.A.    1600.0   \n60                            VALBROS, S. A.    4895.0   \n62                  Taiwu Coffee Cooperative     250.0   \n63                  Taiwan Coffee Laboratory     700.0   \n65                  Taiwan Coffee Laboratory    1250.0   \n66                  Taiwan Coffee Laboratory    1450.0   \n69                  Taiwu Coffee Cooperative     520.0   \n\n                                               Region  \\\n1                                              Chiayi   \n5                                       Chimaltenango   \n6                                              Chiayi   \n7                                              Chiayi   \n8                                              Chiayi   \n9                                         KILIMANJARO   \n10                                               Guji   \n11                                         Acatenango   \n12                                             Yunlin   \n13                                               Guji   \n15                                             Chiayi   \n16                           Gedeb,Yirgacheffe,Sidamo   \n17  Shibi, Gukeng Township, Yunlin County 郵遞區號 , T...   \n18                     Gukeng Township, Yunlin County   \n19                                             Arusha   \n20                   Guatemala, Fraijanes, Santa Rosa   \n21                                 卓溪鄉Zhuoxi Township   \n24                                             Yunlin   \n26                                             Chiayi   \n27                                             Yunlin   \n28                                             Chiayi   \n30                               壽豐鄉Shoufeng Township   \n31                               壽豐鄉Shoufeng Township   \n32                        Dongshan Dist., Tainan City   \n33                                             Oromia   \n34                             Southern Ethiopia Guji   \n35                                             OROMIA   \n36                                             Chiayi   \n37                        Dongshan Dist., Tainan City   \n39           Caoling , Gukeng Township, Yunlin County   \n40                            秀林鄉Show Linxia Township   \n41                                               台灣屏東   \n42                                                苗栗縣   \n45                                             Yunlin   \n46                                            Antigua   \n47                                         Santa Rosa   \n48                                             quiche   \n49                                                新竹縣   \n50                                                新竹縣   \n53                                              Mbeya   \n54                                             Chiayi   \n55                                             Nantou   \n58                                               台灣屏東   \n59                                      Huehuetenango   \n60                                  ANTIGUA GUATEMALA   \n62                                                新竹縣   \n63                     ( Dongshan Dist., Tainan City)   \n65                                             Chiayi   \n66                                             Chiayi   \n69                                                苗栗縣   \n\n                        Producer  Number of Bags Bag Weight Harvest Year  \\\n1                            曾福森               1      80 kg  2021 / 2022   \n5   Emilio Antonio Medina Garcia               5      30 kg         2022   \n6                            黃保錫               1      27 kg  2021 / 2022   \n7                            莊家榮               1      90 kg  2021 / 2022   \n8                            鍾旭亮               1      30 kg  2021 / 2022   \n9             DORMAN (T) LIMITED             320      60 kg  2022 / 2023   \n10         Tesfaye Bekele Degaga              10      30 kg  2021 / 2022   \n11                Karen Acajabon               5      15 kg         2021   \n12                           賴彥合               1      60 kg  2021 / 2022   \n13                    Kerchanshe              40      60 kg  2021 / 2022   \n15                           葉世遠               1      60 kg  2021 / 2022   \n16        Halo Bariti Cooprative               8       5 kg         2022   \n17                           陳景立               5       2 kg         2022   \n18                           王瀅惠               8       1 kg  2021 / 2022   \n19            DORMAN (T) LIMITED             200      30 kg  2022 / 2023   \n20                 Fredy Orantes               8      30 kg  2021 / 2022   \n21                游婷淯 YU TING YU               1      20 kg         2022   \n24                           蘇甘永               4      50 kg  2021 / 2022   \n26                           方政倫               1     100 kg  2021 / 2022   \n27                           郭志豪               1      90 kg  2021 / 2022   \n28                           陳清龍               1      85 kg  2021 / 2022   \n30               張進義Zhang Jin-Yi               3      48 kg         2022   \n31               張進義Zhang Jin-Yi               3      50 kg         2022   \n32             葉明讚 (YE,MING-ZAN)               4       5 kg         2022   \n33                        Eshetu             320      60 kg  2021 / 2022   \n34                 Bisrat Melaku             320      60 kg  2021 / 2022   \n35                    YHAENU PLC             320   19200 kg  2021 / 2022   \n36                           許定燁               1     100 kg  2021 / 2022   \n37          陳建源(CHEN, JIAN-YUAN)              20       5 kg         2022   \n39                           陳榮豐              20       1 kg  2017 / 2018   \n40                李志祥 Li Zhi-xia               1      10 kg         2022   \n41                           陳科翰               1       2 kg  2021 / 2022   \n42                          黃簡秋蘭               1      50 kg  2021 / 2022   \n45                           王清連               6      50 kg  2021 / 2022   \n46            Varios productores             600      30 kg  2022 / 2023   \n47                    PABLO CHUY             632      30 kg  2022 / 2023   \n48          san francisco cotzal             275      69 kg  2021 / 2022   \n49                           黃俊淦               1      13 kg  2021 / 2022   \n50                           戴禎男               1       4 kg  2021 / 2022   \n53                  IYENGA AMCOS             620      30 kg  2022 / 2023   \n54                           鄭虞坪               1      25 kg  2021 / 2022   \n55                           吳振宏               1      30 kg  2021 / 2022   \n58                           卓榮華               1       2 kg  2021 / 2022   \n59            Varios Productores             600      30 kg  2022 / 2023   \n60                VALBROS, S. A.              66      30 kg  2021 / 2022   \n62                           羅政宏               1      16 kg  2021 / 2022   \n63             郭雅聰（KUO,YA-TSUNG）              16       5 kg         2022   \n65                           浦瀚文               1      80 kg  2021 / 2022   \n66                           王政淵               1     104 kg  2021 / 2022   \n69                           李鴻儀               1     300 kg  2021 / 2022   \n\n   Grading Date  ... Total Cup Points Moisture Percentage  \\\n1    2022-11-15  ...            87.58                10.5   \n5    2022-11-15  ...            87.00                10.7   \n6    2022-11-15  ...            86.92                 9.1   \n7    2022-11-15  ...            86.75                10.0   \n8    2022-11-15  ...            86.67                10.8   \n9    2023-02-01  ...            86.50                11.0   \n10   2022-05-31  ...            86.25                11.8   \n11   2022-11-15  ...            86.25                11.5   \n12   2022-11-15  ...            86.25                11.9   \n13   2022-08-26  ...            86.17                11.6   \n15   2022-11-15  ...            86.08                10.2   \n16   2023-04-07  ...            86.08                11.3   \n17   2022-10-24  ...            86.08                10.3   \n18   2022-10-24  ...            85.92                11.0   \n19   2023-02-01  ...            85.83                10.0   \n20   2022-11-15  ...            85.75                11.6   \n21   2022-12-12  ...            85.67                10.4   \n24   2022-11-15  ...            85.58                10.6   \n26   2022-11-15  ...            85.50                 9.1   \n27   2022-11-15  ...            85.50                10.6   \n28   2022-11-15  ...            85.50                10.2   \n30   2022-12-12  ...            85.42                11.4   \n31   2022-12-12  ...            85.33                10.8   \n32   2022-06-08  ...            85.33                11.3   \n33   2022-06-06  ...            85.33                 9.9   \n34   2022-09-30  ...            85.33                12.3   \n35   2022-12-12  ...            85.25                 9.4   \n36   2022-11-15  ...            85.25                 9.5   \n37   2022-06-08  ...            85.25                11.3   \n39   2022-10-24  ...            85.17                10.3   \n40   2022-12-12  ...            85.08                10.0   \n41   2022-12-30  ...            85.08                10.5   \n42   2023-01-06  ...            85.08                10.0   \n45   2022-11-15  ...            85.00                10.1   \n46   2023-04-17  ...            85.00                 9.9   \n47   2023-02-23  ...            85.00                11.3   \n48   2022-06-22  ...            84.92                11.7   \n49   2023-01-06  ...            84.92                 9.5   \n50   2023-01-06  ...            84.83                 9.7   \n53   2022-11-09  ...            84.83                11.2   \n54   2022-11-15  ...            84.83                 9.5   \n55   2022-11-15  ...            84.75                10.4   \n58   2022-12-30  ...            84.75                10.0   \n59   2023-04-28  ...            84.67                10.6   \n60   2022-05-19  ...            84.67                10.9   \n62   2023-01-06  ...            84.58                 9.6   \n63   2022-06-08  ...            84.58                11.5   \n65   2022-11-15  ...            84.58                11.2   \n66   2022-11-15  ...            84.58                10.3   \n69   2023-01-06  ...            84.50                11.3   \n\n    Category One Defects  Quakers         Color  Category Two Defects  \\\n1                      0        0    blue-green                     0   \n5                      0        0         green                     2   \n6                      0        0         green                     0   \n7                      0        0  yellow-green                     1   \n8                      0        0      greenish                     0   \n9                      0        0      greenish                     0   \n10                     0        1      greenish                     1   \n11                     0        0      brownish                     1   \n12                     0        0         green                     0   \n13                     0        3  yellow-green                     2   \n15                     0        0         green                     0   \n16                     0        2         green                     2   \n17                     0        0  yellow-green                     0   \n18                     0        0      brownish                     1   \n19                     0        0      greenish                     0   \n20                     0        0     yellowish                     0   \n21                     0        0         green                     0   \n24                     0        0    blue-green                     0   \n26                     0        0         green                     2   \n27                     0        0         green                     0   \n28                     0        0    blue-green                     0   \n30                     0        0    blue-green                     0   \n31                     0        0         green                     0   \n32                     0        0         green                     0   \n33                     0        2         green                     3   \n34                     0        3  yellow-green                     4   \n35                     0        1      greenish                     1   \n36                     0        0    blue-green                     0   \n37                     0        0         green                     0   \n39                     0        0    blue-green                     0   \n40                     0        0      brownish                     0   \n41                     0        0      greenish                     0   \n42                     0        0   pale yellow                     5   \n45                     0        0  yellow-green                     0   \n46                     0        1         green                     1   \n47                     0        0         green                     4   \n48                     0        3         green                     1   \n49                     0        0         green                     2   \n50                     0        0      brownish                     0   \n53                     0        0      greenish                     0   \n54                     0        0      greenish                     0   \n55                     0        0         green                     0   \n58                     0        0    blue-green                     0   \n59                     0        0         green                     1   \n60                     0        3  yellow-green                     2   \n62                     0        0      greenish                     0   \n63                     0        0         green                     0   \n65                     0        0         green                     2   \n66                     0        0         green                     0   \n69                     0        0    blue-green                     0   \n\n              Expiration  Rating Category  clusters  cluster  \n1    November 15th, 2023      High Rating         0    brown  \n5    November 15th, 2023      High Rating         0    brown  \n6    November 15th, 2023      High Rating         0    brown  \n7    November 15th, 2023      High Rating         0    brown  \n8    November 15th, 2023      High Rating         0    brown  \n9     February 1st, 2024      High Rating         0    brown  \n10        May 31st, 2023      High Rating         0    brown  \n11   November 15th, 2023      High Rating         0    brown  \n12   November 15th, 2023      High Rating         0    brown  \n13     August 26th, 2023      High Rating         0    brown  \n15   November 15th, 2023      High Rating         0    brown  \n16       April 6th, 2024      High Rating         0    brown  \n17    October 24th, 2023      High Rating         0    brown  \n18    October 24th, 2023      High Rating         0    brown  \n19    February 1st, 2024      High Rating         0    brown  \n20   November 15th, 2023      High Rating         0    brown  \n21   December 12th, 2023      High Rating         0    brown  \n24   November 15th, 2023      High Rating         0    brown  \n26   November 15th, 2023      High Rating         0    brown  \n27   November 15th, 2023      High Rating         0    brown  \n28   November 15th, 2023      High Rating         0    brown  \n30   December 12th, 2023    Middle Rating         0    brown  \n31   December 12th, 2023    Middle Rating         0    brown  \n32        June 8th, 2023    Middle Rating         0     pink  \n33        June 6th, 2023    Middle Rating         0    brown  \n34  September 30th, 2023    Middle Rating         0     pink  \n35   December 12th, 2023    Middle Rating         0     pink  \n36   November 15th, 2023    Middle Rating         0     pink  \n37        June 8th, 2023    Middle Rating         0     pink  \n39    October 24th, 2023    Middle Rating         0     pink  \n40   December 12th, 2023    Middle Rating         0     pink  \n41   December 30th, 2023    Middle Rating         0     pink  \n42     January 6th, 2024    Middle Rating         2     pink  \n45   November 15th, 2023    Middle Rating         0     pink  \n46      April 16th, 2024    Middle Rating         2     pink  \n47   February 23rd, 2024    Middle Rating         2     pink  \n48       June 22nd, 2023    Middle Rating         2     pink  \n49     January 6th, 2024    Middle Rating         2     pink  \n50     January 6th, 2024    Middle Rating         2     pink  \n53    November 9th, 2023    Middle Rating         2     pink  \n54   November 15th, 2023    Middle Rating         2     pink  \n55   November 15th, 2023    Middle Rating         2     pink  \n58   December 30th, 2023    Middle Rating         2     pink  \n59      April 27th, 2024    Middle Rating         2     pink  \n60        May 19th, 2023    Middle Rating         2     pink  \n62     January 6th, 2024    Middle Rating         2     pink  \n63        June 8th, 2023    Middle Rating         2     pink  \n65   November 15th, 2023    Middle Rating         2     pink  \n66   November 15th, 2023    Middle Rating         2     pink  \n69     January 6th, 2024    Middle Rating         2     pink  \n\n[50 rows x 30 columns]",
      "text/html": "<div>\n<style scoped>\n    .dataframe tbody tr th:only-of-type {\n        vertical-align: middle;\n    }\n\n    .dataframe tbody tr th {\n        vertical-align: top;\n    }\n\n    .dataframe thead th {\n        text-align: right;\n    }\n</style>\n<table border=\"1\" class=\"dataframe\">\n  <thead>\n    <tr style=\"text-align: right;\">\n      <th></th>\n      <th>Country of Origin</th>\n      <th>Farm Name</th>\n      <th>Company</th>\n      <th>Altitude</th>\n      <th>Region</th>\n      <th>Producer</th>\n      <th>Number of Bags</th>\n      <th>Bag Weight</th>\n      <th>Harvest Year</th>\n      <th>Grading Date</th>\n      <th>...</th>\n      <th>Total Cup Points</th>\n      <th>Moisture Percentage</th>\n      <th>Category One Defects</th>\n      <th>Quakers</th>\n      <th>Color</th>\n      <th>Category Two Defects</th>\n      <th>Expiration</th>\n      <th>Rating Category</th>\n      <th>clusters</th>\n      <th>cluster</th>\n    </tr>\n  </thead>\n  <tbody>\n    <tr>\n      <th>1</th>\n      <td>Taiwan</td>\n      <td>Royal Bean Geisha Estate</td>\n      <td>Taiwan Coffee Laboratory</td>\n      <td>1200.0</td>\n      <td>Chiayi</td>\n      <td>曾福森</td>\n      <td>1</td>\n      <td>80 kg</td>\n      <td>2021 / 2022</td>\n      <td>2022-11-15</td>\n      <td>...</td>\n      <td>87.58</td>\n      <td>10.5</td>\n      <td>0</td>\n      <td>0</td>\n      <td>blue-green</td>\n      <td>0</td>\n      <td>November 15th, 2023</td>\n      <td>High Rating</td>\n      <td>0</td>\n      <td>brown</td>\n    </tr>\n    <tr>\n      <th>5</th>\n      <td>Guatemala</td>\n      <td>La Colina</td>\n      <td>Taiwan Coffee Laboratory</td>\n      <td>1668.0</td>\n      <td>Chimaltenango</td>\n      <td>Emilio Antonio Medina Garcia</td>\n      <td>5</td>\n      <td>30 kg</td>\n      <td>2022</td>\n      <td>2022-11-15</td>\n      <td>...</td>\n      <td>87.00</td>\n      <td>10.7</td>\n      <td>0</td>\n      <td>0</td>\n      <td>green</td>\n      <td>2</td>\n      <td>November 15th, 2023</td>\n      <td>High Rating</td>\n      <td>0</td>\n      <td>brown</td>\n    </tr>\n    <tr>\n      <th>6</th>\n      <td>Taiwan</td>\n      <td>野牡丹咖啡莊園 Melastoma Coffee Estate</td>\n      <td>Taiwan Coffee Laboratory</td>\n      <td>1250.0</td>\n      <td>Chiayi</td>\n      <td>黃保錫</td>\n      <td>1</td>\n      <td>27 kg</td>\n      <td>2021 / 2022</td>\n      <td>2022-11-15</td>\n      <td>...</td>\n      <td>86.92</td>\n      <td>9.1</td>\n      <td>0</td>\n      <td>0</td>\n      <td>green</td>\n      <td>0</td>\n      <td>November 15th, 2023</td>\n      <td>High Rating</td>\n      <td>0</td>\n      <td>brown</td>\n    </tr>\n    <tr>\n      <th>7</th>\n      <td>Taiwan</td>\n      <td>七彩琉璃咖啡莊園 Chi Tsai Liu Li Ecological Farm</td>\n      <td>Taiwan Coffee Laboratory</td>\n      <td>1200.0</td>\n      <td>Chiayi</td>\n      <td>莊家榮</td>\n      <td>1</td>\n      <td>90 kg</td>\n      <td>2021 / 2022</td>\n      <td>2022-11-15</td>\n      <td>...</td>\n      <td>86.75</td>\n      <td>10.0</td>\n      <td>0</td>\n      <td>0</td>\n      <td>yellow-green</td>\n      <td>1</td>\n      <td>November 15th, 2023</td>\n      <td>High Rating</td>\n      <td>0</td>\n      <td>brown</td>\n    </tr>\n    <tr>\n      <th>8</th>\n      <td>Taiwan</td>\n      <td>亮軒咖啡莊園 Liang Xuan Coffee Farm</td>\n      <td>Taiwan Coffee Laboratory</td>\n      <td>1250.0</td>\n      <td>Chiayi</td>\n      <td>鍾旭亮</td>\n      <td>1</td>\n      <td>30 kg</td>\n      <td>2021 / 2022</td>\n      <td>2022-11-15</td>\n      <td>...</td>\n      <td>86.67</td>\n      <td>10.8</td>\n      <td>0</td>\n      <td>0</td>\n      <td>greenish</td>\n      <td>0</td>\n      <td>November 15th, 2023</td>\n      <td>High Rating</td>\n      <td>0</td>\n      <td>brown</td>\n    </tr>\n    <tr>\n      <th>9</th>\n      <td>Tanzania, United Republic Of</td>\n      <td>MASHIMA AMCOS</td>\n      <td>DORMAN (T) LIMITED</td>\n      <td>1550.0</td>\n      <td>KILIMANJARO</td>\n      <td>DORMAN (T) LIMITED</td>\n      <td>320</td>\n      <td>60 kg</td>\n      <td>2022 / 2023</td>\n      <td>2023-02-01</td>\n      <td>...</td>\n      <td>86.50</td>\n      <td>11.0</td>\n      <td>0</td>\n      <td>0</td>\n      <td>greenish</td>\n      <td>0</td>\n      <td>February 1st, 2024</td>\n      <td>High Rating</td>\n      <td>0</td>\n      <td>brown</td>\n    </tr>\n    <tr>\n      <th>10</th>\n      <td>Ethiopia</td>\n      <td>TADE GG</td>\n      <td>Marubeni corp.,</td>\n      <td>2000.0</td>\n      <td>Guji</td>\n      <td>Tesfaye Bekele Degaga</td>\n      <td>10</td>\n      <td>30 kg</td>\n      <td>2021 / 2022</td>\n      <td>2022-05-31</td>\n      <td>...</td>\n      <td>86.25</td>\n      <td>11.8</td>\n      <td>0</td>\n      <td>1</td>\n      <td>greenish</td>\n      <td>1</td>\n      <td>May 31st, 2023</td>\n      <td>High Rating</td>\n      <td>0</td>\n      <td>brown</td>\n    </tr>\n    <tr>\n      <th>11</th>\n      <td>Guatemala</td>\n      <td>Karen Acajabon Coffee Farm</td>\n      <td>Taiwan Coffee Laboratory</td>\n      <td>2000.0</td>\n      <td>Acatenango</td>\n      <td>Karen Acajabon</td>\n      <td>5</td>\n      <td>15 kg</td>\n      <td>2021</td>\n      <td>2022-11-15</td>\n      <td>...</td>\n      <td>86.25</td>\n      <td>11.5</td>\n      <td>0</td>\n      <td>0</td>\n      <td>brownish</td>\n      <td>1</td>\n      <td>November 15th, 2023</td>\n      <td>High Rating</td>\n      <td>0</td>\n      <td>brown</td>\n    </tr>\n    <tr>\n      <th>12</th>\n      <td>Taiwan</td>\n      <td>古峰咖啡莊園 Goodfun Coffee Farm</td>\n      <td>Taiwan Coffee Laboratory</td>\n      <td>1250.0</td>\n      <td>Yunlin</td>\n      <td>賴彥合</td>\n      <td>1</td>\n      <td>60 kg</td>\n      <td>2021 / 2022</td>\n      <td>2022-11-15</td>\n      <td>...</td>\n      <td>86.25</td>\n      <td>11.9</td>\n      <td>0</td>\n      <td>0</td>\n      <td>green</td>\n      <td>0</td>\n      <td>November 15th, 2023</td>\n      <td>High Rating</td>\n      <td>0</td>\n      <td>brown</td>\n    </tr>\n    <tr>\n      <th>13</th>\n      <td>Ethiopia</td>\n      <td>Gelana Geisha</td>\n      <td>Kerchanshe Trading PLC</td>\n      <td>1950.0</td>\n      <td>Guji</td>\n      <td>Kerchanshe</td>\n      <td>40</td>\n      <td>60 kg</td>\n      <td>2021 / 2022</td>\n      <td>2022-08-26</td>\n      <td>...</td>\n      <td>86.17</td>\n      <td>11.6</td>\n      <td>0</td>\n      <td>3</td>\n      <td>yellow-green</td>\n      <td>2</td>\n      <td>August 26th, 2023</td>\n      <td>High Rating</td>\n      <td>0</td>\n      <td>brown</td>\n    </tr>\n    <tr>\n      <th>15</th>\n      <td>Taiwan</td>\n      <td>青葉咖啡莊園</td>\n      <td>Taiwan Coffee Laboratory</td>\n      <td>1100.0</td>\n      <td>Chiayi</td>\n      <td>葉世遠</td>\n      <td>1</td>\n      <td>60 kg</td>\n      <td>2021 / 2022</td>\n      <td>2022-11-15</td>\n      <td>...</td>\n      <td>86.08</td>\n      <td>10.2</td>\n      <td>0</td>\n      <td>0</td>\n      <td>green</td>\n      <td>0</td>\n      <td>November 15th, 2023</td>\n      <td>High Rating</td>\n      <td>0</td>\n      <td>brown</td>\n    </tr>\n    <tr>\n      <th>16</th>\n      <td>Ethiopia</td>\n      <td>Halo Bariti Cooprative</td>\n      <td>Coffee Quality Union</td>\n      <td>2000.0</td>\n      <td>Gedeb,Yirgacheffe,Sidamo</td>\n      <td>Halo Bariti Cooprative</td>\n      <td>8</td>\n      <td>5 kg</td>\n      <td>2022</td>\n      <td>2023-04-07</td>\n      <td>...</td>\n      <td>86.08</td>\n      <td>11.3</td>\n      <td>0</td>\n      <td>2</td>\n      <td>green</td>\n      <td>2</td>\n      <td>April 6th, 2024</td>\n      <td>High Rating</td>\n      <td>0</td>\n      <td>brown</td>\n    </tr>\n    <tr>\n      <th>17</th>\n      <td>Taiwan</td>\n      <td>東璧咖啡莊園</td>\n      <td>Dongbi coffee</td>\n      <td>1300.0</td>\n      <td>Shibi, Gukeng Township, Yunlin County 郵遞區號 , T...</td>\n      <td>陳景立</td>\n      <td>5</td>\n      <td>2 kg</td>\n      <td>2022</td>\n      <td>2022-10-24</td>\n      <td>...</td>\n      <td>86.08</td>\n      <td>10.3</td>\n      <td>0</td>\n      <td>0</td>\n      <td>yellow-green</td>\n      <td>0</td>\n      <td>October 24th, 2023</td>\n      <td>High Rating</td>\n      <td>0</td>\n      <td>brown</td>\n    </tr>\n    <tr>\n      <th>18</th>\n      <td>Taiwan</td>\n      <td>櫻桃果古坑咖啡莊園</td>\n      <td>宸嶧國際有限公司</td>\n      <td>1200.0</td>\n      <td>Gukeng Township, Yunlin County</td>\n      <td>王瀅惠</td>\n      <td>8</td>\n      <td>1 kg</td>\n      <td>2021 / 2022</td>\n      <td>2022-10-24</td>\n      <td>...</td>\n      <td>85.92</td>\n      <td>11.0</td>\n      <td>0</td>\n      <td>0</td>\n      <td>brownish</td>\n      <td>1</td>\n      <td>October 24th, 2023</td>\n      <td>High Rating</td>\n      <td>0</td>\n      <td>brown</td>\n    </tr>\n    <tr>\n      <th>19</th>\n      <td>Tanzania, United Republic Of</td>\n      <td>BURKA</td>\n      <td>DORMAN (T) LIMITED</td>\n      <td>1585.0</td>\n      <td>Arusha</td>\n      <td>DORMAN (T) LIMITED</td>\n      <td>200</td>\n      <td>30 kg</td>\n      <td>2022 / 2023</td>\n      <td>2023-02-01</td>\n      <td>...</td>\n      <td>85.83</td>\n      <td>10.0</td>\n      <td>0</td>\n      <td>0</td>\n      <td>greenish</td>\n      <td>0</td>\n      <td>February 1st, 2024</td>\n      <td>High Rating</td>\n      <td>0</td>\n      <td>brown</td>\n    </tr>\n    <tr>\n      <th>20</th>\n      <td>Guatemala</td>\n      <td>Finca Vista Hermosa</td>\n      <td>Taiwan Coffee Laboratory</td>\n      <td>1900.0</td>\n      <td>Guatemala, Fraijanes, Santa Rosa</td>\n      <td>Fredy Orantes</td>\n      <td>8</td>\n      <td>30 kg</td>\n      <td>2021 / 2022</td>\n      <td>2022-11-15</td>\n      <td>...</td>\n      <td>85.75</td>\n      <td>11.6</td>\n      <td>0</td>\n      <td>0</td>\n      <td>yellowish</td>\n      <td>0</td>\n      <td>November 15th, 2023</td>\n      <td>High Rating</td>\n      <td>0</td>\n      <td>brown</td>\n    </tr>\n    <tr>\n      <th>21</th>\n      <td>Taiwan</td>\n      <td>仲大叔咖啡莊園Uncle Chung.s Coffee Farm</td>\n      <td>Taiwan Coffee Laboratory</td>\n      <td>850.0</td>\n      <td>卓溪鄉Zhuoxi Township</td>\n      <td>游婷淯 YU TING YU</td>\n      <td>1</td>\n      <td>20 kg</td>\n      <td>2022</td>\n      <td>2022-12-12</td>\n      <td>...</td>\n      <td>85.67</td>\n      <td>10.4</td>\n      <td>0</td>\n      <td>0</td>\n      <td>green</td>\n      <td>0</td>\n      <td>December 12th, 2023</td>\n      <td>High Rating</td>\n      <td>0</td>\n      <td>brown</td>\n    </tr>\n    <tr>\n      <th>24</th>\n      <td>Taiwan</td>\n      <td>永舜咖啡莊園</td>\n      <td>Taiwan Coffee Laboratory</td>\n      <td>1250.0</td>\n      <td>Yunlin</td>\n      <td>蘇甘永</td>\n      <td>4</td>\n      <td>50 kg</td>\n      <td>2021 / 2022</td>\n      <td>2022-11-15</td>\n      <td>...</td>\n      <td>85.58</td>\n      <td>10.6</td>\n      <td>0</td>\n      <td>0</td>\n      <td>blue-green</td>\n      <td>0</td>\n      <td>November 15th, 2023</td>\n      <td>High Rating</td>\n      <td>0</td>\n      <td>brown</td>\n    </tr>\n    <tr>\n      <th>26</th>\n      <td>Taiwan</td>\n      <td>鄒築園ZouZhouYuan</td>\n      <td>Taiwan Coffee Laboratory</td>\n      <td>1300.0</td>\n      <td>Chiayi</td>\n      <td>方政倫</td>\n      <td>1</td>\n      <td>100 kg</td>\n      <td>2021 / 2022</td>\n      <td>2022-11-15</td>\n      <td>...</td>\n      <td>85.50</td>\n      <td>9.1</td>\n      <td>0</td>\n      <td>0</td>\n      <td>green</td>\n      <td>2</td>\n      <td>November 15th, 2023</td>\n      <td>High Rating</td>\n      <td>0</td>\n      <td>brown</td>\n    </tr>\n    <tr>\n      <th>27</th>\n      <td>Taiwan</td>\n      <td>嵩岳咖啡莊園</td>\n      <td>Taiwan Coffee Laboratory</td>\n      <td>1200.0</td>\n      <td>Yunlin</td>\n      <td>郭志豪</td>\n      <td>1</td>\n      <td>90 kg</td>\n      <td>2021 / 2022</td>\n      <td>2022-11-15</td>\n      <td>...</td>\n      <td>85.50</td>\n      <td>10.6</td>\n      <td>0</td>\n      <td>0</td>\n      <td>green</td>\n      <td>0</td>\n      <td>November 15th, 2023</td>\n      <td>High Rating</td>\n      <td>0</td>\n      <td>brown</td>\n    </tr>\n    <tr>\n      <th>28</th>\n      <td>Taiwan</td>\n      <td>他扶芽有機農園</td>\n      <td>Taiwan Coffee Laboratory</td>\n      <td>1060.0</td>\n      <td>Chiayi</td>\n      <td>陳清龍</td>\n      <td>1</td>\n      <td>85 kg</td>\n      <td>2021 / 2022</td>\n      <td>2022-11-15</td>\n      <td>...</td>\n      <td>85.50</td>\n      <td>10.2</td>\n      <td>0</td>\n      <td>0</td>\n      <td>blue-green</td>\n      <td>0</td>\n      <td>November 15th, 2023</td>\n      <td>High Rating</td>\n      <td>0</td>\n      <td>brown</td>\n    </tr>\n    <tr>\n      <th>30</th>\n      <td>Taiwan</td>\n      <td>鄉庭有機農場Siang-Ting Organic Farm</td>\n      <td>Taiwan Coffee Laboratory</td>\n      <td>200.0</td>\n      <td>壽豐鄉Shoufeng Township</td>\n      <td>張進義Zhang Jin-Yi</td>\n      <td>3</td>\n      <td>48 kg</td>\n      <td>2022</td>\n      <td>2022-12-12</td>\n      <td>...</td>\n      <td>85.42</td>\n      <td>11.4</td>\n      <td>0</td>\n      <td>0</td>\n      <td>blue-green</td>\n      <td>0</td>\n      <td>December 12th, 2023</td>\n      <td>Middle Rating</td>\n      <td>0</td>\n      <td>brown</td>\n    </tr>\n    <tr>\n      <th>31</th>\n      <td>Taiwan</td>\n      <td>鄉庭有機農場Siang-Ting Organic Farm</td>\n      <td>Taiwan Coffee Laboratory</td>\n      <td>200.0</td>\n      <td>壽豐鄉Shoufeng Township</td>\n      <td>張進義Zhang Jin-Yi</td>\n      <td>3</td>\n      <td>50 kg</td>\n      <td>2022</td>\n      <td>2022-12-12</td>\n      <td>...</td>\n      <td>85.33</td>\n      <td>10.8</td>\n      <td>0</td>\n      <td>0</td>\n      <td>green</td>\n      <td>0</td>\n      <td>December 12th, 2023</td>\n      <td>Middle Rating</td>\n      <td>0</td>\n      <td>brown</td>\n    </tr>\n    <tr>\n      <th>32</th>\n      <td>Taiwan</td>\n      <td>金讚咖啡農莊園(Jinzan Coffee Estate)</td>\n      <td>Taiwan Coffee Laboratory</td>\n      <td>668.0</td>\n      <td>Dongshan Dist., Tainan City</td>\n      <td>葉明讚 (YE,MING-ZAN)</td>\n      <td>4</td>\n      <td>5 kg</td>\n      <td>2022</td>\n      <td>2022-06-08</td>\n      <td>...</td>\n      <td>85.33</td>\n      <td>11.3</td>\n      <td>0</td>\n      <td>0</td>\n      <td>green</td>\n      <td>0</td>\n      <td>June 8th, 2023</td>\n      <td>Middle Rating</td>\n      <td>0</td>\n      <td>pink</td>\n    </tr>\n    <tr>\n      <th>33</th>\n      <td>Ethiopia</td>\n      <td>Eshetu farm</td>\n      <td>Alo Coffee</td>\n      <td>1950.0</td>\n      <td>Oromia</td>\n      <td>Eshetu</td>\n      <td>320</td>\n      <td>60 kg</td>\n      <td>2021 / 2022</td>\n      <td>2022-06-06</td>\n      <td>...</td>\n      <td>85.33</td>\n      <td>9.9</td>\n      <td>0</td>\n      <td>2</td>\n      <td>green</td>\n      <td>3</td>\n      <td>June 6th, 2023</td>\n      <td>Middle Rating</td>\n      <td>0</td>\n      <td>brown</td>\n    </tr>\n    <tr>\n      <th>34</th>\n      <td>Ethiopia</td>\n      <td>Uraga Bisrat washing station</td>\n      <td>TADESSE DESTA IMPORT &amp; EXPORT</td>\n      <td>2250.0</td>\n      <td>Southern Ethiopia Guji</td>\n      <td>Bisrat Melaku</td>\n      <td>320</td>\n      <td>60 kg</td>\n      <td>2021 / 2022</td>\n      <td>2022-09-30</td>\n      <td>...</td>\n      <td>85.33</td>\n      <td>12.3</td>\n      <td>0</td>\n      <td>3</td>\n      <td>yellow-green</td>\n      <td>4</td>\n      <td>September 30th, 2023</td>\n      <td>Middle Rating</td>\n      <td>0</td>\n      <td>pink</td>\n    </tr>\n    <tr>\n      <th>35</th>\n      <td>Ethiopia</td>\n      <td>YHAENU PLC FARM</td>\n      <td>yhaenu plc</td>\n      <td>1700.0</td>\n      <td>OROMIA</td>\n      <td>YHAENU PLC</td>\n      <td>320</td>\n      <td>19200 kg</td>\n      <td>2021 / 2022</td>\n      <td>2022-12-12</td>\n      <td>...</td>\n      <td>85.25</td>\n      <td>9.4</td>\n      <td>0</td>\n      <td>1</td>\n      <td>greenish</td>\n      <td>1</td>\n      <td>December 12th, 2023</td>\n      <td>Middle Rating</td>\n      <td>0</td>\n      <td>pink</td>\n    </tr>\n    <tr>\n      <th>36</th>\n      <td>Taiwan</td>\n      <td>卓武山咖啡農場</td>\n      <td>Taiwan Coffee Laboratory</td>\n      <td>1200.0</td>\n      <td>Chiayi</td>\n      <td>許定燁</td>\n      <td>1</td>\n      <td>100 kg</td>\n      <td>2021 / 2022</td>\n      <td>2022-11-15</td>\n      <td>...</td>\n      <td>85.25</td>\n      <td>9.5</td>\n      <td>0</td>\n      <td>0</td>\n      <td>blue-green</td>\n      <td>0</td>\n      <td>November 15th, 2023</td>\n      <td>Middle Rating</td>\n      <td>0</td>\n      <td>pink</td>\n    </tr>\n    <tr>\n      <th>37</th>\n      <td>Taiwan</td>\n      <td>御香咖啡園 YU SIANG Coffee Estate</td>\n      <td>Taiwan Coffee Laboratory</td>\n      <td>650.0</td>\n      <td>Dongshan Dist., Tainan City</td>\n      <td>陳建源(CHEN, JIAN-YUAN)</td>\n      <td>20</td>\n      <td>5 kg</td>\n      <td>2022</td>\n      <td>2022-06-08</td>\n      <td>...</td>\n      <td>85.25</td>\n      <td>11.3</td>\n      <td>0</td>\n      <td>0</td>\n      <td>green</td>\n      <td>0</td>\n      <td>June 8th, 2023</td>\n      <td>Middle Rating</td>\n      <td>0</td>\n      <td>pink</td>\n    </tr>\n    <tr>\n      <th>39</th>\n      <td>Taiwan</td>\n      <td>皇庭咖啡莊園</td>\n      <td>宸嶧國際有限公司</td>\n      <td>850.0</td>\n      <td>Caoling , Gukeng Township, Yunlin County</td>\n      <td>陳榮豐</td>\n      <td>20</td>\n      <td>1 kg</td>\n      <td>2017 / 2018</td>\n      <td>2022-10-24</td>\n      <td>...</td>\n      <td>85.17</td>\n      <td>10.3</td>\n      <td>0</td>\n      <td>0</td>\n      <td>blue-green</td>\n      <td>0</td>\n      <td>October 24th, 2023</td>\n      <td>Middle Rating</td>\n      <td>0</td>\n      <td>pink</td>\n    </tr>\n    <tr>\n      <th>40</th>\n      <td>Taiwan</td>\n      <td>花蓮縣秀林鄉特用作物（咖啡）產銷第一班Agriculture Production and ...</td>\n      <td>Taiwan Coffee Laboratory</td>\n      <td>400.0</td>\n      <td>秀林鄉Show Linxia Township</td>\n      <td>李志祥 Li Zhi-xia</td>\n      <td>1</td>\n      <td>10 kg</td>\n      <td>2022</td>\n      <td>2022-12-12</td>\n      <td>...</td>\n      <td>85.08</td>\n      <td>10.0</td>\n      <td>0</td>\n      <td>0</td>\n      <td>brownish</td>\n      <td>0</td>\n      <td>December 12th, 2023</td>\n      <td>Middle Rating</td>\n      <td>0</td>\n      <td>pink</td>\n    </tr>\n    <tr>\n      <th>41</th>\n      <td>Taiwan</td>\n      <td>八一高地</td>\n      <td>茂泰生技股份有限公司</td>\n      <td>1000.0</td>\n      <td>台灣屏東</td>\n      <td>陳科翰</td>\n      <td>1</td>\n      <td>2 kg</td>\n      <td>2021 / 2022</td>\n      <td>2022-12-30</td>\n      <td>...</td>\n      <td>85.08</td>\n      <td>10.5</td>\n      <td>0</td>\n      <td>0</td>\n      <td>greenish</td>\n      <td>0</td>\n      <td>December 30th, 2023</td>\n      <td>Middle Rating</td>\n      <td>0</td>\n      <td>pink</td>\n    </tr>\n    <tr>\n      <th>42</th>\n      <td>Taiwan</td>\n      <td>香夾蘭莊園</td>\n      <td>Taiwu Coffee Cooperative</td>\n      <td>800.0</td>\n      <td>苗栗縣</td>\n      <td>黃簡秋蘭</td>\n      <td>1</td>\n      <td>50 kg</td>\n      <td>2021 / 2022</td>\n      <td>2023-01-06</td>\n      <td>...</td>\n      <td>85.08</td>\n      <td>10.0</td>\n      <td>0</td>\n      <td>0</td>\n      <td>pale yellow</td>\n      <td>5</td>\n      <td>January 6th, 2024</td>\n      <td>Middle Rating</td>\n      <td>2</td>\n      <td>pink</td>\n    </tr>\n    <tr>\n      <th>45</th>\n      <td>Taiwan</td>\n      <td>青山坪咖啡農場</td>\n      <td>Taiwan Coffee Laboratory</td>\n      <td>800.0</td>\n      <td>Yunlin</td>\n      <td>王清連</td>\n      <td>6</td>\n      <td>50 kg</td>\n      <td>2021 / 2022</td>\n      <td>2022-11-15</td>\n      <td>...</td>\n      <td>85.00</td>\n      <td>10.1</td>\n      <td>0</td>\n      <td>0</td>\n      <td>yellow-green</td>\n      <td>0</td>\n      <td>November 15th, 2023</td>\n      <td>Middle Rating</td>\n      <td>0</td>\n      <td>pink</td>\n    </tr>\n    <tr>\n      <th>46</th>\n      <td>Guatemala</td>\n      <td>varias fincas</td>\n      <td>Peter Schoenfeld, S.A.</td>\n      <td>1600.0</td>\n      <td>Antigua</td>\n      <td>Varios productores</td>\n      <td>600</td>\n      <td>30 kg</td>\n      <td>2022 / 2023</td>\n      <td>2023-04-17</td>\n      <td>...</td>\n      <td>85.00</td>\n      <td>9.9</td>\n      <td>0</td>\n      <td>1</td>\n      <td>green</td>\n      <td>1</td>\n      <td>April 16th, 2024</td>\n      <td>Middle Rating</td>\n      <td>2</td>\n      <td>pink</td>\n    </tr>\n    <tr>\n      <th>47</th>\n      <td>Guatemala</td>\n      <td>PEÑA BLANCA</td>\n      <td>OLAM AGRO GUATEMALA, S.A.</td>\n      <td>4700.0</td>\n      <td>Santa Rosa</td>\n      <td>PABLO CHUY</td>\n      <td>632</td>\n      <td>30 kg</td>\n      <td>2022 / 2023</td>\n      <td>2023-02-23</td>\n      <td>...</td>\n      <td>85.00</td>\n      <td>11.3</td>\n      <td>0</td>\n      <td>0</td>\n      <td>green</td>\n      <td>4</td>\n      <td>February 23rd, 2024</td>\n      <td>Middle Rating</td>\n      <td>2</td>\n      <td>pink</td>\n    </tr>\n    <tr>\n      <th>48</th>\n      <td>Guatemala</td>\n      <td>san francisco cotzal</td>\n      <td>inmobiliaria e inversiones dos mil, s.a.</td>\n      <td>1600.0</td>\n      <td>quiche</td>\n      <td>san francisco cotzal</td>\n      <td>275</td>\n      <td>69 kg</td>\n      <td>2021 / 2022</td>\n      <td>2022-06-22</td>\n      <td>...</td>\n      <td>84.92</td>\n      <td>11.7</td>\n      <td>0</td>\n      <td>3</td>\n      <td>green</td>\n      <td>1</td>\n      <td>June 22nd, 2023</td>\n      <td>Middle Rating</td>\n      <td>2</td>\n      <td>pink</td>\n    </tr>\n    <tr>\n      <th>49</th>\n      <td>Taiwan</td>\n      <td>六曲窩</td>\n      <td>Taiwu Coffee Cooperative</td>\n      <td>375.0</td>\n      <td>新竹縣</td>\n      <td>黃俊淦</td>\n      <td>1</td>\n      <td>13 kg</td>\n      <td>2021 / 2022</td>\n      <td>2023-01-06</td>\n      <td>...</td>\n      <td>84.92</td>\n      <td>9.5</td>\n      <td>0</td>\n      <td>0</td>\n      <td>green</td>\n      <td>2</td>\n      <td>January 6th, 2024</td>\n      <td>Middle Rating</td>\n      <td>2</td>\n      <td>pink</td>\n    </tr>\n    <tr>\n      <th>50</th>\n      <td>Taiwan</td>\n      <td>北平山林</td>\n      <td>Taiwu Coffee Cooperative</td>\n      <td>230.0</td>\n      <td>新竹縣</td>\n      <td>戴禎男</td>\n      <td>1</td>\n      <td>4 kg</td>\n      <td>2021 / 2022</td>\n      <td>2023-01-06</td>\n      <td>...</td>\n      <td>84.83</td>\n      <td>9.7</td>\n      <td>0</td>\n      <td>0</td>\n      <td>brownish</td>\n      <td>0</td>\n      <td>January 6th, 2024</td>\n      <td>Middle Rating</td>\n      <td>2</td>\n      <td>pink</td>\n    </tr>\n    <tr>\n      <th>53</th>\n      <td>Tanzania, United Republic Of</td>\n      <td>IYENGA</td>\n      <td>VOLCAFE/TaylorWinch Tanzania Ltd</td>\n      <td>1654.0</td>\n      <td>Mbeya</td>\n      <td>IYENGA AMCOS</td>\n      <td>620</td>\n      <td>30 kg</td>\n      <td>2022 / 2023</td>\n      <td>2022-11-09</td>\n      <td>...</td>\n      <td>84.83</td>\n      <td>11.2</td>\n      <td>0</td>\n      <td>0</td>\n      <td>greenish</td>\n      <td>0</td>\n      <td>November 9th, 2023</td>\n      <td>Middle Rating</td>\n      <td>2</td>\n      <td>pink</td>\n    </tr>\n    <tr>\n      <th>54</th>\n      <td>Taiwan</td>\n      <td>優遊吧斯瑪翡咖啡莊園</td>\n      <td>Taiwan Coffee Laboratory</td>\n      <td>1300.0</td>\n      <td>Chiayi</td>\n      <td>鄭虞坪</td>\n      <td>1</td>\n      <td>25 kg</td>\n      <td>2021 / 2022</td>\n      <td>2022-11-15</td>\n      <td>...</td>\n      <td>84.83</td>\n      <td>9.5</td>\n      <td>0</td>\n      <td>0</td>\n      <td>greenish</td>\n      <td>0</td>\n      <td>November 15th, 2023</td>\n      <td>Middle Rating</td>\n      <td>2</td>\n      <td>pink</td>\n    </tr>\n    <tr>\n      <th>55</th>\n      <td>Taiwan</td>\n      <td>森悅高峰咖啡莊園</td>\n      <td>Taiwan Coffee Laboratory</td>\n      <td>1400.0</td>\n      <td>Nantou</td>\n      <td>吳振宏</td>\n      <td>1</td>\n      <td>30 kg</td>\n      <td>2021 / 2022</td>\n      <td>2022-11-15</td>\n      <td>...</td>\n      <td>84.75</td>\n      <td>10.4</td>\n      <td>0</td>\n      <td>0</td>\n      <td>green</td>\n      <td>0</td>\n      <td>November 15th, 2023</td>\n      <td>Middle Rating</td>\n      <td>2</td>\n      <td>pink</td>\n    </tr>\n    <tr>\n      <th>58</th>\n      <td>Taiwan</td>\n      <td>嵐雲綠海咖啡</td>\n      <td>茂泰生技股份有限公司</td>\n      <td>1200.0</td>\n      <td>台灣屏東</td>\n      <td>卓榮華</td>\n      <td>1</td>\n      <td>2 kg</td>\n      <td>2021 / 2022</td>\n      <td>2022-12-30</td>\n      <td>...</td>\n      <td>84.75</td>\n      <td>10.0</td>\n      <td>0</td>\n      <td>0</td>\n      <td>blue-green</td>\n      <td>0</td>\n      <td>December 30th, 2023</td>\n      <td>Middle Rating</td>\n      <td>2</td>\n      <td>pink</td>\n    </tr>\n    <tr>\n      <th>59</th>\n      <td>Guatemala</td>\n      <td>Varias Fincas</td>\n      <td>Peter Schoenfeld, S.A.</td>\n      <td>1600.0</td>\n      <td>Huehuetenango</td>\n      <td>Varios Productores</td>\n      <td>600</td>\n      <td>30 kg</td>\n      <td>2022 / 2023</td>\n      <td>2023-04-28</td>\n      <td>...</td>\n      <td>84.67</td>\n      <td>10.6</td>\n      <td>0</td>\n      <td>0</td>\n      <td>green</td>\n      <td>1</td>\n      <td>April 27th, 2024</td>\n      <td>Middle Rating</td>\n      <td>2</td>\n      <td>pink</td>\n    </tr>\n    <tr>\n      <th>60</th>\n      <td>Guatemala</td>\n      <td>SAN RAFAEL URIAS VALDES</td>\n      <td>VALBROS, S. A.</td>\n      <td>4895.0</td>\n      <td>ANTIGUA GUATEMALA</td>\n      <td>VALBROS, S. A.</td>\n      <td>66</td>\n      <td>30 kg</td>\n      <td>2021 / 2022</td>\n      <td>2022-05-19</td>\n      <td>...</td>\n      <td>84.67</td>\n      <td>10.9</td>\n      <td>0</td>\n      <td>3</td>\n      <td>yellow-green</td>\n      <td>2</td>\n      <td>May 19th, 2023</td>\n      <td>Middle Rating</td>\n      <td>2</td>\n      <td>pink</td>\n    </tr>\n    <tr>\n      <th>62</th>\n      <td>Taiwan</td>\n      <td>羅馬8號莊園</td>\n      <td>Taiwu Coffee Cooperative</td>\n      <td>250.0</td>\n      <td>新竹縣</td>\n      <td>羅政宏</td>\n      <td>1</td>\n      <td>16 kg</td>\n      <td>2021 / 2022</td>\n      <td>2023-01-06</td>\n      <td>...</td>\n      <td>84.58</td>\n      <td>9.6</td>\n      <td>0</td>\n      <td>0</td>\n      <td>greenish</td>\n      <td>0</td>\n      <td>January 6th, 2024</td>\n      <td>Middle Rating</td>\n      <td>2</td>\n      <td>pink</td>\n    </tr>\n    <tr>\n      <th>63</th>\n      <td>Taiwan</td>\n      <td>大鋤花間(Dachu Coffee Estate)</td>\n      <td>Taiwan Coffee Laboratory</td>\n      <td>700.0</td>\n      <td>( Dongshan Dist., Tainan City)</td>\n      <td>郭雅聰（KUO,YA-TSUNG）</td>\n      <td>16</td>\n      <td>5 kg</td>\n      <td>2022</td>\n      <td>2022-06-08</td>\n      <td>...</td>\n      <td>84.58</td>\n      <td>11.5</td>\n      <td>0</td>\n      <td>0</td>\n      <td>green</td>\n      <td>0</td>\n      <td>June 8th, 2023</td>\n      <td>Middle Rating</td>\n      <td>2</td>\n      <td>pink</td>\n    </tr>\n    <tr>\n      <th>65</th>\n      <td>Taiwan</td>\n      <td>雅慕伊咖啡莊園</td>\n      <td>Taiwan Coffee Laboratory</td>\n      <td>1250.0</td>\n      <td>Chiayi</td>\n      <td>浦瀚文</td>\n      <td>1</td>\n      <td>80 kg</td>\n      <td>2021 / 2022</td>\n      <td>2022-11-15</td>\n      <td>...</td>\n      <td>84.58</td>\n      <td>11.2</td>\n      <td>0</td>\n      <td>0</td>\n      <td>green</td>\n      <td>2</td>\n      <td>November 15th, 2023</td>\n      <td>Middle Rating</td>\n      <td>2</td>\n      <td>pink</td>\n    </tr>\n    <tr>\n      <th>66</th>\n      <td>Taiwan</td>\n      <td>名陽園</td>\n      <td>Taiwan Coffee Laboratory</td>\n      <td>1450.0</td>\n      <td>Chiayi</td>\n      <td>王政淵</td>\n      <td>1</td>\n      <td>104 kg</td>\n      <td>2021 / 2022</td>\n      <td>2022-11-15</td>\n      <td>...</td>\n      <td>84.58</td>\n      <td>10.3</td>\n      <td>0</td>\n      <td>0</td>\n      <td>green</td>\n      <td>0</td>\n      <td>November 15th, 2023</td>\n      <td>Middle Rating</td>\n      <td>2</td>\n      <td>pink</td>\n    </tr>\n    <tr>\n      <th>69</th>\n      <td>Taiwan</td>\n      <td>苗55咖啡莊園</td>\n      <td>Taiwu Coffee Cooperative</td>\n      <td>520.0</td>\n      <td>苗栗縣</td>\n      <td>李鴻儀</td>\n      <td>1</td>\n      <td>300 kg</td>\n      <td>2021 / 2022</td>\n      <td>2023-01-06</td>\n      <td>...</td>\n      <td>84.50</td>\n      <td>11.3</td>\n      <td>0</td>\n      <td>0</td>\n      <td>blue-green</td>\n      <td>0</td>\n      <td>January 6th, 2024</td>\n      <td>Middle Rating</td>\n      <td>2</td>\n      <td>pink</td>\n    </tr>\n  </tbody>\n</table>\n<p>50 rows × 30 columns</p>\n</div>"
     },
     "execution_count": 50,
     "metadata": {},
     "output_type": "execute_result"
    }
   ],
   "source": [
    "# Add clusters from df_scaled to original dataframe\n",
    "\n",
    "df_country['clusters'] = df_scaled['clusters'].to_numpy()\n",
    "df_country.head(50)"
   ],
   "metadata": {
    "collapsed": false,
    "ExecuteTime": {
     "end_time": "2023-11-23T00:56:23.564190Z",
     "start_time": "2023-11-23T00:56:23.528649Z"
    }
   },
   "id": "c191ac8351126ceb"
  },
  {
   "cell_type": "code",
   "execution_count": 57,
   "outputs": [
    {
     "data": {
      "application/vnd.plotly.v1+json": {
       "data": [
        {
         "alignmentgroup": "True",
         "hovertemplate": "clusters=%{x}<br>Moisture Percentage=%{y}<extra></extra>",
         "legendgroup": "",
         "marker": {
          "color": "#636efa"
         },
         "name": "",
         "notched": false,
         "offsetgroup": "",
         "orientation": "v",
         "showlegend": false,
         "x": [
          0,
          0,
          0,
          0,
          0,
          0,
          0,
          0,
          0,
          0,
          0,
          0,
          0,
          0,
          0,
          0,
          0,
          0,
          0,
          0,
          0,
          0,
          0,
          0,
          0,
          0,
          0,
          0,
          0,
          0,
          0,
          0,
          2,
          0,
          2,
          2,
          2,
          2,
          2,
          2,
          2,
          2,
          2,
          2,
          2,
          2,
          2,
          2,
          2,
          2,
          2,
          2,
          2,
          2,
          2,
          2,
          2,
          2,
          2,
          2,
          2,
          2,
          2,
          2,
          2,
          2,
          2,
          2,
          2,
          2,
          1,
          1,
          1,
          2,
          2,
          2,
          1,
          2,
          1,
          1,
          2,
          1,
          1,
          1,
          1,
          1,
          1,
          1,
          1,
          1,
          1,
          1,
          1,
          1,
          1,
          1
         ],
         "x0": " ",
         "xaxis": "x",
         "y": [
          10.5,
          10.7,
          9.1,
          10.0,
          10.8,
          11.0,
          11.8,
          11.5,
          11.9,
          11.6,
          10.2,
          11.3,
          10.3,
          11.0,
          10.0,
          11.6,
          10.4,
          10.6,
          9.1,
          10.6,
          10.2,
          11.4,
          10.8,
          11.3,
          9.9,
          12.3,
          9.4,
          9.5,
          11.3,
          10.3,
          10.0,
          10.5,
          10.0,
          10.1,
          9.9,
          11.3,
          11.7,
          9.5,
          9.7,
          11.2,
          9.5,
          10.4,
          10.0,
          10.6,
          10.9,
          9.6,
          11.5,
          11.2,
          10.3,
          11.3,
          10.9,
          10.2,
          10.1,
          9.2,
          11.0,
          10.0,
          11.0,
          10.8,
          10.6,
          11.0,
          11.0,
          9.8,
          11.3,
          11.6,
          11.9,
          10.0,
          10.8,
          10.9,
          12.0,
          10.0,
          9.2,
          8.4,
          9.1,
          10.9,
          10.4,
          10.1,
          9.7,
          11.4,
          9.6,
          10.7,
          10.4,
          9.6,
          9.7,
          11.8,
          8.9,
          9.8,
          8.4,
          8.4,
          10.8,
          9.7,
          8.1,
          8.2,
          10.3,
          11.3,
          9.0,
          8.5
         ],
         "y0": " ",
         "yaxis": "y",
         "type": "box"
        }
       ],
       "layout": {
        "template": {
         "data": {
          "histogram2dcontour": [
           {
            "type": "histogram2dcontour",
            "colorbar": {
             "outlinewidth": 0,
             "ticks": ""
            },
            "colorscale": [
             [
              0.0,
              "#0d0887"
             ],
             [
              0.1111111111111111,
              "#46039f"
             ],
             [
              0.2222222222222222,
              "#7201a8"
             ],
             [
              0.3333333333333333,
              "#9c179e"
             ],
             [
              0.4444444444444444,
              "#bd3786"
             ],
             [
              0.5555555555555556,
              "#d8576b"
             ],
             [
              0.6666666666666666,
              "#ed7953"
             ],
             [
              0.7777777777777778,
              "#fb9f3a"
             ],
             [
              0.8888888888888888,
              "#fdca26"
             ],
             [
              1.0,
              "#f0f921"
             ]
            ]
           }
          ],
          "choropleth": [
           {
            "type": "choropleth",
            "colorbar": {
             "outlinewidth": 0,
             "ticks": ""
            }
           }
          ],
          "histogram2d": [
           {
            "type": "histogram2d",
            "colorbar": {
             "outlinewidth": 0,
             "ticks": ""
            },
            "colorscale": [
             [
              0.0,
              "#0d0887"
             ],
             [
              0.1111111111111111,
              "#46039f"
             ],
             [
              0.2222222222222222,
              "#7201a8"
             ],
             [
              0.3333333333333333,
              "#9c179e"
             ],
             [
              0.4444444444444444,
              "#bd3786"
             ],
             [
              0.5555555555555556,
              "#d8576b"
             ],
             [
              0.6666666666666666,
              "#ed7953"
             ],
             [
              0.7777777777777778,
              "#fb9f3a"
             ],
             [
              0.8888888888888888,
              "#fdca26"
             ],
             [
              1.0,
              "#f0f921"
             ]
            ]
           }
          ],
          "heatmap": [
           {
            "type": "heatmap",
            "colorbar": {
             "outlinewidth": 0,
             "ticks": ""
            },
            "colorscale": [
             [
              0.0,
              "#0d0887"
             ],
             [
              0.1111111111111111,
              "#46039f"
             ],
             [
              0.2222222222222222,
              "#7201a8"
             ],
             [
              0.3333333333333333,
              "#9c179e"
             ],
             [
              0.4444444444444444,
              "#bd3786"
             ],
             [
              0.5555555555555556,
              "#d8576b"
             ],
             [
              0.6666666666666666,
              "#ed7953"
             ],
             [
              0.7777777777777778,
              "#fb9f3a"
             ],
             [
              0.8888888888888888,
              "#fdca26"
             ],
             [
              1.0,
              "#f0f921"
             ]
            ]
           }
          ],
          "heatmapgl": [
           {
            "type": "heatmapgl",
            "colorbar": {
             "outlinewidth": 0,
             "ticks": ""
            },
            "colorscale": [
             [
              0.0,
              "#0d0887"
             ],
             [
              0.1111111111111111,
              "#46039f"
             ],
             [
              0.2222222222222222,
              "#7201a8"
             ],
             [
              0.3333333333333333,
              "#9c179e"
             ],
             [
              0.4444444444444444,
              "#bd3786"
             ],
             [
              0.5555555555555556,
              "#d8576b"
             ],
             [
              0.6666666666666666,
              "#ed7953"
             ],
             [
              0.7777777777777778,
              "#fb9f3a"
             ],
             [
              0.8888888888888888,
              "#fdca26"
             ],
             [
              1.0,
              "#f0f921"
             ]
            ]
           }
          ],
          "contourcarpet": [
           {
            "type": "contourcarpet",
            "colorbar": {
             "outlinewidth": 0,
             "ticks": ""
            }
           }
          ],
          "contour": [
           {
            "type": "contour",
            "colorbar": {
             "outlinewidth": 0,
             "ticks": ""
            },
            "colorscale": [
             [
              0.0,
              "#0d0887"
             ],
             [
              0.1111111111111111,
              "#46039f"
             ],
             [
              0.2222222222222222,
              "#7201a8"
             ],
             [
              0.3333333333333333,
              "#9c179e"
             ],
             [
              0.4444444444444444,
              "#bd3786"
             ],
             [
              0.5555555555555556,
              "#d8576b"
             ],
             [
              0.6666666666666666,
              "#ed7953"
             ],
             [
              0.7777777777777778,
              "#fb9f3a"
             ],
             [
              0.8888888888888888,
              "#fdca26"
             ],
             [
              1.0,
              "#f0f921"
             ]
            ]
           }
          ],
          "surface": [
           {
            "type": "surface",
            "colorbar": {
             "outlinewidth": 0,
             "ticks": ""
            },
            "colorscale": [
             [
              0.0,
              "#0d0887"
             ],
             [
              0.1111111111111111,
              "#46039f"
             ],
             [
              0.2222222222222222,
              "#7201a8"
             ],
             [
              0.3333333333333333,
              "#9c179e"
             ],
             [
              0.4444444444444444,
              "#bd3786"
             ],
             [
              0.5555555555555556,
              "#d8576b"
             ],
             [
              0.6666666666666666,
              "#ed7953"
             ],
             [
              0.7777777777777778,
              "#fb9f3a"
             ],
             [
              0.8888888888888888,
              "#fdca26"
             ],
             [
              1.0,
              "#f0f921"
             ]
            ]
           }
          ],
          "mesh3d": [
           {
            "type": "mesh3d",
            "colorbar": {
             "outlinewidth": 0,
             "ticks": ""
            }
           }
          ],
          "scatter": [
           {
            "marker": {
             "line": {
              "color": "#283442"
             }
            },
            "type": "scatter"
           }
          ],
          "parcoords": [
           {
            "type": "parcoords",
            "line": {
             "colorbar": {
              "outlinewidth": 0,
              "ticks": ""
             }
            }
           }
          ],
          "scatterpolargl": [
           {
            "type": "scatterpolargl",
            "marker": {
             "colorbar": {
              "outlinewidth": 0,
              "ticks": ""
             }
            }
           }
          ],
          "bar": [
           {
            "error_x": {
             "color": "#f2f5fa"
            },
            "error_y": {
             "color": "#f2f5fa"
            },
            "marker": {
             "line": {
              "color": "rgb(17,17,17)",
              "width": 0.5
             },
             "pattern": {
              "fillmode": "overlay",
              "size": 10,
              "solidity": 0.2
             }
            },
            "type": "bar"
           }
          ],
          "scattergeo": [
           {
            "type": "scattergeo",
            "marker": {
             "colorbar": {
              "outlinewidth": 0,
              "ticks": ""
             }
            }
           }
          ],
          "scatterpolar": [
           {
            "type": "scatterpolar",
            "marker": {
             "colorbar": {
              "outlinewidth": 0,
              "ticks": ""
             }
            }
           }
          ],
          "histogram": [
           {
            "marker": {
             "pattern": {
              "fillmode": "overlay",
              "size": 10,
              "solidity": 0.2
             }
            },
            "type": "histogram"
           }
          ],
          "scattergl": [
           {
            "marker": {
             "line": {
              "color": "#283442"
             }
            },
            "type": "scattergl"
           }
          ],
          "scatter3d": [
           {
            "type": "scatter3d",
            "line": {
             "colorbar": {
              "outlinewidth": 0,
              "ticks": ""
             }
            },
            "marker": {
             "colorbar": {
              "outlinewidth": 0,
              "ticks": ""
             }
            }
           }
          ],
          "scattermapbox": [
           {
            "type": "scattermapbox",
            "marker": {
             "colorbar": {
              "outlinewidth": 0,
              "ticks": ""
             }
            }
           }
          ],
          "scatterternary": [
           {
            "type": "scatterternary",
            "marker": {
             "colorbar": {
              "outlinewidth": 0,
              "ticks": ""
             }
            }
           }
          ],
          "scattercarpet": [
           {
            "type": "scattercarpet",
            "marker": {
             "colorbar": {
              "outlinewidth": 0,
              "ticks": ""
             }
            }
           }
          ],
          "carpet": [
           {
            "aaxis": {
             "endlinecolor": "#A2B1C6",
             "gridcolor": "#506784",
             "linecolor": "#506784",
             "minorgridcolor": "#506784",
             "startlinecolor": "#A2B1C6"
            },
            "baxis": {
             "endlinecolor": "#A2B1C6",
             "gridcolor": "#506784",
             "linecolor": "#506784",
             "minorgridcolor": "#506784",
             "startlinecolor": "#A2B1C6"
            },
            "type": "carpet"
           }
          ],
          "table": [
           {
            "cells": {
             "fill": {
              "color": "#506784"
             },
             "line": {
              "color": "rgb(17,17,17)"
             }
            },
            "header": {
             "fill": {
              "color": "#2a3f5f"
             },
             "line": {
              "color": "rgb(17,17,17)"
             }
            },
            "type": "table"
           }
          ],
          "barpolar": [
           {
            "marker": {
             "line": {
              "color": "rgb(17,17,17)",
              "width": 0.5
             },
             "pattern": {
              "fillmode": "overlay",
              "size": 10,
              "solidity": 0.2
             }
            },
            "type": "barpolar"
           }
          ],
          "pie": [
           {
            "automargin": true,
            "type": "pie"
           }
          ]
         },
         "layout": {
          "autotypenumbers": "strict",
          "colorway": [
           "#636efa",
           "#EF553B",
           "#00cc96",
           "#ab63fa",
           "#FFA15A",
           "#19d3f3",
           "#FF6692",
           "#B6E880",
           "#FF97FF",
           "#FECB52"
          ],
          "font": {
           "color": "#f2f5fa"
          },
          "hovermode": "closest",
          "hoverlabel": {
           "align": "left"
          },
          "paper_bgcolor": "rgb(17,17,17)",
          "plot_bgcolor": "rgb(17,17,17)",
          "polar": {
           "bgcolor": "rgb(17,17,17)",
           "angularaxis": {
            "gridcolor": "#506784",
            "linecolor": "#506784",
            "ticks": ""
           },
           "radialaxis": {
            "gridcolor": "#506784",
            "linecolor": "#506784",
            "ticks": ""
           }
          },
          "ternary": {
           "bgcolor": "rgb(17,17,17)",
           "aaxis": {
            "gridcolor": "#506784",
            "linecolor": "#506784",
            "ticks": ""
           },
           "baxis": {
            "gridcolor": "#506784",
            "linecolor": "#506784",
            "ticks": ""
           },
           "caxis": {
            "gridcolor": "#506784",
            "linecolor": "#506784",
            "ticks": ""
           }
          },
          "coloraxis": {
           "colorbar": {
            "outlinewidth": 0,
            "ticks": ""
           }
          },
          "colorscale": {
           "sequential": [
            [
             0.0,
             "#0d0887"
            ],
            [
             0.1111111111111111,
             "#46039f"
            ],
            [
             0.2222222222222222,
             "#7201a8"
            ],
            [
             0.3333333333333333,
             "#9c179e"
            ],
            [
             0.4444444444444444,
             "#bd3786"
            ],
            [
             0.5555555555555556,
             "#d8576b"
            ],
            [
             0.6666666666666666,
             "#ed7953"
            ],
            [
             0.7777777777777778,
             "#fb9f3a"
            ],
            [
             0.8888888888888888,
             "#fdca26"
            ],
            [
             1.0,
             "#f0f921"
            ]
           ],
           "sequentialminus": [
            [
             0.0,
             "#0d0887"
            ],
            [
             0.1111111111111111,
             "#46039f"
            ],
            [
             0.2222222222222222,
             "#7201a8"
            ],
            [
             0.3333333333333333,
             "#9c179e"
            ],
            [
             0.4444444444444444,
             "#bd3786"
            ],
            [
             0.5555555555555556,
             "#d8576b"
            ],
            [
             0.6666666666666666,
             "#ed7953"
            ],
            [
             0.7777777777777778,
             "#fb9f3a"
            ],
            [
             0.8888888888888888,
             "#fdca26"
            ],
            [
             1.0,
             "#f0f921"
            ]
           ],
           "diverging": [
            [
             0,
             "#8e0152"
            ],
            [
             0.1,
             "#c51b7d"
            ],
            [
             0.2,
             "#de77ae"
            ],
            [
             0.3,
             "#f1b6da"
            ],
            [
             0.4,
             "#fde0ef"
            ],
            [
             0.5,
             "#f7f7f7"
            ],
            [
             0.6,
             "#e6f5d0"
            ],
            [
             0.7,
             "#b8e186"
            ],
            [
             0.8,
             "#7fbc41"
            ],
            [
             0.9,
             "#4d9221"
            ],
            [
             1,
             "#276419"
            ]
           ]
          },
          "xaxis": {
           "gridcolor": "#283442",
           "linecolor": "#506784",
           "ticks": "",
           "title": {
            "standoff": 15
           },
           "zerolinecolor": "#283442",
           "automargin": true,
           "zerolinewidth": 2
          },
          "yaxis": {
           "gridcolor": "#283442",
           "linecolor": "#506784",
           "ticks": "",
           "title": {
            "standoff": 15
           },
           "zerolinecolor": "#283442",
           "automargin": true,
           "zerolinewidth": 2
          },
          "scene": {
           "xaxis": {
            "backgroundcolor": "rgb(17,17,17)",
            "gridcolor": "#506784",
            "linecolor": "#506784",
            "showbackground": true,
            "ticks": "",
            "zerolinecolor": "#C8D4E3",
            "gridwidth": 2
           },
           "yaxis": {
            "backgroundcolor": "rgb(17,17,17)",
            "gridcolor": "#506784",
            "linecolor": "#506784",
            "showbackground": true,
            "ticks": "",
            "zerolinecolor": "#C8D4E3",
            "gridwidth": 2
           },
           "zaxis": {
            "backgroundcolor": "rgb(17,17,17)",
            "gridcolor": "#506784",
            "linecolor": "#506784",
            "showbackground": true,
            "ticks": "",
            "zerolinecolor": "#C8D4E3",
            "gridwidth": 2
           }
          },
          "shapedefaults": {
           "line": {
            "color": "#f2f5fa"
           }
          },
          "annotationdefaults": {
           "arrowcolor": "#f2f5fa",
           "arrowhead": 0,
           "arrowwidth": 1
          },
          "geo": {
           "bgcolor": "rgb(17,17,17)",
           "landcolor": "rgb(17,17,17)",
           "subunitcolor": "#506784",
           "showland": true,
           "showlakes": true,
           "lakecolor": "rgb(17,17,17)"
          },
          "title": {
           "x": 0.05
          },
          "updatemenudefaults": {
           "bgcolor": "#506784",
           "borderwidth": 0
          },
          "sliderdefaults": {
           "bgcolor": "#C8D4E3",
           "borderwidth": 1,
           "bordercolor": "rgb(17,17,17)",
           "tickwidth": 0
          },
          "mapbox": {
           "style": "dark"
          }
         }
        },
        "xaxis": {
         "anchor": "y",
         "domain": [
          0.0,
          1.0
         ],
         "title": {
          "text": "clusters"
         }
        },
        "yaxis": {
         "anchor": "x",
         "domain": [
          0.0,
          1.0
         ],
         "title": {
          "text": "Moisture Percentage"
         }
        },
        "legend": {
         "tracegroupgap": 0
        },
        "title": {
         "text": "Box and Whisker Plot of Moisture Percentages Grouped by Clusters"
        },
        "boxmode": "group"
       },
       "config": {
        "plotlyServerURL": "https://plot.ly"
       }
      },
      "text/html": "<div>                            <div id=\"6fc56a3c-8522-409d-9b56-7bd17318708d\" class=\"plotly-graph-div\" style=\"height:525px; width:100%;\"></div>            <script type=\"text/javascript\">                require([\"plotly\"], function(Plotly) {                    window.PLOTLYENV=window.PLOTLYENV || {};                                    if (document.getElementById(\"6fc56a3c-8522-409d-9b56-7bd17318708d\")) {                    Plotly.newPlot(                        \"6fc56a3c-8522-409d-9b56-7bd17318708d\",                        [{\"alignmentgroup\":\"True\",\"hovertemplate\":\"clusters=%{x}\\u003cbr\\u003eMoisture Percentage=%{y}\\u003cextra\\u003e\\u003c\\u002fextra\\u003e\",\"legendgroup\":\"\",\"marker\":{\"color\":\"#636efa\"},\"name\":\"\",\"notched\":false,\"offsetgroup\":\"\",\"orientation\":\"v\",\"showlegend\":false,\"x\":[0,0,0,0,0,0,0,0,0,0,0,0,0,0,0,0,0,0,0,0,0,0,0,0,0,0,0,0,0,0,0,0,2,0,2,2,2,2,2,2,2,2,2,2,2,2,2,2,2,2,2,2,2,2,2,2,2,2,2,2,2,2,2,2,2,2,2,2,2,2,1,1,1,2,2,2,1,2,1,1,2,1,1,1,1,1,1,1,1,1,1,1,1,1,1,1],\"x0\":\" \",\"xaxis\":\"x\",\"y\":[10.5,10.7,9.1,10.0,10.8,11.0,11.8,11.5,11.9,11.6,10.2,11.3,10.3,11.0,10.0,11.6,10.4,10.6,9.1,10.6,10.2,11.4,10.8,11.3,9.9,12.3,9.4,9.5,11.3,10.3,10.0,10.5,10.0,10.1,9.9,11.3,11.7,9.5,9.7,11.2,9.5,10.4,10.0,10.6,10.9,9.6,11.5,11.2,10.3,11.3,10.9,10.2,10.1,9.2,11.0,10.0,11.0,10.8,10.6,11.0,11.0,9.8,11.3,11.6,11.9,10.0,10.8,10.9,12.0,10.0,9.2,8.4,9.1,10.9,10.4,10.1,9.7,11.4,9.6,10.7,10.4,9.6,9.7,11.8,8.9,9.8,8.4,8.4,10.8,9.7,8.1,8.2,10.3,11.3,9.0,8.5],\"y0\":\" \",\"yaxis\":\"y\",\"type\":\"box\"}],                        {\"template\":{\"data\":{\"histogram2dcontour\":[{\"type\":\"histogram2dcontour\",\"colorbar\":{\"outlinewidth\":0,\"ticks\":\"\"},\"colorscale\":[[0.0,\"#0d0887\"],[0.1111111111111111,\"#46039f\"],[0.2222222222222222,\"#7201a8\"],[0.3333333333333333,\"#9c179e\"],[0.4444444444444444,\"#bd3786\"],[0.5555555555555556,\"#d8576b\"],[0.6666666666666666,\"#ed7953\"],[0.7777777777777778,\"#fb9f3a\"],[0.8888888888888888,\"#fdca26\"],[1.0,\"#f0f921\"]]}],\"choropleth\":[{\"type\":\"choropleth\",\"colorbar\":{\"outlinewidth\":0,\"ticks\":\"\"}}],\"histogram2d\":[{\"type\":\"histogram2d\",\"colorbar\":{\"outlinewidth\":0,\"ticks\":\"\"},\"colorscale\":[[0.0,\"#0d0887\"],[0.1111111111111111,\"#46039f\"],[0.2222222222222222,\"#7201a8\"],[0.3333333333333333,\"#9c179e\"],[0.4444444444444444,\"#bd3786\"],[0.5555555555555556,\"#d8576b\"],[0.6666666666666666,\"#ed7953\"],[0.7777777777777778,\"#fb9f3a\"],[0.8888888888888888,\"#fdca26\"],[1.0,\"#f0f921\"]]}],\"heatmap\":[{\"type\":\"heatmap\",\"colorbar\":{\"outlinewidth\":0,\"ticks\":\"\"},\"colorscale\":[[0.0,\"#0d0887\"],[0.1111111111111111,\"#46039f\"],[0.2222222222222222,\"#7201a8\"],[0.3333333333333333,\"#9c179e\"],[0.4444444444444444,\"#bd3786\"],[0.5555555555555556,\"#d8576b\"],[0.6666666666666666,\"#ed7953\"],[0.7777777777777778,\"#fb9f3a\"],[0.8888888888888888,\"#fdca26\"],[1.0,\"#f0f921\"]]}],\"heatmapgl\":[{\"type\":\"heatmapgl\",\"colorbar\":{\"outlinewidth\":0,\"ticks\":\"\"},\"colorscale\":[[0.0,\"#0d0887\"],[0.1111111111111111,\"#46039f\"],[0.2222222222222222,\"#7201a8\"],[0.3333333333333333,\"#9c179e\"],[0.4444444444444444,\"#bd3786\"],[0.5555555555555556,\"#d8576b\"],[0.6666666666666666,\"#ed7953\"],[0.7777777777777778,\"#fb9f3a\"],[0.8888888888888888,\"#fdca26\"],[1.0,\"#f0f921\"]]}],\"contourcarpet\":[{\"type\":\"contourcarpet\",\"colorbar\":{\"outlinewidth\":0,\"ticks\":\"\"}}],\"contour\":[{\"type\":\"contour\",\"colorbar\":{\"outlinewidth\":0,\"ticks\":\"\"},\"colorscale\":[[0.0,\"#0d0887\"],[0.1111111111111111,\"#46039f\"],[0.2222222222222222,\"#7201a8\"],[0.3333333333333333,\"#9c179e\"],[0.4444444444444444,\"#bd3786\"],[0.5555555555555556,\"#d8576b\"],[0.6666666666666666,\"#ed7953\"],[0.7777777777777778,\"#fb9f3a\"],[0.8888888888888888,\"#fdca26\"],[1.0,\"#f0f921\"]]}],\"surface\":[{\"type\":\"surface\",\"colorbar\":{\"outlinewidth\":0,\"ticks\":\"\"},\"colorscale\":[[0.0,\"#0d0887\"],[0.1111111111111111,\"#46039f\"],[0.2222222222222222,\"#7201a8\"],[0.3333333333333333,\"#9c179e\"],[0.4444444444444444,\"#bd3786\"],[0.5555555555555556,\"#d8576b\"],[0.6666666666666666,\"#ed7953\"],[0.7777777777777778,\"#fb9f3a\"],[0.8888888888888888,\"#fdca26\"],[1.0,\"#f0f921\"]]}],\"mesh3d\":[{\"type\":\"mesh3d\",\"colorbar\":{\"outlinewidth\":0,\"ticks\":\"\"}}],\"scatter\":[{\"marker\":{\"line\":{\"color\":\"#283442\"}},\"type\":\"scatter\"}],\"parcoords\":[{\"type\":\"parcoords\",\"line\":{\"colorbar\":{\"outlinewidth\":0,\"ticks\":\"\"}}}],\"scatterpolargl\":[{\"type\":\"scatterpolargl\",\"marker\":{\"colorbar\":{\"outlinewidth\":0,\"ticks\":\"\"}}}],\"bar\":[{\"error_x\":{\"color\":\"#f2f5fa\"},\"error_y\":{\"color\":\"#f2f5fa\"},\"marker\":{\"line\":{\"color\":\"rgb(17,17,17)\",\"width\":0.5},\"pattern\":{\"fillmode\":\"overlay\",\"size\":10,\"solidity\":0.2}},\"type\":\"bar\"}],\"scattergeo\":[{\"type\":\"scattergeo\",\"marker\":{\"colorbar\":{\"outlinewidth\":0,\"ticks\":\"\"}}}],\"scatterpolar\":[{\"type\":\"scatterpolar\",\"marker\":{\"colorbar\":{\"outlinewidth\":0,\"ticks\":\"\"}}}],\"histogram\":[{\"marker\":{\"pattern\":{\"fillmode\":\"overlay\",\"size\":10,\"solidity\":0.2}},\"type\":\"histogram\"}],\"scattergl\":[{\"marker\":{\"line\":{\"color\":\"#283442\"}},\"type\":\"scattergl\"}],\"scatter3d\":[{\"type\":\"scatter3d\",\"line\":{\"colorbar\":{\"outlinewidth\":0,\"ticks\":\"\"}},\"marker\":{\"colorbar\":{\"outlinewidth\":0,\"ticks\":\"\"}}}],\"scattermapbox\":[{\"type\":\"scattermapbox\",\"marker\":{\"colorbar\":{\"outlinewidth\":0,\"ticks\":\"\"}}}],\"scatterternary\":[{\"type\":\"scatterternary\",\"marker\":{\"colorbar\":{\"outlinewidth\":0,\"ticks\":\"\"}}}],\"scattercarpet\":[{\"type\":\"scattercarpet\",\"marker\":{\"colorbar\":{\"outlinewidth\":0,\"ticks\":\"\"}}}],\"carpet\":[{\"aaxis\":{\"endlinecolor\":\"#A2B1C6\",\"gridcolor\":\"#506784\",\"linecolor\":\"#506784\",\"minorgridcolor\":\"#506784\",\"startlinecolor\":\"#A2B1C6\"},\"baxis\":{\"endlinecolor\":\"#A2B1C6\",\"gridcolor\":\"#506784\",\"linecolor\":\"#506784\",\"minorgridcolor\":\"#506784\",\"startlinecolor\":\"#A2B1C6\"},\"type\":\"carpet\"}],\"table\":[{\"cells\":{\"fill\":{\"color\":\"#506784\"},\"line\":{\"color\":\"rgb(17,17,17)\"}},\"header\":{\"fill\":{\"color\":\"#2a3f5f\"},\"line\":{\"color\":\"rgb(17,17,17)\"}},\"type\":\"table\"}],\"barpolar\":[{\"marker\":{\"line\":{\"color\":\"rgb(17,17,17)\",\"width\":0.5},\"pattern\":{\"fillmode\":\"overlay\",\"size\":10,\"solidity\":0.2}},\"type\":\"barpolar\"}],\"pie\":[{\"automargin\":true,\"type\":\"pie\"}]},\"layout\":{\"autotypenumbers\":\"strict\",\"colorway\":[\"#636efa\",\"#EF553B\",\"#00cc96\",\"#ab63fa\",\"#FFA15A\",\"#19d3f3\",\"#FF6692\",\"#B6E880\",\"#FF97FF\",\"#FECB52\"],\"font\":{\"color\":\"#f2f5fa\"},\"hovermode\":\"closest\",\"hoverlabel\":{\"align\":\"left\"},\"paper_bgcolor\":\"rgb(17,17,17)\",\"plot_bgcolor\":\"rgb(17,17,17)\",\"polar\":{\"bgcolor\":\"rgb(17,17,17)\",\"angularaxis\":{\"gridcolor\":\"#506784\",\"linecolor\":\"#506784\",\"ticks\":\"\"},\"radialaxis\":{\"gridcolor\":\"#506784\",\"linecolor\":\"#506784\",\"ticks\":\"\"}},\"ternary\":{\"bgcolor\":\"rgb(17,17,17)\",\"aaxis\":{\"gridcolor\":\"#506784\",\"linecolor\":\"#506784\",\"ticks\":\"\"},\"baxis\":{\"gridcolor\":\"#506784\",\"linecolor\":\"#506784\",\"ticks\":\"\"},\"caxis\":{\"gridcolor\":\"#506784\",\"linecolor\":\"#506784\",\"ticks\":\"\"}},\"coloraxis\":{\"colorbar\":{\"outlinewidth\":0,\"ticks\":\"\"}},\"colorscale\":{\"sequential\":[[0.0,\"#0d0887\"],[0.1111111111111111,\"#46039f\"],[0.2222222222222222,\"#7201a8\"],[0.3333333333333333,\"#9c179e\"],[0.4444444444444444,\"#bd3786\"],[0.5555555555555556,\"#d8576b\"],[0.6666666666666666,\"#ed7953\"],[0.7777777777777778,\"#fb9f3a\"],[0.8888888888888888,\"#fdca26\"],[1.0,\"#f0f921\"]],\"sequentialminus\":[[0.0,\"#0d0887\"],[0.1111111111111111,\"#46039f\"],[0.2222222222222222,\"#7201a8\"],[0.3333333333333333,\"#9c179e\"],[0.4444444444444444,\"#bd3786\"],[0.5555555555555556,\"#d8576b\"],[0.6666666666666666,\"#ed7953\"],[0.7777777777777778,\"#fb9f3a\"],[0.8888888888888888,\"#fdca26\"],[1.0,\"#f0f921\"]],\"diverging\":[[0,\"#8e0152\"],[0.1,\"#c51b7d\"],[0.2,\"#de77ae\"],[0.3,\"#f1b6da\"],[0.4,\"#fde0ef\"],[0.5,\"#f7f7f7\"],[0.6,\"#e6f5d0\"],[0.7,\"#b8e186\"],[0.8,\"#7fbc41\"],[0.9,\"#4d9221\"],[1,\"#276419\"]]},\"xaxis\":{\"gridcolor\":\"#283442\",\"linecolor\":\"#506784\",\"ticks\":\"\",\"title\":{\"standoff\":15},\"zerolinecolor\":\"#283442\",\"automargin\":true,\"zerolinewidth\":2},\"yaxis\":{\"gridcolor\":\"#283442\",\"linecolor\":\"#506784\",\"ticks\":\"\",\"title\":{\"standoff\":15},\"zerolinecolor\":\"#283442\",\"automargin\":true,\"zerolinewidth\":2},\"scene\":{\"xaxis\":{\"backgroundcolor\":\"rgb(17,17,17)\",\"gridcolor\":\"#506784\",\"linecolor\":\"#506784\",\"showbackground\":true,\"ticks\":\"\",\"zerolinecolor\":\"#C8D4E3\",\"gridwidth\":2},\"yaxis\":{\"backgroundcolor\":\"rgb(17,17,17)\",\"gridcolor\":\"#506784\",\"linecolor\":\"#506784\",\"showbackground\":true,\"ticks\":\"\",\"zerolinecolor\":\"#C8D4E3\",\"gridwidth\":2},\"zaxis\":{\"backgroundcolor\":\"rgb(17,17,17)\",\"gridcolor\":\"#506784\",\"linecolor\":\"#506784\",\"showbackground\":true,\"ticks\":\"\",\"zerolinecolor\":\"#C8D4E3\",\"gridwidth\":2}},\"shapedefaults\":{\"line\":{\"color\":\"#f2f5fa\"}},\"annotationdefaults\":{\"arrowcolor\":\"#f2f5fa\",\"arrowhead\":0,\"arrowwidth\":1},\"geo\":{\"bgcolor\":\"rgb(17,17,17)\",\"landcolor\":\"rgb(17,17,17)\",\"subunitcolor\":\"#506784\",\"showland\":true,\"showlakes\":true,\"lakecolor\":\"rgb(17,17,17)\"},\"title\":{\"x\":0.05},\"updatemenudefaults\":{\"bgcolor\":\"#506784\",\"borderwidth\":0},\"sliderdefaults\":{\"bgcolor\":\"#C8D4E3\",\"borderwidth\":1,\"bordercolor\":\"rgb(17,17,17)\",\"tickwidth\":0},\"mapbox\":{\"style\":\"dark\"}}},\"xaxis\":{\"anchor\":\"y\",\"domain\":[0.0,1.0],\"title\":{\"text\":\"clusters\"}},\"yaxis\":{\"anchor\":\"x\",\"domain\":[0.0,1.0],\"title\":{\"text\":\"Moisture Percentage\"}},\"legend\":{\"tracegroupgap\":0},\"title\":{\"text\":\"Box and Whisker Plot of Moisture Percentages Grouped by Clusters\"},\"boxmode\":\"group\"},                        {\"responsive\": true}                    ).then(function(){\n                            \nvar gd = document.getElementById('6fc56a3c-8522-409d-9b56-7bd17318708d');\nvar x = new MutationObserver(function (mutations, observer) {{\n        var display = window.getComputedStyle(gd).display;\n        if (!display || display === 'none') {{\n            console.log([gd, 'removed!']);\n            Plotly.purge(gd);\n            observer.disconnect();\n        }}\n}});\n\n// Listen for the removal of the full notebook cells\nvar notebookContainer = gd.closest('#notebook-container');\nif (notebookContainer) {{\n    x.observe(notebookContainer, {childList: true});\n}}\n\n// Listen for the clearing of the current output cell\nvar outputEl = gd.closest('.output');\nif (outputEl) {{\n    x.observe(outputEl, {childList: true});\n}}\n\n                        })                };                });            </script>        </div>"
     },
     "metadata": {},
     "output_type": "display_data"
    }
   ],
   "source": [
    "# Create a box and whisker plot of moisture percentage grouped by the clusters\n",
    "\n",
    "fig = px.box(df_country, x='clusters', y='Moisture Percentage', title='Box and Whisker Plot of Moisture Percentages Grouped by Clusters')\n",
    "fig.show()"
   ],
   "metadata": {
    "collapsed": false,
    "ExecuteTime": {
     "end_time": "2023-11-23T00:59:19.502982Z",
     "start_time": "2023-11-23T00:59:19.483741Z"
    }
   },
   "id": "f83ce68fc230b2fe"
  },
  {
   "cell_type": "code",
   "execution_count": 58,
   "outputs": [
    {
     "data": {
      "application/vnd.plotly.v1+json": {
       "data": [
        {
         "alignmentgroup": "True",
         "hovertemplate": "clusters=%{x}<br>Altitude=%{y}<extra></extra>",
         "legendgroup": "",
         "marker": {
          "color": "#636efa"
         },
         "name": "",
         "notched": false,
         "offsetgroup": "",
         "orientation": "v",
         "showlegend": false,
         "x": [
          0,
          0,
          0,
          0,
          0,
          0,
          0,
          0,
          0,
          0,
          0,
          0,
          0,
          0,
          0,
          0,
          0,
          0,
          0,
          0,
          0,
          0,
          0,
          0,
          0,
          0,
          0,
          0,
          0,
          0,
          0,
          0,
          2,
          0,
          2,
          2,
          2,
          2,
          2,
          2,
          2,
          2,
          2,
          2,
          2,
          2,
          2,
          2,
          2,
          2,
          2,
          2,
          2,
          2,
          2,
          2,
          2,
          2,
          2,
          2,
          2,
          2,
          2,
          2,
          2,
          2,
          2,
          2,
          2,
          2,
          1,
          1,
          1,
          2,
          2,
          2,
          1,
          2,
          1,
          1,
          2,
          1,
          1,
          1,
          1,
          1,
          1,
          1,
          1,
          1,
          1,
          1,
          1,
          1,
          1,
          1
         ],
         "x0": " ",
         "xaxis": "x",
         "y": [
          1200.0,
          1668.0,
          1250.0,
          1200.0,
          1250.0,
          1550.0,
          2000.0,
          2000.0,
          1250.0,
          1950.0,
          1100.0,
          2000.0,
          1300.0,
          1200.0,
          1585.0,
          1900.0,
          850.0,
          1250.0,
          1300.0,
          1200.0,
          1060.0,
          200.0,
          200.0,
          668.0,
          1950.0,
          2250.0,
          1700.0,
          1200.0,
          650.0,
          850.0,
          400.0,
          1000.0,
          800.0,
          800.0,
          1600.0,
          4700.0,
          1600.0,
          375.0,
          230.0,
          1654.0,
          1300.0,
          1400.0,
          1200.0,
          1600.0,
          4895.0,
          250.0,
          700.0,
          1250.0,
          1450.0,
          520.0,
          1943.0,
          400.0,
          850.0,
          1350.0,
          2361.0,
          1600.0,
          1600.0,
          150.0,
          800.0,
          1550.0,
          1550.0,
          1675.0,
          1800.0,
          1550.0,
          1900.0,
          1600.0,
          1400.0,
          5272.5,
          2000.0,
          1250.0,
          300.0,
          325.0,
          275.0,
          1600.0,
          1700.0,
          1100.0,
          250.0,
          1302.5,
          300.0,
          750.0,
          1550.0,
          1150.0,
          250.0,
          340.0,
          275.0,
          165.0,
          465.0,
          139.0,
          140.0,
          600.0,
          460.0,
          500.0,
          1400.0,
          300.0,
          300.0,
          435.0
         ],
         "y0": " ",
         "yaxis": "y",
         "type": "box"
        }
       ],
       "layout": {
        "template": {
         "data": {
          "histogram2dcontour": [
           {
            "type": "histogram2dcontour",
            "colorbar": {
             "outlinewidth": 0,
             "ticks": ""
            },
            "colorscale": [
             [
              0.0,
              "#0d0887"
             ],
             [
              0.1111111111111111,
              "#46039f"
             ],
             [
              0.2222222222222222,
              "#7201a8"
             ],
             [
              0.3333333333333333,
              "#9c179e"
             ],
             [
              0.4444444444444444,
              "#bd3786"
             ],
             [
              0.5555555555555556,
              "#d8576b"
             ],
             [
              0.6666666666666666,
              "#ed7953"
             ],
             [
              0.7777777777777778,
              "#fb9f3a"
             ],
             [
              0.8888888888888888,
              "#fdca26"
             ],
             [
              1.0,
              "#f0f921"
             ]
            ]
           }
          ],
          "choropleth": [
           {
            "type": "choropleth",
            "colorbar": {
             "outlinewidth": 0,
             "ticks": ""
            }
           }
          ],
          "histogram2d": [
           {
            "type": "histogram2d",
            "colorbar": {
             "outlinewidth": 0,
             "ticks": ""
            },
            "colorscale": [
             [
              0.0,
              "#0d0887"
             ],
             [
              0.1111111111111111,
              "#46039f"
             ],
             [
              0.2222222222222222,
              "#7201a8"
             ],
             [
              0.3333333333333333,
              "#9c179e"
             ],
             [
              0.4444444444444444,
              "#bd3786"
             ],
             [
              0.5555555555555556,
              "#d8576b"
             ],
             [
              0.6666666666666666,
              "#ed7953"
             ],
             [
              0.7777777777777778,
              "#fb9f3a"
             ],
             [
              0.8888888888888888,
              "#fdca26"
             ],
             [
              1.0,
              "#f0f921"
             ]
            ]
           }
          ],
          "heatmap": [
           {
            "type": "heatmap",
            "colorbar": {
             "outlinewidth": 0,
             "ticks": ""
            },
            "colorscale": [
             [
              0.0,
              "#0d0887"
             ],
             [
              0.1111111111111111,
              "#46039f"
             ],
             [
              0.2222222222222222,
              "#7201a8"
             ],
             [
              0.3333333333333333,
              "#9c179e"
             ],
             [
              0.4444444444444444,
              "#bd3786"
             ],
             [
              0.5555555555555556,
              "#d8576b"
             ],
             [
              0.6666666666666666,
              "#ed7953"
             ],
             [
              0.7777777777777778,
              "#fb9f3a"
             ],
             [
              0.8888888888888888,
              "#fdca26"
             ],
             [
              1.0,
              "#f0f921"
             ]
            ]
           }
          ],
          "heatmapgl": [
           {
            "type": "heatmapgl",
            "colorbar": {
             "outlinewidth": 0,
             "ticks": ""
            },
            "colorscale": [
             [
              0.0,
              "#0d0887"
             ],
             [
              0.1111111111111111,
              "#46039f"
             ],
             [
              0.2222222222222222,
              "#7201a8"
             ],
             [
              0.3333333333333333,
              "#9c179e"
             ],
             [
              0.4444444444444444,
              "#bd3786"
             ],
             [
              0.5555555555555556,
              "#d8576b"
             ],
             [
              0.6666666666666666,
              "#ed7953"
             ],
             [
              0.7777777777777778,
              "#fb9f3a"
             ],
             [
              0.8888888888888888,
              "#fdca26"
             ],
             [
              1.0,
              "#f0f921"
             ]
            ]
           }
          ],
          "contourcarpet": [
           {
            "type": "contourcarpet",
            "colorbar": {
             "outlinewidth": 0,
             "ticks": ""
            }
           }
          ],
          "contour": [
           {
            "type": "contour",
            "colorbar": {
             "outlinewidth": 0,
             "ticks": ""
            },
            "colorscale": [
             [
              0.0,
              "#0d0887"
             ],
             [
              0.1111111111111111,
              "#46039f"
             ],
             [
              0.2222222222222222,
              "#7201a8"
             ],
             [
              0.3333333333333333,
              "#9c179e"
             ],
             [
              0.4444444444444444,
              "#bd3786"
             ],
             [
              0.5555555555555556,
              "#d8576b"
             ],
             [
              0.6666666666666666,
              "#ed7953"
             ],
             [
              0.7777777777777778,
              "#fb9f3a"
             ],
             [
              0.8888888888888888,
              "#fdca26"
             ],
             [
              1.0,
              "#f0f921"
             ]
            ]
           }
          ],
          "surface": [
           {
            "type": "surface",
            "colorbar": {
             "outlinewidth": 0,
             "ticks": ""
            },
            "colorscale": [
             [
              0.0,
              "#0d0887"
             ],
             [
              0.1111111111111111,
              "#46039f"
             ],
             [
              0.2222222222222222,
              "#7201a8"
             ],
             [
              0.3333333333333333,
              "#9c179e"
             ],
             [
              0.4444444444444444,
              "#bd3786"
             ],
             [
              0.5555555555555556,
              "#d8576b"
             ],
             [
              0.6666666666666666,
              "#ed7953"
             ],
             [
              0.7777777777777778,
              "#fb9f3a"
             ],
             [
              0.8888888888888888,
              "#fdca26"
             ],
             [
              1.0,
              "#f0f921"
             ]
            ]
           }
          ],
          "mesh3d": [
           {
            "type": "mesh3d",
            "colorbar": {
             "outlinewidth": 0,
             "ticks": ""
            }
           }
          ],
          "scatter": [
           {
            "marker": {
             "line": {
              "color": "#283442"
             }
            },
            "type": "scatter"
           }
          ],
          "parcoords": [
           {
            "type": "parcoords",
            "line": {
             "colorbar": {
              "outlinewidth": 0,
              "ticks": ""
             }
            }
           }
          ],
          "scatterpolargl": [
           {
            "type": "scatterpolargl",
            "marker": {
             "colorbar": {
              "outlinewidth": 0,
              "ticks": ""
             }
            }
           }
          ],
          "bar": [
           {
            "error_x": {
             "color": "#f2f5fa"
            },
            "error_y": {
             "color": "#f2f5fa"
            },
            "marker": {
             "line": {
              "color": "rgb(17,17,17)",
              "width": 0.5
             },
             "pattern": {
              "fillmode": "overlay",
              "size": 10,
              "solidity": 0.2
             }
            },
            "type": "bar"
           }
          ],
          "scattergeo": [
           {
            "type": "scattergeo",
            "marker": {
             "colorbar": {
              "outlinewidth": 0,
              "ticks": ""
             }
            }
           }
          ],
          "scatterpolar": [
           {
            "type": "scatterpolar",
            "marker": {
             "colorbar": {
              "outlinewidth": 0,
              "ticks": ""
             }
            }
           }
          ],
          "histogram": [
           {
            "marker": {
             "pattern": {
              "fillmode": "overlay",
              "size": 10,
              "solidity": 0.2
             }
            },
            "type": "histogram"
           }
          ],
          "scattergl": [
           {
            "marker": {
             "line": {
              "color": "#283442"
             }
            },
            "type": "scattergl"
           }
          ],
          "scatter3d": [
           {
            "type": "scatter3d",
            "line": {
             "colorbar": {
              "outlinewidth": 0,
              "ticks": ""
             }
            },
            "marker": {
             "colorbar": {
              "outlinewidth": 0,
              "ticks": ""
             }
            }
           }
          ],
          "scattermapbox": [
           {
            "type": "scattermapbox",
            "marker": {
             "colorbar": {
              "outlinewidth": 0,
              "ticks": ""
             }
            }
           }
          ],
          "scatterternary": [
           {
            "type": "scatterternary",
            "marker": {
             "colorbar": {
              "outlinewidth": 0,
              "ticks": ""
             }
            }
           }
          ],
          "scattercarpet": [
           {
            "type": "scattercarpet",
            "marker": {
             "colorbar": {
              "outlinewidth": 0,
              "ticks": ""
             }
            }
           }
          ],
          "carpet": [
           {
            "aaxis": {
             "endlinecolor": "#A2B1C6",
             "gridcolor": "#506784",
             "linecolor": "#506784",
             "minorgridcolor": "#506784",
             "startlinecolor": "#A2B1C6"
            },
            "baxis": {
             "endlinecolor": "#A2B1C6",
             "gridcolor": "#506784",
             "linecolor": "#506784",
             "minorgridcolor": "#506784",
             "startlinecolor": "#A2B1C6"
            },
            "type": "carpet"
           }
          ],
          "table": [
           {
            "cells": {
             "fill": {
              "color": "#506784"
             },
             "line": {
              "color": "rgb(17,17,17)"
             }
            },
            "header": {
             "fill": {
              "color": "#2a3f5f"
             },
             "line": {
              "color": "rgb(17,17,17)"
             }
            },
            "type": "table"
           }
          ],
          "barpolar": [
           {
            "marker": {
             "line": {
              "color": "rgb(17,17,17)",
              "width": 0.5
             },
             "pattern": {
              "fillmode": "overlay",
              "size": 10,
              "solidity": 0.2
             }
            },
            "type": "barpolar"
           }
          ],
          "pie": [
           {
            "automargin": true,
            "type": "pie"
           }
          ]
         },
         "layout": {
          "autotypenumbers": "strict",
          "colorway": [
           "#636efa",
           "#EF553B",
           "#00cc96",
           "#ab63fa",
           "#FFA15A",
           "#19d3f3",
           "#FF6692",
           "#B6E880",
           "#FF97FF",
           "#FECB52"
          ],
          "font": {
           "color": "#f2f5fa"
          },
          "hovermode": "closest",
          "hoverlabel": {
           "align": "left"
          },
          "paper_bgcolor": "rgb(17,17,17)",
          "plot_bgcolor": "rgb(17,17,17)",
          "polar": {
           "bgcolor": "rgb(17,17,17)",
           "angularaxis": {
            "gridcolor": "#506784",
            "linecolor": "#506784",
            "ticks": ""
           },
           "radialaxis": {
            "gridcolor": "#506784",
            "linecolor": "#506784",
            "ticks": ""
           }
          },
          "ternary": {
           "bgcolor": "rgb(17,17,17)",
           "aaxis": {
            "gridcolor": "#506784",
            "linecolor": "#506784",
            "ticks": ""
           },
           "baxis": {
            "gridcolor": "#506784",
            "linecolor": "#506784",
            "ticks": ""
           },
           "caxis": {
            "gridcolor": "#506784",
            "linecolor": "#506784",
            "ticks": ""
           }
          },
          "coloraxis": {
           "colorbar": {
            "outlinewidth": 0,
            "ticks": ""
           }
          },
          "colorscale": {
           "sequential": [
            [
             0.0,
             "#0d0887"
            ],
            [
             0.1111111111111111,
             "#46039f"
            ],
            [
             0.2222222222222222,
             "#7201a8"
            ],
            [
             0.3333333333333333,
             "#9c179e"
            ],
            [
             0.4444444444444444,
             "#bd3786"
            ],
            [
             0.5555555555555556,
             "#d8576b"
            ],
            [
             0.6666666666666666,
             "#ed7953"
            ],
            [
             0.7777777777777778,
             "#fb9f3a"
            ],
            [
             0.8888888888888888,
             "#fdca26"
            ],
            [
             1.0,
             "#f0f921"
            ]
           ],
           "sequentialminus": [
            [
             0.0,
             "#0d0887"
            ],
            [
             0.1111111111111111,
             "#46039f"
            ],
            [
             0.2222222222222222,
             "#7201a8"
            ],
            [
             0.3333333333333333,
             "#9c179e"
            ],
            [
             0.4444444444444444,
             "#bd3786"
            ],
            [
             0.5555555555555556,
             "#d8576b"
            ],
            [
             0.6666666666666666,
             "#ed7953"
            ],
            [
             0.7777777777777778,
             "#fb9f3a"
            ],
            [
             0.8888888888888888,
             "#fdca26"
            ],
            [
             1.0,
             "#f0f921"
            ]
           ],
           "diverging": [
            [
             0,
             "#8e0152"
            ],
            [
             0.1,
             "#c51b7d"
            ],
            [
             0.2,
             "#de77ae"
            ],
            [
             0.3,
             "#f1b6da"
            ],
            [
             0.4,
             "#fde0ef"
            ],
            [
             0.5,
             "#f7f7f7"
            ],
            [
             0.6,
             "#e6f5d0"
            ],
            [
             0.7,
             "#b8e186"
            ],
            [
             0.8,
             "#7fbc41"
            ],
            [
             0.9,
             "#4d9221"
            ],
            [
             1,
             "#276419"
            ]
           ]
          },
          "xaxis": {
           "gridcolor": "#283442",
           "linecolor": "#506784",
           "ticks": "",
           "title": {
            "standoff": 15
           },
           "zerolinecolor": "#283442",
           "automargin": true,
           "zerolinewidth": 2
          },
          "yaxis": {
           "gridcolor": "#283442",
           "linecolor": "#506784",
           "ticks": "",
           "title": {
            "standoff": 15
           },
           "zerolinecolor": "#283442",
           "automargin": true,
           "zerolinewidth": 2
          },
          "scene": {
           "xaxis": {
            "backgroundcolor": "rgb(17,17,17)",
            "gridcolor": "#506784",
            "linecolor": "#506784",
            "showbackground": true,
            "ticks": "",
            "zerolinecolor": "#C8D4E3",
            "gridwidth": 2
           },
           "yaxis": {
            "backgroundcolor": "rgb(17,17,17)",
            "gridcolor": "#506784",
            "linecolor": "#506784",
            "showbackground": true,
            "ticks": "",
            "zerolinecolor": "#C8D4E3",
            "gridwidth": 2
           },
           "zaxis": {
            "backgroundcolor": "rgb(17,17,17)",
            "gridcolor": "#506784",
            "linecolor": "#506784",
            "showbackground": true,
            "ticks": "",
            "zerolinecolor": "#C8D4E3",
            "gridwidth": 2
           }
          },
          "shapedefaults": {
           "line": {
            "color": "#f2f5fa"
           }
          },
          "annotationdefaults": {
           "arrowcolor": "#f2f5fa",
           "arrowhead": 0,
           "arrowwidth": 1
          },
          "geo": {
           "bgcolor": "rgb(17,17,17)",
           "landcolor": "rgb(17,17,17)",
           "subunitcolor": "#506784",
           "showland": true,
           "showlakes": true,
           "lakecolor": "rgb(17,17,17)"
          },
          "title": {
           "x": 0.05
          },
          "updatemenudefaults": {
           "bgcolor": "#506784",
           "borderwidth": 0
          },
          "sliderdefaults": {
           "bgcolor": "#C8D4E3",
           "borderwidth": 1,
           "bordercolor": "rgb(17,17,17)",
           "tickwidth": 0
          },
          "mapbox": {
           "style": "dark"
          }
         }
        },
        "xaxis": {
         "anchor": "y",
         "domain": [
          0.0,
          1.0
         ],
         "title": {
          "text": "clusters"
         }
        },
        "yaxis": {
         "anchor": "x",
         "domain": [
          0.0,
          1.0
         ],
         "title": {
          "text": "Altitude"
         }
        },
        "legend": {
         "tracegroupgap": 0
        },
        "title": {
         "text": "Box and Whisker Plot of Altitude Grouped by Clusters"
        },
        "boxmode": "group"
       },
       "config": {
        "plotlyServerURL": "https://plot.ly"
       }
      },
      "text/html": "<div>                            <div id=\"8e80d259-57ef-4e63-91aa-ed9e15290f81\" class=\"plotly-graph-div\" style=\"height:525px; width:100%;\"></div>            <script type=\"text/javascript\">                require([\"plotly\"], function(Plotly) {                    window.PLOTLYENV=window.PLOTLYENV || {};                                    if (document.getElementById(\"8e80d259-57ef-4e63-91aa-ed9e15290f81\")) {                    Plotly.newPlot(                        \"8e80d259-57ef-4e63-91aa-ed9e15290f81\",                        [{\"alignmentgroup\":\"True\",\"hovertemplate\":\"clusters=%{x}\\u003cbr\\u003eAltitude=%{y}\\u003cextra\\u003e\\u003c\\u002fextra\\u003e\",\"legendgroup\":\"\",\"marker\":{\"color\":\"#636efa\"},\"name\":\"\",\"notched\":false,\"offsetgroup\":\"\",\"orientation\":\"v\",\"showlegend\":false,\"x\":[0,0,0,0,0,0,0,0,0,0,0,0,0,0,0,0,0,0,0,0,0,0,0,0,0,0,0,0,0,0,0,0,2,0,2,2,2,2,2,2,2,2,2,2,2,2,2,2,2,2,2,2,2,2,2,2,2,2,2,2,2,2,2,2,2,2,2,2,2,2,1,1,1,2,2,2,1,2,1,1,2,1,1,1,1,1,1,1,1,1,1,1,1,1,1,1],\"x0\":\" \",\"xaxis\":\"x\",\"y\":[1200.0,1668.0,1250.0,1200.0,1250.0,1550.0,2000.0,2000.0,1250.0,1950.0,1100.0,2000.0,1300.0,1200.0,1585.0,1900.0,850.0,1250.0,1300.0,1200.0,1060.0,200.0,200.0,668.0,1950.0,2250.0,1700.0,1200.0,650.0,850.0,400.0,1000.0,800.0,800.0,1600.0,4700.0,1600.0,375.0,230.0,1654.0,1300.0,1400.0,1200.0,1600.0,4895.0,250.0,700.0,1250.0,1450.0,520.0,1943.0,400.0,850.0,1350.0,2361.0,1600.0,1600.0,150.0,800.0,1550.0,1550.0,1675.0,1800.0,1550.0,1900.0,1600.0,1400.0,5272.5,2000.0,1250.0,300.0,325.0,275.0,1600.0,1700.0,1100.0,250.0,1302.5,300.0,750.0,1550.0,1150.0,250.0,340.0,275.0,165.0,465.0,139.0,140.0,600.0,460.0,500.0,1400.0,300.0,300.0,435.0],\"y0\":\" \",\"yaxis\":\"y\",\"type\":\"box\"}],                        {\"template\":{\"data\":{\"histogram2dcontour\":[{\"type\":\"histogram2dcontour\",\"colorbar\":{\"outlinewidth\":0,\"ticks\":\"\"},\"colorscale\":[[0.0,\"#0d0887\"],[0.1111111111111111,\"#46039f\"],[0.2222222222222222,\"#7201a8\"],[0.3333333333333333,\"#9c179e\"],[0.4444444444444444,\"#bd3786\"],[0.5555555555555556,\"#d8576b\"],[0.6666666666666666,\"#ed7953\"],[0.7777777777777778,\"#fb9f3a\"],[0.8888888888888888,\"#fdca26\"],[1.0,\"#f0f921\"]]}],\"choropleth\":[{\"type\":\"choropleth\",\"colorbar\":{\"outlinewidth\":0,\"ticks\":\"\"}}],\"histogram2d\":[{\"type\":\"histogram2d\",\"colorbar\":{\"outlinewidth\":0,\"ticks\":\"\"},\"colorscale\":[[0.0,\"#0d0887\"],[0.1111111111111111,\"#46039f\"],[0.2222222222222222,\"#7201a8\"],[0.3333333333333333,\"#9c179e\"],[0.4444444444444444,\"#bd3786\"],[0.5555555555555556,\"#d8576b\"],[0.6666666666666666,\"#ed7953\"],[0.7777777777777778,\"#fb9f3a\"],[0.8888888888888888,\"#fdca26\"],[1.0,\"#f0f921\"]]}],\"heatmap\":[{\"type\":\"heatmap\",\"colorbar\":{\"outlinewidth\":0,\"ticks\":\"\"},\"colorscale\":[[0.0,\"#0d0887\"],[0.1111111111111111,\"#46039f\"],[0.2222222222222222,\"#7201a8\"],[0.3333333333333333,\"#9c179e\"],[0.4444444444444444,\"#bd3786\"],[0.5555555555555556,\"#d8576b\"],[0.6666666666666666,\"#ed7953\"],[0.7777777777777778,\"#fb9f3a\"],[0.8888888888888888,\"#fdca26\"],[1.0,\"#f0f921\"]]}],\"heatmapgl\":[{\"type\":\"heatmapgl\",\"colorbar\":{\"outlinewidth\":0,\"ticks\":\"\"},\"colorscale\":[[0.0,\"#0d0887\"],[0.1111111111111111,\"#46039f\"],[0.2222222222222222,\"#7201a8\"],[0.3333333333333333,\"#9c179e\"],[0.4444444444444444,\"#bd3786\"],[0.5555555555555556,\"#d8576b\"],[0.6666666666666666,\"#ed7953\"],[0.7777777777777778,\"#fb9f3a\"],[0.8888888888888888,\"#fdca26\"],[1.0,\"#f0f921\"]]}],\"contourcarpet\":[{\"type\":\"contourcarpet\",\"colorbar\":{\"outlinewidth\":0,\"ticks\":\"\"}}],\"contour\":[{\"type\":\"contour\",\"colorbar\":{\"outlinewidth\":0,\"ticks\":\"\"},\"colorscale\":[[0.0,\"#0d0887\"],[0.1111111111111111,\"#46039f\"],[0.2222222222222222,\"#7201a8\"],[0.3333333333333333,\"#9c179e\"],[0.4444444444444444,\"#bd3786\"],[0.5555555555555556,\"#d8576b\"],[0.6666666666666666,\"#ed7953\"],[0.7777777777777778,\"#fb9f3a\"],[0.8888888888888888,\"#fdca26\"],[1.0,\"#f0f921\"]]}],\"surface\":[{\"type\":\"surface\",\"colorbar\":{\"outlinewidth\":0,\"ticks\":\"\"},\"colorscale\":[[0.0,\"#0d0887\"],[0.1111111111111111,\"#46039f\"],[0.2222222222222222,\"#7201a8\"],[0.3333333333333333,\"#9c179e\"],[0.4444444444444444,\"#bd3786\"],[0.5555555555555556,\"#d8576b\"],[0.6666666666666666,\"#ed7953\"],[0.7777777777777778,\"#fb9f3a\"],[0.8888888888888888,\"#fdca26\"],[1.0,\"#f0f921\"]]}],\"mesh3d\":[{\"type\":\"mesh3d\",\"colorbar\":{\"outlinewidth\":0,\"ticks\":\"\"}}],\"scatter\":[{\"marker\":{\"line\":{\"color\":\"#283442\"}},\"type\":\"scatter\"}],\"parcoords\":[{\"type\":\"parcoords\",\"line\":{\"colorbar\":{\"outlinewidth\":0,\"ticks\":\"\"}}}],\"scatterpolargl\":[{\"type\":\"scatterpolargl\",\"marker\":{\"colorbar\":{\"outlinewidth\":0,\"ticks\":\"\"}}}],\"bar\":[{\"error_x\":{\"color\":\"#f2f5fa\"},\"error_y\":{\"color\":\"#f2f5fa\"},\"marker\":{\"line\":{\"color\":\"rgb(17,17,17)\",\"width\":0.5},\"pattern\":{\"fillmode\":\"overlay\",\"size\":10,\"solidity\":0.2}},\"type\":\"bar\"}],\"scattergeo\":[{\"type\":\"scattergeo\",\"marker\":{\"colorbar\":{\"outlinewidth\":0,\"ticks\":\"\"}}}],\"scatterpolar\":[{\"type\":\"scatterpolar\",\"marker\":{\"colorbar\":{\"outlinewidth\":0,\"ticks\":\"\"}}}],\"histogram\":[{\"marker\":{\"pattern\":{\"fillmode\":\"overlay\",\"size\":10,\"solidity\":0.2}},\"type\":\"histogram\"}],\"scattergl\":[{\"marker\":{\"line\":{\"color\":\"#283442\"}},\"type\":\"scattergl\"}],\"scatter3d\":[{\"type\":\"scatter3d\",\"line\":{\"colorbar\":{\"outlinewidth\":0,\"ticks\":\"\"}},\"marker\":{\"colorbar\":{\"outlinewidth\":0,\"ticks\":\"\"}}}],\"scattermapbox\":[{\"type\":\"scattermapbox\",\"marker\":{\"colorbar\":{\"outlinewidth\":0,\"ticks\":\"\"}}}],\"scatterternary\":[{\"type\":\"scatterternary\",\"marker\":{\"colorbar\":{\"outlinewidth\":0,\"ticks\":\"\"}}}],\"scattercarpet\":[{\"type\":\"scattercarpet\",\"marker\":{\"colorbar\":{\"outlinewidth\":0,\"ticks\":\"\"}}}],\"carpet\":[{\"aaxis\":{\"endlinecolor\":\"#A2B1C6\",\"gridcolor\":\"#506784\",\"linecolor\":\"#506784\",\"minorgridcolor\":\"#506784\",\"startlinecolor\":\"#A2B1C6\"},\"baxis\":{\"endlinecolor\":\"#A2B1C6\",\"gridcolor\":\"#506784\",\"linecolor\":\"#506784\",\"minorgridcolor\":\"#506784\",\"startlinecolor\":\"#A2B1C6\"},\"type\":\"carpet\"}],\"table\":[{\"cells\":{\"fill\":{\"color\":\"#506784\"},\"line\":{\"color\":\"rgb(17,17,17)\"}},\"header\":{\"fill\":{\"color\":\"#2a3f5f\"},\"line\":{\"color\":\"rgb(17,17,17)\"}},\"type\":\"table\"}],\"barpolar\":[{\"marker\":{\"line\":{\"color\":\"rgb(17,17,17)\",\"width\":0.5},\"pattern\":{\"fillmode\":\"overlay\",\"size\":10,\"solidity\":0.2}},\"type\":\"barpolar\"}],\"pie\":[{\"automargin\":true,\"type\":\"pie\"}]},\"layout\":{\"autotypenumbers\":\"strict\",\"colorway\":[\"#636efa\",\"#EF553B\",\"#00cc96\",\"#ab63fa\",\"#FFA15A\",\"#19d3f3\",\"#FF6692\",\"#B6E880\",\"#FF97FF\",\"#FECB52\"],\"font\":{\"color\":\"#f2f5fa\"},\"hovermode\":\"closest\",\"hoverlabel\":{\"align\":\"left\"},\"paper_bgcolor\":\"rgb(17,17,17)\",\"plot_bgcolor\":\"rgb(17,17,17)\",\"polar\":{\"bgcolor\":\"rgb(17,17,17)\",\"angularaxis\":{\"gridcolor\":\"#506784\",\"linecolor\":\"#506784\",\"ticks\":\"\"},\"radialaxis\":{\"gridcolor\":\"#506784\",\"linecolor\":\"#506784\",\"ticks\":\"\"}},\"ternary\":{\"bgcolor\":\"rgb(17,17,17)\",\"aaxis\":{\"gridcolor\":\"#506784\",\"linecolor\":\"#506784\",\"ticks\":\"\"},\"baxis\":{\"gridcolor\":\"#506784\",\"linecolor\":\"#506784\",\"ticks\":\"\"},\"caxis\":{\"gridcolor\":\"#506784\",\"linecolor\":\"#506784\",\"ticks\":\"\"}},\"coloraxis\":{\"colorbar\":{\"outlinewidth\":0,\"ticks\":\"\"}},\"colorscale\":{\"sequential\":[[0.0,\"#0d0887\"],[0.1111111111111111,\"#46039f\"],[0.2222222222222222,\"#7201a8\"],[0.3333333333333333,\"#9c179e\"],[0.4444444444444444,\"#bd3786\"],[0.5555555555555556,\"#d8576b\"],[0.6666666666666666,\"#ed7953\"],[0.7777777777777778,\"#fb9f3a\"],[0.8888888888888888,\"#fdca26\"],[1.0,\"#f0f921\"]],\"sequentialminus\":[[0.0,\"#0d0887\"],[0.1111111111111111,\"#46039f\"],[0.2222222222222222,\"#7201a8\"],[0.3333333333333333,\"#9c179e\"],[0.4444444444444444,\"#bd3786\"],[0.5555555555555556,\"#d8576b\"],[0.6666666666666666,\"#ed7953\"],[0.7777777777777778,\"#fb9f3a\"],[0.8888888888888888,\"#fdca26\"],[1.0,\"#f0f921\"]],\"diverging\":[[0,\"#8e0152\"],[0.1,\"#c51b7d\"],[0.2,\"#de77ae\"],[0.3,\"#f1b6da\"],[0.4,\"#fde0ef\"],[0.5,\"#f7f7f7\"],[0.6,\"#e6f5d0\"],[0.7,\"#b8e186\"],[0.8,\"#7fbc41\"],[0.9,\"#4d9221\"],[1,\"#276419\"]]},\"xaxis\":{\"gridcolor\":\"#283442\",\"linecolor\":\"#506784\",\"ticks\":\"\",\"title\":{\"standoff\":15},\"zerolinecolor\":\"#283442\",\"automargin\":true,\"zerolinewidth\":2},\"yaxis\":{\"gridcolor\":\"#283442\",\"linecolor\":\"#506784\",\"ticks\":\"\",\"title\":{\"standoff\":15},\"zerolinecolor\":\"#283442\",\"automargin\":true,\"zerolinewidth\":2},\"scene\":{\"xaxis\":{\"backgroundcolor\":\"rgb(17,17,17)\",\"gridcolor\":\"#506784\",\"linecolor\":\"#506784\",\"showbackground\":true,\"ticks\":\"\",\"zerolinecolor\":\"#C8D4E3\",\"gridwidth\":2},\"yaxis\":{\"backgroundcolor\":\"rgb(17,17,17)\",\"gridcolor\":\"#506784\",\"linecolor\":\"#506784\",\"showbackground\":true,\"ticks\":\"\",\"zerolinecolor\":\"#C8D4E3\",\"gridwidth\":2},\"zaxis\":{\"backgroundcolor\":\"rgb(17,17,17)\",\"gridcolor\":\"#506784\",\"linecolor\":\"#506784\",\"showbackground\":true,\"ticks\":\"\",\"zerolinecolor\":\"#C8D4E3\",\"gridwidth\":2}},\"shapedefaults\":{\"line\":{\"color\":\"#f2f5fa\"}},\"annotationdefaults\":{\"arrowcolor\":\"#f2f5fa\",\"arrowhead\":0,\"arrowwidth\":1},\"geo\":{\"bgcolor\":\"rgb(17,17,17)\",\"landcolor\":\"rgb(17,17,17)\",\"subunitcolor\":\"#506784\",\"showland\":true,\"showlakes\":true,\"lakecolor\":\"rgb(17,17,17)\"},\"title\":{\"x\":0.05},\"updatemenudefaults\":{\"bgcolor\":\"#506784\",\"borderwidth\":0},\"sliderdefaults\":{\"bgcolor\":\"#C8D4E3\",\"borderwidth\":1,\"bordercolor\":\"rgb(17,17,17)\",\"tickwidth\":0},\"mapbox\":{\"style\":\"dark\"}}},\"xaxis\":{\"anchor\":\"y\",\"domain\":[0.0,1.0],\"title\":{\"text\":\"clusters\"}},\"yaxis\":{\"anchor\":\"x\",\"domain\":[0.0,1.0],\"title\":{\"text\":\"Altitude\"}},\"legend\":{\"tracegroupgap\":0},\"title\":{\"text\":\"Box and Whisker Plot of Altitude Grouped by Clusters\"},\"boxmode\":\"group\"},                        {\"responsive\": true}                    ).then(function(){\n                            \nvar gd = document.getElementById('8e80d259-57ef-4e63-91aa-ed9e15290f81');\nvar x = new MutationObserver(function (mutations, observer) {{\n        var display = window.getComputedStyle(gd).display;\n        if (!display || display === 'none') {{\n            console.log([gd, 'removed!']);\n            Plotly.purge(gd);\n            observer.disconnect();\n        }}\n}});\n\n// Listen for the removal of the full notebook cells\nvar notebookContainer = gd.closest('#notebook-container');\nif (notebookContainer) {{\n    x.observe(notebookContainer, {childList: true});\n}}\n\n// Listen for the clearing of the current output cell\nvar outputEl = gd.closest('.output');\nif (outputEl) {{\n    x.observe(outputEl, {childList: true});\n}}\n\n                        })                };                });            </script>        </div>"
     },
     "metadata": {},
     "output_type": "display_data"
    }
   ],
   "source": [
    "# Create a box and whisker plot of altitude grouped by the clusters\n",
    "\n",
    "fig = px.box(df_country, x='clusters', y='Altitude', title='Box and Whisker Plot of Altitude Grouped by Clusters')\n",
    "fig.show()"
   ],
   "metadata": {
    "collapsed": false,
    "ExecuteTime": {
     "end_time": "2023-11-23T01:00:00.428779Z",
     "start_time": "2023-11-23T01:00:00.399807Z"
    }
   },
   "id": "494b047c9c8e6896"
  },
  {
   "cell_type": "code",
   "execution_count": 59,
   "outputs": [
    {
     "data": {
      "application/vnd.plotly.v1+json": {
       "data": [
        {
         "alignmentgroup": "True",
         "hovertemplate": "clusters=%{x}<br>Altitude=%{y}<extra></extra>",
         "legendgroup": "",
         "marker": {
          "color": "#636efa"
         },
         "name": "",
         "notched": false,
         "offsetgroup": "",
         "orientation": "v",
         "showlegend": false,
         "x": [
          0,
          0,
          0,
          0,
          0,
          0,
          0,
          0,
          0,
          0,
          0,
          0,
          0,
          0,
          0,
          0,
          0,
          0,
          0,
          0,
          0,
          0,
          0,
          0,
          0,
          0,
          0,
          0,
          0,
          0,
          0,
          0,
          2,
          0,
          2,
          2,
          2,
          2,
          2,
          2,
          2,
          2,
          2,
          2,
          2,
          2,
          2,
          2,
          2,
          2,
          2,
          2,
          2,
          2,
          2,
          2,
          2,
          2,
          2,
          2,
          2,
          2,
          2,
          2,
          2,
          2,
          2,
          1,
          1,
          1,
          2,
          2,
          2,
          1,
          2,
          1,
          1,
          2,
          1,
          1,
          1,
          1,
          1,
          1,
          1,
          1,
          1,
          1,
          1,
          1,
          1,
          1,
          1
         ],
         "x0": " ",
         "xaxis": "x",
         "y": [
          1200.0,
          1668.0,
          1250.0,
          1200.0,
          1250.0,
          1550.0,
          2000.0,
          2000.0,
          1250.0,
          1950.0,
          1100.0,
          2000.0,
          1300.0,
          1200.0,
          1585.0,
          1900.0,
          850.0,
          1250.0,
          1300.0,
          1200.0,
          1060.0,
          200.0,
          200.0,
          668.0,
          1950.0,
          2250.0,
          1700.0,
          1200.0,
          650.0,
          850.0,
          400.0,
          1000.0,
          800.0,
          800.0,
          1600.0,
          1600.0,
          375.0,
          230.0,
          1654.0,
          1300.0,
          1400.0,
          1200.0,
          1600.0,
          250.0,
          700.0,
          1250.0,
          1450.0,
          520.0,
          1943.0,
          400.0,
          850.0,
          1350.0,
          2361.0,
          1600.0,
          1600.0,
          150.0,
          800.0,
          1550.0,
          1550.0,
          1675.0,
          1800.0,
          1550.0,
          1900.0,
          1600.0,
          1400.0,
          2000.0,
          1250.0,
          300.0,
          325.0,
          275.0,
          1600.0,
          1700.0,
          1100.0,
          250.0,
          1302.5,
          300.0,
          750.0,
          1550.0,
          1150.0,
          250.0,
          340.0,
          275.0,
          165.0,
          465.0,
          139.0,
          140.0,
          600.0,
          460.0,
          500.0,
          1400.0,
          300.0,
          300.0,
          435.0
         ],
         "y0": " ",
         "yaxis": "y",
         "type": "box"
        }
       ],
       "layout": {
        "template": {
         "data": {
          "histogram2dcontour": [
           {
            "type": "histogram2dcontour",
            "colorbar": {
             "outlinewidth": 0,
             "ticks": ""
            },
            "colorscale": [
             [
              0.0,
              "#0d0887"
             ],
             [
              0.1111111111111111,
              "#46039f"
             ],
             [
              0.2222222222222222,
              "#7201a8"
             ],
             [
              0.3333333333333333,
              "#9c179e"
             ],
             [
              0.4444444444444444,
              "#bd3786"
             ],
             [
              0.5555555555555556,
              "#d8576b"
             ],
             [
              0.6666666666666666,
              "#ed7953"
             ],
             [
              0.7777777777777778,
              "#fb9f3a"
             ],
             [
              0.8888888888888888,
              "#fdca26"
             ],
             [
              1.0,
              "#f0f921"
             ]
            ]
           }
          ],
          "choropleth": [
           {
            "type": "choropleth",
            "colorbar": {
             "outlinewidth": 0,
             "ticks": ""
            }
           }
          ],
          "histogram2d": [
           {
            "type": "histogram2d",
            "colorbar": {
             "outlinewidth": 0,
             "ticks": ""
            },
            "colorscale": [
             [
              0.0,
              "#0d0887"
             ],
             [
              0.1111111111111111,
              "#46039f"
             ],
             [
              0.2222222222222222,
              "#7201a8"
             ],
             [
              0.3333333333333333,
              "#9c179e"
             ],
             [
              0.4444444444444444,
              "#bd3786"
             ],
             [
              0.5555555555555556,
              "#d8576b"
             ],
             [
              0.6666666666666666,
              "#ed7953"
             ],
             [
              0.7777777777777778,
              "#fb9f3a"
             ],
             [
              0.8888888888888888,
              "#fdca26"
             ],
             [
              1.0,
              "#f0f921"
             ]
            ]
           }
          ],
          "heatmap": [
           {
            "type": "heatmap",
            "colorbar": {
             "outlinewidth": 0,
             "ticks": ""
            },
            "colorscale": [
             [
              0.0,
              "#0d0887"
             ],
             [
              0.1111111111111111,
              "#46039f"
             ],
             [
              0.2222222222222222,
              "#7201a8"
             ],
             [
              0.3333333333333333,
              "#9c179e"
             ],
             [
              0.4444444444444444,
              "#bd3786"
             ],
             [
              0.5555555555555556,
              "#d8576b"
             ],
             [
              0.6666666666666666,
              "#ed7953"
             ],
             [
              0.7777777777777778,
              "#fb9f3a"
             ],
             [
              0.8888888888888888,
              "#fdca26"
             ],
             [
              1.0,
              "#f0f921"
             ]
            ]
           }
          ],
          "heatmapgl": [
           {
            "type": "heatmapgl",
            "colorbar": {
             "outlinewidth": 0,
             "ticks": ""
            },
            "colorscale": [
             [
              0.0,
              "#0d0887"
             ],
             [
              0.1111111111111111,
              "#46039f"
             ],
             [
              0.2222222222222222,
              "#7201a8"
             ],
             [
              0.3333333333333333,
              "#9c179e"
             ],
             [
              0.4444444444444444,
              "#bd3786"
             ],
             [
              0.5555555555555556,
              "#d8576b"
             ],
             [
              0.6666666666666666,
              "#ed7953"
             ],
             [
              0.7777777777777778,
              "#fb9f3a"
             ],
             [
              0.8888888888888888,
              "#fdca26"
             ],
             [
              1.0,
              "#f0f921"
             ]
            ]
           }
          ],
          "contourcarpet": [
           {
            "type": "contourcarpet",
            "colorbar": {
             "outlinewidth": 0,
             "ticks": ""
            }
           }
          ],
          "contour": [
           {
            "type": "contour",
            "colorbar": {
             "outlinewidth": 0,
             "ticks": ""
            },
            "colorscale": [
             [
              0.0,
              "#0d0887"
             ],
             [
              0.1111111111111111,
              "#46039f"
             ],
             [
              0.2222222222222222,
              "#7201a8"
             ],
             [
              0.3333333333333333,
              "#9c179e"
             ],
             [
              0.4444444444444444,
              "#bd3786"
             ],
             [
              0.5555555555555556,
              "#d8576b"
             ],
             [
              0.6666666666666666,
              "#ed7953"
             ],
             [
              0.7777777777777778,
              "#fb9f3a"
             ],
             [
              0.8888888888888888,
              "#fdca26"
             ],
             [
              1.0,
              "#f0f921"
             ]
            ]
           }
          ],
          "surface": [
           {
            "type": "surface",
            "colorbar": {
             "outlinewidth": 0,
             "ticks": ""
            },
            "colorscale": [
             [
              0.0,
              "#0d0887"
             ],
             [
              0.1111111111111111,
              "#46039f"
             ],
             [
              0.2222222222222222,
              "#7201a8"
             ],
             [
              0.3333333333333333,
              "#9c179e"
             ],
             [
              0.4444444444444444,
              "#bd3786"
             ],
             [
              0.5555555555555556,
              "#d8576b"
             ],
             [
              0.6666666666666666,
              "#ed7953"
             ],
             [
              0.7777777777777778,
              "#fb9f3a"
             ],
             [
              0.8888888888888888,
              "#fdca26"
             ],
             [
              1.0,
              "#f0f921"
             ]
            ]
           }
          ],
          "mesh3d": [
           {
            "type": "mesh3d",
            "colorbar": {
             "outlinewidth": 0,
             "ticks": ""
            }
           }
          ],
          "scatter": [
           {
            "marker": {
             "line": {
              "color": "#283442"
             }
            },
            "type": "scatter"
           }
          ],
          "parcoords": [
           {
            "type": "parcoords",
            "line": {
             "colorbar": {
              "outlinewidth": 0,
              "ticks": ""
             }
            }
           }
          ],
          "scatterpolargl": [
           {
            "type": "scatterpolargl",
            "marker": {
             "colorbar": {
              "outlinewidth": 0,
              "ticks": ""
             }
            }
           }
          ],
          "bar": [
           {
            "error_x": {
             "color": "#f2f5fa"
            },
            "error_y": {
             "color": "#f2f5fa"
            },
            "marker": {
             "line": {
              "color": "rgb(17,17,17)",
              "width": 0.5
             },
             "pattern": {
              "fillmode": "overlay",
              "size": 10,
              "solidity": 0.2
             }
            },
            "type": "bar"
           }
          ],
          "scattergeo": [
           {
            "type": "scattergeo",
            "marker": {
             "colorbar": {
              "outlinewidth": 0,
              "ticks": ""
             }
            }
           }
          ],
          "scatterpolar": [
           {
            "type": "scatterpolar",
            "marker": {
             "colorbar": {
              "outlinewidth": 0,
              "ticks": ""
             }
            }
           }
          ],
          "histogram": [
           {
            "marker": {
             "pattern": {
              "fillmode": "overlay",
              "size": 10,
              "solidity": 0.2
             }
            },
            "type": "histogram"
           }
          ],
          "scattergl": [
           {
            "marker": {
             "line": {
              "color": "#283442"
             }
            },
            "type": "scattergl"
           }
          ],
          "scatter3d": [
           {
            "type": "scatter3d",
            "line": {
             "colorbar": {
              "outlinewidth": 0,
              "ticks": ""
             }
            },
            "marker": {
             "colorbar": {
              "outlinewidth": 0,
              "ticks": ""
             }
            }
           }
          ],
          "scattermapbox": [
           {
            "type": "scattermapbox",
            "marker": {
             "colorbar": {
              "outlinewidth": 0,
              "ticks": ""
             }
            }
           }
          ],
          "scatterternary": [
           {
            "type": "scatterternary",
            "marker": {
             "colorbar": {
              "outlinewidth": 0,
              "ticks": ""
             }
            }
           }
          ],
          "scattercarpet": [
           {
            "type": "scattercarpet",
            "marker": {
             "colorbar": {
              "outlinewidth": 0,
              "ticks": ""
             }
            }
           }
          ],
          "carpet": [
           {
            "aaxis": {
             "endlinecolor": "#A2B1C6",
             "gridcolor": "#506784",
             "linecolor": "#506784",
             "minorgridcolor": "#506784",
             "startlinecolor": "#A2B1C6"
            },
            "baxis": {
             "endlinecolor": "#A2B1C6",
             "gridcolor": "#506784",
             "linecolor": "#506784",
             "minorgridcolor": "#506784",
             "startlinecolor": "#A2B1C6"
            },
            "type": "carpet"
           }
          ],
          "table": [
           {
            "cells": {
             "fill": {
              "color": "#506784"
             },
             "line": {
              "color": "rgb(17,17,17)"
             }
            },
            "header": {
             "fill": {
              "color": "#2a3f5f"
             },
             "line": {
              "color": "rgb(17,17,17)"
             }
            },
            "type": "table"
           }
          ],
          "barpolar": [
           {
            "marker": {
             "line": {
              "color": "rgb(17,17,17)",
              "width": 0.5
             },
             "pattern": {
              "fillmode": "overlay",
              "size": 10,
              "solidity": 0.2
             }
            },
            "type": "barpolar"
           }
          ],
          "pie": [
           {
            "automargin": true,
            "type": "pie"
           }
          ]
         },
         "layout": {
          "autotypenumbers": "strict",
          "colorway": [
           "#636efa",
           "#EF553B",
           "#00cc96",
           "#ab63fa",
           "#FFA15A",
           "#19d3f3",
           "#FF6692",
           "#B6E880",
           "#FF97FF",
           "#FECB52"
          ],
          "font": {
           "color": "#f2f5fa"
          },
          "hovermode": "closest",
          "hoverlabel": {
           "align": "left"
          },
          "paper_bgcolor": "rgb(17,17,17)",
          "plot_bgcolor": "rgb(17,17,17)",
          "polar": {
           "bgcolor": "rgb(17,17,17)",
           "angularaxis": {
            "gridcolor": "#506784",
            "linecolor": "#506784",
            "ticks": ""
           },
           "radialaxis": {
            "gridcolor": "#506784",
            "linecolor": "#506784",
            "ticks": ""
           }
          },
          "ternary": {
           "bgcolor": "rgb(17,17,17)",
           "aaxis": {
            "gridcolor": "#506784",
            "linecolor": "#506784",
            "ticks": ""
           },
           "baxis": {
            "gridcolor": "#506784",
            "linecolor": "#506784",
            "ticks": ""
           },
           "caxis": {
            "gridcolor": "#506784",
            "linecolor": "#506784",
            "ticks": ""
           }
          },
          "coloraxis": {
           "colorbar": {
            "outlinewidth": 0,
            "ticks": ""
           }
          },
          "colorscale": {
           "sequential": [
            [
             0.0,
             "#0d0887"
            ],
            [
             0.1111111111111111,
             "#46039f"
            ],
            [
             0.2222222222222222,
             "#7201a8"
            ],
            [
             0.3333333333333333,
             "#9c179e"
            ],
            [
             0.4444444444444444,
             "#bd3786"
            ],
            [
             0.5555555555555556,
             "#d8576b"
            ],
            [
             0.6666666666666666,
             "#ed7953"
            ],
            [
             0.7777777777777778,
             "#fb9f3a"
            ],
            [
             0.8888888888888888,
             "#fdca26"
            ],
            [
             1.0,
             "#f0f921"
            ]
           ],
           "sequentialminus": [
            [
             0.0,
             "#0d0887"
            ],
            [
             0.1111111111111111,
             "#46039f"
            ],
            [
             0.2222222222222222,
             "#7201a8"
            ],
            [
             0.3333333333333333,
             "#9c179e"
            ],
            [
             0.4444444444444444,
             "#bd3786"
            ],
            [
             0.5555555555555556,
             "#d8576b"
            ],
            [
             0.6666666666666666,
             "#ed7953"
            ],
            [
             0.7777777777777778,
             "#fb9f3a"
            ],
            [
             0.8888888888888888,
             "#fdca26"
            ],
            [
             1.0,
             "#f0f921"
            ]
           ],
           "diverging": [
            [
             0,
             "#8e0152"
            ],
            [
             0.1,
             "#c51b7d"
            ],
            [
             0.2,
             "#de77ae"
            ],
            [
             0.3,
             "#f1b6da"
            ],
            [
             0.4,
             "#fde0ef"
            ],
            [
             0.5,
             "#f7f7f7"
            ],
            [
             0.6,
             "#e6f5d0"
            ],
            [
             0.7,
             "#b8e186"
            ],
            [
             0.8,
             "#7fbc41"
            ],
            [
             0.9,
             "#4d9221"
            ],
            [
             1,
             "#276419"
            ]
           ]
          },
          "xaxis": {
           "gridcolor": "#283442",
           "linecolor": "#506784",
           "ticks": "",
           "title": {
            "standoff": 15
           },
           "zerolinecolor": "#283442",
           "automargin": true,
           "zerolinewidth": 2
          },
          "yaxis": {
           "gridcolor": "#283442",
           "linecolor": "#506784",
           "ticks": "",
           "title": {
            "standoff": 15
           },
           "zerolinecolor": "#283442",
           "automargin": true,
           "zerolinewidth": 2
          },
          "scene": {
           "xaxis": {
            "backgroundcolor": "rgb(17,17,17)",
            "gridcolor": "#506784",
            "linecolor": "#506784",
            "showbackground": true,
            "ticks": "",
            "zerolinecolor": "#C8D4E3",
            "gridwidth": 2
           },
           "yaxis": {
            "backgroundcolor": "rgb(17,17,17)",
            "gridcolor": "#506784",
            "linecolor": "#506784",
            "showbackground": true,
            "ticks": "",
            "zerolinecolor": "#C8D4E3",
            "gridwidth": 2
           },
           "zaxis": {
            "backgroundcolor": "rgb(17,17,17)",
            "gridcolor": "#506784",
            "linecolor": "#506784",
            "showbackground": true,
            "ticks": "",
            "zerolinecolor": "#C8D4E3",
            "gridwidth": 2
           }
          },
          "shapedefaults": {
           "line": {
            "color": "#f2f5fa"
           }
          },
          "annotationdefaults": {
           "arrowcolor": "#f2f5fa",
           "arrowhead": 0,
           "arrowwidth": 1
          },
          "geo": {
           "bgcolor": "rgb(17,17,17)",
           "landcolor": "rgb(17,17,17)",
           "subunitcolor": "#506784",
           "showland": true,
           "showlakes": true,
           "lakecolor": "rgb(17,17,17)"
          },
          "title": {
           "x": 0.05
          },
          "updatemenudefaults": {
           "bgcolor": "#506784",
           "borderwidth": 0
          },
          "sliderdefaults": {
           "bgcolor": "#C8D4E3",
           "borderwidth": 1,
           "bordercolor": "rgb(17,17,17)",
           "tickwidth": 0
          },
          "mapbox": {
           "style": "dark"
          }
         }
        },
        "xaxis": {
         "anchor": "y",
         "domain": [
          0.0,
          1.0
         ],
         "title": {
          "text": "clusters"
         }
        },
        "yaxis": {
         "anchor": "x",
         "domain": [
          0.0,
          1.0
         ],
         "title": {
          "text": "Altitude"
         }
        },
        "legend": {
         "tracegroupgap": 0
        },
        "title": {
         "text": "Box and Whisker Plot of Altitude Grouped by Clusters"
        },
        "boxmode": "group"
       },
       "config": {
        "plotlyServerURL": "https://plot.ly"
       }
      },
      "text/html": "<div>                            <div id=\"79d886bb-c392-40c7-8a3b-7b2e66f37064\" class=\"plotly-graph-div\" style=\"height:525px; width:100%;\"></div>            <script type=\"text/javascript\">                require([\"plotly\"], function(Plotly) {                    window.PLOTLYENV=window.PLOTLYENV || {};                                    if (document.getElementById(\"79d886bb-c392-40c7-8a3b-7b2e66f37064\")) {                    Plotly.newPlot(                        \"79d886bb-c392-40c7-8a3b-7b2e66f37064\",                        [{\"alignmentgroup\":\"True\",\"hovertemplate\":\"clusters=%{x}\\u003cbr\\u003eAltitude=%{y}\\u003cextra\\u003e\\u003c\\u002fextra\\u003e\",\"legendgroup\":\"\",\"marker\":{\"color\":\"#636efa\"},\"name\":\"\",\"notched\":false,\"offsetgroup\":\"\",\"orientation\":\"v\",\"showlegend\":false,\"x\":[0,0,0,0,0,0,0,0,0,0,0,0,0,0,0,0,0,0,0,0,0,0,0,0,0,0,0,0,0,0,0,0,2,0,2,2,2,2,2,2,2,2,2,2,2,2,2,2,2,2,2,2,2,2,2,2,2,2,2,2,2,2,2,2,2,2,2,1,1,1,2,2,2,1,2,1,1,2,1,1,1,1,1,1,1,1,1,1,1,1,1,1,1],\"x0\":\" \",\"xaxis\":\"x\",\"y\":[1200.0,1668.0,1250.0,1200.0,1250.0,1550.0,2000.0,2000.0,1250.0,1950.0,1100.0,2000.0,1300.0,1200.0,1585.0,1900.0,850.0,1250.0,1300.0,1200.0,1060.0,200.0,200.0,668.0,1950.0,2250.0,1700.0,1200.0,650.0,850.0,400.0,1000.0,800.0,800.0,1600.0,1600.0,375.0,230.0,1654.0,1300.0,1400.0,1200.0,1600.0,250.0,700.0,1250.0,1450.0,520.0,1943.0,400.0,850.0,1350.0,2361.0,1600.0,1600.0,150.0,800.0,1550.0,1550.0,1675.0,1800.0,1550.0,1900.0,1600.0,1400.0,2000.0,1250.0,300.0,325.0,275.0,1600.0,1700.0,1100.0,250.0,1302.5,300.0,750.0,1550.0,1150.0,250.0,340.0,275.0,165.0,465.0,139.0,140.0,600.0,460.0,500.0,1400.0,300.0,300.0,435.0],\"y0\":\" \",\"yaxis\":\"y\",\"type\":\"box\"}],                        {\"template\":{\"data\":{\"histogram2dcontour\":[{\"type\":\"histogram2dcontour\",\"colorbar\":{\"outlinewidth\":0,\"ticks\":\"\"},\"colorscale\":[[0.0,\"#0d0887\"],[0.1111111111111111,\"#46039f\"],[0.2222222222222222,\"#7201a8\"],[0.3333333333333333,\"#9c179e\"],[0.4444444444444444,\"#bd3786\"],[0.5555555555555556,\"#d8576b\"],[0.6666666666666666,\"#ed7953\"],[0.7777777777777778,\"#fb9f3a\"],[0.8888888888888888,\"#fdca26\"],[1.0,\"#f0f921\"]]}],\"choropleth\":[{\"type\":\"choropleth\",\"colorbar\":{\"outlinewidth\":0,\"ticks\":\"\"}}],\"histogram2d\":[{\"type\":\"histogram2d\",\"colorbar\":{\"outlinewidth\":0,\"ticks\":\"\"},\"colorscale\":[[0.0,\"#0d0887\"],[0.1111111111111111,\"#46039f\"],[0.2222222222222222,\"#7201a8\"],[0.3333333333333333,\"#9c179e\"],[0.4444444444444444,\"#bd3786\"],[0.5555555555555556,\"#d8576b\"],[0.6666666666666666,\"#ed7953\"],[0.7777777777777778,\"#fb9f3a\"],[0.8888888888888888,\"#fdca26\"],[1.0,\"#f0f921\"]]}],\"heatmap\":[{\"type\":\"heatmap\",\"colorbar\":{\"outlinewidth\":0,\"ticks\":\"\"},\"colorscale\":[[0.0,\"#0d0887\"],[0.1111111111111111,\"#46039f\"],[0.2222222222222222,\"#7201a8\"],[0.3333333333333333,\"#9c179e\"],[0.4444444444444444,\"#bd3786\"],[0.5555555555555556,\"#d8576b\"],[0.6666666666666666,\"#ed7953\"],[0.7777777777777778,\"#fb9f3a\"],[0.8888888888888888,\"#fdca26\"],[1.0,\"#f0f921\"]]}],\"heatmapgl\":[{\"type\":\"heatmapgl\",\"colorbar\":{\"outlinewidth\":0,\"ticks\":\"\"},\"colorscale\":[[0.0,\"#0d0887\"],[0.1111111111111111,\"#46039f\"],[0.2222222222222222,\"#7201a8\"],[0.3333333333333333,\"#9c179e\"],[0.4444444444444444,\"#bd3786\"],[0.5555555555555556,\"#d8576b\"],[0.6666666666666666,\"#ed7953\"],[0.7777777777777778,\"#fb9f3a\"],[0.8888888888888888,\"#fdca26\"],[1.0,\"#f0f921\"]]}],\"contourcarpet\":[{\"type\":\"contourcarpet\",\"colorbar\":{\"outlinewidth\":0,\"ticks\":\"\"}}],\"contour\":[{\"type\":\"contour\",\"colorbar\":{\"outlinewidth\":0,\"ticks\":\"\"},\"colorscale\":[[0.0,\"#0d0887\"],[0.1111111111111111,\"#46039f\"],[0.2222222222222222,\"#7201a8\"],[0.3333333333333333,\"#9c179e\"],[0.4444444444444444,\"#bd3786\"],[0.5555555555555556,\"#d8576b\"],[0.6666666666666666,\"#ed7953\"],[0.7777777777777778,\"#fb9f3a\"],[0.8888888888888888,\"#fdca26\"],[1.0,\"#f0f921\"]]}],\"surface\":[{\"type\":\"surface\",\"colorbar\":{\"outlinewidth\":0,\"ticks\":\"\"},\"colorscale\":[[0.0,\"#0d0887\"],[0.1111111111111111,\"#46039f\"],[0.2222222222222222,\"#7201a8\"],[0.3333333333333333,\"#9c179e\"],[0.4444444444444444,\"#bd3786\"],[0.5555555555555556,\"#d8576b\"],[0.6666666666666666,\"#ed7953\"],[0.7777777777777778,\"#fb9f3a\"],[0.8888888888888888,\"#fdca26\"],[1.0,\"#f0f921\"]]}],\"mesh3d\":[{\"type\":\"mesh3d\",\"colorbar\":{\"outlinewidth\":0,\"ticks\":\"\"}}],\"scatter\":[{\"marker\":{\"line\":{\"color\":\"#283442\"}},\"type\":\"scatter\"}],\"parcoords\":[{\"type\":\"parcoords\",\"line\":{\"colorbar\":{\"outlinewidth\":0,\"ticks\":\"\"}}}],\"scatterpolargl\":[{\"type\":\"scatterpolargl\",\"marker\":{\"colorbar\":{\"outlinewidth\":0,\"ticks\":\"\"}}}],\"bar\":[{\"error_x\":{\"color\":\"#f2f5fa\"},\"error_y\":{\"color\":\"#f2f5fa\"},\"marker\":{\"line\":{\"color\":\"rgb(17,17,17)\",\"width\":0.5},\"pattern\":{\"fillmode\":\"overlay\",\"size\":10,\"solidity\":0.2}},\"type\":\"bar\"}],\"scattergeo\":[{\"type\":\"scattergeo\",\"marker\":{\"colorbar\":{\"outlinewidth\":0,\"ticks\":\"\"}}}],\"scatterpolar\":[{\"type\":\"scatterpolar\",\"marker\":{\"colorbar\":{\"outlinewidth\":0,\"ticks\":\"\"}}}],\"histogram\":[{\"marker\":{\"pattern\":{\"fillmode\":\"overlay\",\"size\":10,\"solidity\":0.2}},\"type\":\"histogram\"}],\"scattergl\":[{\"marker\":{\"line\":{\"color\":\"#283442\"}},\"type\":\"scattergl\"}],\"scatter3d\":[{\"type\":\"scatter3d\",\"line\":{\"colorbar\":{\"outlinewidth\":0,\"ticks\":\"\"}},\"marker\":{\"colorbar\":{\"outlinewidth\":0,\"ticks\":\"\"}}}],\"scattermapbox\":[{\"type\":\"scattermapbox\",\"marker\":{\"colorbar\":{\"outlinewidth\":0,\"ticks\":\"\"}}}],\"scatterternary\":[{\"type\":\"scatterternary\",\"marker\":{\"colorbar\":{\"outlinewidth\":0,\"ticks\":\"\"}}}],\"scattercarpet\":[{\"type\":\"scattercarpet\",\"marker\":{\"colorbar\":{\"outlinewidth\":0,\"ticks\":\"\"}}}],\"carpet\":[{\"aaxis\":{\"endlinecolor\":\"#A2B1C6\",\"gridcolor\":\"#506784\",\"linecolor\":\"#506784\",\"minorgridcolor\":\"#506784\",\"startlinecolor\":\"#A2B1C6\"},\"baxis\":{\"endlinecolor\":\"#A2B1C6\",\"gridcolor\":\"#506784\",\"linecolor\":\"#506784\",\"minorgridcolor\":\"#506784\",\"startlinecolor\":\"#A2B1C6\"},\"type\":\"carpet\"}],\"table\":[{\"cells\":{\"fill\":{\"color\":\"#506784\"},\"line\":{\"color\":\"rgb(17,17,17)\"}},\"header\":{\"fill\":{\"color\":\"#2a3f5f\"},\"line\":{\"color\":\"rgb(17,17,17)\"}},\"type\":\"table\"}],\"barpolar\":[{\"marker\":{\"line\":{\"color\":\"rgb(17,17,17)\",\"width\":0.5},\"pattern\":{\"fillmode\":\"overlay\",\"size\":10,\"solidity\":0.2}},\"type\":\"barpolar\"}],\"pie\":[{\"automargin\":true,\"type\":\"pie\"}]},\"layout\":{\"autotypenumbers\":\"strict\",\"colorway\":[\"#636efa\",\"#EF553B\",\"#00cc96\",\"#ab63fa\",\"#FFA15A\",\"#19d3f3\",\"#FF6692\",\"#B6E880\",\"#FF97FF\",\"#FECB52\"],\"font\":{\"color\":\"#f2f5fa\"},\"hovermode\":\"closest\",\"hoverlabel\":{\"align\":\"left\"},\"paper_bgcolor\":\"rgb(17,17,17)\",\"plot_bgcolor\":\"rgb(17,17,17)\",\"polar\":{\"bgcolor\":\"rgb(17,17,17)\",\"angularaxis\":{\"gridcolor\":\"#506784\",\"linecolor\":\"#506784\",\"ticks\":\"\"},\"radialaxis\":{\"gridcolor\":\"#506784\",\"linecolor\":\"#506784\",\"ticks\":\"\"}},\"ternary\":{\"bgcolor\":\"rgb(17,17,17)\",\"aaxis\":{\"gridcolor\":\"#506784\",\"linecolor\":\"#506784\",\"ticks\":\"\"},\"baxis\":{\"gridcolor\":\"#506784\",\"linecolor\":\"#506784\",\"ticks\":\"\"},\"caxis\":{\"gridcolor\":\"#506784\",\"linecolor\":\"#506784\",\"ticks\":\"\"}},\"coloraxis\":{\"colorbar\":{\"outlinewidth\":0,\"ticks\":\"\"}},\"colorscale\":{\"sequential\":[[0.0,\"#0d0887\"],[0.1111111111111111,\"#46039f\"],[0.2222222222222222,\"#7201a8\"],[0.3333333333333333,\"#9c179e\"],[0.4444444444444444,\"#bd3786\"],[0.5555555555555556,\"#d8576b\"],[0.6666666666666666,\"#ed7953\"],[0.7777777777777778,\"#fb9f3a\"],[0.8888888888888888,\"#fdca26\"],[1.0,\"#f0f921\"]],\"sequentialminus\":[[0.0,\"#0d0887\"],[0.1111111111111111,\"#46039f\"],[0.2222222222222222,\"#7201a8\"],[0.3333333333333333,\"#9c179e\"],[0.4444444444444444,\"#bd3786\"],[0.5555555555555556,\"#d8576b\"],[0.6666666666666666,\"#ed7953\"],[0.7777777777777778,\"#fb9f3a\"],[0.8888888888888888,\"#fdca26\"],[1.0,\"#f0f921\"]],\"diverging\":[[0,\"#8e0152\"],[0.1,\"#c51b7d\"],[0.2,\"#de77ae\"],[0.3,\"#f1b6da\"],[0.4,\"#fde0ef\"],[0.5,\"#f7f7f7\"],[0.6,\"#e6f5d0\"],[0.7,\"#b8e186\"],[0.8,\"#7fbc41\"],[0.9,\"#4d9221\"],[1,\"#276419\"]]},\"xaxis\":{\"gridcolor\":\"#283442\",\"linecolor\":\"#506784\",\"ticks\":\"\",\"title\":{\"standoff\":15},\"zerolinecolor\":\"#283442\",\"automargin\":true,\"zerolinewidth\":2},\"yaxis\":{\"gridcolor\":\"#283442\",\"linecolor\":\"#506784\",\"ticks\":\"\",\"title\":{\"standoff\":15},\"zerolinecolor\":\"#283442\",\"automargin\":true,\"zerolinewidth\":2},\"scene\":{\"xaxis\":{\"backgroundcolor\":\"rgb(17,17,17)\",\"gridcolor\":\"#506784\",\"linecolor\":\"#506784\",\"showbackground\":true,\"ticks\":\"\",\"zerolinecolor\":\"#C8D4E3\",\"gridwidth\":2},\"yaxis\":{\"backgroundcolor\":\"rgb(17,17,17)\",\"gridcolor\":\"#506784\",\"linecolor\":\"#506784\",\"showbackground\":true,\"ticks\":\"\",\"zerolinecolor\":\"#C8D4E3\",\"gridwidth\":2},\"zaxis\":{\"backgroundcolor\":\"rgb(17,17,17)\",\"gridcolor\":\"#506784\",\"linecolor\":\"#506784\",\"showbackground\":true,\"ticks\":\"\",\"zerolinecolor\":\"#C8D4E3\",\"gridwidth\":2}},\"shapedefaults\":{\"line\":{\"color\":\"#f2f5fa\"}},\"annotationdefaults\":{\"arrowcolor\":\"#f2f5fa\",\"arrowhead\":0,\"arrowwidth\":1},\"geo\":{\"bgcolor\":\"rgb(17,17,17)\",\"landcolor\":\"rgb(17,17,17)\",\"subunitcolor\":\"#506784\",\"showland\":true,\"showlakes\":true,\"lakecolor\":\"rgb(17,17,17)\"},\"title\":{\"x\":0.05},\"updatemenudefaults\":{\"bgcolor\":\"#506784\",\"borderwidth\":0},\"sliderdefaults\":{\"bgcolor\":\"#C8D4E3\",\"borderwidth\":1,\"bordercolor\":\"rgb(17,17,17)\",\"tickwidth\":0},\"mapbox\":{\"style\":\"dark\"}}},\"xaxis\":{\"anchor\":\"y\",\"domain\":[0.0,1.0],\"title\":{\"text\":\"clusters\"}},\"yaxis\":{\"anchor\":\"x\",\"domain\":[0.0,1.0],\"title\":{\"text\":\"Altitude\"}},\"legend\":{\"tracegroupgap\":0},\"title\":{\"text\":\"Box and Whisker Plot of Altitude Grouped by Clusters\"},\"boxmode\":\"group\"},                        {\"responsive\": true}                    ).then(function(){\n                            \nvar gd = document.getElementById('79d886bb-c392-40c7-8a3b-7b2e66f37064');\nvar x = new MutationObserver(function (mutations, observer) {{\n        var display = window.getComputedStyle(gd).display;\n        if (!display || display === 'none') {{\n            console.log([gd, 'removed!']);\n            Plotly.purge(gd);\n            observer.disconnect();\n        }}\n}});\n\n// Listen for the removal of the full notebook cells\nvar notebookContainer = gd.closest('#notebook-container');\nif (notebookContainer) {{\n    x.observe(notebookContainer, {childList: true});\n}}\n\n// Listen for the clearing of the current output cell\nvar outputEl = gd.closest('.output');\nif (outputEl) {{\n    x.observe(outputEl, {childList: true});\n}}\n\n                        })                };                });            </script>        </div>"
     },
     "metadata": {},
     "output_type": "display_data"
    }
   ],
   "source": [
    "# Create a box and whisker plot of altitude grouped by the clusters without outliers over 3000\n",
    "\n",
    "df_alt = df_country[df_country['Altitude'] < 3000]\n",
    "\n",
    "fig = px.box(df_alt, x='clusters', y='Altitude', title='Box and Whisker Plot of Altitude Grouped by Clusters')\n",
    "fig.show()"
   ],
   "metadata": {
    "collapsed": false,
    "ExecuteTime": {
     "end_time": "2023-11-23T01:01:05.050516Z",
     "start_time": "2023-11-23T01:01:05.028315Z"
    }
   },
   "id": "22d223d7ce61e596"
  },
  {
   "cell_type": "markdown",
   "source": [
    "#### Clustering Thoughts\n",
    "\n",
    "We've actually found some interesting insights from the cluster analysis on the top countries subset that we didn't see before. The cluster analysis on Moisture Percentage isn't too significant apart from that it looks like the lower-rated coffees have a moisture percentage that goes lower than 9. However, that is more detail than before when we looked at the entire data set and we saw that the clusters were all pretty similar. So we could say that higher quality coffees have moisture percentages over 9%.\n",
    "\n",
    "The biggest insight comes in altitude. The lowest-quality coffee also has the lowest altitude out of all three clusters. In the cluster analysis of the whole data set, there was no difference really in altitude when it came to coffee quality but now we see one. Unlike Moisture Percentage where there is some overlap still in the low quality coffee moisture percentage with the higher quality coffees, there is barely any at all when looking at altitude. It's also interesting to see that the highest quality coffee seems to have a median around 1200 whereas the middle coffee has one around 1450. We did see something similar where the highest rated coffees in the whole dataset also had a median around 1200. It could be that 1200 is the ideal altitude for coffee growing. That would be something for another analysis."
   ],
   "metadata": {
    "collapsed": false
   },
   "id": "2d9f0680a21a88cf"
  },
  {
   "cell_type": "markdown",
   "source": [
    "# 4. Grouping & Descriptive Stats"
   ],
   "metadata": {
    "collapsed": false
   },
   "id": "df6319f82b8954f7"
  },
  {
   "cell_type": "code",
   "execution_count": 52,
   "outputs": [],
   "source": [
    "# Create descriptive column for cluster colors\n",
    "\n",
    "df_country.loc[df_country['clusters'] == 2, 'cluster'] = 'pink'\n",
    "df_country.loc[df_country['clusters'] == 1, 'cluster'] = 'purple'\n",
    "df_country.loc[df_country['clusters'] == 0, 'cluster'] = 'brown'"
   ],
   "metadata": {
    "collapsed": false,
    "ExecuteTime": {
     "end_time": "2023-11-23T00:57:33.546648Z",
     "start_time": "2023-11-23T00:57:33.532265Z"
    }
   },
   "id": "200b9401246f96a1"
  },
  {
   "cell_type": "code",
   "execution_count": 53,
   "outputs": [
    {
     "data": {
      "text/plain": "               Country of Origin  \\\n1                         Taiwan   \n5                      Guatemala   \n6                         Taiwan   \n7                         Taiwan   \n8                         Taiwan   \n9   Tanzania, United Republic Of   \n10                      Ethiopia   \n11                     Guatemala   \n12                        Taiwan   \n13                      Ethiopia   \n15                        Taiwan   \n16                      Ethiopia   \n17                        Taiwan   \n18                        Taiwan   \n19  Tanzania, United Republic Of   \n20                     Guatemala   \n21                        Taiwan   \n24                        Taiwan   \n26                        Taiwan   \n27                        Taiwan   \n28                        Taiwan   \n30                        Taiwan   \n31                        Taiwan   \n32                        Taiwan   \n33                      Ethiopia   \n34                      Ethiopia   \n35                      Ethiopia   \n36                        Taiwan   \n37                        Taiwan   \n39                        Taiwan   \n40                        Taiwan   \n41                        Taiwan   \n42                        Taiwan   \n45                        Taiwan   \n46                     Guatemala   \n47                     Guatemala   \n48                     Guatemala   \n49                        Taiwan   \n50                        Taiwan   \n53  Tanzania, United Republic Of   \n54                        Taiwan   \n55                        Taiwan   \n58                        Taiwan   \n59                     Guatemala   \n60                     Guatemala   \n62                        Taiwan   \n63                        Taiwan   \n65                        Taiwan   \n66                        Taiwan   \n69                        Taiwan   \n\n                                            Farm Name  \\\n1                            Royal Bean Geisha Estate   \n5                                           La Colina   \n6                     野牡丹咖啡莊園 Melastoma Coffee Estate   \n7            七彩琉璃咖啡莊園 Chi Tsai Liu Li Ecological Farm   \n8                       亮軒咖啡莊園 Liang Xuan Coffee Farm   \n9                                       MASHIMA AMCOS   \n10                                            TADE GG   \n11                         Karen Acajabon Coffee Farm   \n12                         古峰咖啡莊園 Goodfun Coffee Farm   \n13                                      Gelana Geisha   \n15                                             青葉咖啡莊園   \n16                             Halo Bariti Cooprative   \n17                                             東璧咖啡莊園   \n18                                          櫻桃果古坑咖啡莊園   \n19                                              BURKA   \n20                                Finca Vista Hermosa   \n21                   仲大叔咖啡莊園Uncle Chung.s Coffee Farm   \n24                                             永舜咖啡莊園   \n26                                     鄒築園ZouZhouYuan   \n27                                             嵩岳咖啡莊園   \n28                                            他扶芽有機農園   \n30                      鄉庭有機農場Siang-Ting Organic Farm   \n31                      鄉庭有機農場Siang-Ting Organic Farm   \n32                      金讚咖啡農莊園(Jinzan Coffee Estate)   \n33                                        Eshetu farm   \n34                       Uraga Bisrat washing station   \n35                                    YHAENU PLC FARM   \n36                                            卓武山咖啡農場   \n37                       御香咖啡園 YU SIANG Coffee Estate   \n39                                             皇庭咖啡莊園   \n40  花蓮縣秀林鄉特用作物（咖啡）產銷第一班Agriculture Production and ...   \n41                                               八一高地   \n42                                              香夾蘭莊園   \n45                                            青山坪咖啡農場   \n46                                      varias fincas   \n47                                        PEÑA BLANCA   \n48                               san francisco cotzal   \n49                                                六曲窩   \n50                                               北平山林   \n53                                             IYENGA   \n54                                         優遊吧斯瑪翡咖啡莊園   \n55                                           森悅高峰咖啡莊園   \n58                                             嵐雲綠海咖啡   \n59                                      Varias Fincas   \n60                            SAN RAFAEL URIAS VALDES   \n62                                             羅馬8號莊園   \n63                          大鋤花間(Dachu Coffee Estate)   \n65                                            雅慕伊咖啡莊園   \n66                                                名陽園   \n69                                            苗55咖啡莊園   \n\n                                     Company  Altitude  \\\n1                   Taiwan Coffee Laboratory    1200.0   \n5                   Taiwan Coffee Laboratory    1668.0   \n6                   Taiwan Coffee Laboratory    1250.0   \n7                   Taiwan Coffee Laboratory    1200.0   \n8                   Taiwan Coffee Laboratory    1250.0   \n9                         DORMAN (T) LIMITED    1550.0   \n10                           Marubeni corp.,    2000.0   \n11                  Taiwan Coffee Laboratory    2000.0   \n12                  Taiwan Coffee Laboratory    1250.0   \n13                    Kerchanshe Trading PLC    1950.0   \n15                  Taiwan Coffee Laboratory    1100.0   \n16                      Coffee Quality Union    2000.0   \n17                             Dongbi coffee    1300.0   \n18                                  宸嶧國際有限公司    1200.0   \n19                        DORMAN (T) LIMITED    1585.0   \n20                  Taiwan Coffee Laboratory    1900.0   \n21                  Taiwan Coffee Laboratory     850.0   \n24                  Taiwan Coffee Laboratory    1250.0   \n26                  Taiwan Coffee Laboratory    1300.0   \n27                  Taiwan Coffee Laboratory    1200.0   \n28                  Taiwan Coffee Laboratory    1060.0   \n30                  Taiwan Coffee Laboratory     200.0   \n31                  Taiwan Coffee Laboratory     200.0   \n32                  Taiwan Coffee Laboratory     668.0   \n33                                Alo Coffee    1950.0   \n34             TADESSE DESTA IMPORT & EXPORT    2250.0   \n35                                yhaenu plc    1700.0   \n36                  Taiwan Coffee Laboratory    1200.0   \n37                  Taiwan Coffee Laboratory     650.0   \n39                                  宸嶧國際有限公司     850.0   \n40                  Taiwan Coffee Laboratory     400.0   \n41                                茂泰生技股份有限公司    1000.0   \n42                  Taiwu Coffee Cooperative     800.0   \n45                  Taiwan Coffee Laboratory     800.0   \n46                    Peter Schoenfeld, S.A.    1600.0   \n47                 OLAM AGRO GUATEMALA, S.A.    4700.0   \n48  inmobiliaria e inversiones dos mil, s.a.    1600.0   \n49                  Taiwu Coffee Cooperative     375.0   \n50                  Taiwu Coffee Cooperative     230.0   \n53          VOLCAFE/TaylorWinch Tanzania Ltd    1654.0   \n54                  Taiwan Coffee Laboratory    1300.0   \n55                  Taiwan Coffee Laboratory    1400.0   \n58                                茂泰生技股份有限公司    1200.0   \n59                    Peter Schoenfeld, S.A.    1600.0   \n60                            VALBROS, S. A.    4895.0   \n62                  Taiwu Coffee Cooperative     250.0   \n63                  Taiwan Coffee Laboratory     700.0   \n65                  Taiwan Coffee Laboratory    1250.0   \n66                  Taiwan Coffee Laboratory    1450.0   \n69                  Taiwu Coffee Cooperative     520.0   \n\n                                               Region  \\\n1                                              Chiayi   \n5                                       Chimaltenango   \n6                                              Chiayi   \n7                                              Chiayi   \n8                                              Chiayi   \n9                                         KILIMANJARO   \n10                                               Guji   \n11                                         Acatenango   \n12                                             Yunlin   \n13                                               Guji   \n15                                             Chiayi   \n16                           Gedeb,Yirgacheffe,Sidamo   \n17  Shibi, Gukeng Township, Yunlin County 郵遞區號 , T...   \n18                     Gukeng Township, Yunlin County   \n19                                             Arusha   \n20                   Guatemala, Fraijanes, Santa Rosa   \n21                                 卓溪鄉Zhuoxi Township   \n24                                             Yunlin   \n26                                             Chiayi   \n27                                             Yunlin   \n28                                             Chiayi   \n30                               壽豐鄉Shoufeng Township   \n31                               壽豐鄉Shoufeng Township   \n32                        Dongshan Dist., Tainan City   \n33                                             Oromia   \n34                             Southern Ethiopia Guji   \n35                                             OROMIA   \n36                                             Chiayi   \n37                        Dongshan Dist., Tainan City   \n39           Caoling , Gukeng Township, Yunlin County   \n40                            秀林鄉Show Linxia Township   \n41                                               台灣屏東   \n42                                                苗栗縣   \n45                                             Yunlin   \n46                                            Antigua   \n47                                         Santa Rosa   \n48                                             quiche   \n49                                                新竹縣   \n50                                                新竹縣   \n53                                              Mbeya   \n54                                             Chiayi   \n55                                             Nantou   \n58                                               台灣屏東   \n59                                      Huehuetenango   \n60                                  ANTIGUA GUATEMALA   \n62                                                新竹縣   \n63                     ( Dongshan Dist., Tainan City)   \n65                                             Chiayi   \n66                                             Chiayi   \n69                                                苗栗縣   \n\n                        Producer  Number of Bags Bag Weight Harvest Year  \\\n1                            曾福森               1      80 kg  2021 / 2022   \n5   Emilio Antonio Medina Garcia               5      30 kg         2022   \n6                            黃保錫               1      27 kg  2021 / 2022   \n7                            莊家榮               1      90 kg  2021 / 2022   \n8                            鍾旭亮               1      30 kg  2021 / 2022   \n9             DORMAN (T) LIMITED             320      60 kg  2022 / 2023   \n10         Tesfaye Bekele Degaga              10      30 kg  2021 / 2022   \n11                Karen Acajabon               5      15 kg         2021   \n12                           賴彥合               1      60 kg  2021 / 2022   \n13                    Kerchanshe              40      60 kg  2021 / 2022   \n15                           葉世遠               1      60 kg  2021 / 2022   \n16        Halo Bariti Cooprative               8       5 kg         2022   \n17                           陳景立               5       2 kg         2022   \n18                           王瀅惠               8       1 kg  2021 / 2022   \n19            DORMAN (T) LIMITED             200      30 kg  2022 / 2023   \n20                 Fredy Orantes               8      30 kg  2021 / 2022   \n21                游婷淯 YU TING YU               1      20 kg         2022   \n24                           蘇甘永               4      50 kg  2021 / 2022   \n26                           方政倫               1     100 kg  2021 / 2022   \n27                           郭志豪               1      90 kg  2021 / 2022   \n28                           陳清龍               1      85 kg  2021 / 2022   \n30               張進義Zhang Jin-Yi               3      48 kg         2022   \n31               張進義Zhang Jin-Yi               3      50 kg         2022   \n32             葉明讚 (YE,MING-ZAN)               4       5 kg         2022   \n33                        Eshetu             320      60 kg  2021 / 2022   \n34                 Bisrat Melaku             320      60 kg  2021 / 2022   \n35                    YHAENU PLC             320   19200 kg  2021 / 2022   \n36                           許定燁               1     100 kg  2021 / 2022   \n37          陳建源(CHEN, JIAN-YUAN)              20       5 kg         2022   \n39                           陳榮豐              20       1 kg  2017 / 2018   \n40                李志祥 Li Zhi-xia               1      10 kg         2022   \n41                           陳科翰               1       2 kg  2021 / 2022   \n42                          黃簡秋蘭               1      50 kg  2021 / 2022   \n45                           王清連               6      50 kg  2021 / 2022   \n46            Varios productores             600      30 kg  2022 / 2023   \n47                    PABLO CHUY             632      30 kg  2022 / 2023   \n48          san francisco cotzal             275      69 kg  2021 / 2022   \n49                           黃俊淦               1      13 kg  2021 / 2022   \n50                           戴禎男               1       4 kg  2021 / 2022   \n53                  IYENGA AMCOS             620      30 kg  2022 / 2023   \n54                           鄭虞坪               1      25 kg  2021 / 2022   \n55                           吳振宏               1      30 kg  2021 / 2022   \n58                           卓榮華               1       2 kg  2021 / 2022   \n59            Varios Productores             600      30 kg  2022 / 2023   \n60                VALBROS, S. A.              66      30 kg  2021 / 2022   \n62                           羅政宏               1      16 kg  2021 / 2022   \n63             郭雅聰（KUO,YA-TSUNG）              16       5 kg         2022   \n65                           浦瀚文               1      80 kg  2021 / 2022   \n66                           王政淵               1     104 kg  2021 / 2022   \n69                           李鴻儀               1     300 kg  2021 / 2022   \n\n   Grading Date  ... Total Cup Points Moisture Percentage  \\\n1    2022-11-15  ...            87.58                10.5   \n5    2022-11-15  ...            87.00                10.7   \n6    2022-11-15  ...            86.92                 9.1   \n7    2022-11-15  ...            86.75                10.0   \n8    2022-11-15  ...            86.67                10.8   \n9    2023-02-01  ...            86.50                11.0   \n10   2022-05-31  ...            86.25                11.8   \n11   2022-11-15  ...            86.25                11.5   \n12   2022-11-15  ...            86.25                11.9   \n13   2022-08-26  ...            86.17                11.6   \n15   2022-11-15  ...            86.08                10.2   \n16   2023-04-07  ...            86.08                11.3   \n17   2022-10-24  ...            86.08                10.3   \n18   2022-10-24  ...            85.92                11.0   \n19   2023-02-01  ...            85.83                10.0   \n20   2022-11-15  ...            85.75                11.6   \n21   2022-12-12  ...            85.67                10.4   \n24   2022-11-15  ...            85.58                10.6   \n26   2022-11-15  ...            85.50                 9.1   \n27   2022-11-15  ...            85.50                10.6   \n28   2022-11-15  ...            85.50                10.2   \n30   2022-12-12  ...            85.42                11.4   \n31   2022-12-12  ...            85.33                10.8   \n32   2022-06-08  ...            85.33                11.3   \n33   2022-06-06  ...            85.33                 9.9   \n34   2022-09-30  ...            85.33                12.3   \n35   2022-12-12  ...            85.25                 9.4   \n36   2022-11-15  ...            85.25                 9.5   \n37   2022-06-08  ...            85.25                11.3   \n39   2022-10-24  ...            85.17                10.3   \n40   2022-12-12  ...            85.08                10.0   \n41   2022-12-30  ...            85.08                10.5   \n42   2023-01-06  ...            85.08                10.0   \n45   2022-11-15  ...            85.00                10.1   \n46   2023-04-17  ...            85.00                 9.9   \n47   2023-02-23  ...            85.00                11.3   \n48   2022-06-22  ...            84.92                11.7   \n49   2023-01-06  ...            84.92                 9.5   \n50   2023-01-06  ...            84.83                 9.7   \n53   2022-11-09  ...            84.83                11.2   \n54   2022-11-15  ...            84.83                 9.5   \n55   2022-11-15  ...            84.75                10.4   \n58   2022-12-30  ...            84.75                10.0   \n59   2023-04-28  ...            84.67                10.6   \n60   2022-05-19  ...            84.67                10.9   \n62   2023-01-06  ...            84.58                 9.6   \n63   2022-06-08  ...            84.58                11.5   \n65   2022-11-15  ...            84.58                11.2   \n66   2022-11-15  ...            84.58                10.3   \n69   2023-01-06  ...            84.50                11.3   \n\n    Category One Defects  Quakers         Color  Category Two Defects  \\\n1                      0        0    blue-green                     0   \n5                      0        0         green                     2   \n6                      0        0         green                     0   \n7                      0        0  yellow-green                     1   \n8                      0        0      greenish                     0   \n9                      0        0      greenish                     0   \n10                     0        1      greenish                     1   \n11                     0        0      brownish                     1   \n12                     0        0         green                     0   \n13                     0        3  yellow-green                     2   \n15                     0        0         green                     0   \n16                     0        2         green                     2   \n17                     0        0  yellow-green                     0   \n18                     0        0      brownish                     1   \n19                     0        0      greenish                     0   \n20                     0        0     yellowish                     0   \n21                     0        0         green                     0   \n24                     0        0    blue-green                     0   \n26                     0        0         green                     2   \n27                     0        0         green                     0   \n28                     0        0    blue-green                     0   \n30                     0        0    blue-green                     0   \n31                     0        0         green                     0   \n32                     0        0         green                     0   \n33                     0        2         green                     3   \n34                     0        3  yellow-green                     4   \n35                     0        1      greenish                     1   \n36                     0        0    blue-green                     0   \n37                     0        0         green                     0   \n39                     0        0    blue-green                     0   \n40                     0        0      brownish                     0   \n41                     0        0      greenish                     0   \n42                     0        0   pale yellow                     5   \n45                     0        0  yellow-green                     0   \n46                     0        1         green                     1   \n47                     0        0         green                     4   \n48                     0        3         green                     1   \n49                     0        0         green                     2   \n50                     0        0      brownish                     0   \n53                     0        0      greenish                     0   \n54                     0        0      greenish                     0   \n55                     0        0         green                     0   \n58                     0        0    blue-green                     0   \n59                     0        0         green                     1   \n60                     0        3  yellow-green                     2   \n62                     0        0      greenish                     0   \n63                     0        0         green                     0   \n65                     0        0         green                     2   \n66                     0        0         green                     0   \n69                     0        0    blue-green                     0   \n\n              Expiration  Rating Category  clusters  cluster  \n1    November 15th, 2023      High Rating         0    brown  \n5    November 15th, 2023      High Rating         0    brown  \n6    November 15th, 2023      High Rating         0    brown  \n7    November 15th, 2023      High Rating         0    brown  \n8    November 15th, 2023      High Rating         0    brown  \n9     February 1st, 2024      High Rating         0    brown  \n10        May 31st, 2023      High Rating         0    brown  \n11   November 15th, 2023      High Rating         0    brown  \n12   November 15th, 2023      High Rating         0    brown  \n13     August 26th, 2023      High Rating         0    brown  \n15   November 15th, 2023      High Rating         0    brown  \n16       April 6th, 2024      High Rating         0    brown  \n17    October 24th, 2023      High Rating         0    brown  \n18    October 24th, 2023      High Rating         0    brown  \n19    February 1st, 2024      High Rating         0    brown  \n20   November 15th, 2023      High Rating         0    brown  \n21   December 12th, 2023      High Rating         0    brown  \n24   November 15th, 2023      High Rating         0    brown  \n26   November 15th, 2023      High Rating         0    brown  \n27   November 15th, 2023      High Rating         0    brown  \n28   November 15th, 2023      High Rating         0    brown  \n30   December 12th, 2023    Middle Rating         0    brown  \n31   December 12th, 2023    Middle Rating         0    brown  \n32        June 8th, 2023    Middle Rating         0    brown  \n33        June 6th, 2023    Middle Rating         0    brown  \n34  September 30th, 2023    Middle Rating         0    brown  \n35   December 12th, 2023    Middle Rating         0    brown  \n36   November 15th, 2023    Middle Rating         0    brown  \n37        June 8th, 2023    Middle Rating         0    brown  \n39    October 24th, 2023    Middle Rating         0    brown  \n40   December 12th, 2023    Middle Rating         0    brown  \n41   December 30th, 2023    Middle Rating         0    brown  \n42     January 6th, 2024    Middle Rating         2     pink  \n45   November 15th, 2023    Middle Rating         0    brown  \n46      April 16th, 2024    Middle Rating         2     pink  \n47   February 23rd, 2024    Middle Rating         2     pink  \n48       June 22nd, 2023    Middle Rating         2     pink  \n49     January 6th, 2024    Middle Rating         2     pink  \n50     January 6th, 2024    Middle Rating         2     pink  \n53    November 9th, 2023    Middle Rating         2     pink  \n54   November 15th, 2023    Middle Rating         2     pink  \n55   November 15th, 2023    Middle Rating         2     pink  \n58   December 30th, 2023    Middle Rating         2     pink  \n59      April 27th, 2024    Middle Rating         2     pink  \n60        May 19th, 2023    Middle Rating         2     pink  \n62     January 6th, 2024    Middle Rating         2     pink  \n63        June 8th, 2023    Middle Rating         2     pink  \n65   November 15th, 2023    Middle Rating         2     pink  \n66   November 15th, 2023    Middle Rating         2     pink  \n69     January 6th, 2024    Middle Rating         2     pink  \n\n[50 rows x 30 columns]",
      "text/html": "<div>\n<style scoped>\n    .dataframe tbody tr th:only-of-type {\n        vertical-align: middle;\n    }\n\n    .dataframe tbody tr th {\n        vertical-align: top;\n    }\n\n    .dataframe thead th {\n        text-align: right;\n    }\n</style>\n<table border=\"1\" class=\"dataframe\">\n  <thead>\n    <tr style=\"text-align: right;\">\n      <th></th>\n      <th>Country of Origin</th>\n      <th>Farm Name</th>\n      <th>Company</th>\n      <th>Altitude</th>\n      <th>Region</th>\n      <th>Producer</th>\n      <th>Number of Bags</th>\n      <th>Bag Weight</th>\n      <th>Harvest Year</th>\n      <th>Grading Date</th>\n      <th>...</th>\n      <th>Total Cup Points</th>\n      <th>Moisture Percentage</th>\n      <th>Category One Defects</th>\n      <th>Quakers</th>\n      <th>Color</th>\n      <th>Category Two Defects</th>\n      <th>Expiration</th>\n      <th>Rating Category</th>\n      <th>clusters</th>\n      <th>cluster</th>\n    </tr>\n  </thead>\n  <tbody>\n    <tr>\n      <th>1</th>\n      <td>Taiwan</td>\n      <td>Royal Bean Geisha Estate</td>\n      <td>Taiwan Coffee Laboratory</td>\n      <td>1200.0</td>\n      <td>Chiayi</td>\n      <td>曾福森</td>\n      <td>1</td>\n      <td>80 kg</td>\n      <td>2021 / 2022</td>\n      <td>2022-11-15</td>\n      <td>...</td>\n      <td>87.58</td>\n      <td>10.5</td>\n      <td>0</td>\n      <td>0</td>\n      <td>blue-green</td>\n      <td>0</td>\n      <td>November 15th, 2023</td>\n      <td>High Rating</td>\n      <td>0</td>\n      <td>brown</td>\n    </tr>\n    <tr>\n      <th>5</th>\n      <td>Guatemala</td>\n      <td>La Colina</td>\n      <td>Taiwan Coffee Laboratory</td>\n      <td>1668.0</td>\n      <td>Chimaltenango</td>\n      <td>Emilio Antonio Medina Garcia</td>\n      <td>5</td>\n      <td>30 kg</td>\n      <td>2022</td>\n      <td>2022-11-15</td>\n      <td>...</td>\n      <td>87.00</td>\n      <td>10.7</td>\n      <td>0</td>\n      <td>0</td>\n      <td>green</td>\n      <td>2</td>\n      <td>November 15th, 2023</td>\n      <td>High Rating</td>\n      <td>0</td>\n      <td>brown</td>\n    </tr>\n    <tr>\n      <th>6</th>\n      <td>Taiwan</td>\n      <td>野牡丹咖啡莊園 Melastoma Coffee Estate</td>\n      <td>Taiwan Coffee Laboratory</td>\n      <td>1250.0</td>\n      <td>Chiayi</td>\n      <td>黃保錫</td>\n      <td>1</td>\n      <td>27 kg</td>\n      <td>2021 / 2022</td>\n      <td>2022-11-15</td>\n      <td>...</td>\n      <td>86.92</td>\n      <td>9.1</td>\n      <td>0</td>\n      <td>0</td>\n      <td>green</td>\n      <td>0</td>\n      <td>November 15th, 2023</td>\n      <td>High Rating</td>\n      <td>0</td>\n      <td>brown</td>\n    </tr>\n    <tr>\n      <th>7</th>\n      <td>Taiwan</td>\n      <td>七彩琉璃咖啡莊園 Chi Tsai Liu Li Ecological Farm</td>\n      <td>Taiwan Coffee Laboratory</td>\n      <td>1200.0</td>\n      <td>Chiayi</td>\n      <td>莊家榮</td>\n      <td>1</td>\n      <td>90 kg</td>\n      <td>2021 / 2022</td>\n      <td>2022-11-15</td>\n      <td>...</td>\n      <td>86.75</td>\n      <td>10.0</td>\n      <td>0</td>\n      <td>0</td>\n      <td>yellow-green</td>\n      <td>1</td>\n      <td>November 15th, 2023</td>\n      <td>High Rating</td>\n      <td>0</td>\n      <td>brown</td>\n    </tr>\n    <tr>\n      <th>8</th>\n      <td>Taiwan</td>\n      <td>亮軒咖啡莊園 Liang Xuan Coffee Farm</td>\n      <td>Taiwan Coffee Laboratory</td>\n      <td>1250.0</td>\n      <td>Chiayi</td>\n      <td>鍾旭亮</td>\n      <td>1</td>\n      <td>30 kg</td>\n      <td>2021 / 2022</td>\n      <td>2022-11-15</td>\n      <td>...</td>\n      <td>86.67</td>\n      <td>10.8</td>\n      <td>0</td>\n      <td>0</td>\n      <td>greenish</td>\n      <td>0</td>\n      <td>November 15th, 2023</td>\n      <td>High Rating</td>\n      <td>0</td>\n      <td>brown</td>\n    </tr>\n    <tr>\n      <th>9</th>\n      <td>Tanzania, United Republic Of</td>\n      <td>MASHIMA AMCOS</td>\n      <td>DORMAN (T) LIMITED</td>\n      <td>1550.0</td>\n      <td>KILIMANJARO</td>\n      <td>DORMAN (T) LIMITED</td>\n      <td>320</td>\n      <td>60 kg</td>\n      <td>2022 / 2023</td>\n      <td>2023-02-01</td>\n      <td>...</td>\n      <td>86.50</td>\n      <td>11.0</td>\n      <td>0</td>\n      <td>0</td>\n      <td>greenish</td>\n      <td>0</td>\n      <td>February 1st, 2024</td>\n      <td>High Rating</td>\n      <td>0</td>\n      <td>brown</td>\n    </tr>\n    <tr>\n      <th>10</th>\n      <td>Ethiopia</td>\n      <td>TADE GG</td>\n      <td>Marubeni corp.,</td>\n      <td>2000.0</td>\n      <td>Guji</td>\n      <td>Tesfaye Bekele Degaga</td>\n      <td>10</td>\n      <td>30 kg</td>\n      <td>2021 / 2022</td>\n      <td>2022-05-31</td>\n      <td>...</td>\n      <td>86.25</td>\n      <td>11.8</td>\n      <td>0</td>\n      <td>1</td>\n      <td>greenish</td>\n      <td>1</td>\n      <td>May 31st, 2023</td>\n      <td>High Rating</td>\n      <td>0</td>\n      <td>brown</td>\n    </tr>\n    <tr>\n      <th>11</th>\n      <td>Guatemala</td>\n      <td>Karen Acajabon Coffee Farm</td>\n      <td>Taiwan Coffee Laboratory</td>\n      <td>2000.0</td>\n      <td>Acatenango</td>\n      <td>Karen Acajabon</td>\n      <td>5</td>\n      <td>15 kg</td>\n      <td>2021</td>\n      <td>2022-11-15</td>\n      <td>...</td>\n      <td>86.25</td>\n      <td>11.5</td>\n      <td>0</td>\n      <td>0</td>\n      <td>brownish</td>\n      <td>1</td>\n      <td>November 15th, 2023</td>\n      <td>High Rating</td>\n      <td>0</td>\n      <td>brown</td>\n    </tr>\n    <tr>\n      <th>12</th>\n      <td>Taiwan</td>\n      <td>古峰咖啡莊園 Goodfun Coffee Farm</td>\n      <td>Taiwan Coffee Laboratory</td>\n      <td>1250.0</td>\n      <td>Yunlin</td>\n      <td>賴彥合</td>\n      <td>1</td>\n      <td>60 kg</td>\n      <td>2021 / 2022</td>\n      <td>2022-11-15</td>\n      <td>...</td>\n      <td>86.25</td>\n      <td>11.9</td>\n      <td>0</td>\n      <td>0</td>\n      <td>green</td>\n      <td>0</td>\n      <td>November 15th, 2023</td>\n      <td>High Rating</td>\n      <td>0</td>\n      <td>brown</td>\n    </tr>\n    <tr>\n      <th>13</th>\n      <td>Ethiopia</td>\n      <td>Gelana Geisha</td>\n      <td>Kerchanshe Trading PLC</td>\n      <td>1950.0</td>\n      <td>Guji</td>\n      <td>Kerchanshe</td>\n      <td>40</td>\n      <td>60 kg</td>\n      <td>2021 / 2022</td>\n      <td>2022-08-26</td>\n      <td>...</td>\n      <td>86.17</td>\n      <td>11.6</td>\n      <td>0</td>\n      <td>3</td>\n      <td>yellow-green</td>\n      <td>2</td>\n      <td>August 26th, 2023</td>\n      <td>High Rating</td>\n      <td>0</td>\n      <td>brown</td>\n    </tr>\n    <tr>\n      <th>15</th>\n      <td>Taiwan</td>\n      <td>青葉咖啡莊園</td>\n      <td>Taiwan Coffee Laboratory</td>\n      <td>1100.0</td>\n      <td>Chiayi</td>\n      <td>葉世遠</td>\n      <td>1</td>\n      <td>60 kg</td>\n      <td>2021 / 2022</td>\n      <td>2022-11-15</td>\n      <td>...</td>\n      <td>86.08</td>\n      <td>10.2</td>\n      <td>0</td>\n      <td>0</td>\n      <td>green</td>\n      <td>0</td>\n      <td>November 15th, 2023</td>\n      <td>High Rating</td>\n      <td>0</td>\n      <td>brown</td>\n    </tr>\n    <tr>\n      <th>16</th>\n      <td>Ethiopia</td>\n      <td>Halo Bariti Cooprative</td>\n      <td>Coffee Quality Union</td>\n      <td>2000.0</td>\n      <td>Gedeb,Yirgacheffe,Sidamo</td>\n      <td>Halo Bariti Cooprative</td>\n      <td>8</td>\n      <td>5 kg</td>\n      <td>2022</td>\n      <td>2023-04-07</td>\n      <td>...</td>\n      <td>86.08</td>\n      <td>11.3</td>\n      <td>0</td>\n      <td>2</td>\n      <td>green</td>\n      <td>2</td>\n      <td>April 6th, 2024</td>\n      <td>High Rating</td>\n      <td>0</td>\n      <td>brown</td>\n    </tr>\n    <tr>\n      <th>17</th>\n      <td>Taiwan</td>\n      <td>東璧咖啡莊園</td>\n      <td>Dongbi coffee</td>\n      <td>1300.0</td>\n      <td>Shibi, Gukeng Township, Yunlin County 郵遞區號 , T...</td>\n      <td>陳景立</td>\n      <td>5</td>\n      <td>2 kg</td>\n      <td>2022</td>\n      <td>2022-10-24</td>\n      <td>...</td>\n      <td>86.08</td>\n      <td>10.3</td>\n      <td>0</td>\n      <td>0</td>\n      <td>yellow-green</td>\n      <td>0</td>\n      <td>October 24th, 2023</td>\n      <td>High Rating</td>\n      <td>0</td>\n      <td>brown</td>\n    </tr>\n    <tr>\n      <th>18</th>\n      <td>Taiwan</td>\n      <td>櫻桃果古坑咖啡莊園</td>\n      <td>宸嶧國際有限公司</td>\n      <td>1200.0</td>\n      <td>Gukeng Township, Yunlin County</td>\n      <td>王瀅惠</td>\n      <td>8</td>\n      <td>1 kg</td>\n      <td>2021 / 2022</td>\n      <td>2022-10-24</td>\n      <td>...</td>\n      <td>85.92</td>\n      <td>11.0</td>\n      <td>0</td>\n      <td>0</td>\n      <td>brownish</td>\n      <td>1</td>\n      <td>October 24th, 2023</td>\n      <td>High Rating</td>\n      <td>0</td>\n      <td>brown</td>\n    </tr>\n    <tr>\n      <th>19</th>\n      <td>Tanzania, United Republic Of</td>\n      <td>BURKA</td>\n      <td>DORMAN (T) LIMITED</td>\n      <td>1585.0</td>\n      <td>Arusha</td>\n      <td>DORMAN (T) LIMITED</td>\n      <td>200</td>\n      <td>30 kg</td>\n      <td>2022 / 2023</td>\n      <td>2023-02-01</td>\n      <td>...</td>\n      <td>85.83</td>\n      <td>10.0</td>\n      <td>0</td>\n      <td>0</td>\n      <td>greenish</td>\n      <td>0</td>\n      <td>February 1st, 2024</td>\n      <td>High Rating</td>\n      <td>0</td>\n      <td>brown</td>\n    </tr>\n    <tr>\n      <th>20</th>\n      <td>Guatemala</td>\n      <td>Finca Vista Hermosa</td>\n      <td>Taiwan Coffee Laboratory</td>\n      <td>1900.0</td>\n      <td>Guatemala, Fraijanes, Santa Rosa</td>\n      <td>Fredy Orantes</td>\n      <td>8</td>\n      <td>30 kg</td>\n      <td>2021 / 2022</td>\n      <td>2022-11-15</td>\n      <td>...</td>\n      <td>85.75</td>\n      <td>11.6</td>\n      <td>0</td>\n      <td>0</td>\n      <td>yellowish</td>\n      <td>0</td>\n      <td>November 15th, 2023</td>\n      <td>High Rating</td>\n      <td>0</td>\n      <td>brown</td>\n    </tr>\n    <tr>\n      <th>21</th>\n      <td>Taiwan</td>\n      <td>仲大叔咖啡莊園Uncle Chung.s Coffee Farm</td>\n      <td>Taiwan Coffee Laboratory</td>\n      <td>850.0</td>\n      <td>卓溪鄉Zhuoxi Township</td>\n      <td>游婷淯 YU TING YU</td>\n      <td>1</td>\n      <td>20 kg</td>\n      <td>2022</td>\n      <td>2022-12-12</td>\n      <td>...</td>\n      <td>85.67</td>\n      <td>10.4</td>\n      <td>0</td>\n      <td>0</td>\n      <td>green</td>\n      <td>0</td>\n      <td>December 12th, 2023</td>\n      <td>High Rating</td>\n      <td>0</td>\n      <td>brown</td>\n    </tr>\n    <tr>\n      <th>24</th>\n      <td>Taiwan</td>\n      <td>永舜咖啡莊園</td>\n      <td>Taiwan Coffee Laboratory</td>\n      <td>1250.0</td>\n      <td>Yunlin</td>\n      <td>蘇甘永</td>\n      <td>4</td>\n      <td>50 kg</td>\n      <td>2021 / 2022</td>\n      <td>2022-11-15</td>\n      <td>...</td>\n      <td>85.58</td>\n      <td>10.6</td>\n      <td>0</td>\n      <td>0</td>\n      <td>blue-green</td>\n      <td>0</td>\n      <td>November 15th, 2023</td>\n      <td>High Rating</td>\n      <td>0</td>\n      <td>brown</td>\n    </tr>\n    <tr>\n      <th>26</th>\n      <td>Taiwan</td>\n      <td>鄒築園ZouZhouYuan</td>\n      <td>Taiwan Coffee Laboratory</td>\n      <td>1300.0</td>\n      <td>Chiayi</td>\n      <td>方政倫</td>\n      <td>1</td>\n      <td>100 kg</td>\n      <td>2021 / 2022</td>\n      <td>2022-11-15</td>\n      <td>...</td>\n      <td>85.50</td>\n      <td>9.1</td>\n      <td>0</td>\n      <td>0</td>\n      <td>green</td>\n      <td>2</td>\n      <td>November 15th, 2023</td>\n      <td>High Rating</td>\n      <td>0</td>\n      <td>brown</td>\n    </tr>\n    <tr>\n      <th>27</th>\n      <td>Taiwan</td>\n      <td>嵩岳咖啡莊園</td>\n      <td>Taiwan Coffee Laboratory</td>\n      <td>1200.0</td>\n      <td>Yunlin</td>\n      <td>郭志豪</td>\n      <td>1</td>\n      <td>90 kg</td>\n      <td>2021 / 2022</td>\n      <td>2022-11-15</td>\n      <td>...</td>\n      <td>85.50</td>\n      <td>10.6</td>\n      <td>0</td>\n      <td>0</td>\n      <td>green</td>\n      <td>0</td>\n      <td>November 15th, 2023</td>\n      <td>High Rating</td>\n      <td>0</td>\n      <td>brown</td>\n    </tr>\n    <tr>\n      <th>28</th>\n      <td>Taiwan</td>\n      <td>他扶芽有機農園</td>\n      <td>Taiwan Coffee Laboratory</td>\n      <td>1060.0</td>\n      <td>Chiayi</td>\n      <td>陳清龍</td>\n      <td>1</td>\n      <td>85 kg</td>\n      <td>2021 / 2022</td>\n      <td>2022-11-15</td>\n      <td>...</td>\n      <td>85.50</td>\n      <td>10.2</td>\n      <td>0</td>\n      <td>0</td>\n      <td>blue-green</td>\n      <td>0</td>\n      <td>November 15th, 2023</td>\n      <td>High Rating</td>\n      <td>0</td>\n      <td>brown</td>\n    </tr>\n    <tr>\n      <th>30</th>\n      <td>Taiwan</td>\n      <td>鄉庭有機農場Siang-Ting Organic Farm</td>\n      <td>Taiwan Coffee Laboratory</td>\n      <td>200.0</td>\n      <td>壽豐鄉Shoufeng Township</td>\n      <td>張進義Zhang Jin-Yi</td>\n      <td>3</td>\n      <td>48 kg</td>\n      <td>2022</td>\n      <td>2022-12-12</td>\n      <td>...</td>\n      <td>85.42</td>\n      <td>11.4</td>\n      <td>0</td>\n      <td>0</td>\n      <td>blue-green</td>\n      <td>0</td>\n      <td>December 12th, 2023</td>\n      <td>Middle Rating</td>\n      <td>0</td>\n      <td>brown</td>\n    </tr>\n    <tr>\n      <th>31</th>\n      <td>Taiwan</td>\n      <td>鄉庭有機農場Siang-Ting Organic Farm</td>\n      <td>Taiwan Coffee Laboratory</td>\n      <td>200.0</td>\n      <td>壽豐鄉Shoufeng Township</td>\n      <td>張進義Zhang Jin-Yi</td>\n      <td>3</td>\n      <td>50 kg</td>\n      <td>2022</td>\n      <td>2022-12-12</td>\n      <td>...</td>\n      <td>85.33</td>\n      <td>10.8</td>\n      <td>0</td>\n      <td>0</td>\n      <td>green</td>\n      <td>0</td>\n      <td>December 12th, 2023</td>\n      <td>Middle Rating</td>\n      <td>0</td>\n      <td>brown</td>\n    </tr>\n    <tr>\n      <th>32</th>\n      <td>Taiwan</td>\n      <td>金讚咖啡農莊園(Jinzan Coffee Estate)</td>\n      <td>Taiwan Coffee Laboratory</td>\n      <td>668.0</td>\n      <td>Dongshan Dist., Tainan City</td>\n      <td>葉明讚 (YE,MING-ZAN)</td>\n      <td>4</td>\n      <td>5 kg</td>\n      <td>2022</td>\n      <td>2022-06-08</td>\n      <td>...</td>\n      <td>85.33</td>\n      <td>11.3</td>\n      <td>0</td>\n      <td>0</td>\n      <td>green</td>\n      <td>0</td>\n      <td>June 8th, 2023</td>\n      <td>Middle Rating</td>\n      <td>0</td>\n      <td>brown</td>\n    </tr>\n    <tr>\n      <th>33</th>\n      <td>Ethiopia</td>\n      <td>Eshetu farm</td>\n      <td>Alo Coffee</td>\n      <td>1950.0</td>\n      <td>Oromia</td>\n      <td>Eshetu</td>\n      <td>320</td>\n      <td>60 kg</td>\n      <td>2021 / 2022</td>\n      <td>2022-06-06</td>\n      <td>...</td>\n      <td>85.33</td>\n      <td>9.9</td>\n      <td>0</td>\n      <td>2</td>\n      <td>green</td>\n      <td>3</td>\n      <td>June 6th, 2023</td>\n      <td>Middle Rating</td>\n      <td>0</td>\n      <td>brown</td>\n    </tr>\n    <tr>\n      <th>34</th>\n      <td>Ethiopia</td>\n      <td>Uraga Bisrat washing station</td>\n      <td>TADESSE DESTA IMPORT &amp; EXPORT</td>\n      <td>2250.0</td>\n      <td>Southern Ethiopia Guji</td>\n      <td>Bisrat Melaku</td>\n      <td>320</td>\n      <td>60 kg</td>\n      <td>2021 / 2022</td>\n      <td>2022-09-30</td>\n      <td>...</td>\n      <td>85.33</td>\n      <td>12.3</td>\n      <td>0</td>\n      <td>3</td>\n      <td>yellow-green</td>\n      <td>4</td>\n      <td>September 30th, 2023</td>\n      <td>Middle Rating</td>\n      <td>0</td>\n      <td>brown</td>\n    </tr>\n    <tr>\n      <th>35</th>\n      <td>Ethiopia</td>\n      <td>YHAENU PLC FARM</td>\n      <td>yhaenu plc</td>\n      <td>1700.0</td>\n      <td>OROMIA</td>\n      <td>YHAENU PLC</td>\n      <td>320</td>\n      <td>19200 kg</td>\n      <td>2021 / 2022</td>\n      <td>2022-12-12</td>\n      <td>...</td>\n      <td>85.25</td>\n      <td>9.4</td>\n      <td>0</td>\n      <td>1</td>\n      <td>greenish</td>\n      <td>1</td>\n      <td>December 12th, 2023</td>\n      <td>Middle Rating</td>\n      <td>0</td>\n      <td>brown</td>\n    </tr>\n    <tr>\n      <th>36</th>\n      <td>Taiwan</td>\n      <td>卓武山咖啡農場</td>\n      <td>Taiwan Coffee Laboratory</td>\n      <td>1200.0</td>\n      <td>Chiayi</td>\n      <td>許定燁</td>\n      <td>1</td>\n      <td>100 kg</td>\n      <td>2021 / 2022</td>\n      <td>2022-11-15</td>\n      <td>...</td>\n      <td>85.25</td>\n      <td>9.5</td>\n      <td>0</td>\n      <td>0</td>\n      <td>blue-green</td>\n      <td>0</td>\n      <td>November 15th, 2023</td>\n      <td>Middle Rating</td>\n      <td>0</td>\n      <td>brown</td>\n    </tr>\n    <tr>\n      <th>37</th>\n      <td>Taiwan</td>\n      <td>御香咖啡園 YU SIANG Coffee Estate</td>\n      <td>Taiwan Coffee Laboratory</td>\n      <td>650.0</td>\n      <td>Dongshan Dist., Tainan City</td>\n      <td>陳建源(CHEN, JIAN-YUAN)</td>\n      <td>20</td>\n      <td>5 kg</td>\n      <td>2022</td>\n      <td>2022-06-08</td>\n      <td>...</td>\n      <td>85.25</td>\n      <td>11.3</td>\n      <td>0</td>\n      <td>0</td>\n      <td>green</td>\n      <td>0</td>\n      <td>June 8th, 2023</td>\n      <td>Middle Rating</td>\n      <td>0</td>\n      <td>brown</td>\n    </tr>\n    <tr>\n      <th>39</th>\n      <td>Taiwan</td>\n      <td>皇庭咖啡莊園</td>\n      <td>宸嶧國際有限公司</td>\n      <td>850.0</td>\n      <td>Caoling , Gukeng Township, Yunlin County</td>\n      <td>陳榮豐</td>\n      <td>20</td>\n      <td>1 kg</td>\n      <td>2017 / 2018</td>\n      <td>2022-10-24</td>\n      <td>...</td>\n      <td>85.17</td>\n      <td>10.3</td>\n      <td>0</td>\n      <td>0</td>\n      <td>blue-green</td>\n      <td>0</td>\n      <td>October 24th, 2023</td>\n      <td>Middle Rating</td>\n      <td>0</td>\n      <td>brown</td>\n    </tr>\n    <tr>\n      <th>40</th>\n      <td>Taiwan</td>\n      <td>花蓮縣秀林鄉特用作物（咖啡）產銷第一班Agriculture Production and ...</td>\n      <td>Taiwan Coffee Laboratory</td>\n      <td>400.0</td>\n      <td>秀林鄉Show Linxia Township</td>\n      <td>李志祥 Li Zhi-xia</td>\n      <td>1</td>\n      <td>10 kg</td>\n      <td>2022</td>\n      <td>2022-12-12</td>\n      <td>...</td>\n      <td>85.08</td>\n      <td>10.0</td>\n      <td>0</td>\n      <td>0</td>\n      <td>brownish</td>\n      <td>0</td>\n      <td>December 12th, 2023</td>\n      <td>Middle Rating</td>\n      <td>0</td>\n      <td>brown</td>\n    </tr>\n    <tr>\n      <th>41</th>\n      <td>Taiwan</td>\n      <td>八一高地</td>\n      <td>茂泰生技股份有限公司</td>\n      <td>1000.0</td>\n      <td>台灣屏東</td>\n      <td>陳科翰</td>\n      <td>1</td>\n      <td>2 kg</td>\n      <td>2021 / 2022</td>\n      <td>2022-12-30</td>\n      <td>...</td>\n      <td>85.08</td>\n      <td>10.5</td>\n      <td>0</td>\n      <td>0</td>\n      <td>greenish</td>\n      <td>0</td>\n      <td>December 30th, 2023</td>\n      <td>Middle Rating</td>\n      <td>0</td>\n      <td>brown</td>\n    </tr>\n    <tr>\n      <th>42</th>\n      <td>Taiwan</td>\n      <td>香夾蘭莊園</td>\n      <td>Taiwu Coffee Cooperative</td>\n      <td>800.0</td>\n      <td>苗栗縣</td>\n      <td>黃簡秋蘭</td>\n      <td>1</td>\n      <td>50 kg</td>\n      <td>2021 / 2022</td>\n      <td>2023-01-06</td>\n      <td>...</td>\n      <td>85.08</td>\n      <td>10.0</td>\n      <td>0</td>\n      <td>0</td>\n      <td>pale yellow</td>\n      <td>5</td>\n      <td>January 6th, 2024</td>\n      <td>Middle Rating</td>\n      <td>2</td>\n      <td>pink</td>\n    </tr>\n    <tr>\n      <th>45</th>\n      <td>Taiwan</td>\n      <td>青山坪咖啡農場</td>\n      <td>Taiwan Coffee Laboratory</td>\n      <td>800.0</td>\n      <td>Yunlin</td>\n      <td>王清連</td>\n      <td>6</td>\n      <td>50 kg</td>\n      <td>2021 / 2022</td>\n      <td>2022-11-15</td>\n      <td>...</td>\n      <td>85.00</td>\n      <td>10.1</td>\n      <td>0</td>\n      <td>0</td>\n      <td>yellow-green</td>\n      <td>0</td>\n      <td>November 15th, 2023</td>\n      <td>Middle Rating</td>\n      <td>0</td>\n      <td>brown</td>\n    </tr>\n    <tr>\n      <th>46</th>\n      <td>Guatemala</td>\n      <td>varias fincas</td>\n      <td>Peter Schoenfeld, S.A.</td>\n      <td>1600.0</td>\n      <td>Antigua</td>\n      <td>Varios productores</td>\n      <td>600</td>\n      <td>30 kg</td>\n      <td>2022 / 2023</td>\n      <td>2023-04-17</td>\n      <td>...</td>\n      <td>85.00</td>\n      <td>9.9</td>\n      <td>0</td>\n      <td>1</td>\n      <td>green</td>\n      <td>1</td>\n      <td>April 16th, 2024</td>\n      <td>Middle Rating</td>\n      <td>2</td>\n      <td>pink</td>\n    </tr>\n    <tr>\n      <th>47</th>\n      <td>Guatemala</td>\n      <td>PEÑA BLANCA</td>\n      <td>OLAM AGRO GUATEMALA, S.A.</td>\n      <td>4700.0</td>\n      <td>Santa Rosa</td>\n      <td>PABLO CHUY</td>\n      <td>632</td>\n      <td>30 kg</td>\n      <td>2022 / 2023</td>\n      <td>2023-02-23</td>\n      <td>...</td>\n      <td>85.00</td>\n      <td>11.3</td>\n      <td>0</td>\n      <td>0</td>\n      <td>green</td>\n      <td>4</td>\n      <td>February 23rd, 2024</td>\n      <td>Middle Rating</td>\n      <td>2</td>\n      <td>pink</td>\n    </tr>\n    <tr>\n      <th>48</th>\n      <td>Guatemala</td>\n      <td>san francisco cotzal</td>\n      <td>inmobiliaria e inversiones dos mil, s.a.</td>\n      <td>1600.0</td>\n      <td>quiche</td>\n      <td>san francisco cotzal</td>\n      <td>275</td>\n      <td>69 kg</td>\n      <td>2021 / 2022</td>\n      <td>2022-06-22</td>\n      <td>...</td>\n      <td>84.92</td>\n      <td>11.7</td>\n      <td>0</td>\n      <td>3</td>\n      <td>green</td>\n      <td>1</td>\n      <td>June 22nd, 2023</td>\n      <td>Middle Rating</td>\n      <td>2</td>\n      <td>pink</td>\n    </tr>\n    <tr>\n      <th>49</th>\n      <td>Taiwan</td>\n      <td>六曲窩</td>\n      <td>Taiwu Coffee Cooperative</td>\n      <td>375.0</td>\n      <td>新竹縣</td>\n      <td>黃俊淦</td>\n      <td>1</td>\n      <td>13 kg</td>\n      <td>2021 / 2022</td>\n      <td>2023-01-06</td>\n      <td>...</td>\n      <td>84.92</td>\n      <td>9.5</td>\n      <td>0</td>\n      <td>0</td>\n      <td>green</td>\n      <td>2</td>\n      <td>January 6th, 2024</td>\n      <td>Middle Rating</td>\n      <td>2</td>\n      <td>pink</td>\n    </tr>\n    <tr>\n      <th>50</th>\n      <td>Taiwan</td>\n      <td>北平山林</td>\n      <td>Taiwu Coffee Cooperative</td>\n      <td>230.0</td>\n      <td>新竹縣</td>\n      <td>戴禎男</td>\n      <td>1</td>\n      <td>4 kg</td>\n      <td>2021 / 2022</td>\n      <td>2023-01-06</td>\n      <td>...</td>\n      <td>84.83</td>\n      <td>9.7</td>\n      <td>0</td>\n      <td>0</td>\n      <td>brownish</td>\n      <td>0</td>\n      <td>January 6th, 2024</td>\n      <td>Middle Rating</td>\n      <td>2</td>\n      <td>pink</td>\n    </tr>\n    <tr>\n      <th>53</th>\n      <td>Tanzania, United Republic Of</td>\n      <td>IYENGA</td>\n      <td>VOLCAFE/TaylorWinch Tanzania Ltd</td>\n      <td>1654.0</td>\n      <td>Mbeya</td>\n      <td>IYENGA AMCOS</td>\n      <td>620</td>\n      <td>30 kg</td>\n      <td>2022 / 2023</td>\n      <td>2022-11-09</td>\n      <td>...</td>\n      <td>84.83</td>\n      <td>11.2</td>\n      <td>0</td>\n      <td>0</td>\n      <td>greenish</td>\n      <td>0</td>\n      <td>November 9th, 2023</td>\n      <td>Middle Rating</td>\n      <td>2</td>\n      <td>pink</td>\n    </tr>\n    <tr>\n      <th>54</th>\n      <td>Taiwan</td>\n      <td>優遊吧斯瑪翡咖啡莊園</td>\n      <td>Taiwan Coffee Laboratory</td>\n      <td>1300.0</td>\n      <td>Chiayi</td>\n      <td>鄭虞坪</td>\n      <td>1</td>\n      <td>25 kg</td>\n      <td>2021 / 2022</td>\n      <td>2022-11-15</td>\n      <td>...</td>\n      <td>84.83</td>\n      <td>9.5</td>\n      <td>0</td>\n      <td>0</td>\n      <td>greenish</td>\n      <td>0</td>\n      <td>November 15th, 2023</td>\n      <td>Middle Rating</td>\n      <td>2</td>\n      <td>pink</td>\n    </tr>\n    <tr>\n      <th>55</th>\n      <td>Taiwan</td>\n      <td>森悅高峰咖啡莊園</td>\n      <td>Taiwan Coffee Laboratory</td>\n      <td>1400.0</td>\n      <td>Nantou</td>\n      <td>吳振宏</td>\n      <td>1</td>\n      <td>30 kg</td>\n      <td>2021 / 2022</td>\n      <td>2022-11-15</td>\n      <td>...</td>\n      <td>84.75</td>\n      <td>10.4</td>\n      <td>0</td>\n      <td>0</td>\n      <td>green</td>\n      <td>0</td>\n      <td>November 15th, 2023</td>\n      <td>Middle Rating</td>\n      <td>2</td>\n      <td>pink</td>\n    </tr>\n    <tr>\n      <th>58</th>\n      <td>Taiwan</td>\n      <td>嵐雲綠海咖啡</td>\n      <td>茂泰生技股份有限公司</td>\n      <td>1200.0</td>\n      <td>台灣屏東</td>\n      <td>卓榮華</td>\n      <td>1</td>\n      <td>2 kg</td>\n      <td>2021 / 2022</td>\n      <td>2022-12-30</td>\n      <td>...</td>\n      <td>84.75</td>\n      <td>10.0</td>\n      <td>0</td>\n      <td>0</td>\n      <td>blue-green</td>\n      <td>0</td>\n      <td>December 30th, 2023</td>\n      <td>Middle Rating</td>\n      <td>2</td>\n      <td>pink</td>\n    </tr>\n    <tr>\n      <th>59</th>\n      <td>Guatemala</td>\n      <td>Varias Fincas</td>\n      <td>Peter Schoenfeld, S.A.</td>\n      <td>1600.0</td>\n      <td>Huehuetenango</td>\n      <td>Varios Productores</td>\n      <td>600</td>\n      <td>30 kg</td>\n      <td>2022 / 2023</td>\n      <td>2023-04-28</td>\n      <td>...</td>\n      <td>84.67</td>\n      <td>10.6</td>\n      <td>0</td>\n      <td>0</td>\n      <td>green</td>\n      <td>1</td>\n      <td>April 27th, 2024</td>\n      <td>Middle Rating</td>\n      <td>2</td>\n      <td>pink</td>\n    </tr>\n    <tr>\n      <th>60</th>\n      <td>Guatemala</td>\n      <td>SAN RAFAEL URIAS VALDES</td>\n      <td>VALBROS, S. A.</td>\n      <td>4895.0</td>\n      <td>ANTIGUA GUATEMALA</td>\n      <td>VALBROS, S. A.</td>\n      <td>66</td>\n      <td>30 kg</td>\n      <td>2021 / 2022</td>\n      <td>2022-05-19</td>\n      <td>...</td>\n      <td>84.67</td>\n      <td>10.9</td>\n      <td>0</td>\n      <td>3</td>\n      <td>yellow-green</td>\n      <td>2</td>\n      <td>May 19th, 2023</td>\n      <td>Middle Rating</td>\n      <td>2</td>\n      <td>pink</td>\n    </tr>\n    <tr>\n      <th>62</th>\n      <td>Taiwan</td>\n      <td>羅馬8號莊園</td>\n      <td>Taiwu Coffee Cooperative</td>\n      <td>250.0</td>\n      <td>新竹縣</td>\n      <td>羅政宏</td>\n      <td>1</td>\n      <td>16 kg</td>\n      <td>2021 / 2022</td>\n      <td>2023-01-06</td>\n      <td>...</td>\n      <td>84.58</td>\n      <td>9.6</td>\n      <td>0</td>\n      <td>0</td>\n      <td>greenish</td>\n      <td>0</td>\n      <td>January 6th, 2024</td>\n      <td>Middle Rating</td>\n      <td>2</td>\n      <td>pink</td>\n    </tr>\n    <tr>\n      <th>63</th>\n      <td>Taiwan</td>\n      <td>大鋤花間(Dachu Coffee Estate)</td>\n      <td>Taiwan Coffee Laboratory</td>\n      <td>700.0</td>\n      <td>( Dongshan Dist., Tainan City)</td>\n      <td>郭雅聰（KUO,YA-TSUNG）</td>\n      <td>16</td>\n      <td>5 kg</td>\n      <td>2022</td>\n      <td>2022-06-08</td>\n      <td>...</td>\n      <td>84.58</td>\n      <td>11.5</td>\n      <td>0</td>\n      <td>0</td>\n      <td>green</td>\n      <td>0</td>\n      <td>June 8th, 2023</td>\n      <td>Middle Rating</td>\n      <td>2</td>\n      <td>pink</td>\n    </tr>\n    <tr>\n      <th>65</th>\n      <td>Taiwan</td>\n      <td>雅慕伊咖啡莊園</td>\n      <td>Taiwan Coffee Laboratory</td>\n      <td>1250.0</td>\n      <td>Chiayi</td>\n      <td>浦瀚文</td>\n      <td>1</td>\n      <td>80 kg</td>\n      <td>2021 / 2022</td>\n      <td>2022-11-15</td>\n      <td>...</td>\n      <td>84.58</td>\n      <td>11.2</td>\n      <td>0</td>\n      <td>0</td>\n      <td>green</td>\n      <td>2</td>\n      <td>November 15th, 2023</td>\n      <td>Middle Rating</td>\n      <td>2</td>\n      <td>pink</td>\n    </tr>\n    <tr>\n      <th>66</th>\n      <td>Taiwan</td>\n      <td>名陽園</td>\n      <td>Taiwan Coffee Laboratory</td>\n      <td>1450.0</td>\n      <td>Chiayi</td>\n      <td>王政淵</td>\n      <td>1</td>\n      <td>104 kg</td>\n      <td>2021 / 2022</td>\n      <td>2022-11-15</td>\n      <td>...</td>\n      <td>84.58</td>\n      <td>10.3</td>\n      <td>0</td>\n      <td>0</td>\n      <td>green</td>\n      <td>0</td>\n      <td>November 15th, 2023</td>\n      <td>Middle Rating</td>\n      <td>2</td>\n      <td>pink</td>\n    </tr>\n    <tr>\n      <th>69</th>\n      <td>Taiwan</td>\n      <td>苗55咖啡莊園</td>\n      <td>Taiwu Coffee Cooperative</td>\n      <td>520.0</td>\n      <td>苗栗縣</td>\n      <td>李鴻儀</td>\n      <td>1</td>\n      <td>300 kg</td>\n      <td>2021 / 2022</td>\n      <td>2023-01-06</td>\n      <td>...</td>\n      <td>84.50</td>\n      <td>11.3</td>\n      <td>0</td>\n      <td>0</td>\n      <td>blue-green</td>\n      <td>0</td>\n      <td>January 6th, 2024</td>\n      <td>Middle Rating</td>\n      <td>2</td>\n      <td>pink</td>\n    </tr>\n  </tbody>\n</table>\n<p>50 rows × 30 columns</p>\n</div>"
     },
     "execution_count": 53,
     "metadata": {},
     "output_type": "execute_result"
    }
   ],
   "source": [
    "df_country.head(50)"
   ],
   "metadata": {
    "collapsed": false,
    "ExecuteTime": {
     "end_time": "2023-11-23T00:57:39.854704Z",
     "start_time": "2023-11-23T00:57:39.817696Z"
    }
   },
   "id": "627330856d8fa8c5"
  },
  {
   "cell_type": "code",
   "execution_count": 54,
   "outputs": [
    {
     "data": {
      "text/plain": "cluster\npink      42\nbrown     33\npurple    21\nName: count, dtype: int64"
     },
     "execution_count": 54,
     "metadata": {},
     "output_type": "execute_result"
    }
   ],
   "source": [
    "df_country['cluster'].value_counts(dropna=False)"
   ],
   "metadata": {
    "collapsed": false,
    "ExecuteTime": {
     "end_time": "2023-11-23T00:58:07.011207Z",
     "start_time": "2023-11-23T00:58:06.996632Z"
    }
   },
   "id": "75490f5599f34883"
  },
  {
   "cell_type": "code",
   "execution_count": 61,
   "outputs": [
    {
     "data": {
      "text/plain": "        Total Cup Points        Category Two Defects                 \\\n                    mean median                 mean median min max   \ncluster                                                               \nbrown          85.837879  85.67             0.606061    0.0   0   4   \npink           84.280952  84.33             2.309524    1.5   0  12   \npurple         82.681429  82.58             0.714286    0.0   0   3   \n\n            Altitude                        Moisture Percentage              \\\n                mean  median    min     max                mean median  min   \ncluster                                                                       \nbrown    1270.636364  1250.0  200.0  2250.0           10.636364   10.6  9.1   \npink     1556.619048  1550.0  150.0  5272.5           10.616667   10.7  9.2   \npurple    434.238095   300.0  139.0  1400.0            9.485714    9.6  8.1   \n\n               \n          max  \ncluster        \nbrown    12.3  \npink     12.0  \npurple   11.8  ",
      "text/html": "<div>\n<style scoped>\n    .dataframe tbody tr th:only-of-type {\n        vertical-align: middle;\n    }\n\n    .dataframe tbody tr th {\n        vertical-align: top;\n    }\n\n    .dataframe thead tr th {\n        text-align: left;\n    }\n\n    .dataframe thead tr:last-of-type th {\n        text-align: right;\n    }\n</style>\n<table border=\"1\" class=\"dataframe\">\n  <thead>\n    <tr>\n      <th></th>\n      <th colspan=\"2\" halign=\"left\">Total Cup Points</th>\n      <th colspan=\"4\" halign=\"left\">Category Two Defects</th>\n      <th colspan=\"4\" halign=\"left\">Altitude</th>\n      <th colspan=\"4\" halign=\"left\">Moisture Percentage</th>\n    </tr>\n    <tr>\n      <th></th>\n      <th>mean</th>\n      <th>median</th>\n      <th>mean</th>\n      <th>median</th>\n      <th>min</th>\n      <th>max</th>\n      <th>mean</th>\n      <th>median</th>\n      <th>min</th>\n      <th>max</th>\n      <th>mean</th>\n      <th>median</th>\n      <th>min</th>\n      <th>max</th>\n    </tr>\n    <tr>\n      <th>cluster</th>\n      <th></th>\n      <th></th>\n      <th></th>\n      <th></th>\n      <th></th>\n      <th></th>\n      <th></th>\n      <th></th>\n      <th></th>\n      <th></th>\n      <th></th>\n      <th></th>\n      <th></th>\n      <th></th>\n    </tr>\n  </thead>\n  <tbody>\n    <tr>\n      <th>brown</th>\n      <td>85.837879</td>\n      <td>85.67</td>\n      <td>0.606061</td>\n      <td>0.0</td>\n      <td>0</td>\n      <td>4</td>\n      <td>1270.636364</td>\n      <td>1250.0</td>\n      <td>200.0</td>\n      <td>2250.0</td>\n      <td>10.636364</td>\n      <td>10.6</td>\n      <td>9.1</td>\n      <td>12.3</td>\n    </tr>\n    <tr>\n      <th>pink</th>\n      <td>84.280952</td>\n      <td>84.33</td>\n      <td>2.309524</td>\n      <td>1.5</td>\n      <td>0</td>\n      <td>12</td>\n      <td>1556.619048</td>\n      <td>1550.0</td>\n      <td>150.0</td>\n      <td>5272.5</td>\n      <td>10.616667</td>\n      <td>10.7</td>\n      <td>9.2</td>\n      <td>12.0</td>\n    </tr>\n    <tr>\n      <th>purple</th>\n      <td>82.681429</td>\n      <td>82.58</td>\n      <td>0.714286</td>\n      <td>0.0</td>\n      <td>0</td>\n      <td>3</td>\n      <td>434.238095</td>\n      <td>300.0</td>\n      <td>139.0</td>\n      <td>1400.0</td>\n      <td>9.485714</td>\n      <td>9.6</td>\n      <td>8.1</td>\n      <td>11.8</td>\n    </tr>\n  </tbody>\n</table>\n</div>"
     },
     "execution_count": 61,
     "metadata": {},
     "output_type": "execute_result"
    }
   ],
   "source": [
    "# Use groupby to look at descriptive stats\n",
    "\n",
    "df_country.groupby('cluster').agg({'Total Cup Points':['mean', 'median'],\n",
    "                         'Category Two Defects':['mean', 'median', 'min', 'max'],\n",
    "                         'Altitude':['mean', 'median', 'min', 'max'],\n",
    "                         'Moisture Percentage':['mean', 'median', 'min', 'max']})"
   ],
   "metadata": {
    "collapsed": false,
    "ExecuteTime": {
     "end_time": "2023-11-23T17:12:47.252921Z",
     "start_time": "2023-11-23T17:12:47.225415Z"
    }
   },
   "id": "244554b8e4409289"
  },
  {
   "cell_type": "code",
   "execution_count": 63,
   "outputs": [
    {
     "data": {
      "text/plain": "        Total Cup Points        Category Two Defects                 \\\n                    mean median                 mean median min max   \ncluster                                                               \nbrown          85.837879  85.67             0.606061    0.0   0   4   \npink           84.264103  84.33             2.230769    1.0   0  12   \npurple         82.681429  82.58             0.714286    0.0   0   3   \n\n            Altitude                        Moisture Percentage              \\\n                mean  median    min     max                mean median  min   \ncluster                                                                       \nbrown    1270.636364  1250.0  200.0  2250.0           10.636364   10.6  9.1   \npink     1295.141026  1450.0  150.0  2361.0           10.584615   10.6  9.2   \npurple    434.238095   300.0  139.0  1400.0            9.485714    9.6  8.1   \n\n               \n          max  \ncluster        \nbrown    12.3  \npink     12.0  \npurple   11.8  ",
      "text/html": "<div>\n<style scoped>\n    .dataframe tbody tr th:only-of-type {\n        vertical-align: middle;\n    }\n\n    .dataframe tbody tr th {\n        vertical-align: top;\n    }\n\n    .dataframe thead tr th {\n        text-align: left;\n    }\n\n    .dataframe thead tr:last-of-type th {\n        text-align: right;\n    }\n</style>\n<table border=\"1\" class=\"dataframe\">\n  <thead>\n    <tr>\n      <th></th>\n      <th colspan=\"2\" halign=\"left\">Total Cup Points</th>\n      <th colspan=\"4\" halign=\"left\">Category Two Defects</th>\n      <th colspan=\"4\" halign=\"left\">Altitude</th>\n      <th colspan=\"4\" halign=\"left\">Moisture Percentage</th>\n    </tr>\n    <tr>\n      <th></th>\n      <th>mean</th>\n      <th>median</th>\n      <th>mean</th>\n      <th>median</th>\n      <th>min</th>\n      <th>max</th>\n      <th>mean</th>\n      <th>median</th>\n      <th>min</th>\n      <th>max</th>\n      <th>mean</th>\n      <th>median</th>\n      <th>min</th>\n      <th>max</th>\n    </tr>\n    <tr>\n      <th>cluster</th>\n      <th></th>\n      <th></th>\n      <th></th>\n      <th></th>\n      <th></th>\n      <th></th>\n      <th></th>\n      <th></th>\n      <th></th>\n      <th></th>\n      <th></th>\n      <th></th>\n      <th></th>\n      <th></th>\n    </tr>\n  </thead>\n  <tbody>\n    <tr>\n      <th>brown</th>\n      <td>85.837879</td>\n      <td>85.67</td>\n      <td>0.606061</td>\n      <td>0.0</td>\n      <td>0</td>\n      <td>4</td>\n      <td>1270.636364</td>\n      <td>1250.0</td>\n      <td>200.0</td>\n      <td>2250.0</td>\n      <td>10.636364</td>\n      <td>10.6</td>\n      <td>9.1</td>\n      <td>12.3</td>\n    </tr>\n    <tr>\n      <th>pink</th>\n      <td>84.264103</td>\n      <td>84.33</td>\n      <td>2.230769</td>\n      <td>1.0</td>\n      <td>0</td>\n      <td>12</td>\n      <td>1295.141026</td>\n      <td>1450.0</td>\n      <td>150.0</td>\n      <td>2361.0</td>\n      <td>10.584615</td>\n      <td>10.6</td>\n      <td>9.2</td>\n      <td>12.0</td>\n    </tr>\n    <tr>\n      <th>purple</th>\n      <td>82.681429</td>\n      <td>82.58</td>\n      <td>0.714286</td>\n      <td>0.0</td>\n      <td>0</td>\n      <td>3</td>\n      <td>434.238095</td>\n      <td>300.0</td>\n      <td>139.0</td>\n      <td>1400.0</td>\n      <td>9.485714</td>\n      <td>9.6</td>\n      <td>8.1</td>\n      <td>11.8</td>\n    </tr>\n  </tbody>\n</table>\n</div>"
     },
     "execution_count": 63,
     "metadata": {},
     "output_type": "execute_result"
    }
   ],
   "source": [
    "# Update the df_alt subset to include the cluster column so that we can look descriptive stats\n",
    "\n",
    "df_alt = df_country[df_country['Altitude'] < 3000]\n",
    "\n",
    "df_alt.groupby('cluster').agg({'Total Cup Points':['mean', 'median'],\n",
    "                         'Category Two Defects':['mean', 'median', 'min', 'max'],\n",
    "                         'Altitude':['mean', 'median', 'min', 'max'],\n",
    "                         'Moisture Percentage':['mean', 'median', 'min', 'max']})"
   ],
   "metadata": {
    "collapsed": false,
    "ExecuteTime": {
     "end_time": "2023-11-23T18:24:05.491489Z",
     "start_time": "2023-11-23T18:24:05.464033Z"
    }
   },
   "id": "6ea195b28b86d2fb"
  },
  {
   "cell_type": "markdown",
   "source": [
    "#### Descriptive Stats Thoughts\n",
    "\n",
    "The descriptive stats support our thoughts about the clusters. It also shows us that category two defects are less of an indicator of quality once we start looking at the highest-quality coffee."
   ],
   "metadata": {
    "collapsed": false
   },
   "id": "7af319271dbfb4c"
  },
  {
   "cell_type": "markdown",
   "source": [
    "# 5. Exporting Data Set"
   ],
   "metadata": {
    "collapsed": false
   },
   "id": "2b9a3985f2abf54d"
  },
  {
   "cell_type": "code",
   "execution_count": 60,
   "outputs": [],
   "source": [
    "# Export our dataframe\n",
    "\n",
    "df_country.to_pickle(os.path.join(path, '02 Data','Prepared Data', 'coffee_final_clusters_country_subset.pkl'))"
   ],
   "metadata": {
    "collapsed": false,
    "ExecuteTime": {
     "end_time": "2023-11-23T16:24:51.148489Z",
     "start_time": "2023-11-23T16:24:51.122790Z"
    }
   },
   "id": "f50e7625527c7a80"
  },
  {
   "cell_type": "code",
   "execution_count": null,
   "outputs": [],
   "source": [],
   "metadata": {
    "collapsed": false
   },
   "id": "2b17e4417a4f2c74"
  }
 ],
 "metadata": {
  "kernelspec": {
   "display_name": "Python 3",
   "language": "python",
   "name": "python3"
  },
  "language_info": {
   "codemirror_mode": {
    "name": "ipython",
    "version": 2
   },
   "file_extension": ".py",
   "mimetype": "text/x-python",
   "name": "python",
   "nbconvert_exporter": "python",
   "pygments_lexer": "ipython2",
   "version": "2.7.6"
  }
 },
 "nbformat": 4,
 "nbformat_minor": 5
}
